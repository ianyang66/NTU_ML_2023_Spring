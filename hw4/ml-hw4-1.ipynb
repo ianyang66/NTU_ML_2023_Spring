{
 "cells": [
  {
   "cell_type": "markdown",
   "id": "d4fba585",
   "metadata": {
    "id": "C_jdZ5vHJ4A9",
    "papermill": {
     "duration": 0.006001,
     "end_time": "2023-03-23T01:49:17.251503",
     "exception": false,
     "start_time": "2023-03-23T01:49:17.245502",
     "status": "completed"
    },
    "tags": []
   },
   "source": [
    "# Task description\n",
    "- Classify the speakers of given features.\n",
    "- Main goal: Learn how to use transformer.\n",
    "- Baselines:\n",
    "  - Easy: Run sample code and know how to use transformer.\n",
    "  - Medium: Know how to adjust parameters of transformer.\n",
    "  - Strong: Construct [conformer](https://arxiv.org/abs/2005.08100) which is a variety of transformer. \n",
    "  - Boss: Implement [Self-Attention Pooling](https://arxiv.org/pdf/2008.01077v1.pdf) & [Additive Margin Softmax](https://arxiv.org/pdf/1801.05599.pdf) to further boost the performance.\n",
    "\n",
    "- Other links\n",
    "  - Competiton: [link](https://www.kaggle.com/t/49ea0c385a974db5919ec67299ba2e6b)\n",
    "  - Slide: [link](https://docs.google.com/presentation/d/1LDAW0GGrC9B6D7dlNdYzQL6D60-iKgFr/edit?usp=sharing&ouid=104280564485377739218&rtpof=true&sd=true)\n",
    "  - Data: [link](https://github.com/googly-mingto/ML2023HW4/releases)\n",
    "\n",
    "# Download dataset\n",
    "- Data is [here](https://drive.google.com/drive/folders/1vI1kuLB-q1VilIftiwnPOCAeOOFfBZge?usp=sharing)"
   ]
  },
  {
   "cell_type": "code",
   "execution_count": 1,
   "id": "85107b8c",
   "metadata": {
    "execution": {
     "iopub.execute_input": "2023-03-23T01:49:17.263149Z",
     "iopub.status.busy": "2023-03-23T01:49:17.262704Z",
     "iopub.status.idle": "2023-03-23T01:49:17.268641Z",
     "shell.execute_reply": "2023-03-23T01:49:17.267677Z"
    },
    "id": "gtKxUzSgXKj3",
    "outputId": "3f59402c-95a7-4fbd-a39c-57606590a89c",
    "papermill": {
     "duration": 0.01495,
     "end_time": "2023-03-23T01:49:17.271556",
     "exception": false,
     "start_time": "2023-03-23T01:49:17.256606",
     "status": "completed"
    },
    "tags": []
   },
   "outputs": [],
   "source": [
    "# !wget https://github.com/googly-mingto/ML2023HW4/releases/download/data/Dataset.tar.gz.partaa\n",
    "# !wget https://github.com/googly-mingto/ML2023HW4/releases/download/data/Dataset.tar.gz.partab\n",
    "# !wget https://github.com/googly-mingto/ML2023HW4/releases/download/data/Dataset.tar.gz.partac\n",
    "# !wget https://github.com/googly-mingto/ML2023HW4/releases/download/data/Dataset.tar.gz.partad\n",
    "\n",
    "# !cat Dataset.tar.gz.part* > Dataset.tar.gz\n",
    "# !rm Dataset.tar.gz.partaa\n",
    "# !rm Dataset.tar.gz.partab\n",
    "# !rm Dataset.tar.gz.partac\n",
    "# !rm Dataset.tar.gz.partad\n",
    "# # unzip the file\n",
    "# !tar zxf Dataset.tar.gz\n",
    "# !rm Dataset.tar.gz"
   ]
  },
  {
   "cell_type": "code",
   "execution_count": 2,
   "id": "a1f0f26a",
   "metadata": {
    "execution": {
     "iopub.execute_input": "2023-03-23T01:49:17.282201Z",
     "iopub.status.busy": "2023-03-23T01:49:17.281918Z",
     "iopub.status.idle": "2023-03-23T01:49:17.286058Z",
     "shell.execute_reply": "2023-03-23T01:49:17.284977Z"
    },
    "id": "U6Y1cfpDfpON",
    "outputId": "6ba26637-5c7b-48a9-be0b-1f10ba76590a",
    "papermill": {
     "duration": 0.011691,
     "end_time": "2023-03-23T01:49:17.288131",
     "exception": false,
     "start_time": "2023-03-23T01:49:17.276440",
     "status": "completed"
    },
    "tags": []
   },
   "outputs": [],
   "source": [
    "# !tar zxf Dataset.tar.gz"
   ]
  },
  {
   "cell_type": "code",
   "execution_count": 3,
   "id": "bc751aa9",
   "metadata": {
    "execution": {
     "iopub.execute_input": "2023-03-23T01:49:17.299550Z",
     "iopub.status.busy": "2023-03-23T01:49:17.298697Z",
     "iopub.status.idle": "2023-03-23T01:49:28.290387Z",
     "shell.execute_reply": "2023-03-23T01:49:28.289169Z"
    },
    "papermill": {
     "duration": 11.001294,
     "end_time": "2023-03-23T01:49:28.294172",
     "exception": false,
     "start_time": "2023-03-23T01:49:17.292878",
     "status": "completed"
    },
    "tags": []
   },
   "outputs": [
    {
     "name": "stdout",
     "output_type": "stream",
     "text": [
      "Collecting conformer\r\n",
      "  Downloading conformer-0.2.5-py3-none-any.whl (4.1 kB)\r\n",
      "Requirement already satisfied: torch in /opt/conda/lib/python3.7/site-packages (from conformer) (1.13.0)\r\n",
      "Collecting einops\r\n",
      "  Downloading einops-0.6.0-py3-none-any.whl (41 kB)\r\n",
      "\u001b[2K     \u001b[90m━━━━━━━━━━━━━━━━━━━━━━━━━━━━━━━━━━━━━━━━\u001b[0m \u001b[32m41.6/41.6 kB\u001b[0m \u001b[31m2.1 MB/s\u001b[0m eta \u001b[36m0:00:00\u001b[0m\r\n",
      "\u001b[?25hRequirement already satisfied: typing-extensions in /opt/conda/lib/python3.7/site-packages (from torch->conformer) (4.4.0)\r\n",
      "Installing collected packages: einops, conformer\r\n",
      "Successfully installed conformer-0.2.5 einops-0.6.0\r\n",
      "\u001b[33mWARNING: Running pip as the 'root' user can result in broken permissions and conflicting behaviour with the system package manager. It is recommended to use a virtual environment instead: https://pip.pypa.io/warnings/venv\u001b[0m\u001b[33m\r\n",
      "\u001b[0m"
     ]
    }
   ],
   "source": [
    "!pip install conformer"
   ]
  },
  {
   "cell_type": "code",
   "execution_count": 4,
   "id": "c9fd69bf",
   "metadata": {
    "execution": {
     "iopub.execute_input": "2023-03-23T01:49:28.312619Z",
     "iopub.status.busy": "2023-03-23T01:49:28.312268Z",
     "iopub.status.idle": "2023-03-23T01:49:30.730598Z",
     "shell.execute_reply": "2023-03-23T01:49:30.729531Z"
    },
    "id": "E6burzCXIyuA",
    "papermill": {
     "duration": 2.430238,
     "end_time": "2023-03-23T01:49:30.733235",
     "exception": false,
     "start_time": "2023-03-23T01:49:28.302997",
     "status": "completed"
    },
    "tags": []
   },
   "outputs": [],
   "source": [
    "import numpy as np\n",
    "import torch\n",
    "import random\n",
    "from conformer import ConformerBlock\n",
    "\n",
    "def set_seed(seed):\n",
    "    np.random.seed(seed)\n",
    "    random.seed(seed)\n",
    "    torch.manual_seed(seed)\n",
    "    if torch.cuda.is_available():\n",
    "        torch.cuda.manual_seed(seed)\n",
    "        torch.cuda.manual_seed_all(seed)\n",
    "    torch.backends.cudnn.benchmark = False\n",
    "    torch.backends.cudnn.deterministic = True\n",
    "\n",
    "set_seed(1124)"
   ]
  },
  {
   "cell_type": "markdown",
   "id": "716e67b5",
   "metadata": {
    "id": "k7dVbxW2LASN",
    "papermill": {
     "duration": 0.00502,
     "end_time": "2023-03-23T01:49:30.743987",
     "exception": false,
     "start_time": "2023-03-23T01:49:30.738967",
     "status": "completed"
    },
    "tags": []
   },
   "source": [
    "# Data\n",
    "\n",
    "## Dataset\n",
    "- Original dataset is [Voxceleb2](https://www.robots.ox.ac.uk/~vgg/data/voxceleb/vox2.html).\n",
    "- The [license](https://creativecommons.org/licenses/by/4.0/) and [complete version](https://www.robots.ox.ac.uk/~vgg/data/voxceleb/files/license.txt) of Voxceleb2.\n",
    "- We randomly select 600 speakers from Voxceleb2.\n",
    "- Then preprocess the raw waveforms into mel-spectrograms.\n",
    "\n",
    "- Args:\n",
    "  - data_dir: The path to the data directory.\n",
    "  - metadata_path: The path to the metadata.\n",
    "  - segment_len: The length of audio segment for training. \n",
    "- The architecture of data directory \\\\\n",
    "  - data directory \\\\\n",
    "  |---- metadata.json \\\\\n",
    "  |---- testdata.json \\\\\n",
    "  |---- mapping.json \\\\\n",
    "  |---- uttr-{random string}.pt \\\\\n",
    "\n",
    "- The information in metadata\n",
    "  - \"n_mels\": The dimention of mel-spectrogram.\n",
    "  - \"speakers\": A dictionary. \n",
    "    - Key: speaker ids.\n",
    "    - value: \"feature_path\" and \"mel_len\"\n",
    "\n",
    "\n",
    "For efficiency, we segment the mel-spectrograms into segments in the traing step."
   ]
  },
  {
   "cell_type": "code",
   "execution_count": 5,
   "id": "c407d263",
   "metadata": {
    "execution": {
     "iopub.execute_input": "2023-03-23T01:49:30.756893Z",
     "iopub.status.busy": "2023-03-23T01:49:30.755681Z",
     "iopub.status.idle": "2023-03-23T01:49:30.768484Z",
     "shell.execute_reply": "2023-03-23T01:49:30.767496Z"
    },
    "id": "KpuGxl4CI2pr",
    "papermill": {
     "duration": 0.021258,
     "end_time": "2023-03-23T01:49:30.770595",
     "exception": false,
     "start_time": "2023-03-23T01:49:30.749337",
     "status": "completed"
    },
    "tags": []
   },
   "outputs": [],
   "source": [
    "import os\n",
    "import json\n",
    "import torch\n",
    "import random\n",
    "from pathlib import Path\n",
    "from torch.utils.data import Dataset\n",
    "from torch.nn.utils.rnn import pad_sequence\n",
    " \n",
    "class myDataset(Dataset):\n",
    "\tdef __init__(self, data_dir, segment_len=128):\n",
    "\t\tself.data_dir = data_dir\n",
    "\t\tself.segment_len = segment_len\n",
    "\t\n",
    "\t\t# Load the mapping from speaker neme to their corresponding id. \n",
    "\t\tmapping_path = Path(data_dir) / \"mapping.json\"\n",
    "\t\tmapping = json.load(mapping_path.open())\n",
    "\t\tself.speaker2id = mapping[\"speaker2id\"]\n",
    "\t\n",
    "\t\t# Load metadata of training data.\n",
    "\t\tmetadata_path = Path(data_dir) / \"metadata.json\"\n",
    "\t\tmetadata = json.load(open(metadata_path))[\"speakers\"]\n",
    "\t\n",
    "\t\t# Get the total number of speaker.\n",
    "\t\tself.speaker_num = len(metadata.keys())\n",
    "\t\tself.data = []\n",
    "\t\tfor speaker in metadata.keys():\n",
    "\t\t\tfor utterances in metadata[speaker]:\n",
    "\t\t\t\tself.data.append([utterances[\"feature_path\"], self.speaker2id[speaker]])\n",
    " \n",
    "\tdef __len__(self):\n",
    "\t\t\treturn len(self.data)\n",
    " \n",
    "\tdef __getitem__(self, index):\n",
    "\t\tfeat_path, speaker = self.data[index]\n",
    "\t\t# Load preprocessed mel-spectrogram.\n",
    "\t\tmel = torch.load(os.path.join(self.data_dir, feat_path))\n",
    "\n",
    "\t\t# Segmemt mel-spectrogram into \"segment_len\" frames.\n",
    "\t\tif len(mel) > self.segment_len:\n",
    "\t\t\t# Randomly get the starting point of the segment.\n",
    "\t\t\tstart = random.randint(0, len(mel) - self.segment_len)\n",
    "\t\t\t# Get a segment with \"segment_len\" frames.\n",
    "\t\t\tmel = torch.FloatTensor(mel[start:start+self.segment_len])\n",
    "\t\telse:\n",
    "\t\t\tmel = torch.FloatTensor(mel)\n",
    "\t\t# Turn the speaker id into long for computing loss later.\n",
    "\t\tspeaker = torch.FloatTensor([speaker]).long()\n",
    "\t\treturn mel, speaker\n",
    " \n",
    "\tdef get_speaker_number(self):\n",
    "\t\treturn self.speaker_num"
   ]
  },
  {
   "cell_type": "markdown",
   "id": "7464eef6",
   "metadata": {
    "id": "668hverTMlGN",
    "papermill": {
     "duration": 0.005023,
     "end_time": "2023-03-23T01:49:30.780914",
     "exception": false,
     "start_time": "2023-03-23T01:49:30.775891",
     "status": "completed"
    },
    "tags": []
   },
   "source": [
    "## Dataloader\n",
    "- Split dataset into training dataset(90%) and validation dataset(10%).\n",
    "- Create dataloader to iterate the data."
   ]
  },
  {
   "cell_type": "code",
   "execution_count": 6,
   "id": "da896dcd",
   "metadata": {
    "execution": {
     "iopub.execute_input": "2023-03-23T01:49:30.792614Z",
     "iopub.status.busy": "2023-03-23T01:49:30.792339Z",
     "iopub.status.idle": "2023-03-23T01:49:30.800999Z",
     "shell.execute_reply": "2023-03-23T01:49:30.800059Z"
    },
    "id": "B7c2gZYoJDRS",
    "papermill": {
     "duration": 0.01685,
     "end_time": "2023-03-23T01:49:30.803180",
     "exception": false,
     "start_time": "2023-03-23T01:49:30.786330",
     "status": "completed"
    },
    "tags": []
   },
   "outputs": [],
   "source": [
    "import torch\n",
    "from torch.utils.data import DataLoader, random_split\n",
    "from torch.nn.utils.rnn import pad_sequence\n",
    "\n",
    "\n",
    "def collate_batch(batch):\n",
    "\t# Process features within a batch.\n",
    "\t\"\"\"Collate a batch of data.\"\"\"\n",
    "\tmel, speaker = zip(*batch)\n",
    "\t# Because we train the model batch by batch, we need to pad the features in the same batch to make their lengths the same.\n",
    "\tmel = pad_sequence(mel, batch_first=True, padding_value=-20)    # pad log 10^(-20) which is very small value.\n",
    "\t# mel: (batch size, length, 40)\n",
    "\treturn mel, torch.FloatTensor(speaker).long()\n",
    "\n",
    "\n",
    "def get_dataloader(data_dir, batch_size, n_workers):\n",
    "\t\"\"\"Generate dataloader\"\"\"\n",
    "\tdataset = myDataset(data_dir)\n",
    "\tspeaker_num = dataset.get_speaker_number()\n",
    "\t# Split dataset into training dataset and validation dataset\n",
    "\ttrainlen = int(0.9 * len(dataset))\n",
    "\tlengths = [trainlen, len(dataset) - trainlen]\n",
    "\ttrainset, validset = random_split(dataset, lengths)\n",
    "\n",
    "\ttrain_loader = DataLoader(\n",
    "\t\ttrainset,\n",
    "\t\tbatch_size=batch_size,\n",
    "\t\tshuffle=True,\n",
    "\t\tdrop_last=True,\n",
    "\t\tnum_workers=n_workers,\n",
    "\t\tpin_memory=True,\n",
    "\t\tcollate_fn=collate_batch,\n",
    "\t)\n",
    "\tvalid_loader = DataLoader(\n",
    "\t\tvalidset,\n",
    "\t\tbatch_size=batch_size,\n",
    "\t\tnum_workers=n_workers,\n",
    "\t\tdrop_last=True,\n",
    "\t\tpin_memory=True,\n",
    "\t\tcollate_fn=collate_batch,\n",
    "\t)\n",
    "\n",
    "\treturn train_loader, valid_loader, speaker_num"
   ]
  },
  {
   "cell_type": "markdown",
   "id": "cd3f6564",
   "metadata": {
    "id": "5FOSZYxrMqhc",
    "papermill": {
     "duration": 0.004958,
     "end_time": "2023-03-23T01:49:30.813388",
     "exception": false,
     "start_time": "2023-03-23T01:49:30.808430",
     "status": "completed"
    },
    "tags": []
   },
   "source": [
    "# Model\n",
    "- TransformerEncoderLayer:\n",
    "  - Base transformer encoder layer in [Attention Is All You Need](https://arxiv.org/abs/1706.03762)\n",
    "  - Parameters:\n",
    "    - d_model: the number of expected features of the input (required).\n",
    "\n",
    "    - nhead: the number of heads of the multiheadattention models (required).\n",
    "\n",
    "    - dim_feedforward: the dimension of the feedforward network model (default=2048).\n",
    "\n",
    "    - dropout: the dropout value (default=0.1).\n",
    "\n",
    "    - activation: the activation function of intermediate layer, relu or gelu (default=relu).\n",
    "\n",
    "- TransformerEncoder:\n",
    "  - TransformerEncoder is a stack of N transformer encoder layers\n",
    "  - Parameters:\n",
    "    - encoder_layer: an instance of the TransformerEncoderLayer() class (required).\n",
    "\n",
    "    - num_layers: the number of sub-encoder-layers in the encoder (required).\n",
    "\n",
    "    - norm: the layer normalization component (optional)."
   ]
  },
  {
   "cell_type": "code",
   "execution_count": 7,
   "id": "640b1234",
   "metadata": {
    "execution": {
     "iopub.execute_input": "2023-03-23T01:49:30.825400Z",
     "iopub.status.busy": "2023-03-23T01:49:30.825061Z",
     "iopub.status.idle": "2023-03-23T01:49:30.957753Z",
     "shell.execute_reply": "2023-03-23T01:49:30.956713Z"
    },
    "id": "iXZ5B0EKJGs8",
    "papermill": {
     "duration": 0.141296,
     "end_time": "2023-03-23T01:49:30.959962",
     "exception": false,
     "start_time": "2023-03-23T01:49:30.818666",
     "status": "completed"
    },
    "tags": []
   },
   "outputs": [],
   "source": [
    "import torch\n",
    "import torch.nn as nn\n",
    "import torch.nn.functional as F\n",
    "\n",
    "'''討論: 鄭子瑜、陳兆閔、陳芮甯'''\n",
    "'''Reference: https://gist.github.com/pohanchi/c77f6dbfbcbc21c5215acde4f62e4362?fbclid=IwAR3PfhU3Xs37sJ39-E9HiBcxth_V499I4kLU0lIMiYfG9pNKyce245sihfM'''\n",
    "class SelfAttentionPooling(nn.Module):\n",
    "    \"\"\"\n",
    "    Implementation of SelfAttentionPooling \n",
    "    Original Paper: Self-Attention Encoding and Pooling for Speaker Recognition\n",
    "    https://arxiv.org/pdf/2008.01077v1.pdf\n",
    "    \"\"\"\n",
    "    def __init__(self, input_dim):\n",
    "        super(SelfAttentionPooling, self).__init__()\n",
    "        self.W = nn.Linear(input_dim, 1)\n",
    "        \n",
    "    def forward(self, batch_rep):\n",
    "        \"\"\"\n",
    "        input:\n",
    "            batch_rep : size (N, T, H), N: batch size, T: sequence length, H: Hidden dimension\n",
    "        \n",
    "        attention_weight:\n",
    "            att_w : size (N, T, 1)\n",
    "        \n",
    "        return:\n",
    "            utter_rep: size (N, H)\n",
    "        \"\"\"\n",
    "        softmax = nn.functional.softmax\n",
    "        att_w = softmax(self.W(batch_rep).squeeze(-1)).unsqueeze(-1)\n",
    "        utter_rep = torch.sum(batch_rep * att_w, dim=1)\n",
    "\n",
    "        return utter_rep\n",
    "\n",
    "class Classifier(nn.Module):\n",
    "    def __init__(self, d_model=80, n_spks=600, dropout=0.15):\n",
    "        super().__init__()\n",
    "\t\t# Project the dimension of features from that of input into d_model.\n",
    "        self.prenet = nn.Linear(40, d_model)\n",
    "\t\t# TODO:\n",
    "\t\t#   Change Transformer to Conformer.\n",
    "\t\t#   https://arxiv.org/abs/2005.08100\n",
    "        #\tself.encoder_layer = nn.TransformerEncoderLayer(\n",
    "        # \t\t\td_model=d_model, dim_feedforward=256, nhead=2\n",
    "        # \t\t)\n",
    "        # self.encoder = nn.TransformerEncoder(self.encoder_layer, num_layers=2)\n",
    "        self.encoder = ConformerBlock(\n",
    "                dim = d_model,\n",
    "                dim_head = 64,\n",
    "                heads = 8,\n",
    "                ff_mult = 4,\n",
    "                conv_expansion_factor = 2,\n",
    "                conv_kernel_size = 39,\n",
    "                attn_dropout = 0.05,\n",
    "                ff_dropout = 0.05,\n",
    "                conv_dropout = 0.05\n",
    "                )\n",
    "\t\t# Project the the dimension of features from d_model into speaker nums.\n",
    "        \n",
    "        self.pred_layer = nn.Sequential(\n",
    "                nn.Linear(d_model, d_model),\n",
    "                nn.BatchNorm1d(d_model),\n",
    "                nn.Dropout(dropout),\n",
    "                nn.ReLU(),\n",
    "                nn.Linear(d_model, n_spks),\n",
    "                nn.BatchNorm1d(n_spks),\n",
    "                nn.Dropout(dropout),\n",
    "                nn.ReLU(),\n",
    "                nn.Linear(n_spks, n_spks),\n",
    "                nn.BatchNorm1d(n_spks),\n",
    "                nn.Dropout(dropout),\n",
    "                nn.ReLU(),\n",
    "                nn.Linear(n_spks, n_spks),\n",
    "        )\n",
    "        \n",
    "        self.self_attention_pooling = SelfAttentionPooling(d_model)\n",
    "        # self.pred_layer = nn.Sequential(\n",
    "        #             nn.Linear(d_model, d_model),\n",
    "        # \t\t\tnn.Sigmoid(),\n",
    "        # \t\t\tnn.Linear(d_model, n_spks),\n",
    "        # \t\t)\n",
    "        \n",
    "    def forward(self, mels):\n",
    "        \"\"\"\n",
    "        args:\n",
    "            mels: (batch size, length, 40)\n",
    "        return:\n",
    "            out: (batch size, n_spks)\n",
    "        \"\"\"\n",
    "        # out: (batch size, length, d_model)\n",
    "        out = self.prenet(mels)\n",
    "        # # out: (length, batch size, d_model)\n",
    "        # out = out.permute(1, 0, 2)\n",
    "        # # The encoder layer expect features in the shape of (length, batch size, d_model).\n",
    "        # out = self.encoder_layer(out)\n",
    "        # # out: (batch size, length, d_model)\n",
    "        # out = out.transpose(0, 1)\n",
    "        # # mean pooling\n",
    "        # stats = out.mean(dim=1)\n",
    "        # Encoder layer\n",
    "        out = self.encoder(out)\n",
    "        # Self attention pooling\n",
    "        out = self.self_attention_pooling(out)\n",
    "        out = self.pred_layer(out)\n",
    "        return out"
   ]
  },
  {
   "cell_type": "markdown",
   "id": "de81d590",
   "metadata": {
    "id": "W7yX8JinM5Ly",
    "papermill": {
     "duration": 0.005185,
     "end_time": "2023-03-23T01:49:30.970637",
     "exception": false,
     "start_time": "2023-03-23T01:49:30.965452",
     "status": "completed"
    },
    "tags": []
   },
   "source": [
    "# Learning rate schedule\n",
    "- For transformer architecture, the design of learning rate schedule is different from that of CNN.\n",
    "- Previous works show that the warmup of learning rate is useful for training models with transformer architectures.\n",
    "- The warmup schedule\n",
    "  - Set learning rate to 0 in the beginning.\n",
    "  - The learning rate increases linearly from 0 to initial learning rate during warmup period."
   ]
  },
  {
   "cell_type": "code",
   "execution_count": 8,
   "id": "e96d32f3",
   "metadata": {
    "execution": {
     "iopub.execute_input": "2023-03-23T01:49:30.982372Z",
     "iopub.status.busy": "2023-03-23T01:49:30.982089Z",
     "iopub.status.idle": "2023-03-23T01:49:30.989528Z",
     "shell.execute_reply": "2023-03-23T01:49:30.988500Z"
    },
    "id": "ykt0N1nVJJi2",
    "papermill": {
     "duration": 0.015598,
     "end_time": "2023-03-23T01:49:30.991441",
     "exception": false,
     "start_time": "2023-03-23T01:49:30.975843",
     "status": "completed"
    },
    "tags": []
   },
   "outputs": [],
   "source": [
    "import math\n",
    "\n",
    "import torch\n",
    "from torch.optim import Optimizer\n",
    "from torch.optim.lr_scheduler import LambdaLR\n",
    "\n",
    "\n",
    "def get_cosine_schedule_with_warmup(\n",
    "\toptimizer: Optimizer,\n",
    "\tnum_warmup_steps: int,\n",
    "\tnum_training_steps: int,\n",
    "\tnum_cycles: float = 0.5,\n",
    "\tlast_epoch: int = -1,\n",
    "):\n",
    "\t\"\"\"\n",
    "\tCreate a schedule with a learning rate that decreases following the values of the cosine function between the\n",
    "\tinitial lr set in the optimizer to 0, after a warmup period during which it increases linearly between 0 and the\n",
    "\tinitial lr set in the optimizer.\n",
    "\n",
    "\tArgs:\n",
    "\t\toptimizer (:class:`~torch.optim.Optimizer`):\n",
    "\t\tThe optimizer for which to schedule the learning rate.\n",
    "\t\tnum_warmup_steps (:obj:`int`):\n",
    "\t\tThe number of steps for the warmup phase.\n",
    "\t\tnum_training_steps (:obj:`int`):\n",
    "\t\tThe total number of training steps.\n",
    "\t\tnum_cycles (:obj:`float`, `optional`, defaults to 0.5):\n",
    "\t\tThe number of waves in the cosine schedule (the defaults is to just decrease from the max value to 0\n",
    "\t\tfollowing a half-cosine).\n",
    "\t\tlast_epoch (:obj:`int`, `optional`, defaults to -1):\n",
    "\t\tThe index of the last epoch when resuming training.\n",
    "\n",
    "\tReturn:\n",
    "\t\t:obj:`torch.optim.lr_scheduler.LambdaLR` with the appropriate schedule.\n",
    "\t\"\"\"\n",
    "\tdef lr_lambda(current_step):\n",
    "\t\t# Warmup\n",
    "\t\tif current_step < num_warmup_steps:\n",
    "\t\t\treturn float(current_step) / float(max(1, num_warmup_steps))\n",
    "\t\t# decadence\n",
    "\t\tprogress = float(current_step - num_warmup_steps) / float(\n",
    "\t\t\tmax(1, num_training_steps - num_warmup_steps)\n",
    "\t\t)\n",
    "\t\treturn max(\n",
    "\t\t\t0.0, 0.5 * (1.0 + math.cos(math.pi * float(num_cycles) * 2.0 * progress))\n",
    "\t\t)\n",
    "\n",
    "\treturn LambdaLR(optimizer, lr_lambda, last_epoch)"
   ]
  },
  {
   "cell_type": "markdown",
   "id": "9e3d52fd",
   "metadata": {
    "id": "-LN2XkteM_uH",
    "papermill": {
     "duration": 0.00497,
     "end_time": "2023-03-23T01:49:31.001962",
     "exception": false,
     "start_time": "2023-03-23T01:49:30.996992",
     "status": "completed"
    },
    "tags": []
   },
   "source": [
    "# Model Function\n",
    "- Model forward function."
   ]
  },
  {
   "cell_type": "code",
   "execution_count": 9,
   "id": "9c43e588",
   "metadata": {
    "execution": {
     "iopub.execute_input": "2023-03-23T01:49:31.013621Z",
     "iopub.status.busy": "2023-03-23T01:49:31.013353Z",
     "iopub.status.idle": "2023-03-23T01:49:31.018608Z",
     "shell.execute_reply": "2023-03-23T01:49:31.017667Z"
    },
    "id": "N-rr8529JMz0",
    "papermill": {
     "duration": 0.013336,
     "end_time": "2023-03-23T01:49:31.020732",
     "exception": false,
     "start_time": "2023-03-23T01:49:31.007396",
     "status": "completed"
    },
    "tags": []
   },
   "outputs": [],
   "source": [
    "import torch\n",
    "\n",
    "\n",
    "def model_fn(batch, model, criterion, device):\n",
    "\t\"\"\"Forward a batch through the model.\"\"\"\n",
    "\n",
    "\tmels, labels = batch\n",
    "\tmels = mels.to(device)\n",
    "\tlabels = labels.to(device)\n",
    "\n",
    "\touts = model(mels)\n",
    "\n",
    "\tloss = criterion(outs, labels)\n",
    "\n",
    "\t# Get the speaker id with highest probability.\n",
    "\tpreds = outs.argmax(1)\n",
    "\t# Compute accuracy.\n",
    "\taccuracy = torch.mean((preds == labels).float())\n",
    "\n",
    "\treturn loss, accuracy"
   ]
  },
  {
   "cell_type": "markdown",
   "id": "19a34221",
   "metadata": {
    "id": "cwM_xyOtNCI2",
    "papermill": {
     "duration": 0.004968,
     "end_time": "2023-03-23T01:49:31.030963",
     "exception": false,
     "start_time": "2023-03-23T01:49:31.025995",
     "status": "completed"
    },
    "tags": []
   },
   "source": [
    "# Validate\n",
    "- Calculate accuracy of the validation set."
   ]
  },
  {
   "cell_type": "code",
   "execution_count": 10,
   "id": "a7633080",
   "metadata": {
    "execution": {
     "iopub.execute_input": "2023-03-23T01:49:31.043488Z",
     "iopub.status.busy": "2023-03-23T01:49:31.042541Z",
     "iopub.status.idle": "2023-03-23T01:49:31.050640Z",
     "shell.execute_reply": "2023-03-23T01:49:31.049733Z"
    },
    "id": "YAiv6kpdJRTJ",
    "papermill": {
     "duration": 0.016193,
     "end_time": "2023-03-23T01:49:31.052641",
     "exception": false,
     "start_time": "2023-03-23T01:49:31.036448",
     "status": "completed"
    },
    "tags": []
   },
   "outputs": [],
   "source": [
    "from tqdm import tqdm\n",
    "import torch\n",
    "\n",
    "\n",
    "def valid(dataloader, model, criterion, device): \n",
    "\t\"\"\"Validate on validation set.\"\"\"\n",
    "\n",
    "\tmodel.eval()\n",
    "\trunning_loss = 0.0\n",
    "\trunning_accuracy = 0.0\n",
    "\tpbar = tqdm(total=len(dataloader.dataset), ncols=0, desc=\"Valid\", unit=\" uttr\")\n",
    "\n",
    "\tfor i, batch in enumerate(dataloader):\n",
    "\t\twith torch.no_grad():\n",
    "\t\t\tloss, accuracy = model_fn(batch, model, criterion, device)\n",
    "\t\t\trunning_loss += loss.item()\n",
    "\t\t\trunning_accuracy += accuracy.item()\n",
    "\n",
    "\t\tpbar.update(dataloader.batch_size)\n",
    "\t\tpbar.set_postfix(\n",
    "\t\t\tloss=f\"{running_loss / (i+1):.2f}\",\n",
    "\t\t\taccuracy=f\"{running_accuracy / (i+1):.2f}\",\n",
    "\t\t)\n",
    "\n",
    "\tpbar.close()\n",
    "\tmodel.train()\n",
    "\n",
    "\treturn running_accuracy / len(dataloader)"
   ]
  },
  {
   "cell_type": "markdown",
   "id": "31a8e813",
   "metadata": {
    "id": "g6ne9G-eNEdG",
    "papermill": {
     "duration": 0.005109,
     "end_time": "2023-03-23T01:49:31.063152",
     "exception": false,
     "start_time": "2023-03-23T01:49:31.058043",
     "status": "completed"
    },
    "tags": []
   },
   "source": [
    "# Main function"
   ]
  },
  {
   "cell_type": "code",
   "execution_count": 11,
   "id": "27debc4c",
   "metadata": {
    "execution": {
     "iopub.execute_input": "2023-03-23T01:49:31.075868Z",
     "iopub.status.busy": "2023-03-23T01:49:31.075561Z",
     "iopub.status.idle": "2023-03-23T07:18:21.378113Z",
     "shell.execute_reply": "2023-03-23T07:18:21.376943Z"
    },
    "id": "Usv9s-CuJSG7",
    "outputId": "f4f6a983-3559-4f36-efae-402bbf790473",
    "papermill": {
     "duration": 19730.311923,
     "end_time": "2023-03-23T07:18:21.380539",
     "exception": false,
     "start_time": "2023-03-23T01:49:31.068616",
     "status": "completed"
    },
    "tags": []
   },
   "outputs": [
    {
     "name": "stdout",
     "output_type": "stream",
     "text": [
      "[Info]: Use cuda now!\n"
     ]
    },
    {
     "name": "stderr",
     "output_type": "stream",
     "text": [
      "/opt/conda/lib/python3.7/site-packages/torch/utils/data/dataloader.py:557: UserWarning: This DataLoader will create 8 worker processes in total. Our suggested max number of worker in current system is 2, which is smaller than what this DataLoader is going to create. Please be aware that excessive worker creation might get DataLoader running slow or even freeze, lower the worker number to avoid potential slowness/freeze if necessary.\n",
      "  cpuset_checked))\n"
     ]
    },
    {
     "name": "stdout",
     "output_type": "stream",
     "text": [
      "[Info]: Finish loading data!\n",
      "[Info]: Finish creating model!\n"
     ]
    },
    {
     "name": "stderr",
     "output_type": "stream",
     "text": [
      "Train:   0% 0/2000 [00:00<?, ? step/s]/opt/conda/lib/python3.7/site-packages/ipykernel_launcher.py:28: UserWarning: Implicit dimension choice for softmax has been deprecated. Change the call to include dim=X as an argument.\n",
      "Train: 100% 2000/2000 [04:32<00:00,  7.33 step/s, accuracy=0.53, loss=1.82, step=2000]\n",
      "Valid:  99% 5632/5667 [00:07<00:00, 765.13 uttr/s, accuracy=0.57, loss=1.85] \n",
      "Train: 100% 2000/2000 [04:05<00:00,  8.13 step/s, accuracy=0.70, loss=1.18, step=4000]\n",
      "Valid:  99% 5632/5667 [00:03<00:00, 1600.13 uttr/s, accuracy=0.70, loss=1.26]\n",
      "Train: 100% 2000/2000 [04:09<00:00,  8.02 step/s, accuracy=0.77, loss=0.94, step=6000]\n",
      "Valid:  99% 5632/5667 [00:03<00:00, 1598.96 uttr/s, accuracy=0.75, loss=1.05]\n",
      "Train: 100% 2000/2000 [04:16<00:00,  7.79 step/s, accuracy=0.76, loss=0.73, step=8000]\n",
      "Valid:  99% 5632/5667 [00:03<00:00, 1579.51 uttr/s, accuracy=0.77, loss=0.96]\n",
      "Train: 100% 2000/2000 [04:24<00:00,  7.56 step/s, accuracy=0.77, loss=0.86, step=1e+4]\n",
      "Valid:  99% 5632/5667 [00:03<00:00, 1572.43 uttr/s, accuracy=0.79, loss=0.87]\n",
      "Train:   0% 2/2000 [00:00<03:56,  8.46 step/s, accuracy=0.79, loss=0.74, step=1e+4]"
     ]
    },
    {
     "name": "stdout",
     "output_type": "stream",
     "text": [
      "Step 10000, best model saved. (accuracy=0.7930)\n"
     ]
    },
    {
     "name": "stderr",
     "output_type": "stream",
     "text": [
      "Train: 100% 2000/2000 [04:24<00:00,  7.57 step/s, accuracy=0.81, loss=0.60, step=12000]\n",
      "Valid:  99% 5632/5667 [00:04<00:00, 1276.42 uttr/s, accuracy=0.81, loss=0.83]\n",
      "Train: 100% 2000/2000 [04:13<00:00,  7.88 step/s, accuracy=0.82, loss=0.71, step=14000]\n",
      "Valid:  99% 5632/5667 [00:03<00:00, 1560.02 uttr/s, accuracy=0.81, loss=0.82]\n",
      "Train: 100% 2000/2000 [04:17<00:00,  7.77 step/s, accuracy=0.87, loss=0.46, step=16000]\n",
      "Valid:  99% 5632/5667 [00:03<00:00, 1577.68 uttr/s, accuracy=0.83, loss=0.75]\n",
      "Train: 100% 2000/2000 [04:18<00:00,  7.74 step/s, accuracy=0.82, loss=0.53, step=18000]\n",
      "Valid:  99% 5632/5667 [00:03<00:00, 1534.08 uttr/s, accuracy=0.83, loss=0.75]\n",
      "Train: 100% 2000/2000 [04:15<00:00,  7.83 step/s, accuracy=0.86, loss=0.52, step=2e+4]\n",
      "Valid:  99% 5632/5667 [00:03<00:00, 1598.65 uttr/s, accuracy=0.84, loss=0.73]\n",
      "Train:   0% 3/2000 [00:00<02:16, 14.58 step/s, accuracy=0.86, loss=0.40, step=2e+4]"
     ]
    },
    {
     "name": "stdout",
     "output_type": "stream",
     "text": [
      "Step 20000, best model saved. (accuracy=0.8368)\n"
     ]
    },
    {
     "name": "stderr",
     "output_type": "stream",
     "text": [
      "Train: 100% 2000/2000 [04:18<00:00,  7.75 step/s, accuracy=0.82, loss=0.56, step=22000]\n",
      "Valid:  99% 5632/5667 [00:04<00:00, 1348.87 uttr/s, accuracy=0.84, loss=0.72]\n",
      "Train: 100% 2000/2000 [04:18<00:00,  7.74 step/s, accuracy=0.87, loss=0.46, step=24000]\n",
      "Valid:  99% 5632/5667 [00:03<00:00, 1508.20 uttr/s, accuracy=0.84, loss=0.72]\n",
      "Train: 100% 2000/2000 [04:19<00:00,  7.70 step/s, accuracy=0.85, loss=0.45, step=26000]\n",
      "Valid:  99% 5632/5667 [00:04<00:00, 1343.24 uttr/s, accuracy=0.84, loss=0.70]\n",
      "Train: 100% 2000/2000 [04:22<00:00,  7.62 step/s, accuracy=0.92, loss=0.31, step=28000]\n",
      "Valid:  99% 5632/5667 [00:03<00:00, 1647.32 uttr/s, accuracy=0.85, loss=0.69]\n",
      "Train: 100% 2000/2000 [04:12<00:00,  7.92 step/s, accuracy=0.88, loss=0.39, step=3e+4]\n",
      "Valid:  99% 5632/5667 [00:04<00:00, 1213.76 uttr/s, accuracy=0.85, loss=0.70]\n",
      "Train:   0% 3/2000 [00:00<02:35, 12.83 step/s, accuracy=0.88, loss=0.36, step=3e+4]"
     ]
    },
    {
     "name": "stdout",
     "output_type": "stream",
     "text": [
      "Step 30000, best model saved. (accuracy=0.8526)\n"
     ]
    },
    {
     "name": "stderr",
     "output_type": "stream",
     "text": [
      "Train: 100% 2000/2000 [04:14<00:00,  7.86 step/s, accuracy=0.92, loss=0.24, step=32000]\n",
      "Valid:  99% 5632/5667 [00:03<00:00, 1596.82 uttr/s, accuracy=0.85, loss=0.68]\n",
      "Train: 100% 2000/2000 [04:15<00:00,  7.83 step/s, accuracy=0.92, loss=0.28, step=34000]\n",
      "Valid:  99% 5632/5667 [00:03<00:00, 1536.47 uttr/s, accuracy=0.85, loss=0.68]\n",
      "Train: 100% 2000/2000 [04:16<00:00,  7.80 step/s, accuracy=0.88, loss=0.41, step=36000]\n",
      "Valid:  99% 5632/5667 [00:03<00:00, 1651.98 uttr/s, accuracy=0.86, loss=0.66]\n",
      "Train: 100% 2000/2000 [04:17<00:00,  7.76 step/s, accuracy=0.93, loss=0.24, step=38000]\n",
      "Valid:  99% 5632/5667 [00:02<00:00, 1928.70 uttr/s, accuracy=0.86, loss=0.66]\n",
      "Train: 100% 2000/2000 [04:17<00:00,  7.77 step/s, accuracy=0.90, loss=0.36, step=4e+4]\n",
      "Valid:  99% 5632/5667 [00:05<00:00, 1012.79 uttr/s, accuracy=0.87, loss=0.64]\n",
      "Train:   0% 2/2000 [00:00<02:31, 13.17 step/s, accuracy=0.93, loss=0.21, step=4e+4]"
     ]
    },
    {
     "name": "stdout",
     "output_type": "stream",
     "text": [
      "Step 40000, best model saved. (accuracy=0.8702)\n"
     ]
    },
    {
     "name": "stderr",
     "output_type": "stream",
     "text": [
      "Train: 100% 2000/2000 [04:16<00:00,  7.80 step/s, accuracy=0.91, loss=0.27, step=42000]\n",
      "Valid:  99% 5632/5667 [00:03<00:00, 1598.95 uttr/s, accuracy=0.86, loss=0.65]\n",
      "Train: 100% 2000/2000 [04:17<00:00,  7.76 step/s, accuracy=0.94, loss=0.20, step=44000]\n",
      "Valid:  99% 5632/5667 [00:03<00:00, 1520.59 uttr/s, accuracy=0.87, loss=0.61]\n",
      "Train: 100% 2000/2000 [04:19<00:00,  7.71 step/s, accuracy=0.92, loss=0.26, step=46000]\n",
      "Valid:  99% 5632/5667 [00:03<00:00, 1489.32 uttr/s, accuracy=0.87, loss=0.63]\n",
      "Train: 100% 2000/2000 [04:17<00:00,  7.77 step/s, accuracy=0.93, loss=0.23, step=48000]\n",
      "Valid:  99% 5632/5667 [00:03<00:00, 1609.42 uttr/s, accuracy=0.87, loss=0.61]\n",
      "Train: 100% 2000/2000 [04:21<00:00,  7.65 step/s, accuracy=0.89, loss=0.34, step=5e+4]\n",
      "Valid:  99% 5632/5667 [00:04<00:00, 1397.21 uttr/s, accuracy=0.87, loss=0.63]\n",
      "Train:   0% 3/2000 [00:00<02:13, 14.96 step/s, accuracy=0.87, loss=0.38, step=5e+4]"
     ]
    },
    {
     "name": "stdout",
     "output_type": "stream",
     "text": [
      "Step 50000, best model saved. (accuracy=0.8738)\n"
     ]
    },
    {
     "name": "stderr",
     "output_type": "stream",
     "text": [
      "Train: 100% 2000/2000 [04:21<00:00,  7.65 step/s, accuracy=0.93, loss=0.29, step=52000]\n",
      "Valid:  99% 5632/5667 [00:03<00:00, 1587.63 uttr/s, accuracy=0.88, loss=0.61]\n",
      "Train: 100% 2000/2000 [04:19<00:00,  7.72 step/s, accuracy=0.92, loss=0.24, step=54000]\n",
      "Valid:  99% 5632/5667 [00:03<00:00, 1532.67 uttr/s, accuracy=0.88, loss=0.61]\n",
      "Train: 100% 2000/2000 [04:23<00:00,  7.60 step/s, accuracy=0.89, loss=0.29, step=56000]\n",
      "Valid:  99% 5632/5667 [00:03<00:00, 1593.06 uttr/s, accuracy=0.88, loss=0.61]\n",
      "Train: 100% 2000/2000 [04:14<00:00,  7.86 step/s, accuracy=0.94, loss=0.18, step=58000]\n",
      "Valid:  99% 5632/5667 [00:04<00:00, 1246.51 uttr/s, accuracy=0.89, loss=0.60]\n",
      "Train: 100% 2000/2000 [04:14<00:00,  7.86 step/s, accuracy=0.95, loss=0.19, step=6e+4]\n",
      "Valid:  99% 5632/5667 [00:03<00:00, 1660.54 uttr/s, accuracy=0.88, loss=0.61]\n",
      "Train:   0% 3/2000 [00:00<02:19, 14.36 step/s, accuracy=0.90, loss=0.28, step=6e+4]"
     ]
    },
    {
     "name": "stdout",
     "output_type": "stream",
     "text": [
      "Step 60000, best model saved. (accuracy=0.8853)\n"
     ]
    },
    {
     "name": "stderr",
     "output_type": "stream",
     "text": [
      "Train: 100% 2000/2000 [04:14<00:00,  7.86 step/s, accuracy=0.93, loss=0.23, step=62000]\n",
      "Valid:  99% 5632/5667 [00:04<00:00, 1206.94 uttr/s, accuracy=0.88, loss=0.61]\n",
      "Train: 100% 2000/2000 [04:10<00:00,  7.99 step/s, accuracy=0.93, loss=0.29, step=64000]\n",
      "Valid:  99% 5632/5667 [00:04<00:00, 1391.40 uttr/s, accuracy=0.88, loss=0.60]\n",
      "Train: 100% 2000/2000 [04:19<00:00,  7.71 step/s, accuracy=0.94, loss=0.26, step=66000]\n",
      "Valid:  99% 5632/5667 [00:04<00:00, 1374.53 uttr/s, accuracy=0.87, loss=0.62]\n",
      "Train: 100% 2000/2000 [04:24<00:00,  7.57 step/s, accuracy=0.91, loss=0.28, step=68000]\n",
      "Valid:  99% 5632/5667 [00:03<00:00, 1591.17 uttr/s, accuracy=0.88, loss=0.61]\n",
      "Train: 100% 2000/2000 [04:35<00:00,  7.25 step/s, accuracy=0.95, loss=0.17, step=7e+4]\n",
      "Valid:  99% 5632/5667 [00:05<00:00, 1107.36 uttr/s, accuracy=0.88, loss=0.60]\n",
      "Train:   0% 3/2000 [00:00<02:15, 14.69 step/s, accuracy=0.96, loss=0.19, step=7e+4]"
     ]
    },
    {
     "name": "stdout",
     "output_type": "stream",
     "text": [
      "Step 70000, best model saved. (accuracy=0.8853)\n"
     ]
    },
    {
     "name": "stderr",
     "output_type": "stream",
     "text": [
      "Train: 100% 2000/2000 [04:24<00:00,  7.57 step/s, accuracy=0.91, loss=0.24, step=72000]\n",
      "Valid:  99% 5632/5667 [00:04<00:00, 1386.81 uttr/s, accuracy=0.89, loss=0.57]\n",
      "Train: 100% 2000/2000 [04:18<00:00,  7.74 step/s, accuracy=0.95, loss=0.17, step=74000]\n",
      "Valid:  99% 5632/5667 [00:03<00:00, 1637.73 uttr/s, accuracy=0.88, loss=0.58]\n",
      "Train: 100% 2000/2000 [04:18<00:00,  7.73 step/s, accuracy=0.94, loss=0.17, step=76000]\n",
      "Valid:  99% 5632/5667 [00:03<00:00, 1507.73 uttr/s, accuracy=0.89, loss=0.58]\n",
      "Train: 100% 2000/2000 [04:18<00:00,  7.74 step/s, accuracy=0.94, loss=0.20, step=78000]\n",
      "Valid:  99% 5632/5667 [00:03<00:00, 1835.16 uttr/s, accuracy=0.89, loss=0.57]\n",
      "Train: 100% 2000/2000 [04:21<00:00,  7.65 step/s, accuracy=0.94, loss=0.18, step=8e+4]\n",
      "Valid:  99% 5632/5667 [00:04<00:00, 1265.53 uttr/s, accuracy=0.89, loss=0.58]\n",
      "Train:   0% 3/2000 [00:00<02:14, 14.89 step/s, accuracy=0.93, loss=0.21, step=8e+4]"
     ]
    },
    {
     "name": "stdout",
     "output_type": "stream",
     "text": [
      "Step 80000, best model saved. (accuracy=0.8899)\n"
     ]
    },
    {
     "name": "stderr",
     "output_type": "stream",
     "text": [
      "Train: 100% 2000/2000 [04:20<00:00,  7.68 step/s, accuracy=0.93, loss=0.19, step=82000]\n",
      "Valid:  99% 5632/5667 [00:03<00:00, 1445.47 uttr/s, accuracy=0.89, loss=0.58]\n",
      "Train: 100% 2000/2000 [04:19<00:00,  7.71 step/s, accuracy=0.95, loss=0.17, step=84000]\n",
      "Valid:  99% 5632/5667 [00:03<00:00, 1479.80 uttr/s, accuracy=0.89, loss=0.57]\n",
      "Train: 100% 2000/2000 [04:19<00:00,  7.71 step/s, accuracy=0.94, loss=0.18, step=86000]\n",
      "Valid:  99% 5632/5667 [00:03<00:00, 1431.02 uttr/s, accuracy=0.89, loss=0.54]\n",
      "Train: 100% 2000/2000 [04:16<00:00,  7.81 step/s, accuracy=0.96, loss=0.12, step=88000]\n",
      "Valid:  99% 5632/5667 [00:05<00:00, 1113.56 uttr/s, accuracy=0.89, loss=0.57]\n",
      "Train: 100% 2000/2000 [04:17<00:00,  7.78 step/s, accuracy=0.96, loss=0.11, step=9e+4]\n",
      "Valid:  99% 5632/5667 [00:03<00:00, 1561.25 uttr/s, accuracy=0.89, loss=0.55]\n",
      "Train:   0% 3/2000 [00:00<02:11, 15.16 step/s, accuracy=0.95, loss=0.16, step=9e+4]"
     ]
    },
    {
     "name": "stdout",
     "output_type": "stream",
     "text": [
      "Step 90000, best model saved. (accuracy=0.8933)\n"
     ]
    },
    {
     "name": "stderr",
     "output_type": "stream",
     "text": [
      "Train: 100% 2000/2000 [04:20<00:00,  7.67 step/s, accuracy=0.96, loss=0.13, step=92000]\n",
      "Valid:  99% 5632/5667 [00:03<00:00, 1623.73 uttr/s, accuracy=0.89, loss=0.55]\n",
      "Train: 100% 2000/2000 [04:20<00:00,  7.68 step/s, accuracy=0.94, loss=0.18, step=94000]\n",
      "Valid:  99% 5632/5667 [00:03<00:00, 1496.77 uttr/s, accuracy=0.89, loss=0.55]\n",
      "Train: 100% 2000/2000 [04:20<00:00,  7.67 step/s, accuracy=0.95, loss=0.16, step=96000]\n",
      "Valid:  99% 5632/5667 [00:03<00:00, 1656.52 uttr/s, accuracy=0.90, loss=0.55]\n",
      "Train: 100% 2000/2000 [04:22<00:00,  7.63 step/s, accuracy=0.96, loss=0.12, step=98000]\n",
      "Valid:  99% 5632/5667 [00:03<00:00, 1558.19 uttr/s, accuracy=0.89, loss=0.55]\n",
      "Train: 100% 2000/2000 [04:21<00:00,  7.64 step/s, accuracy=0.96, loss=0.17, step=1e+5]\n",
      "Valid:  99% 5632/5667 [00:03<00:00, 1704.61 uttr/s, accuracy=0.90, loss=0.54]\n",
      "Train:   0% 3/2000 [00:00<02:09, 15.38 step/s, accuracy=0.94, loss=0.20, step=1e+5]"
     ]
    },
    {
     "name": "stdout",
     "output_type": "stream",
     "text": [
      "Step 100000, best model saved. (accuracy=0.8970)\n"
     ]
    },
    {
     "name": "stderr",
     "output_type": "stream",
     "text": [
      "Train: 100% 2000/2000 [04:15<00:00,  7.82 step/s, accuracy=0.95, loss=0.13, step=102000]\n",
      "Valid:  99% 5632/5667 [00:06<00:00, 926.90 uttr/s, accuracy=0.89, loss=0.55] \n",
      "Train: 100% 2000/2000 [04:18<00:00,  7.73 step/s, accuracy=0.95, loss=0.14, step=104000]\n",
      "Valid:  99% 5632/5667 [00:03<00:00, 1671.99 uttr/s, accuracy=0.90, loss=0.55]\n",
      "Train: 100% 2000/2000 [04:23<00:00,  7.60 step/s, accuracy=0.95, loss=0.15, step=106000]\n",
      "Valid:  99% 5632/5667 [00:03<00:00, 1578.94 uttr/s, accuracy=0.90, loss=0.54]\n",
      "Train: 100% 2000/2000 [04:23<00:00,  7.60 step/s, accuracy=0.95, loss=0.16, step=108000]\n",
      "Valid:  99% 5632/5667 [00:03<00:00, 1480.31 uttr/s, accuracy=0.90, loss=0.55]\n",
      "Train: 100% 2000/2000 [04:24<00:00,  7.58 step/s, accuracy=0.96, loss=0.09, step=110000]\n",
      "Valid:  99% 5632/5667 [00:04<00:00, 1292.12 uttr/s, accuracy=0.90, loss=0.53]\n",
      "Train:   0% 3/2000 [00:00<02:13, 15.01 step/s, accuracy=0.97, loss=0.10, step=110003]"
     ]
    },
    {
     "name": "stdout",
     "output_type": "stream",
     "text": [
      "Step 110000, best model saved. (accuracy=0.8988)\n"
     ]
    },
    {
     "name": "stderr",
     "output_type": "stream",
     "text": [
      "Train: 100% 2000/2000 [04:24<00:00,  7.56 step/s, accuracy=0.98, loss=0.09, step=112000]\n",
      "Valid:  99% 5632/5667 [00:03<00:00, 1596.42 uttr/s, accuracy=0.90, loss=0.56]\n",
      "Train: 100% 2000/2000 [04:15<00:00,  7.83 step/s, accuracy=0.99, loss=0.05, step=114000]\n",
      "Valid:  99% 5632/5667 [00:04<00:00, 1267.49 uttr/s, accuracy=0.90, loss=0.51]\n",
      "Train: 100% 2000/2000 [04:14<00:00,  7.85 step/s, accuracy=0.96, loss=0.15, step=116000]\n",
      "Valid:  99% 5632/5667 [00:03<00:00, 1593.07 uttr/s, accuracy=0.90, loss=0.56]\n",
      "Train: 100% 2000/2000 [04:16<00:00,  7.79 step/s, accuracy=0.96, loss=0.10, step=118000]\n",
      "Valid:  99% 5632/5667 [00:02<00:00, 1981.79 uttr/s, accuracy=0.90, loss=0.56]\n",
      "Train: 100% 2000/2000 [04:16<00:00,  7.79 step/s, accuracy=0.96, loss=0.13, step=120000]\n",
      "Valid:  99% 5632/5667 [00:03<00:00, 1489.73 uttr/s, accuracy=0.90, loss=0.52]\n",
      "Train:   0% 3/2000 [00:00<02:30, 13.29 step/s, accuracy=0.97, loss=0.14, step=120003]"
     ]
    },
    {
     "name": "stdout",
     "output_type": "stream",
     "text": [
      "Step 120000, best model saved. (accuracy=0.9031)\n"
     ]
    },
    {
     "name": "stderr",
     "output_type": "stream",
     "text": [
      "Train: 100% 2000/2000 [04:18<00:00,  7.75 step/s, accuracy=0.97, loss=0.12, step=122000]\n",
      "Valid:  99% 5632/5667 [00:03<00:00, 1532.92 uttr/s, accuracy=0.90, loss=0.53]\n",
      "Train: 100% 2000/2000 [04:19<00:00,  7.70 step/s, accuracy=0.97, loss=0.12, step=124000]\n",
      "Valid:  99% 5632/5667 [00:03<00:00, 1520.50 uttr/s, accuracy=0.91, loss=0.52]\n",
      "Train: 100% 2000/2000 [04:25<00:00,  7.53 step/s, accuracy=0.98, loss=0.07, step=126000]\n",
      "Valid:  99% 5632/5667 [00:03<00:00, 1459.18 uttr/s, accuracy=0.90, loss=0.51]\n",
      "Train: 100% 2000/2000 [04:30<00:00,  7.39 step/s, accuracy=0.98, loss=0.06, step=128000]\n",
      "Valid:  99% 5632/5667 [00:05<00:00, 1066.86 uttr/s, accuracy=0.91, loss=0.53]\n",
      "Train: 100% 2000/2000 [04:21<00:00,  7.65 step/s, accuracy=0.98, loss=0.08, step=130000]\n",
      "Valid:  99% 5632/5667 [00:03<00:00, 1597.40 uttr/s, accuracy=0.91, loss=0.51]\n",
      "Train:   0% 3/2000 [00:00<02:15, 14.74 step/s, accuracy=0.97, loss=0.13, step=130003]"
     ]
    },
    {
     "name": "stdout",
     "output_type": "stream",
     "text": [
      "Step 130000, best model saved. (accuracy=0.9062)\n"
     ]
    },
    {
     "name": "stderr",
     "output_type": "stream",
     "text": [
      "Train: 100% 2000/2000 [04:17<00:00,  7.76 step/s, accuracy=0.96, loss=0.11, step=132000]\n",
      "Valid:  99% 5632/5667 [00:04<00:00, 1239.61 uttr/s, accuracy=0.91, loss=0.51]\n",
      "Train: 100% 2000/2000 [04:17<00:00,  7.77 step/s, accuracy=0.96, loss=0.16, step=134000]\n",
      "Valid:  99% 5632/5667 [00:03<00:00, 1446.57 uttr/s, accuracy=0.90, loss=0.53]\n",
      "Train: 100% 2000/2000 [04:17<00:00,  7.76 step/s, accuracy=0.98, loss=0.09, step=136000]\n",
      "Valid:  99% 5632/5667 [00:03<00:00, 1594.02 uttr/s, accuracy=0.90, loss=0.54]\n",
      "Train: 100% 2000/2000 [04:18<00:00,  7.73 step/s, accuracy=0.97, loss=0.06, step=138000]\n",
      "Valid:  99% 5632/5667 [00:03<00:00, 1552.52 uttr/s, accuracy=0.90, loss=0.51]\n",
      "Train: 100% 2000/2000 [04:18<00:00,  7.73 step/s, accuracy=0.98, loss=0.07, step=140000]\n",
      "Valid:  99% 5632/5667 [00:03<00:00, 1579.15 uttr/s, accuracy=0.91, loss=0.51]\n",
      "Train:   0% 3/2000 [00:00<02:16, 14.62 step/s, accuracy=0.96, loss=0.11, step=140003]"
     ]
    },
    {
     "name": "stdout",
     "output_type": "stream",
     "text": [
      "Step 140000, best model saved. (accuracy=0.9062)\n"
     ]
    },
    {
     "name": "stderr",
     "output_type": "stream",
     "text": [
      "Train: 100% 2000/2000 [04:18<00:00,  7.72 step/s, accuracy=0.97, loss=0.10, step=142000]\n",
      "Valid:  99% 5632/5667 [00:03<00:00, 1483.60 uttr/s, accuracy=0.90, loss=0.51]\n",
      "Train: 100% 2000/2000 [04:17<00:00,  7.76 step/s, accuracy=0.96, loss=0.11, step=144000]\n",
      "Valid:  99% 5632/5667 [00:03<00:00, 1460.29 uttr/s, accuracy=0.91, loss=0.50]\n",
      "Train: 100% 2000/2000 [04:18<00:00,  7.74 step/s, accuracy=0.97, loss=0.08, step=146000]\n",
      "Valid:  99% 5632/5667 [00:03<00:00, 1421.06 uttr/s, accuracy=0.90, loss=0.53]\n",
      "Train: 100% 2000/2000 [04:19<00:00,  7.71 step/s, accuracy=0.95, loss=0.15, step=148000]\n",
      "Valid:  99% 5632/5667 [00:03<00:00, 1500.27 uttr/s, accuracy=0.91, loss=0.50]\n",
      "Train: 100% 2000/2000 [04:18<00:00,  7.75 step/s, accuracy=0.98, loss=0.10, step=150000]\n",
      "Valid:  99% 5632/5667 [00:03<00:00, 1561.97 uttr/s, accuracy=0.90, loss=0.55]\n",
      "Train:   0% 0/2000 [00:00<?, ? step/s]\n"
     ]
    },
    {
     "name": "stdout",
     "output_type": "stream",
     "text": [
      "Step 150000, best model saved. (accuracy=0.9086)\n"
     ]
    }
   ],
   "source": [
    "from tqdm import tqdm\n",
    "\n",
    "import torch\n",
    "import torch.nn as nn\n",
    "from torch.optim import AdamW\n",
    "from torch.utils.data import DataLoader, random_split\n",
    "\n",
    "def parse_args():\n",
    "\t\"\"\"arguments\"\"\"\n",
    "\tconfig = {\n",
    "\t\t\"data_dir\": \"./Dataset\",\n",
    "\t\t\"save_path\": \"model1.ckpt\",\n",
    "\t\t\"batch_size\": 256,\n",
    "\t\t\"n_workers\": 8,\n",
    "\t\t\"valid_steps\": 2000,\n",
    "\t\t\"warmup_steps\": 1000,\n",
    "\t\t\"save_steps\": 10000,\n",
    "\t\t\"total_steps\": 150000,\n",
    "\t}\n",
    "\n",
    "\treturn config\n",
    "\n",
    "\n",
    "def main(\n",
    "\tdata_dir,\n",
    "\tsave_path,\n",
    "\tbatch_size,\n",
    "\tn_workers,\n",
    "\tvalid_steps,\n",
    "\twarmup_steps,\n",
    "\ttotal_steps,\n",
    "\tsave_steps,\n",
    "):\n",
    "\t\"\"\"Main function.\"\"\"\n",
    "\tdevice = torch.device(\"cuda\" if torch.cuda.is_available() else \"cpu\")\n",
    "\tprint(f\"[Info]: Use {device} now!\")\n",
    "\n",
    "\ttrain_loader, valid_loader, speaker_num = get_dataloader(data_dir, batch_size, n_workers)\n",
    "\ttrain_iterator = iter(train_loader)\n",
    "\tprint(f\"[Info]: Finish loading data!\",flush = True)\n",
    "\n",
    "\tmodel = Classifier(d_model=80, n_spks=600, dropout=0.1).to(device)\n",
    "\tcriterion = nn.CrossEntropyLoss()\n",
    "\t#criterion = AMSoftmax()\n",
    "\toptimizer = AdamW(model.parameters(), lr=1e-3)\n",
    "\tscheduler = get_cosine_schedule_with_warmup(optimizer, warmup_steps, total_steps)\n",
    "\tprint(f\"[Info]: Finish creating model!\",flush = True)\n",
    "\n",
    "\tbest_accuracy = -1.0\n",
    "\tbest_state_dict = None\n",
    "\n",
    "\tpbar = tqdm(total=valid_steps, ncols=0, desc=\"Train\", unit=\" step\")\n",
    "\n",
    "\tfor step in range(total_steps):\n",
    "\t\t# Get data\n",
    "\t\ttry:\n",
    "\t\t\tbatch = next(train_iterator)\n",
    "\t\texcept StopIteration:\n",
    "\t\t\ttrain_iterator = iter(train_loader)\n",
    "\t\t\tbatch = next(train_iterator)\n",
    "\n",
    "\t\tloss, accuracy = model_fn(batch, model, criterion, device)\n",
    "\t\tbatch_loss = loss.item()\n",
    "\t\tbatch_accuracy = accuracy.item()\n",
    "\n",
    "\t\t# Updata model\n",
    "\t\tloss.backward()\n",
    "\t\toptimizer.step()\n",
    "\t\tscheduler.step()\n",
    "\t\toptimizer.zero_grad()\n",
    "\n",
    "\t\t# Log\n",
    "\t\tpbar.update()\n",
    "\t\tpbar.set_postfix(\n",
    "\t\t\tloss=f\"{batch_loss:.2f}\",\n",
    "\t\t\taccuracy=f\"{batch_accuracy:.2f}\",\n",
    "\t\t\tstep=step + 1,\n",
    "\t\t)\n",
    "\n",
    "\t\t# Do validation\n",
    "\t\tif (step + 1) % valid_steps == 0:\n",
    "\t\t\tpbar.close()\n",
    "\n",
    "\t\t\tvalid_accuracy = valid(valid_loader, model, criterion, device)\n",
    "\n",
    "\t\t\t# keep the best model\n",
    "\t\t\tif valid_accuracy > best_accuracy:\n",
    "\t\t\t\tbest_accuracy = valid_accuracy\n",
    "\t\t\t\tbest_state_dict = model.state_dict()\n",
    "\n",
    "\t\t\tpbar = tqdm(total=valid_steps, ncols=0, desc=\"Train\", unit=\" step\")\n",
    "\n",
    "\t\t# Save the best model so far.\n",
    "\t\tif (step + 1) % save_steps == 0 and best_state_dict is not None:\n",
    "\t\t\ttorch.save(best_state_dict, save_path)\n",
    "\t\t\tpbar.write(f\"Step {step + 1}, best model saved. (accuracy={best_accuracy:.4f})\")\n",
    "\n",
    "\tpbar.close()\n",
    "\n",
    "\n",
    "if __name__ == \"__main__\":\n",
    "\tmain(**parse_args())"
   ]
  },
  {
   "cell_type": "markdown",
   "id": "636f1ac2",
   "metadata": {
    "id": "NLatBYAhNNMx",
    "papermill": {
     "duration": 14.197414,
     "end_time": "2023-03-23T07:18:50.491579",
     "exception": false,
     "start_time": "2023-03-23T07:18:36.294165",
     "status": "completed"
    },
    "tags": []
   },
   "source": [
    "# Inference\n",
    "\n",
    "## Dataset of inference"
   ]
  },
  {
   "cell_type": "code",
   "execution_count": 12,
   "id": "08fce79c",
   "metadata": {
    "execution": {
     "iopub.execute_input": "2023-03-23T07:19:19.291121Z",
     "iopub.status.busy": "2023-03-23T07:19:19.290712Z",
     "iopub.status.idle": "2023-03-23T07:19:19.299721Z",
     "shell.execute_reply": "2023-03-23T07:19:19.298666Z"
    },
    "id": "efS4pCmAJXJH",
    "papermill": {
     "duration": 14.173623,
     "end_time": "2023-03-23T07:19:19.302694",
     "exception": false,
     "start_time": "2023-03-23T07:19:05.129071",
     "status": "completed"
    },
    "tags": []
   },
   "outputs": [],
   "source": [
    "import os\n",
    "import json\n",
    "import torch\n",
    "from pathlib import Path\n",
    "from torch.utils.data import Dataset\n",
    "\n",
    "\n",
    "class InferenceDataset(Dataset):\n",
    "\tdef __init__(self, data_dir):\n",
    "\t\ttestdata_path = Path(data_dir) / \"testdata.json\"\n",
    "\t\tmetadata = json.load(testdata_path.open())\n",
    "\t\tself.data_dir = data_dir\n",
    "\t\tself.data = metadata[\"utterances\"]\n",
    "\n",
    "\tdef __len__(self):\n",
    "\t\treturn len(self.data)\n",
    "\n",
    "\tdef __getitem__(self, index):\n",
    "\t\tutterance = self.data[index]\n",
    "\t\tfeat_path = utterance[\"feature_path\"]\n",
    "\t\tmel = torch.load(os.path.join(self.data_dir, feat_path))\n",
    "\n",
    "\t\treturn feat_path, mel\n",
    "\n",
    "\n",
    "def inference_collate_batch(batch):\n",
    "\t\"\"\"Collate a batch of data.\"\"\"\n",
    "\tfeat_paths, mels = zip(*batch)\n",
    "\n",
    "\treturn feat_paths, torch.stack(mels)"
   ]
  },
  {
   "cell_type": "markdown",
   "id": "19288929",
   "metadata": {
    "id": "tl0WnYwxNK_S",
    "papermill": {
     "duration": 13.903131,
     "end_time": "2023-03-23T07:19:47.598323",
     "exception": false,
     "start_time": "2023-03-23T07:19:33.695192",
     "status": "completed"
    },
    "tags": []
   },
   "source": [
    "## Main funcrion of Inference"
   ]
  },
  {
   "cell_type": "code",
   "execution_count": 13,
   "id": "fcbe5f18",
   "metadata": {
    "execution": {
     "iopub.execute_input": "2023-03-23T07:20:16.750283Z",
     "iopub.status.busy": "2023-03-23T07:20:16.749863Z",
     "iopub.status.idle": "2023-03-23T07:21:09.777959Z",
     "shell.execute_reply": "2023-03-23T07:21:09.776806Z"
    },
    "id": "i8SAbuXEJb2A",
    "outputId": "3808f409-19c9-426c-dc15-1b88b0c21645",
    "papermill": {
     "duration": 67.3117,
     "end_time": "2023-03-23T07:21:09.780644",
     "exception": false,
     "start_time": "2023-03-23T07:20:02.468944",
     "status": "completed"
    },
    "tags": []
   },
   "outputs": [
    {
     "name": "stdout",
     "output_type": "stream",
     "text": [
      "[Info]: Use cuda now!\n",
      "[Info]: Finish loading data!\n",
      "[Info]: Finish creating model!\n"
     ]
    },
    {
     "data": {
      "application/vnd.jupyter.widget-view+json": {
       "model_id": "30206e93f64544589d731bd245d64f8d",
       "version_major": 2,
       "version_minor": 0
      },
      "text/plain": [
       "  0%|          | 0/8000 [00:00<?, ?it/s]"
      ]
     },
     "metadata": {},
     "output_type": "display_data"
    },
    {
     "name": "stderr",
     "output_type": "stream",
     "text": [
      "/opt/conda/lib/python3.7/site-packages/ipykernel_launcher.py:28: UserWarning: Implicit dimension choice for softmax has been deprecated. Change the call to include dim=X as an argument.\n"
     ]
    }
   ],
   "source": [
    "import json\n",
    "import csv\n",
    "from pathlib import Path\n",
    "from tqdm.notebook import tqdm\n",
    "\n",
    "import torch\n",
    "from torch.utils.data import DataLoader\n",
    "\n",
    "def parse_args():\n",
    "\t\"\"\"arguments\"\"\"\n",
    "\tconfig = {\n",
    "\t\t\"data_dir\": \"./Dataset\",\n",
    "\t\t\"model_path\": \"model1.ckpt\",\n",
    "\t\t\"output_path\": \"output1.csv\",\n",
    "\t}\n",
    "\n",
    "\treturn config\n",
    "\n",
    "\n",
    "def main(\n",
    "\tdata_dir,\n",
    "\tmodel_path,\n",
    "\toutput_path,\n",
    "):\n",
    "\t\"\"\"Main function.\"\"\"\n",
    "\tdevice = torch.device(\"cuda\" if torch.cuda.is_available() else \"cpu\")\n",
    "\tprint(f\"[Info]: Use {device} now!\")\n",
    "\n",
    "\tmapping_path = Path(data_dir) / \"mapping.json\"\n",
    "\tmapping = json.load(mapping_path.open())\n",
    "\n",
    "\tdataset = InferenceDataset(data_dir)\n",
    "\tdataloader = DataLoader(\n",
    "\t\tdataset,\n",
    "\t\tbatch_size=1,\n",
    "\t\tshuffle=False,\n",
    "\t\tdrop_last=False,\n",
    "\t\tnum_workers=8,\n",
    "\t\tcollate_fn=inference_collate_batch,\n",
    "\t)\n",
    "\tprint(f\"[Info]: Finish loading data!\",flush = True)\n",
    "\n",
    "\tspeaker_num = len(mapping[\"id2speaker\"])\n",
    "\tmodel = Classifier(n_spks=speaker_num).to(device)\n",
    "\tmodel.load_state_dict(torch.load(model_path))\n",
    "\tmodel.eval()\n",
    "\tprint(f\"[Info]: Finish creating model!\",flush = True)\n",
    "\n",
    "\tresults = [[\"Id\", \"Category\"]]\n",
    "\tfor feat_paths, mels in tqdm(dataloader):\n",
    "\t\twith torch.no_grad():\n",
    "\t\t\tmels = mels.to(device)\n",
    "\t\t\touts = model(mels)\n",
    "\t\t\tpreds = outs.argmax(1).cpu().numpy()\n",
    "\t\t\tfor feat_path, pred in zip(feat_paths, preds):\n",
    "\t\t\t\tresults.append([feat_path, mapping[\"id2speaker\"][str(pred)]])\n",
    "\n",
    "\twith open(output_path, 'w', newline='') as csvfile:\n",
    "\t\twriter = csv.writer(csvfile)\n",
    "\t\twriter.writerows(results)\n",
    "\n",
    "\n",
    "if __name__ == \"__main__\":\n",
    "\tmain(**parse_args())"
   ]
  }
 ],
 "metadata": {
  "kernelspec": {
   "display_name": "Python 3",
   "language": "python",
   "name": "python3"
  },
  "language_info": {
   "codemirror_mode": {
    "name": "ipython",
    "version": 3
   },
   "file_extension": ".py",
   "mimetype": "text/x-python",
   "name": "python",
   "nbconvert_exporter": "python",
   "pygments_lexer": "ipython3",
   "version": "3.7.12"
  },
  "papermill": {
   "default_parameters": {},
   "duration": 19938.568181,
   "end_time": "2023-03-23T07:21:26.365297",
   "environment_variables": {},
   "exception": null,
   "input_path": "__notebook__.ipynb",
   "output_path": "__notebook__.ipynb",
   "parameters": {},
   "start_time": "2023-03-23T01:49:07.797116",
   "version": "2.4.0"
  },
  "widgets": {
   "application/vnd.jupyter.widget-state+json": {
    "state": {
     "010e4a9d17854b4e81395a9d48431222": {
      "model_module": "@jupyter-widgets/controls",
      "model_module_version": "1.5.0",
      "model_name": "DescriptionStyleModel",
      "state": {
       "_model_module": "@jupyter-widgets/controls",
       "_model_module_version": "1.5.0",
       "_model_name": "DescriptionStyleModel",
       "_view_count": null,
       "_view_module": "@jupyter-widgets/base",
       "_view_module_version": "1.2.0",
       "_view_name": "StyleView",
       "description_width": ""
      }
     },
     "12c25b691df949de9b22c7d39dc307c7": {
      "model_module": "@jupyter-widgets/base",
      "model_module_version": "1.2.0",
      "model_name": "LayoutModel",
      "state": {
       "_model_module": "@jupyter-widgets/base",
       "_model_module_version": "1.2.0",
       "_model_name": "LayoutModel",
       "_view_count": null,
       "_view_module": "@jupyter-widgets/base",
       "_view_module_version": "1.2.0",
       "_view_name": "LayoutView",
       "align_content": null,
       "align_items": null,
       "align_self": null,
       "border": null,
       "bottom": null,
       "display": null,
       "flex": null,
       "flex_flow": null,
       "grid_area": null,
       "grid_auto_columns": null,
       "grid_auto_flow": null,
       "grid_auto_rows": null,
       "grid_column": null,
       "grid_gap": null,
       "grid_row": null,
       "grid_template_areas": null,
       "grid_template_columns": null,
       "grid_template_rows": null,
       "height": null,
       "justify_content": null,
       "justify_items": null,
       "left": null,
       "margin": null,
       "max_height": null,
       "max_width": null,
       "min_height": null,
       "min_width": null,
       "object_fit": null,
       "object_position": null,
       "order": null,
       "overflow": null,
       "overflow_x": null,
       "overflow_y": null,
       "padding": null,
       "right": null,
       "top": null,
       "visibility": null,
       "width": null
      }
     },
     "2cfcbac483e74ccc83ebbd7c1bb1c442": {
      "model_module": "@jupyter-widgets/base",
      "model_module_version": "1.2.0",
      "model_name": "LayoutModel",
      "state": {
       "_model_module": "@jupyter-widgets/base",
       "_model_module_version": "1.2.0",
       "_model_name": "LayoutModel",
       "_view_count": null,
       "_view_module": "@jupyter-widgets/base",
       "_view_module_version": "1.2.0",
       "_view_name": "LayoutView",
       "align_content": null,
       "align_items": null,
       "align_self": null,
       "border": null,
       "bottom": null,
       "display": null,
       "flex": null,
       "flex_flow": null,
       "grid_area": null,
       "grid_auto_columns": null,
       "grid_auto_flow": null,
       "grid_auto_rows": null,
       "grid_column": null,
       "grid_gap": null,
       "grid_row": null,
       "grid_template_areas": null,
       "grid_template_columns": null,
       "grid_template_rows": null,
       "height": null,
       "justify_content": null,
       "justify_items": null,
       "left": null,
       "margin": null,
       "max_height": null,
       "max_width": null,
       "min_height": null,
       "min_width": null,
       "object_fit": null,
       "object_position": null,
       "order": null,
       "overflow": null,
       "overflow_x": null,
       "overflow_y": null,
       "padding": null,
       "right": null,
       "top": null,
       "visibility": null,
       "width": null
      }
     },
     "30206e93f64544589d731bd245d64f8d": {
      "model_module": "@jupyter-widgets/controls",
      "model_module_version": "1.5.0",
      "model_name": "HBoxModel",
      "state": {
       "_dom_classes": [],
       "_model_module": "@jupyter-widgets/controls",
       "_model_module_version": "1.5.0",
       "_model_name": "HBoxModel",
       "_view_count": null,
       "_view_module": "@jupyter-widgets/controls",
       "_view_module_version": "1.5.0",
       "_view_name": "HBoxView",
       "box_style": "",
       "children": [
        "IPY_MODEL_b79c8469a952421d8cdbc0411a80ce92",
        "IPY_MODEL_58f187a70a9748b9a1790c9177f6a3a2",
        "IPY_MODEL_f0992c40f8174153aeec65cd36d1b43c"
       ],
       "layout": "IPY_MODEL_12c25b691df949de9b22c7d39dc307c7"
      }
     },
     "58f187a70a9748b9a1790c9177f6a3a2": {
      "model_module": "@jupyter-widgets/controls",
      "model_module_version": "1.5.0",
      "model_name": "FloatProgressModel",
      "state": {
       "_dom_classes": [],
       "_model_module": "@jupyter-widgets/controls",
       "_model_module_version": "1.5.0",
       "_model_name": "FloatProgressModel",
       "_view_count": null,
       "_view_module": "@jupyter-widgets/controls",
       "_view_module_version": "1.5.0",
       "_view_name": "ProgressView",
       "bar_style": "success",
       "description": "",
       "description_tooltip": null,
       "layout": "IPY_MODEL_a42122b6ed57459aafce2d7c43eabfb2",
       "max": 8000,
       "min": 0,
       "orientation": "horizontal",
       "style": "IPY_MODEL_f483d481adab4499bd662477389a08cc",
       "value": 8000
      }
     },
     "7be3c0ca7b16426ba2ee3123ad682a04": {
      "model_module": "@jupyter-widgets/controls",
      "model_module_version": "1.5.0",
      "model_name": "DescriptionStyleModel",
      "state": {
       "_model_module": "@jupyter-widgets/controls",
       "_model_module_version": "1.5.0",
       "_model_name": "DescriptionStyleModel",
       "_view_count": null,
       "_view_module": "@jupyter-widgets/base",
       "_view_module_version": "1.2.0",
       "_view_name": "StyleView",
       "description_width": ""
      }
     },
     "a42122b6ed57459aafce2d7c43eabfb2": {
      "model_module": "@jupyter-widgets/base",
      "model_module_version": "1.2.0",
      "model_name": "LayoutModel",
      "state": {
       "_model_module": "@jupyter-widgets/base",
       "_model_module_version": "1.2.0",
       "_model_name": "LayoutModel",
       "_view_count": null,
       "_view_module": "@jupyter-widgets/base",
       "_view_module_version": "1.2.0",
       "_view_name": "LayoutView",
       "align_content": null,
       "align_items": null,
       "align_self": null,
       "border": null,
       "bottom": null,
       "display": null,
       "flex": null,
       "flex_flow": null,
       "grid_area": null,
       "grid_auto_columns": null,
       "grid_auto_flow": null,
       "grid_auto_rows": null,
       "grid_column": null,
       "grid_gap": null,
       "grid_row": null,
       "grid_template_areas": null,
       "grid_template_columns": null,
       "grid_template_rows": null,
       "height": null,
       "justify_content": null,
       "justify_items": null,
       "left": null,
       "margin": null,
       "max_height": null,
       "max_width": null,
       "min_height": null,
       "min_width": null,
       "object_fit": null,
       "object_position": null,
       "order": null,
       "overflow": null,
       "overflow_x": null,
       "overflow_y": null,
       "padding": null,
       "right": null,
       "top": null,
       "visibility": null,
       "width": null
      }
     },
     "b79c8469a952421d8cdbc0411a80ce92": {
      "model_module": "@jupyter-widgets/controls",
      "model_module_version": "1.5.0",
      "model_name": "HTMLModel",
      "state": {
       "_dom_classes": [],
       "_model_module": "@jupyter-widgets/controls",
       "_model_module_version": "1.5.0",
       "_model_name": "HTMLModel",
       "_view_count": null,
       "_view_module": "@jupyter-widgets/controls",
       "_view_module_version": "1.5.0",
       "_view_name": "HTMLView",
       "description": "",
       "description_tooltip": null,
       "layout": "IPY_MODEL_2cfcbac483e74ccc83ebbd7c1bb1c442",
       "placeholder": "​",
       "style": "IPY_MODEL_010e4a9d17854b4e81395a9d48431222",
       "value": "100%"
      }
     },
     "e90ce3d7a10849739d8392ec32378479": {
      "model_module": "@jupyter-widgets/base",
      "model_module_version": "1.2.0",
      "model_name": "LayoutModel",
      "state": {
       "_model_module": "@jupyter-widgets/base",
       "_model_module_version": "1.2.0",
       "_model_name": "LayoutModel",
       "_view_count": null,
       "_view_module": "@jupyter-widgets/base",
       "_view_module_version": "1.2.0",
       "_view_name": "LayoutView",
       "align_content": null,
       "align_items": null,
       "align_self": null,
       "border": null,
       "bottom": null,
       "display": null,
       "flex": null,
       "flex_flow": null,
       "grid_area": null,
       "grid_auto_columns": null,
       "grid_auto_flow": null,
       "grid_auto_rows": null,
       "grid_column": null,
       "grid_gap": null,
       "grid_row": null,
       "grid_template_areas": null,
       "grid_template_columns": null,
       "grid_template_rows": null,
       "height": null,
       "justify_content": null,
       "justify_items": null,
       "left": null,
       "margin": null,
       "max_height": null,
       "max_width": null,
       "min_height": null,
       "min_width": null,
       "object_fit": null,
       "object_position": null,
       "order": null,
       "overflow": null,
       "overflow_x": null,
       "overflow_y": null,
       "padding": null,
       "right": null,
       "top": null,
       "visibility": null,
       "width": null
      }
     },
     "f0992c40f8174153aeec65cd36d1b43c": {
      "model_module": "@jupyter-widgets/controls",
      "model_module_version": "1.5.0",
      "model_name": "HTMLModel",
      "state": {
       "_dom_classes": [],
       "_model_module": "@jupyter-widgets/controls",
       "_model_module_version": "1.5.0",
       "_model_name": "HTMLModel",
       "_view_count": null,
       "_view_module": "@jupyter-widgets/controls",
       "_view_module_version": "1.5.0",
       "_view_name": "HTMLView",
       "description": "",
       "description_tooltip": null,
       "layout": "IPY_MODEL_e90ce3d7a10849739d8392ec32378479",
       "placeholder": "​",
       "style": "IPY_MODEL_7be3c0ca7b16426ba2ee3123ad682a04",
       "value": " 8000/8000 [00:52&lt;00:00, 141.97it/s]"
      }
     },
     "f483d481adab4499bd662477389a08cc": {
      "model_module": "@jupyter-widgets/controls",
      "model_module_version": "1.5.0",
      "model_name": "ProgressStyleModel",
      "state": {
       "_model_module": "@jupyter-widgets/controls",
       "_model_module_version": "1.5.0",
       "_model_name": "ProgressStyleModel",
       "_view_count": null,
       "_view_module": "@jupyter-widgets/base",
       "_view_module_version": "1.2.0",
       "_view_name": "StyleView",
       "bar_color": null,
       "description_width": ""
      }
     }
    },
    "version_major": 2,
    "version_minor": 0
   }
  }
 },
 "nbformat": 4,
 "nbformat_minor": 5
}
