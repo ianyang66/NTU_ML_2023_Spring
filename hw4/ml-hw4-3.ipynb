{
 "cells": [
  {
   "cell_type": "markdown",
   "id": "51dcb31c",
   "metadata": {
    "id": "C_jdZ5vHJ4A9",
    "papermill": {
     "duration": 0.005643,
     "end_time": "2023-03-23T02:00:26.306423",
     "exception": false,
     "start_time": "2023-03-23T02:00:26.300780",
     "status": "completed"
    },
    "tags": []
   },
   "source": [
    "# Task description\n",
    "- Classify the speakers of given features.\n",
    "- Main goal: Learn how to use transformer.\n",
    "- Baselines:\n",
    "  - Easy: Run sample code and know how to use transformer.\n",
    "  - Medium: Know how to adjust parameters of transformer.\n",
    "  - Strong: Construct [conformer](https://arxiv.org/abs/2005.08100) which is a variety of transformer. \n",
    "  - Boss: Implement [Self-Attention Pooling](https://arxiv.org/pdf/2008.01077v1.pdf) & [Additive Margin Softmax](https://arxiv.org/pdf/1801.05599.pdf) to further boost the performance.\n",
    "\n",
    "- Other links\n",
    "  - Competiton: [link](https://www.kaggle.com/t/49ea0c385a974db5919ec67299ba2e6b)\n",
    "  - Slide: [link](https://docs.google.com/presentation/d/1LDAW0GGrC9B6D7dlNdYzQL6D60-iKgFr/edit?usp=sharing&ouid=104280564485377739218&rtpof=true&sd=true)\n",
    "  - Data: [link](https://github.com/googly-mingto/ML2023HW4/releases)\n",
    "\n",
    "# Download dataset\n",
    "- Data is [here](https://drive.google.com/drive/folders/1vI1kuLB-q1VilIftiwnPOCAeOOFfBZge?usp=sharing)"
   ]
  },
  {
   "cell_type": "code",
   "execution_count": 1,
   "id": "aa781e1a",
   "metadata": {
    "execution": {
     "iopub.execute_input": "2023-03-23T02:00:26.318103Z",
     "iopub.status.busy": "2023-03-23T02:00:26.316792Z",
     "iopub.status.idle": "2023-03-23T02:00:26.323945Z",
     "shell.execute_reply": "2023-03-23T02:00:26.322863Z"
    },
    "id": "gtKxUzSgXKj3",
    "outputId": "3f59402c-95a7-4fbd-a39c-57606590a89c",
    "papermill": {
     "duration": 0.015748,
     "end_time": "2023-03-23T02:00:26.326697",
     "exception": false,
     "start_time": "2023-03-23T02:00:26.310949",
     "status": "completed"
    },
    "tags": []
   },
   "outputs": [],
   "source": [
    "# !wget https://github.com/googly-mingto/ML2023HW4/releases/download/data/Dataset.tar.gz.partaa\n",
    "# !wget https://github.com/googly-mingto/ML2023HW4/releases/download/data/Dataset.tar.gz.partab\n",
    "# !wget https://github.com/googly-mingto/ML2023HW4/releases/download/data/Dataset.tar.gz.partac\n",
    "# !wget https://github.com/googly-mingto/ML2023HW4/releases/download/data/Dataset.tar.gz.partad\n",
    "\n",
    "# !cat Dataset.tar.gz.part* > Dataset.tar.gz\n",
    "# !rm Dataset.tar.gz.partaa\n",
    "# !rm Dataset.tar.gz.partab\n",
    "# !rm Dataset.tar.gz.partac\n",
    "# !rm Dataset.tar.gz.partad\n",
    "# # unzip the file\n",
    "# !tar zxf Dataset.tar.gz\n",
    "# !rm Dataset.tar.gz"
   ]
  },
  {
   "cell_type": "code",
   "execution_count": 2,
   "id": "f8d788a6",
   "metadata": {
    "execution": {
     "iopub.execute_input": "2023-03-23T02:00:26.336846Z",
     "iopub.status.busy": "2023-03-23T02:00:26.336537Z",
     "iopub.status.idle": "2023-03-23T02:00:26.341056Z",
     "shell.execute_reply": "2023-03-23T02:00:26.339832Z"
    },
    "id": "U6Y1cfpDfpON",
    "outputId": "6ba26637-5c7b-48a9-be0b-1f10ba76590a",
    "papermill": {
     "duration": 0.012386,
     "end_time": "2023-03-23T02:00:26.343570",
     "exception": false,
     "start_time": "2023-03-23T02:00:26.331184",
     "status": "completed"
    },
    "tags": []
   },
   "outputs": [],
   "source": [
    "# !tar zxf Dataset.tar.gz"
   ]
  },
  {
   "cell_type": "code",
   "execution_count": 3,
   "id": "2e665301",
   "metadata": {
    "execution": {
     "iopub.execute_input": "2023-03-23T02:00:26.353688Z",
     "iopub.status.busy": "2023-03-23T02:00:26.353379Z",
     "iopub.status.idle": "2023-03-23T02:00:37.786932Z",
     "shell.execute_reply": "2023-03-23T02:00:37.785574Z"
    },
    "papermill": {
     "duration": 11.441966,
     "end_time": "2023-03-23T02:00:37.789948",
     "exception": false,
     "start_time": "2023-03-23T02:00:26.347982",
     "status": "completed"
    },
    "tags": []
   },
   "outputs": [
    {
     "name": "stdout",
     "output_type": "stream",
     "text": [
      "Collecting conformer\r\n",
      "  Downloading conformer-0.2.5-py3-none-any.whl (4.1 kB)\r\n",
      "Requirement already satisfied: torch in /opt/conda/lib/python3.7/site-packages (from conformer) (1.13.0)\r\n",
      "Collecting einops\r\n",
      "  Downloading einops-0.6.0-py3-none-any.whl (41 kB)\r\n",
      "\u001b[2K     \u001b[90m━━━━━━━━━━━━━━━━━━━━━━━━━━━━━━━━━━━━━━━━\u001b[0m \u001b[32m41.6/41.6 kB\u001b[0m \u001b[31m1.9 MB/s\u001b[0m eta \u001b[36m0:00:00\u001b[0m\r\n",
      "\u001b[?25hRequirement already satisfied: typing-extensions in /opt/conda/lib/python3.7/site-packages (from torch->conformer) (4.4.0)\r\n",
      "Installing collected packages: einops, conformer\r\n",
      "Successfully installed conformer-0.2.5 einops-0.6.0\r\n",
      "\u001b[33mWARNING: Running pip as the 'root' user can result in broken permissions and conflicting behaviour with the system package manager. It is recommended to use a virtual environment instead: https://pip.pypa.io/warnings/venv\u001b[0m\u001b[33m\r\n",
      "\u001b[0m"
     ]
    }
   ],
   "source": [
    "!pip install conformer"
   ]
  },
  {
   "cell_type": "code",
   "execution_count": 4,
   "id": "75208460",
   "metadata": {
    "execution": {
     "iopub.execute_input": "2023-03-23T02:00:37.804075Z",
     "iopub.status.busy": "2023-03-23T02:00:37.802992Z",
     "iopub.status.idle": "2023-03-23T02:00:40.295896Z",
     "shell.execute_reply": "2023-03-23T02:00:40.294808Z"
    },
    "id": "E6burzCXIyuA",
    "papermill": {
     "duration": 2.502671,
     "end_time": "2023-03-23T02:00:40.298540",
     "exception": false,
     "start_time": "2023-03-23T02:00:37.795869",
     "status": "completed"
    },
    "tags": []
   },
   "outputs": [],
   "source": [
    "import numpy as np\n",
    "import torch\n",
    "import random\n",
    "from conformer import ConformerBlock\n",
    "\n",
    "def set_seed(seed):\n",
    "    np.random.seed(seed)\n",
    "    random.seed(seed)\n",
    "    torch.manual_seed(seed)\n",
    "    if torch.cuda.is_available():\n",
    "        torch.cuda.manual_seed(seed)\n",
    "        torch.cuda.manual_seed_all(seed)\n",
    "    torch.backends.cudnn.benchmark = False\n",
    "    torch.backends.cudnn.deterministic = True\n",
    "\n",
    "set_seed(1124)"
   ]
  },
  {
   "cell_type": "markdown",
   "id": "f6aed222",
   "metadata": {
    "id": "k7dVbxW2LASN",
    "papermill": {
     "duration": 0.004764,
     "end_time": "2023-03-23T02:00:40.308579",
     "exception": false,
     "start_time": "2023-03-23T02:00:40.303815",
     "status": "completed"
    },
    "tags": []
   },
   "source": [
    "# Data\n",
    "\n",
    "## Dataset\n",
    "- Original dataset is [Voxceleb2](https://www.robots.ox.ac.uk/~vgg/data/voxceleb/vox2.html).\n",
    "- The [license](https://creativecommons.org/licenses/by/4.0/) and [complete version](https://www.robots.ox.ac.uk/~vgg/data/voxceleb/files/license.txt) of Voxceleb2.\n",
    "- We randomly select 600 speakers from Voxceleb2.\n",
    "- Then preprocess the raw waveforms into mel-spectrograms.\n",
    "\n",
    "- Args:\n",
    "  - data_dir: The path to the data directory.\n",
    "  - metadata_path: The path to the metadata.\n",
    "  - segment_len: The length of audio segment for training. \n",
    "- The architecture of data directory \\\\\n",
    "  - data directory \\\\\n",
    "  |---- metadata.json \\\\\n",
    "  |---- testdata.json \\\\\n",
    "  |---- mapping.json \\\\\n",
    "  |---- uttr-{random string}.pt \\\\\n",
    "\n",
    "- The information in metadata\n",
    "  - \"n_mels\": The dimention of mel-spectrogram.\n",
    "  - \"speakers\": A dictionary. \n",
    "    - Key: speaker ids.\n",
    "    - value: \"feature_path\" and \"mel_len\"\n",
    "\n",
    "\n",
    "For efficiency, we segment the mel-spectrograms into segments in the traing step."
   ]
  },
  {
   "cell_type": "code",
   "execution_count": 5,
   "id": "e5102d76",
   "metadata": {
    "execution": {
     "iopub.execute_input": "2023-03-23T02:00:40.320418Z",
     "iopub.status.busy": "2023-03-23T02:00:40.319357Z",
     "iopub.status.idle": "2023-03-23T02:00:40.331714Z",
     "shell.execute_reply": "2023-03-23T02:00:40.330655Z"
    },
    "id": "KpuGxl4CI2pr",
    "papermill": {
     "duration": 0.020524,
     "end_time": "2023-03-23T02:00:40.333905",
     "exception": false,
     "start_time": "2023-03-23T02:00:40.313381",
     "status": "completed"
    },
    "tags": []
   },
   "outputs": [],
   "source": [
    "import os\n",
    "import json\n",
    "import torch\n",
    "import random\n",
    "from pathlib import Path\n",
    "from torch.utils.data import Dataset\n",
    "from torch.nn.utils.rnn import pad_sequence\n",
    " \n",
    "class myDataset(Dataset):\n",
    "\tdef __init__(self, data_dir, segment_len=128):\n",
    "\t\tself.data_dir = data_dir\n",
    "\t\tself.segment_len = segment_len\n",
    "\t\n",
    "\t\t# Load the mapping from speaker neme to their corresponding id. \n",
    "\t\tmapping_path = Path(data_dir) / \"mapping.json\"\n",
    "\t\tmapping = json.load(mapping_path.open())\n",
    "\t\tself.speaker2id = mapping[\"speaker2id\"]\n",
    "\t\n",
    "\t\t# Load metadata of training data.\n",
    "\t\tmetadata_path = Path(data_dir) / \"metadata.json\"\n",
    "\t\tmetadata = json.load(open(metadata_path))[\"speakers\"]\n",
    "\t\n",
    "\t\t# Get the total number of speaker.\n",
    "\t\tself.speaker_num = len(metadata.keys())\n",
    "\t\tself.data = []\n",
    "\t\tfor speaker in metadata.keys():\n",
    "\t\t\tfor utterances in metadata[speaker]:\n",
    "\t\t\t\tself.data.append([utterances[\"feature_path\"], self.speaker2id[speaker]])\n",
    " \n",
    "\tdef __len__(self):\n",
    "\t\t\treturn len(self.data)\n",
    " \n",
    "\tdef __getitem__(self, index):\n",
    "\t\tfeat_path, speaker = self.data[index]\n",
    "\t\t# Load preprocessed mel-spectrogram.\n",
    "\t\tmel = torch.load(os.path.join(self.data_dir, feat_path))\n",
    "\n",
    "\t\t# Segmemt mel-spectrogram into \"segment_len\" frames.\n",
    "\t\tif len(mel) > self.segment_len:\n",
    "\t\t\t# Randomly get the starting point of the segment.\n",
    "\t\t\tstart = random.randint(0, len(mel) - self.segment_len)\n",
    "\t\t\t# Get a segment with \"segment_len\" frames.\n",
    "\t\t\tmel = torch.FloatTensor(mel[start:start+self.segment_len])\n",
    "\t\telse:\n",
    "\t\t\tmel = torch.FloatTensor(mel)\n",
    "\t\t# Turn the speaker id into long for computing loss later.\n",
    "\t\tspeaker = torch.FloatTensor([speaker]).long()\n",
    "\t\treturn mel, speaker\n",
    " \n",
    "\tdef get_speaker_number(self):\n",
    "\t\treturn self.speaker_num"
   ]
  },
  {
   "cell_type": "markdown",
   "id": "62eafc54",
   "metadata": {
    "id": "668hverTMlGN",
    "papermill": {
     "duration": 0.004776,
     "end_time": "2023-03-23T02:00:40.343592",
     "exception": false,
     "start_time": "2023-03-23T02:00:40.338816",
     "status": "completed"
    },
    "tags": []
   },
   "source": [
    "## Dataloader\n",
    "- Split dataset into training dataset(90%) and validation dataset(10%).\n",
    "- Create dataloader to iterate the data."
   ]
  },
  {
   "cell_type": "code",
   "execution_count": 6,
   "id": "25564d13",
   "metadata": {
    "execution": {
     "iopub.execute_input": "2023-03-23T02:00:40.355647Z",
     "iopub.status.busy": "2023-03-23T02:00:40.354645Z",
     "iopub.status.idle": "2023-03-23T02:00:40.363861Z",
     "shell.execute_reply": "2023-03-23T02:00:40.362788Z"
    },
    "id": "B7c2gZYoJDRS",
    "papermill": {
     "duration": 0.017781,
     "end_time": "2023-03-23T02:00:40.366217",
     "exception": false,
     "start_time": "2023-03-23T02:00:40.348436",
     "status": "completed"
    },
    "tags": []
   },
   "outputs": [],
   "source": [
    "import torch\n",
    "from torch.utils.data import DataLoader, random_split\n",
    "from torch.nn.utils.rnn import pad_sequence\n",
    "\n",
    "\n",
    "def collate_batch(batch):\n",
    "\t# Process features within a batch.\n",
    "\t\"\"\"Collate a batch of data.\"\"\"\n",
    "\tmel, speaker = zip(*batch)\n",
    "\t# Because we train the model batch by batch, we need to pad the features in the same batch to make their lengths the same.\n",
    "\tmel = pad_sequence(mel, batch_first=True, padding_value=-20)    # pad log 10^(-20) which is very small value.\n",
    "\t# mel: (batch size, length, 40)\n",
    "\treturn mel, torch.FloatTensor(speaker).long()\n",
    "\n",
    "\n",
    "def get_dataloader(data_dir, batch_size, n_workers):\n",
    "\t\"\"\"Generate dataloader\"\"\"\n",
    "\tdataset = myDataset(data_dir)\n",
    "\tspeaker_num = dataset.get_speaker_number()\n",
    "\t# Split dataset into training dataset and validation dataset\n",
    "\ttrainlen = int(0.9 * len(dataset))\n",
    "\tlengths = [trainlen, len(dataset) - trainlen]\n",
    "\ttrainset, validset = random_split(dataset, lengths)\n",
    "\n",
    "\ttrain_loader = DataLoader(\n",
    "\t\ttrainset,\n",
    "\t\tbatch_size=batch_size,\n",
    "\t\tshuffle=True,\n",
    "\t\tdrop_last=True,\n",
    "\t\tnum_workers=n_workers,\n",
    "\t\tpin_memory=True,\n",
    "\t\tcollate_fn=collate_batch,\n",
    "\t)\n",
    "\tvalid_loader = DataLoader(\n",
    "\t\tvalidset,\n",
    "\t\tbatch_size=batch_size,\n",
    "\t\tnum_workers=n_workers,\n",
    "\t\tdrop_last=True,\n",
    "\t\tpin_memory=True,\n",
    "\t\tcollate_fn=collate_batch,\n",
    "\t)\n",
    "\n",
    "\treturn train_loader, valid_loader, speaker_num"
   ]
  },
  {
   "cell_type": "markdown",
   "id": "76409cdf",
   "metadata": {
    "id": "5FOSZYxrMqhc",
    "papermill": {
     "duration": 0.004946,
     "end_time": "2023-03-23T02:00:40.376248",
     "exception": false,
     "start_time": "2023-03-23T02:00:40.371302",
     "status": "completed"
    },
    "tags": []
   },
   "source": [
    "# Model\n",
    "- TransformerEncoderLayer:\n",
    "  - Base transformer encoder layer in [Attention Is All You Need](https://arxiv.org/abs/1706.03762)\n",
    "  - Parameters:\n",
    "    - d_model: the number of expected features of the input (required).\n",
    "\n",
    "    - nhead: the number of heads of the multiheadattention models (required).\n",
    "\n",
    "    - dim_feedforward: the dimension of the feedforward network model (default=2048).\n",
    "\n",
    "    - dropout: the dropout value (default=0.1).\n",
    "\n",
    "    - activation: the activation function of intermediate layer, relu or gelu (default=relu).\n",
    "\n",
    "- TransformerEncoder:\n",
    "  - TransformerEncoder is a stack of N transformer encoder layers\n",
    "  - Parameters:\n",
    "    - encoder_layer: an instance of the TransformerEncoderLayer() class (required).\n",
    "\n",
    "    - num_layers: the number of sub-encoder-layers in the encoder (required).\n",
    "\n",
    "    - norm: the layer normalization component (optional)."
   ]
  },
  {
   "cell_type": "code",
   "execution_count": 7,
   "id": "8c8187eb",
   "metadata": {
    "execution": {
     "iopub.execute_input": "2023-03-23T02:00:40.387734Z",
     "iopub.status.busy": "2023-03-23T02:00:40.387411Z",
     "iopub.status.idle": "2023-03-23T02:00:40.531692Z",
     "shell.execute_reply": "2023-03-23T02:00:40.530662Z"
    },
    "id": "iXZ5B0EKJGs8",
    "papermill": {
     "duration": 0.153299,
     "end_time": "2023-03-23T02:00:40.534415",
     "exception": false,
     "start_time": "2023-03-23T02:00:40.381116",
     "status": "completed"
    },
    "tags": []
   },
   "outputs": [],
   "source": [
    "import torch\n",
    "import torch.nn as nn\n",
    "import torch.nn.functional as F\n",
    "\n",
    "'''討論: 鄭子瑜、陳兆閔、陳芮甯'''\n",
    "'''Reference: https://gist.github.com/pohanchi/c77f6dbfbcbc21c5215acde4f62e4362?fbclid=IwAR3PfhU3Xs37sJ39-E9HiBcxth_V499I4kLU0lIMiYfG9pNKyce245sihfM'''\n",
    "class SelfAttentionPooling(nn.Module):\n",
    "    \"\"\"\n",
    "    Implementation of SelfAttentionPooling \n",
    "    Original Paper: Self-Attention Encoding and Pooling for Speaker Recognition\n",
    "    https://arxiv.org/pdf/2008.01077v1.pdf\n",
    "    \"\"\"\n",
    "    def __init__(self, input_dim):\n",
    "        super(SelfAttentionPooling, self).__init__()\n",
    "        self.W = nn.Linear(input_dim, 1)\n",
    "        \n",
    "    def forward(self, batch_rep):\n",
    "        \"\"\"\n",
    "        input:\n",
    "            batch_rep : size (N, T, H), N: batch size, T: sequence length, H: Hidden dimension\n",
    "        \n",
    "        attention_weight:\n",
    "            att_w : size (N, T, 1)\n",
    "        \n",
    "        return:\n",
    "            utter_rep: size (N, H)\n",
    "        \"\"\"\n",
    "        softmax = nn.functional.softmax\n",
    "        att_w = softmax(self.W(batch_rep).squeeze(-1)).unsqueeze(-1)\n",
    "        utter_rep = torch.sum(batch_rep * att_w, dim=1)\n",
    "\n",
    "        return utter_rep\n",
    "    \n",
    "class Classifier(nn.Module):\n",
    "    def __init__(self, d_model=80, n_spks=600, dropout=0.15):\n",
    "        super().__init__()\n",
    "\t\t# Project the dimension of features from that of input into d_model.\n",
    "        self.prenet = nn.Linear(40, d_model)\n",
    "\t\t# TODO:\n",
    "\t\t#   Change Transformer to Conformer.\n",
    "\t\t#   https://arxiv.org/abs/2005.08100\n",
    "        #\tself.encoder_layer = nn.TransformerEncoderLayer(\n",
    "        # \t\t\td_model=d_model, dim_feedforward=256, nhead=2\n",
    "        # \t\t)\n",
    "        # self.encoder = nn.TransformerEncoder(self.encoder_layer, num_layers=2)\n",
    "        self.encoder_layer = ConformerBlock(\n",
    "                dim = d_model,\n",
    "                dim_head = 16,\n",
    "                heads = 4,\n",
    "                ff_mult = 2,\n",
    "                conv_expansion_factor = 3,\n",
    "                conv_kernel_size = 33,\n",
    "                attn_dropout = 0.1,\n",
    "                ff_dropout = 0.1,\n",
    "                conv_dropout = 0.1\n",
    "                )\n",
    "\t\t# Project the the dimension of features from d_model into speaker nums.\n",
    "        \n",
    "        self.pred_layer = nn.Sequential(\n",
    "                nn.Linear(d_model, d_model),\n",
    "                nn.BatchNorm1d(d_model),\n",
    "                nn.Dropout(dropout),\n",
    "                nn.ReLU(),\n",
    "                nn.Linear(d_model, n_spks),\n",
    "                nn.BatchNorm1d(n_spks),\n",
    "                nn.Dropout(dropout),\n",
    "                nn.ReLU(),\n",
    "                nn.Linear(n_spks, n_spks),\n",
    "                nn.BatchNorm1d(n_spks),\n",
    "                nn.Dropout(dropout),\n",
    "                nn.ReLU(),\n",
    "                nn.Linear(n_spks, n_spks),\n",
    "        )\n",
    "        \n",
    "        self.self_attention_pooling = SelfAttentionPooling(d_model)\n",
    "        # self.pred_layer = nn.Sequential(\n",
    "        #             nn.Linear(d_model, d_model),\n",
    "        # \t\t\tnn.Sigmoid(),\n",
    "        # \t\t\tnn.Linear(d_model, n_spks),\n",
    "        # \t\t)\n",
    "        \n",
    "    def forward(self, mels):\n",
    "        \"\"\"\n",
    "        args:\n",
    "            mels: (batch size, length, 40)\n",
    "        return:\n",
    "            out: (batch size, n_spks)\n",
    "        \"\"\"\n",
    "        # out: (batch size, length, d_model)\n",
    "        out = self.prenet(mels)\n",
    "        # # out: (length, batch size, d_model)\n",
    "        # out = out.permute(1, 0, 2)\n",
    "        # # The encoder layer expect features in the shape of (length, batch size, d_model).\n",
    "        # out = self.encoder_layer(out)\n",
    "        # # out: (batch size, length, d_model)\n",
    "        # out = out.transpose(0, 1)\n",
    "        # # mean pooling\n",
    "        # stats = out.mean(dim=1)\n",
    "        # Encoder layer\n",
    "        out = self.encoder(out)\n",
    "        # Self attention pooling\n",
    "        out = self.self_attention_pooling(out)\n",
    "        out = self.pred_layer(out)\n",
    "        return out"
   ]
  },
  {
   "cell_type": "markdown",
   "id": "fad0ea16",
   "metadata": {
    "id": "W7yX8JinM5Ly",
    "papermill": {
     "duration": 0.004852,
     "end_time": "2023-03-23T02:00:40.544691",
     "exception": false,
     "start_time": "2023-03-23T02:00:40.539839",
     "status": "completed"
    },
    "tags": []
   },
   "source": [
    "# Learning rate schedule\n",
    "- For transformer architecture, the design of learning rate schedule is different from that of CNN.\n",
    "- Previous works show that the warmup of learning rate is useful for training models with transformer architectures.\n",
    "- The warmup schedule\n",
    "  - Set learning rate to 0 in the beginning.\n",
    "  - The learning rate increases linearly from 0 to initial learning rate during warmup period."
   ]
  },
  {
   "cell_type": "code",
   "execution_count": 8,
   "id": "40b1f30b",
   "metadata": {
    "execution": {
     "iopub.execute_input": "2023-03-23T02:00:40.555930Z",
     "iopub.status.busy": "2023-03-23T02:00:40.555605Z",
     "iopub.status.idle": "2023-03-23T02:00:40.563502Z",
     "shell.execute_reply": "2023-03-23T02:00:40.562361Z"
    },
    "id": "ykt0N1nVJJi2",
    "papermill": {
     "duration": 0.016445,
     "end_time": "2023-03-23T02:00:40.566069",
     "exception": false,
     "start_time": "2023-03-23T02:00:40.549624",
     "status": "completed"
    },
    "tags": []
   },
   "outputs": [],
   "source": [
    "import math\n",
    "\n",
    "import torch\n",
    "from torch.optim import Optimizer\n",
    "from torch.optim.lr_scheduler import LambdaLR\n",
    "\n",
    "\n",
    "def get_cosine_schedule_with_warmup(\n",
    "\toptimizer: Optimizer,\n",
    "\tnum_warmup_steps: int,\n",
    "\tnum_training_steps: int,\n",
    "\tnum_cycles: float = 0.5,\n",
    "\tlast_epoch: int = -1,\n",
    "):\n",
    "\t\"\"\"\n",
    "\tCreate a schedule with a learning rate that decreases following the values of the cosine function between the\n",
    "\tinitial lr set in the optimizer to 0, after a warmup period during which it increases linearly between 0 and the\n",
    "\tinitial lr set in the optimizer.\n",
    "\n",
    "\tArgs:\n",
    "\t\toptimizer (:class:`~torch.optim.Optimizer`):\n",
    "\t\tThe optimizer for which to schedule the learning rate.\n",
    "\t\tnum_warmup_steps (:obj:`int`):\n",
    "\t\tThe number of steps for the warmup phase.\n",
    "\t\tnum_training_steps (:obj:`int`):\n",
    "\t\tThe total number of training steps.\n",
    "\t\tnum_cycles (:obj:`float`, `optional`, defaults to 0.5):\n",
    "\t\tThe number of waves in the cosine schedule (the defaults is to just decrease from the max value to 0\n",
    "\t\tfollowing a half-cosine).\n",
    "\t\tlast_epoch (:obj:`int`, `optional`, defaults to -1):\n",
    "\t\tThe index of the last epoch when resuming training.\n",
    "\n",
    "\tReturn:\n",
    "\t\t:obj:`torch.optim.lr_scheduler.LambdaLR` with the appropriate schedule.\n",
    "\t\"\"\"\n",
    "\tdef lr_lambda(current_step):\n",
    "\t\t# Warmup\n",
    "\t\tif current_step < num_warmup_steps:\n",
    "\t\t\treturn float(current_step) / float(max(1, num_warmup_steps))\n",
    "\t\t# decadence\n",
    "\t\tprogress = float(current_step - num_warmup_steps) / float(\n",
    "\t\t\tmax(1, num_training_steps - num_warmup_steps)\n",
    "\t\t)\n",
    "\t\treturn max(\n",
    "\t\t\t0.0, 0.5 * (1.0 + math.cos(math.pi * float(num_cycles) * 2.0 * progress))\n",
    "\t\t)\n",
    "\n",
    "\treturn LambdaLR(optimizer, lr_lambda, last_epoch)"
   ]
  },
  {
   "cell_type": "markdown",
   "id": "e5d36285",
   "metadata": {
    "id": "-LN2XkteM_uH",
    "papermill": {
     "duration": 0.004842,
     "end_time": "2023-03-23T02:00:40.575979",
     "exception": false,
     "start_time": "2023-03-23T02:00:40.571137",
     "status": "completed"
    },
    "tags": []
   },
   "source": [
    "# Model Function\n",
    "- Model forward function."
   ]
  },
  {
   "cell_type": "code",
   "execution_count": 9,
   "id": "10b8134c",
   "metadata": {
    "execution": {
     "iopub.execute_input": "2023-03-23T02:00:40.587504Z",
     "iopub.status.busy": "2023-03-23T02:00:40.586868Z",
     "iopub.status.idle": "2023-03-23T02:00:40.593385Z",
     "shell.execute_reply": "2023-03-23T02:00:40.592464Z"
    },
    "id": "N-rr8529JMz0",
    "papermill": {
     "duration": 0.014535,
     "end_time": "2023-03-23T02:00:40.595477",
     "exception": false,
     "start_time": "2023-03-23T02:00:40.580942",
     "status": "completed"
    },
    "tags": []
   },
   "outputs": [],
   "source": [
    "import torch\n",
    "\n",
    "\n",
    "def model_fn(batch, model, criterion, device):\n",
    "\t\"\"\"Forward a batch through the model.\"\"\"\n",
    "\n",
    "\tmels, labels = batch\n",
    "\tmels = mels.to(device)\n",
    "\tlabels = labels.to(device)\n",
    "\n",
    "\touts = model(mels)\n",
    "\n",
    "\tloss = criterion(outs, labels)\n",
    "\n",
    "\t# Get the speaker id with highest probability.\n",
    "\tpreds = outs.argmax(1)\n",
    "\t# Compute accuracy.\n",
    "\taccuracy = torch.mean((preds == labels).float())\n",
    "\n",
    "\treturn loss, accuracy"
   ]
  },
  {
   "cell_type": "markdown",
   "id": "fe85245b",
   "metadata": {
    "id": "cwM_xyOtNCI2",
    "papermill": {
     "duration": 0.004957,
     "end_time": "2023-03-23T02:00:40.605463",
     "exception": false,
     "start_time": "2023-03-23T02:00:40.600506",
     "status": "completed"
    },
    "tags": []
   },
   "source": [
    "# Validate\n",
    "- Calculate accuracy of the validation set."
   ]
  },
  {
   "cell_type": "code",
   "execution_count": 10,
   "id": "f50c77a0",
   "metadata": {
    "execution": {
     "iopub.execute_input": "2023-03-23T02:00:40.618194Z",
     "iopub.status.busy": "2023-03-23T02:00:40.617142Z",
     "iopub.status.idle": "2023-03-23T02:00:40.625230Z",
     "shell.execute_reply": "2023-03-23T02:00:40.624247Z"
    },
    "id": "YAiv6kpdJRTJ",
    "papermill": {
     "duration": 0.016574,
     "end_time": "2023-03-23T02:00:40.627379",
     "exception": false,
     "start_time": "2023-03-23T02:00:40.610805",
     "status": "completed"
    },
    "tags": []
   },
   "outputs": [],
   "source": [
    "from tqdm import tqdm\n",
    "import torch\n",
    "\n",
    "\n",
    "def valid(dataloader, model, criterion, device): \n",
    "\t\"\"\"Validate on validation set.\"\"\"\n",
    "\n",
    "\tmodel.eval()\n",
    "\trunning_loss = 0.0\n",
    "\trunning_accuracy = 0.0\n",
    "\tpbar = tqdm(total=len(dataloader.dataset), ncols=0, desc=\"Valid\", unit=\" uttr\")\n",
    "\n",
    "\tfor i, batch in enumerate(dataloader):\n",
    "\t\twith torch.no_grad():\n",
    "\t\t\tloss, accuracy = model_fn(batch, model, criterion, device)\n",
    "\t\t\trunning_loss += loss.item()\n",
    "\t\t\trunning_accuracy += accuracy.item()\n",
    "\n",
    "\t\tpbar.update(dataloader.batch_size)\n",
    "\t\tpbar.set_postfix(\n",
    "\t\t\tloss=f\"{running_loss / (i+1):.2f}\",\n",
    "\t\t\taccuracy=f\"{running_accuracy / (i+1):.2f}\",\n",
    "\t\t)\n",
    "\n",
    "\tpbar.close()\n",
    "\tmodel.train()\n",
    "\n",
    "\treturn running_accuracy / len(dataloader)"
   ]
  },
  {
   "cell_type": "markdown",
   "id": "71c34b65",
   "metadata": {
    "id": "g6ne9G-eNEdG",
    "papermill": {
     "duration": 0.004917,
     "end_time": "2023-03-23T02:00:40.637431",
     "exception": false,
     "start_time": "2023-03-23T02:00:40.632514",
     "status": "completed"
    },
    "tags": []
   },
   "source": [
    "# Main function"
   ]
  },
  {
   "cell_type": "code",
   "execution_count": 11,
   "id": "5409621f",
   "metadata": {
    "execution": {
     "iopub.execute_input": "2023-03-23T02:00:40.649844Z",
     "iopub.status.busy": "2023-03-23T02:00:40.649504Z",
     "iopub.status.idle": "2023-03-23T05:36:19.281524Z",
     "shell.execute_reply": "2023-03-23T05:36:19.279424Z"
    },
    "id": "Usv9s-CuJSG7",
    "outputId": "f4f6a983-3559-4f36-efae-402bbf790473",
    "papermill": {
     "duration": 12938.641066,
     "end_time": "2023-03-23T05:36:19.284120",
     "exception": false,
     "start_time": "2023-03-23T02:00:40.643054",
     "status": "completed"
    },
    "tags": []
   },
   "outputs": [
    {
     "name": "stdout",
     "output_type": "stream",
     "text": [
      "[Info]: Use cuda now!\n"
     ]
    },
    {
     "name": "stderr",
     "output_type": "stream",
     "text": [
      "/opt/conda/lib/python3.7/site-packages/torch/utils/data/dataloader.py:557: UserWarning: This DataLoader will create 8 worker processes in total. Our suggested max number of worker in current system is 2, which is smaller than what this DataLoader is going to create. Please be aware that excessive worker creation might get DataLoader running slow or even freeze, lower the worker number to avoid potential slowness/freeze if necessary.\n",
      "  cpuset_checked))\n"
     ]
    },
    {
     "name": "stdout",
     "output_type": "stream",
     "text": [
      "[Info]: Finish loading data!\n",
      "[Info]: Finish creating model!\n"
     ]
    },
    {
     "name": "stderr",
     "output_type": "stream",
     "text": [
      "Train:   0% 0/2000 [00:00<?, ? step/s]/opt/conda/lib/python3.7/site-packages/ipykernel_launcher.py:28: UserWarning: Implicit dimension choice for softmax has been deprecated. Change the call to include dim=X as an argument.\n",
      "Train: 100% 2000/2000 [04:29<00:00,  7.42 step/s, accuracy=0.43, loss=2.32, step=2000]\n",
      "Valid:  99% 5632/5667 [00:05<00:00, 951.97 uttr/s, accuracy=0.55, loss=1.94] \n",
      "Train: 100% 2000/2000 [04:06<00:00,  8.11 step/s, accuracy=0.59, loss=1.68, step=4000]\n",
      "Valid:  99% 5632/5667 [00:03<00:00, 1570.69 uttr/s, accuracy=0.66, loss=1.40]\n",
      "Train: 100% 2000/2000 [04:08<00:00,  8.05 step/s, accuracy=0.64, loss=1.35, step=6000]\n",
      "Valid:  99% 5632/5667 [00:03<00:00, 1541.42 uttr/s, accuracy=0.71, loss=1.24]\n",
      "Train: 100% 2000/2000 [04:15<00:00,  7.83 step/s, accuracy=0.70, loss=1.14, step=8000]\n",
      "Valid:  99% 5632/5667 [00:03<00:00, 1433.19 uttr/s, accuracy=0.73, loss=1.13]\n",
      "Train: 100% 2000/2000 [04:18<00:00,  7.74 step/s, accuracy=0.72, loss=1.07, step=1e+4]\n",
      "Valid:  99% 5632/5667 [00:03<00:00, 1444.71 uttr/s, accuracy=0.76, loss=0.98]\n",
      "Train:   0% 2/2000 [00:00<03:26,  9.70 step/s, accuracy=0.73, loss=1.12, step=1e+4]"
     ]
    },
    {
     "name": "stdout",
     "output_type": "stream",
     "text": [
      "Step 10000, best model saved. (accuracy=0.7649)\n"
     ]
    },
    {
     "name": "stderr",
     "output_type": "stream",
     "text": [
      "Train: 100% 2000/2000 [04:20<00:00,  7.68 step/s, accuracy=0.75, loss=0.91, step=12000]\n",
      "Valid:  99% 5632/5667 [00:03<00:00, 1619.20 uttr/s, accuracy=0.78, loss=0.92]\n",
      "Train: 100% 2000/2000 [04:10<00:00,  7.99 step/s, accuracy=0.75, loss=0.96, step=14000]\n",
      "Valid:  99% 5632/5667 [00:03<00:00, 1530.15 uttr/s, accuracy=0.79, loss=0.92]\n",
      "Train: 100% 2000/2000 [04:09<00:00,  8.00 step/s, accuracy=0.75, loss=0.87, step=16000]\n",
      "Valid:  99% 5632/5667 [00:03<00:00, 1415.25 uttr/s, accuracy=0.80, loss=0.85]\n",
      "Train: 100% 2000/2000 [04:12<00:00,  7.92 step/s, accuracy=0.84, loss=0.61, step=18000]\n",
      "Valid:  99% 5632/5667 [00:03<00:00, 1716.64 uttr/s, accuracy=0.81, loss=0.82]\n",
      "Train: 100% 2000/2000 [04:13<00:00,  7.90 step/s, accuracy=0.75, loss=0.93, step=2e+4]\n",
      "Valid:  99% 5632/5667 [00:03<00:00, 1702.11 uttr/s, accuracy=0.81, loss=0.81]\n",
      "Train:   0% 3/2000 [00:00<02:05, 15.88 step/s, accuracy=0.81, loss=0.68, step=2e+4]"
     ]
    },
    {
     "name": "stdout",
     "output_type": "stream",
     "text": [
      "Step 20000, best model saved. (accuracy=0.8123)\n"
     ]
    },
    {
     "name": "stderr",
     "output_type": "stream",
     "text": [
      "Train: 100% 2000/2000 [04:13<00:00,  7.89 step/s, accuracy=0.77, loss=0.83, step=22000]\n",
      "Valid:  99% 5632/5667 [00:04<00:00, 1195.78 uttr/s, accuracy=0.82, loss=0.79]\n",
      "Train: 100% 2000/2000 [04:14<00:00,  7.85 step/s, accuracy=0.79, loss=0.68, step=24000]\n",
      "Valid:  99% 5632/5667 [00:03<00:00, 1719.53 uttr/s, accuracy=0.83, loss=0.77]\n",
      "Train: 100% 2000/2000 [04:16<00:00,  7.81 step/s, accuracy=0.78, loss=0.77, step=26000]\n",
      "Valid:  99% 5632/5667 [00:03<00:00, 1459.23 uttr/s, accuracy=0.82, loss=0.79]\n",
      "Train: 100% 2000/2000 [04:18<00:00,  7.75 step/s, accuracy=0.80, loss=0.64, step=28000]\n",
      "Valid:  99% 5632/5667 [00:03<00:00, 1623.26 uttr/s, accuracy=0.83, loss=0.74]\n",
      "Train: 100% 2000/2000 [04:12<00:00,  7.91 step/s, accuracy=0.82, loss=0.64, step=3e+4]\n",
      "Valid:  99% 5632/5667 [00:03<00:00, 1474.15 uttr/s, accuracy=0.84, loss=0.74]\n",
      "Train:   0% 3/2000 [00:00<02:00, 16.52 step/s, accuracy=0.81, loss=0.68, step=3e+4]"
     ]
    },
    {
     "name": "stdout",
     "output_type": "stream",
     "text": [
      "Step 30000, best model saved. (accuracy=0.8361)\n"
     ]
    },
    {
     "name": "stderr",
     "output_type": "stream",
     "text": [
      "Train: 100% 2000/2000 [04:10<00:00,  7.99 step/s, accuracy=0.86, loss=0.59, step=32000]\n",
      "Valid:  99% 5632/5667 [00:03<00:00, 1474.89 uttr/s, accuracy=0.84, loss=0.73]\n",
      "Train: 100% 2000/2000 [04:12<00:00,  7.94 step/s, accuracy=0.82, loss=0.60, step=34000]\n",
      "Valid:  99% 5632/5667 [00:03<00:00, 1697.69 uttr/s, accuracy=0.84, loss=0.72]\n",
      "Train: 100% 2000/2000 [04:13<00:00,  7.90 step/s, accuracy=0.80, loss=0.61, step=36000]\n",
      "Valid:  99% 5632/5667 [00:03<00:00, 1617.81 uttr/s, accuracy=0.85, loss=0.71]\n",
      "Train: 100% 2000/2000 [04:13<00:00,  7.88 step/s, accuracy=0.87, loss=0.51, step=38000]\n",
      "Valid:  99% 5632/5667 [00:03<00:00, 1770.84 uttr/s, accuracy=0.84, loss=0.71]\n",
      "Train: 100% 2000/2000 [04:13<00:00,  7.90 step/s, accuracy=0.86, loss=0.41, step=4e+4]\n",
      "Valid:  99% 5632/5667 [00:05<00:00, 1124.69 uttr/s, accuracy=0.85, loss=0.71]\n",
      "Train:   0% 3/2000 [00:00<02:22, 14.00 step/s, accuracy=0.88, loss=0.39, step=4e+4]"
     ]
    },
    {
     "name": "stdout",
     "output_type": "stream",
     "text": [
      "Step 40000, best model saved. (accuracy=0.8462)\n"
     ]
    },
    {
     "name": "stderr",
     "output_type": "stream",
     "text": [
      "Train: 100% 2000/2000 [04:14<00:00,  7.86 step/s, accuracy=0.86, loss=0.48, step=42000]\n",
      "Valid:  99% 5632/5667 [00:03<00:00, 1456.27 uttr/s, accuracy=0.85, loss=0.68]\n",
      "Train: 100% 2000/2000 [04:15<00:00,  7.84 step/s, accuracy=0.88, loss=0.47, step=44000]\n",
      "Valid:  99% 5632/5667 [00:03<00:00, 1603.58 uttr/s, accuracy=0.86, loss=0.65]\n",
      "Train: 100% 2000/2000 [04:13<00:00,  7.88 step/s, accuracy=0.85, loss=0.53, step=46000]\n",
      "Valid:  99% 5632/5667 [00:04<00:00, 1143.83 uttr/s, accuracy=0.85, loss=0.67]\n",
      "Train: 100% 2000/2000 [04:16<00:00,  7.78 step/s, accuracy=0.89, loss=0.36, step=48000]\n",
      "Valid:  99% 5632/5667 [00:03<00:00, 1626.41 uttr/s, accuracy=0.86, loss=0.65]\n",
      "Train: 100% 2000/2000 [04:17<00:00,  7.78 step/s, accuracy=0.90, loss=0.39, step=5e+4]\n",
      "Valid:  99% 5632/5667 [00:03<00:00, 1575.83 uttr/s, accuracy=0.86, loss=0.65]\n",
      "Train:   0% 3/2000 [00:00<01:59, 16.66 step/s, accuracy=0.87, loss=0.48, step=5e+4]"
     ]
    },
    {
     "name": "stdout",
     "output_type": "stream",
     "text": [
      "Step 50000, best model saved. (accuracy=0.8608)\n"
     ]
    },
    {
     "name": "stderr",
     "output_type": "stream",
     "text": [
      "Train: 100% 2000/2000 [04:14<00:00,  7.85 step/s, accuracy=0.86, loss=0.50, step=52000]\n",
      "Valid:  99% 5632/5667 [00:05<00:00, 1005.35 uttr/s, accuracy=0.86, loss=0.66]\n",
      "Train: 100% 2000/2000 [04:14<00:00,  7.87 step/s, accuracy=0.90, loss=0.40, step=54000]\n",
      "Valid:  99% 5632/5667 [00:03<00:00, 1567.33 uttr/s, accuracy=0.87, loss=0.62]\n",
      "Train: 100% 2000/2000 [04:18<00:00,  7.72 step/s, accuracy=0.89, loss=0.44, step=56000]\n",
      "Valid:  99% 5632/5667 [00:03<00:00, 1672.56 uttr/s, accuracy=0.86, loss=0.63]\n",
      "Train: 100% 2000/2000 [04:11<00:00,  7.94 step/s, accuracy=0.90, loss=0.42, step=58000]\n",
      "Valid:  99% 5632/5667 [00:03<00:00, 1697.37 uttr/s, accuracy=0.87, loss=0.61]\n",
      "Train: 100% 2000/2000 [04:11<00:00,  7.95 step/s, accuracy=0.86, loss=0.50, step=6e+4]\n",
      "Valid:  99% 5632/5667 [00:03<00:00, 1668.07 uttr/s, accuracy=0.87, loss=0.64]\n",
      "Train:   0% 3/2000 [00:00<02:25, 13.76 step/s, accuracy=0.88, loss=0.38, step=6e+4]"
     ]
    },
    {
     "name": "stdout",
     "output_type": "stream",
     "text": [
      "Step 60000, best model saved. (accuracy=0.8718)\n"
     ]
    },
    {
     "name": "stderr",
     "output_type": "stream",
     "text": [
      "Train: 100% 2000/2000 [04:10<00:00,  7.98 step/s, accuracy=0.87, loss=0.42, step=62000]\n",
      "Valid:  99% 5632/5667 [00:03<00:00, 1494.22 uttr/s, accuracy=0.87, loss=0.62]\n",
      "Train: 100% 2000/2000 [04:14<00:00,  7.87 step/s, accuracy=0.91, loss=0.33, step=64000]\n",
      "Valid:  99% 5632/5667 [00:03<00:00, 1703.46 uttr/s, accuracy=0.87, loss=0.62]\n",
      "Train: 100% 2000/2000 [04:19<00:00,  7.70 step/s, accuracy=0.92, loss=0.30, step=66000]\n",
      "Valid:  99% 5632/5667 [00:03<00:00, 1859.37 uttr/s, accuracy=0.87, loss=0.62]\n",
      "Train: 100% 2000/2000 [04:24<00:00,  7.55 step/s, accuracy=0.91, loss=0.33, step=68000]\n",
      "Valid:  99% 5632/5667 [00:03<00:00, 1650.23 uttr/s, accuracy=0.87, loss=0.62]\n",
      "Train: 100% 2000/2000 [04:23<00:00,  7.58 step/s, accuracy=0.89, loss=0.32, step=7e+4]\n",
      "Valid:  99% 5632/5667 [00:03<00:00, 1461.34 uttr/s, accuracy=0.88, loss=0.59]\n",
      "Train:   0% 3/2000 [00:00<02:07, 15.68 step/s, accuracy=0.91, loss=0.32, step=7e+4]"
     ]
    },
    {
     "name": "stdout",
     "output_type": "stream",
     "text": [
      "Step 70000, best model saved. (accuracy=0.8780)\n"
     ]
    },
    {
     "name": "stderr",
     "output_type": "stream",
     "text": [
      "Train: 100% 2000/2000 [04:13<00:00,  7.89 step/s, accuracy=0.91, loss=0.32, step=72000]\n",
      "Valid:  99% 5632/5667 [00:03<00:00, 1654.26 uttr/s, accuracy=0.88, loss=0.59]\n",
      "Train: 100% 2000/2000 [04:18<00:00,  7.74 step/s, accuracy=0.94, loss=0.31, step=74000]\n",
      "Valid:  99% 5632/5667 [00:03<00:00, 1571.13 uttr/s, accuracy=0.88, loss=0.59]\n",
      "Train: 100% 2000/2000 [04:13<00:00,  7.88 step/s, accuracy=0.92, loss=0.36, step=76000]\n",
      "Valid:  99% 5632/5667 [00:03<00:00, 1600.13 uttr/s, accuracy=0.88, loss=0.58]\n",
      "Train: 100% 2000/2000 [04:09<00:00,  8.01 step/s, accuracy=0.89, loss=0.38, step=78000]\n",
      "Valid:  99% 5632/5667 [00:04<00:00, 1310.49 uttr/s, accuracy=0.88, loss=0.59]\n",
      "Train: 100% 2000/2000 [04:11<00:00,  7.95 step/s, accuracy=0.92, loss=0.34, step=8e+4]\n",
      "Valid:  99% 5632/5667 [00:03<00:00, 1505.68 uttr/s, accuracy=0.88, loss=0.57]\n",
      "Train:   0% 3/2000 [00:00<02:12, 15.04 step/s, accuracy=0.89, loss=0.38, step=8e+4]"
     ]
    },
    {
     "name": "stdout",
     "output_type": "stream",
     "text": [
      "Step 80000, best model saved. (accuracy=0.8841)\n"
     ]
    },
    {
     "name": "stderr",
     "output_type": "stream",
     "text": [
      "Train: 100% 2000/2000 [04:15<00:00,  7.84 step/s, accuracy=0.89, loss=0.37, step=82000]\n",
      "Valid:  99% 5632/5667 [00:03<00:00, 1550.65 uttr/s, accuracy=0.88, loss=0.58]\n",
      "Train: 100% 2000/2000 [04:14<00:00,  7.85 step/s, accuracy=0.89, loss=0.34, step=84000]\n",
      "Valid:  99% 5632/5667 [00:03<00:00, 1428.47 uttr/s, accuracy=0.89, loss=0.56]\n",
      "Train: 100% 2000/2000 [04:15<00:00,  7.82 step/s, accuracy=0.91, loss=0.34, step=86000]\n",
      "Valid:  99% 5632/5667 [00:03<00:00, 1477.28 uttr/s, accuracy=0.88, loss=0.58]\n",
      "Train: 100% 2000/2000 [04:15<00:00,  7.82 step/s, accuracy=0.95, loss=0.22, step=88000]\n",
      "Valid:  99% 5632/5667 [00:03<00:00, 1497.48 uttr/s, accuracy=0.88, loss=0.58]\n",
      "Train: 100% 2000/2000 [04:15<00:00,  7.83 step/s, accuracy=0.92, loss=0.28, step=9e+4]\n",
      "Valid:  99% 5632/5667 [00:03<00:00, 1506.79 uttr/s, accuracy=0.88, loss=0.57]\n",
      "Train:   0% 3/2000 [00:00<02:24, 13.81 step/s, accuracy=0.91, loss=0.34, step=9e+4]"
     ]
    },
    {
     "name": "stdout",
     "output_type": "stream",
     "text": [
      "Step 90000, best model saved. (accuracy=0.8871)\n"
     ]
    },
    {
     "name": "stderr",
     "output_type": "stream",
     "text": [
      "Train: 100% 2000/2000 [04:08<00:00,  8.04 step/s, accuracy=0.92, loss=0.31, step=92000]\n",
      "Valid:  99% 5632/5667 [00:04<00:00, 1258.55 uttr/s, accuracy=0.89, loss=0.56]\n",
      "Train: 100% 2000/2000 [04:15<00:00,  7.81 step/s, accuracy=0.91, loss=0.34, step=94000]\n",
      "Valid:  99% 5632/5667 [00:03<00:00, 1619.57 uttr/s, accuracy=0.88, loss=0.58]\n",
      "Train: 100% 2000/2000 [04:15<00:00,  7.84 step/s, accuracy=0.91, loss=0.28, step=96000]\n",
      "Valid:  99% 5632/5667 [00:03<00:00, 1525.21 uttr/s, accuracy=0.88, loss=0.57]\n",
      "Train: 100% 2000/2000 [04:17<00:00,  7.76 step/s, accuracy=0.89, loss=0.33, step=98000]\n",
      "Valid:  99% 5632/5667 [00:03<00:00, 1579.43 uttr/s, accuracy=0.89, loss=0.58]\n",
      "Train: 100% 2000/2000 [04:17<00:00,  7.76 step/s, accuracy=0.91, loss=0.38, step=1e+5]\n",
      "Valid:  99% 5632/5667 [00:03<00:00, 1600.05 uttr/s, accuracy=0.88, loss=0.57]\n",
      "Train:   0% 0/2000 [00:00<?, ? step/s]\n"
     ]
    },
    {
     "name": "stdout",
     "output_type": "stream",
     "text": [
      "Step 100000, best model saved. (accuracy=0.8871)\n"
     ]
    }
   ],
   "source": [
    "from tqdm import tqdm\n",
    "\n",
    "import torch\n",
    "import torch.nn as nn\n",
    "from torch.optim import AdamW\n",
    "from torch.utils.data import DataLoader, random_split\n",
    "\n",
    "def parse_args():\n",
    "\t\"\"\"arguments\"\"\"\n",
    "\tconfig = {\n",
    "\t\t\"data_dir\": \"./Dataset\",\n",
    "\t\t\"save_path\": \"model3.ckpt\",\n",
    "\t\t\"batch_size\": 256,\n",
    "\t\t\"n_workers\": 8,\n",
    "\t\t\"valid_steps\": 2000,\n",
    "\t\t\"warmup_steps\": 1000,\n",
    "\t\t\"save_steps\": 10000,\n",
    "\t\t\"total_steps\": 100000,\n",
    "\t}\n",
    "\n",
    "\treturn config\n",
    "\n",
    "\n",
    "def main(\n",
    "\tdata_dir,\n",
    "\tsave_path,\n",
    "\tbatch_size,\n",
    "\tn_workers,\n",
    "\tvalid_steps,\n",
    "\twarmup_steps,\n",
    "\ttotal_steps,\n",
    "\tsave_steps,\n",
    "):\n",
    "\t\"\"\"Main function.\"\"\"\n",
    "\tdevice = torch.device(\"cuda\" if torch.cuda.is_available() else \"cpu\")\n",
    "\tprint(f\"[Info]: Use {device} now!\")\n",
    "\n",
    "\ttrain_loader, valid_loader, speaker_num = get_dataloader(data_dir, batch_size, n_workers)\n",
    "\ttrain_iterator = iter(train_loader)\n",
    "\tprint(f\"[Info]: Finish loading data!\",flush = True)\n",
    "\n",
    "\tmodel = Classifier(d_model=80, n_spks=600, dropout=0.15).to(device)\n",
    "\tcriterion = nn.CrossEntropyLoss()\n",
    "    #criterion = AMSoftmax()\n",
    "\t#criterion = GE2ELoss()\n",
    "\toptimizer = AdamW(model.parameters(), lr=1e-3)\n",
    "\tscheduler = get_cosine_schedule_with_warmup(optimizer, warmup_steps, total_steps)\n",
    "\tprint(f\"[Info]: Finish creating model!\",flush = True)\n",
    "\n",
    "\tbest_accuracy = -1.0\n",
    "\tbest_state_dict = None\n",
    "\n",
    "\tpbar = tqdm(total=valid_steps, ncols=0, desc=\"Train\", unit=\" step\")\n",
    "\n",
    "\tfor step in range(total_steps):\n",
    "\t\t# Get data\n",
    "\t\ttry:\n",
    "\t\t\tbatch = next(train_iterator)\n",
    "\t\texcept StopIteration:\n",
    "\t\t\ttrain_iterator = iter(train_loader)\n",
    "\t\t\tbatch = next(train_iterator)\n",
    "\n",
    "\t\tloss, accuracy = model_fn(batch, model, criterion, device)\n",
    "\t\tbatch_loss = loss.item()\n",
    "\t\tbatch_accuracy = accuracy.item()\n",
    "\n",
    "\t\t# Updata model\n",
    "\t\tloss.backward()\n",
    "\t\toptimizer.step()\n",
    "\t\tscheduler.step()\n",
    "\t\toptimizer.zero_grad()\n",
    "\n",
    "\t\t# Log\n",
    "\t\tpbar.update()\n",
    "\t\tpbar.set_postfix(\n",
    "\t\t\tloss=f\"{batch_loss:.2f}\",\n",
    "\t\t\taccuracy=f\"{batch_accuracy:.2f}\",\n",
    "\t\t\tstep=step + 1,\n",
    "\t\t)\n",
    "\n",
    "\t\t# Do validation\n",
    "\t\tif (step + 1) % valid_steps == 0:\n",
    "\t\t\tpbar.close()\n",
    "\n",
    "\t\t\tvalid_accuracy = valid(valid_loader, model, criterion, device)\n",
    "\n",
    "\t\t\t# keep the best model\n",
    "\t\t\tif valid_accuracy > best_accuracy:\n",
    "\t\t\t\tbest_accuracy = valid_accuracy\n",
    "\t\t\t\tbest_state_dict = model.state_dict()\n",
    "\n",
    "\t\t\tpbar = tqdm(total=valid_steps, ncols=0, desc=\"Train\", unit=\" step\")\n",
    "\n",
    "\t\t# Save the best model so far.\n",
    "\t\tif (step + 1) % save_steps == 0 and best_state_dict is not None:\n",
    "\t\t\ttorch.save(best_state_dict, save_path)\n",
    "\t\t\tpbar.write(f\"Step {step + 1}, best model saved. (accuracy={best_accuracy:.4f})\")\n",
    "\n",
    "\tpbar.close()\n",
    "\n",
    "\n",
    "if __name__ == \"__main__\":\n",
    "\tmain(**parse_args())"
   ]
  },
  {
   "cell_type": "markdown",
   "id": "18c064e4",
   "metadata": {
    "id": "NLatBYAhNNMx",
    "papermill": {
     "duration": 9.523834,
     "end_time": "2023-03-23T05:36:37.887244",
     "exception": false,
     "start_time": "2023-03-23T05:36:28.363410",
     "status": "completed"
    },
    "tags": []
   },
   "source": [
    "# Inference\n",
    "\n",
    "## Dataset of inference"
   ]
  },
  {
   "cell_type": "code",
   "execution_count": 12,
   "id": "6558ffb8",
   "metadata": {
    "execution": {
     "iopub.execute_input": "2023-03-23T05:36:55.999095Z",
     "iopub.status.busy": "2023-03-23T05:36:55.998678Z",
     "iopub.status.idle": "2023-03-23T05:36:56.009623Z",
     "shell.execute_reply": "2023-03-23T05:36:56.008402Z"
    },
    "id": "efS4pCmAJXJH",
    "papermill": {
     "duration": 9.105974,
     "end_time": "2023-03-23T05:36:56.012474",
     "exception": false,
     "start_time": "2023-03-23T05:36:46.906500",
     "status": "completed"
    },
    "tags": []
   },
   "outputs": [],
   "source": [
    "import os\n",
    "import json\n",
    "import torch\n",
    "from pathlib import Path\n",
    "from torch.utils.data import Dataset\n",
    "\n",
    "\n",
    "class InferenceDataset(Dataset):\n",
    "\tdef __init__(self, data_dir):\n",
    "\t\ttestdata_path = Path(data_dir) / \"testdata.json\"\n",
    "\t\tmetadata = json.load(testdata_path.open())\n",
    "\t\tself.data_dir = data_dir\n",
    "\t\tself.data = metadata[\"utterances\"]\n",
    "\n",
    "\tdef __len__(self):\n",
    "\t\treturn len(self.data)\n",
    "\n",
    "\tdef __getitem__(self, index):\n",
    "\t\tutterance = self.data[index]\n",
    "\t\tfeat_path = utterance[\"feature_path\"]\n",
    "\t\tmel = torch.load(os.path.join(self.data_dir, feat_path))\n",
    "\n",
    "\t\treturn feat_path, mel\n",
    "\n",
    "\n",
    "def inference_collate_batch(batch):\n",
    "\t\"\"\"Collate a batch of data.\"\"\"\n",
    "\tfeat_paths, mels = zip(*batch)\n",
    "\n",
    "\treturn feat_paths, torch.stack(mels)"
   ]
  },
  {
   "cell_type": "markdown",
   "id": "6ada4ad9",
   "metadata": {
    "id": "tl0WnYwxNK_S",
    "papermill": {
     "duration": 9.048587,
     "end_time": "2023-03-23T05:37:14.413831",
     "exception": false,
     "start_time": "2023-03-23T05:37:05.365244",
     "status": "completed"
    },
    "tags": []
   },
   "source": [
    "## Main funcrion of Inference"
   ]
  },
  {
   "cell_type": "code",
   "execution_count": 13,
   "id": "a2f9ed58",
   "metadata": {
    "execution": {
     "iopub.execute_input": "2023-03-23T05:37:32.743673Z",
     "iopub.status.busy": "2023-03-23T05:37:32.743098Z",
     "iopub.status.idle": "2023-03-23T05:38:17.327447Z",
     "shell.execute_reply": "2023-03-23T05:38:17.326304Z"
    },
    "id": "i8SAbuXEJb2A",
    "outputId": "3808f409-19c9-426c-dc15-1b88b0c21645",
    "papermill": {
     "duration": 53.978475,
     "end_time": "2023-03-23T05:38:17.329843",
     "exception": false,
     "start_time": "2023-03-23T05:37:23.351368",
     "status": "completed"
    },
    "tags": []
   },
   "outputs": [
    {
     "name": "stdout",
     "output_type": "stream",
     "text": [
      "[Info]: Use cuda now!\n",
      "[Info]: Finish loading data!\n",
      "[Info]: Finish creating model!\n"
     ]
    },
    {
     "data": {
      "application/vnd.jupyter.widget-view+json": {
       "model_id": "557086e2e8364ebd8632ebb520f2a6a4",
       "version_major": 2,
       "version_minor": 0
      },
      "text/plain": [
       "  0%|          | 0/8000 [00:00<?, ?it/s]"
      ]
     },
     "metadata": {},
     "output_type": "display_data"
    },
    {
     "name": "stderr",
     "output_type": "stream",
     "text": [
      "/opt/conda/lib/python3.7/site-packages/ipykernel_launcher.py:28: UserWarning: Implicit dimension choice for softmax has been deprecated. Change the call to include dim=X as an argument.\n"
     ]
    }
   ],
   "source": [
    "import json\n",
    "import csv\n",
    "from pathlib import Path\n",
    "from tqdm.notebook import tqdm\n",
    "\n",
    "import torch\n",
    "from torch.utils.data import DataLoader\n",
    "\n",
    "def parse_args():\n",
    "\t\"\"\"arguments\"\"\"\n",
    "\tconfig = {\n",
    "\t\t\"data_dir\": \"./Dataset\",\n",
    "\t\t\"model_path\": \"model3.ckpt\",\n",
    "\t\t\"output_path\": \"output3.csv\",\n",
    "\t}\n",
    "\n",
    "\treturn config\n",
    "\n",
    "\n",
    "def main(\n",
    "\tdata_dir,\n",
    "\tmodel_path,\n",
    "\toutput_path,\n",
    "):\n",
    "\t\"\"\"Main function.\"\"\"\n",
    "\tdevice = torch.device(\"cuda\" if torch.cuda.is_available() else \"cpu\")\n",
    "\tprint(f\"[Info]: Use {device} now!\")\n",
    "\n",
    "\tmapping_path = Path(data_dir) / \"mapping.json\"\n",
    "\tmapping = json.load(mapping_path.open())\n",
    "\n",
    "\tdataset = InferenceDataset(data_dir)\n",
    "\tdataloader = DataLoader(\n",
    "\t\tdataset,\n",
    "\t\tbatch_size=1,\n",
    "\t\tshuffle=False,\n",
    "\t\tdrop_last=False,\n",
    "\t\tnum_workers=8,\n",
    "\t\tcollate_fn=inference_collate_batch,\n",
    "\t)\n",
    "\tprint(f\"[Info]: Finish loading data!\",flush = True)\n",
    "\n",
    "\tspeaker_num = len(mapping[\"id2speaker\"])\n",
    "\tmodel = Classifier(n_spks=speaker_num).to(device)\n",
    "\tmodel.load_state_dict(torch.load(model_path))\n",
    "\tmodel.eval()\n",
    "\tprint(f\"[Info]: Finish creating model!\",flush = True)\n",
    "\n",
    "\tresults = [[\"Id\", \"Category\"]]\n",
    "\tfor feat_paths, mels in tqdm(dataloader):\n",
    "\t\twith torch.no_grad():\n",
    "\t\t\tmels = mels.to(device)\n",
    "\t\t\touts = model(mels)\n",
    "\t\t\tpreds = outs.argmax(1).cpu().numpy()\n",
    "\t\t\tfor feat_path, pred in zip(feat_paths, preds):\n",
    "\t\t\t\tresults.append([feat_path, mapping[\"id2speaker\"][str(pred)]])\n",
    "\n",
    "\twith open(output_path, 'w', newline='') as csvfile:\n",
    "\t\twriter = csv.writer(csvfile)\n",
    "\t\twriter.writerows(results)\n",
    "\n",
    "\n",
    "if __name__ == \"__main__\":\n",
    "\tmain(**parse_args())"
   ]
  }
 ],
 "metadata": {
  "kernelspec": {
   "display_name": "Python 3",
   "language": "python",
   "name": "python3"
  },
  "language_info": {
   "codemirror_mode": {
    "name": "ipython",
    "version": 3
   },
   "file_extension": ".py",
   "mimetype": "text/x-python",
   "name": "python",
   "nbconvert_exporter": "python",
   "pygments_lexer": "ipython3",
   "version": "3.7.12"
  },
  "papermill": {
   "default_parameters": {},
   "duration": 13092.822128,
   "end_time": "2023-03-23T05:38:28.937792",
   "environment_variables": {},
   "exception": null,
   "input_path": "__notebook__.ipynb",
   "output_path": "__notebook__.ipynb",
   "parameters": {},
   "start_time": "2023-03-23T02:00:16.115664",
   "version": "2.4.0"
  },
  "widgets": {
   "application/vnd.jupyter.widget-state+json": {
    "state": {
     "2bd399d4141f4006a11f00fa513df55a": {
      "model_module": "@jupyter-widgets/base",
      "model_module_version": "1.2.0",
      "model_name": "LayoutModel",
      "state": {
       "_model_module": "@jupyter-widgets/base",
       "_model_module_version": "1.2.0",
       "_model_name": "LayoutModel",
       "_view_count": null,
       "_view_module": "@jupyter-widgets/base",
       "_view_module_version": "1.2.0",
       "_view_name": "LayoutView",
       "align_content": null,
       "align_items": null,
       "align_self": null,
       "border": null,
       "bottom": null,
       "display": null,
       "flex": null,
       "flex_flow": null,
       "grid_area": null,
       "grid_auto_columns": null,
       "grid_auto_flow": null,
       "grid_auto_rows": null,
       "grid_column": null,
       "grid_gap": null,
       "grid_row": null,
       "grid_template_areas": null,
       "grid_template_columns": null,
       "grid_template_rows": null,
       "height": null,
       "justify_content": null,
       "justify_items": null,
       "left": null,
       "margin": null,
       "max_height": null,
       "max_width": null,
       "min_height": null,
       "min_width": null,
       "object_fit": null,
       "object_position": null,
       "order": null,
       "overflow": null,
       "overflow_x": null,
       "overflow_y": null,
       "padding": null,
       "right": null,
       "top": null,
       "visibility": null,
       "width": null
      }
     },
     "3b67c108021146f78c85f13a0227b28e": {
      "model_module": "@jupyter-widgets/controls",
      "model_module_version": "1.5.0",
      "model_name": "HTMLModel",
      "state": {
       "_dom_classes": [],
       "_model_module": "@jupyter-widgets/controls",
       "_model_module_version": "1.5.0",
       "_model_name": "HTMLModel",
       "_view_count": null,
       "_view_module": "@jupyter-widgets/controls",
       "_view_module_version": "1.5.0",
       "_view_name": "HTMLView",
       "description": "",
       "description_tooltip": null,
       "layout": "IPY_MODEL_458b9b7587ae4f8cbdd5eaa0a558a2ba",
       "placeholder": "​",
       "style": "IPY_MODEL_558614f4ea5d442eb765b54062d26665",
       "value": "100%"
      }
     },
     "40cf0f095dc0481ba4942fd56a18ea3d": {
      "model_module": "@jupyter-widgets/controls",
      "model_module_version": "1.5.0",
      "model_name": "FloatProgressModel",
      "state": {
       "_dom_classes": [],
       "_model_module": "@jupyter-widgets/controls",
       "_model_module_version": "1.5.0",
       "_model_name": "FloatProgressModel",
       "_view_count": null,
       "_view_module": "@jupyter-widgets/controls",
       "_view_module_version": "1.5.0",
       "_view_name": "ProgressView",
       "bar_style": "success",
       "description": "",
       "description_tooltip": null,
       "layout": "IPY_MODEL_2bd399d4141f4006a11f00fa513df55a",
       "max": 8000,
       "min": 0,
       "orientation": "horizontal",
       "style": "IPY_MODEL_9edbb0618e0342cfa2b9d93f580f1fd7",
       "value": 8000
      }
     },
     "458b9b7587ae4f8cbdd5eaa0a558a2ba": {
      "model_module": "@jupyter-widgets/base",
      "model_module_version": "1.2.0",
      "model_name": "LayoutModel",
      "state": {
       "_model_module": "@jupyter-widgets/base",
       "_model_module_version": "1.2.0",
       "_model_name": "LayoutModel",
       "_view_count": null,
       "_view_module": "@jupyter-widgets/base",
       "_view_module_version": "1.2.0",
       "_view_name": "LayoutView",
       "align_content": null,
       "align_items": null,
       "align_self": null,
       "border": null,
       "bottom": null,
       "display": null,
       "flex": null,
       "flex_flow": null,
       "grid_area": null,
       "grid_auto_columns": null,
       "grid_auto_flow": null,
       "grid_auto_rows": null,
       "grid_column": null,
       "grid_gap": null,
       "grid_row": null,
       "grid_template_areas": null,
       "grid_template_columns": null,
       "grid_template_rows": null,
       "height": null,
       "justify_content": null,
       "justify_items": null,
       "left": null,
       "margin": null,
       "max_height": null,
       "max_width": null,
       "min_height": null,
       "min_width": null,
       "object_fit": null,
       "object_position": null,
       "order": null,
       "overflow": null,
       "overflow_x": null,
       "overflow_y": null,
       "padding": null,
       "right": null,
       "top": null,
       "visibility": null,
       "width": null
      }
     },
     "557086e2e8364ebd8632ebb520f2a6a4": {
      "model_module": "@jupyter-widgets/controls",
      "model_module_version": "1.5.0",
      "model_name": "HBoxModel",
      "state": {
       "_dom_classes": [],
       "_model_module": "@jupyter-widgets/controls",
       "_model_module_version": "1.5.0",
       "_model_name": "HBoxModel",
       "_view_count": null,
       "_view_module": "@jupyter-widgets/controls",
       "_view_module_version": "1.5.0",
       "_view_name": "HBoxView",
       "box_style": "",
       "children": [
        "IPY_MODEL_3b67c108021146f78c85f13a0227b28e",
        "IPY_MODEL_40cf0f095dc0481ba4942fd56a18ea3d",
        "IPY_MODEL_fcdb89a89d4a4af19c341070b696d846"
       ],
       "layout": "IPY_MODEL_b58f0525798c46e399874a1c497b19a4"
      }
     },
     "558614f4ea5d442eb765b54062d26665": {
      "model_module": "@jupyter-widgets/controls",
      "model_module_version": "1.5.0",
      "model_name": "DescriptionStyleModel",
      "state": {
       "_model_module": "@jupyter-widgets/controls",
       "_model_module_version": "1.5.0",
       "_model_name": "DescriptionStyleModel",
       "_view_count": null,
       "_view_module": "@jupyter-widgets/base",
       "_view_module_version": "1.2.0",
       "_view_name": "StyleView",
       "description_width": ""
      }
     },
     "8a984ec30d1a48e2acfd1b451607792e": {
      "model_module": "@jupyter-widgets/base",
      "model_module_version": "1.2.0",
      "model_name": "LayoutModel",
      "state": {
       "_model_module": "@jupyter-widgets/base",
       "_model_module_version": "1.2.0",
       "_model_name": "LayoutModel",
       "_view_count": null,
       "_view_module": "@jupyter-widgets/base",
       "_view_module_version": "1.2.0",
       "_view_name": "LayoutView",
       "align_content": null,
       "align_items": null,
       "align_self": null,
       "border": null,
       "bottom": null,
       "display": null,
       "flex": null,
       "flex_flow": null,
       "grid_area": null,
       "grid_auto_columns": null,
       "grid_auto_flow": null,
       "grid_auto_rows": null,
       "grid_column": null,
       "grid_gap": null,
       "grid_row": null,
       "grid_template_areas": null,
       "grid_template_columns": null,
       "grid_template_rows": null,
       "height": null,
       "justify_content": null,
       "justify_items": null,
       "left": null,
       "margin": null,
       "max_height": null,
       "max_width": null,
       "min_height": null,
       "min_width": null,
       "object_fit": null,
       "object_position": null,
       "order": null,
       "overflow": null,
       "overflow_x": null,
       "overflow_y": null,
       "padding": null,
       "right": null,
       "top": null,
       "visibility": null,
       "width": null
      }
     },
     "9edbb0618e0342cfa2b9d93f580f1fd7": {
      "model_module": "@jupyter-widgets/controls",
      "model_module_version": "1.5.0",
      "model_name": "ProgressStyleModel",
      "state": {
       "_model_module": "@jupyter-widgets/controls",
       "_model_module_version": "1.5.0",
       "_model_name": "ProgressStyleModel",
       "_view_count": null,
       "_view_module": "@jupyter-widgets/base",
       "_view_module_version": "1.2.0",
       "_view_name": "StyleView",
       "bar_color": null,
       "description_width": ""
      }
     },
     "b58f0525798c46e399874a1c497b19a4": {
      "model_module": "@jupyter-widgets/base",
      "model_module_version": "1.2.0",
      "model_name": "LayoutModel",
      "state": {
       "_model_module": "@jupyter-widgets/base",
       "_model_module_version": "1.2.0",
       "_model_name": "LayoutModel",
       "_view_count": null,
       "_view_module": "@jupyter-widgets/base",
       "_view_module_version": "1.2.0",
       "_view_name": "LayoutView",
       "align_content": null,
       "align_items": null,
       "align_self": null,
       "border": null,
       "bottom": null,
       "display": null,
       "flex": null,
       "flex_flow": null,
       "grid_area": null,
       "grid_auto_columns": null,
       "grid_auto_flow": null,
       "grid_auto_rows": null,
       "grid_column": null,
       "grid_gap": null,
       "grid_row": null,
       "grid_template_areas": null,
       "grid_template_columns": null,
       "grid_template_rows": null,
       "height": null,
       "justify_content": null,
       "justify_items": null,
       "left": null,
       "margin": null,
       "max_height": null,
       "max_width": null,
       "min_height": null,
       "min_width": null,
       "object_fit": null,
       "object_position": null,
       "order": null,
       "overflow": null,
       "overflow_x": null,
       "overflow_y": null,
       "padding": null,
       "right": null,
       "top": null,
       "visibility": null,
       "width": null
      }
     },
     "f353edb00d7e4e41b9a6ddd7cfd35efe": {
      "model_module": "@jupyter-widgets/controls",
      "model_module_version": "1.5.0",
      "model_name": "DescriptionStyleModel",
      "state": {
       "_model_module": "@jupyter-widgets/controls",
       "_model_module_version": "1.5.0",
       "_model_name": "DescriptionStyleModel",
       "_view_count": null,
       "_view_module": "@jupyter-widgets/base",
       "_view_module_version": "1.2.0",
       "_view_name": "StyleView",
       "description_width": ""
      }
     },
     "fcdb89a89d4a4af19c341070b696d846": {
      "model_module": "@jupyter-widgets/controls",
      "model_module_version": "1.5.0",
      "model_name": "HTMLModel",
      "state": {
       "_dom_classes": [],
       "_model_module": "@jupyter-widgets/controls",
       "_model_module_version": "1.5.0",
       "_model_name": "HTMLModel",
       "_view_count": null,
       "_view_module": "@jupyter-widgets/controls",
       "_view_module_version": "1.5.0",
       "_view_name": "HTMLView",
       "description": "",
       "description_tooltip": null,
       "layout": "IPY_MODEL_8a984ec30d1a48e2acfd1b451607792e",
       "placeholder": "​",
       "style": "IPY_MODEL_f353edb00d7e4e41b9a6ddd7cfd35efe",
       "value": " 8000/8000 [00:44&lt;00:00, 186.78it/s]"
      }
     }
    },
    "version_major": 2,
    "version_minor": 0
   }
  }
 },
 "nbformat": 4,
 "nbformat_minor": 5
}
