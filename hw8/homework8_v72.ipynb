{
 "cells": [
  {
   "attachments": {},
   "cell_type": "markdown",
   "id": "27ea3395",
   "metadata": {
    "id": "YiVfKn-6tXz8",
    "papermill": {
     "duration": 0.007292,
     "end_time": "2023-05-03T16:38:01.209168",
     "exception": false,
     "start_time": "2023-05-03T16:38:01.201876",
     "status": "completed"
    },
    "tags": []
   },
   "source": [
    "# **Homework 8 - Anomaly Detection**\n",
    "\n",
    "If there are any questions, please contact mlta-2023-spring@googlegroups.com\n",
    "\n",
    "Slide:    [Link](https://docs.google.com/presentation/d/18LkR8qulwSbi3SVoLl1XNNGjQQ_qczs_35lrJWOmHCk/edit?usp=sharing)　Kaggle: [Link](https://www.kaggle.com/t/c76950cc460140eba30a576ca7668d28)"
   ]
  },
  {
   "attachments": {},
   "cell_type": "markdown",
   "id": "30ef7956",
   "metadata": {
    "id": "bDk9r2YOcDc9",
    "papermill": {
     "duration": 0.005453,
     "end_time": "2023-05-03T16:38:01.221411",
     "exception": false,
     "start_time": "2023-05-03T16:38:01.215958",
     "status": "completed"
    },
    "tags": []
   },
   "source": [
    "# Set up the environment\n"
   ]
  },
  {
   "attachments": {},
   "cell_type": "markdown",
   "id": "5cb7f35a",
   "metadata": {
    "id": "Oi12tJMYWi0Q",
    "papermill": {
     "duration": 0.005354,
     "end_time": "2023-05-03T16:38:01.232653",
     "exception": false,
     "start_time": "2023-05-03T16:38:01.227299",
     "status": "completed"
    },
    "tags": []
   },
   "source": [
    "## Package installation"
   ]
  },
  {
   "cell_type": "code",
   "execution_count": 1,
   "id": "3080a19d",
   "metadata": {
    "execution": {
     "iopub.execute_input": "2023-05-03T16:38:01.247135Z",
     "iopub.status.busy": "2023-05-03T16:38:01.245894Z",
     "iopub.status.idle": "2023-05-03T16:38:15.347586Z",
     "shell.execute_reply": "2023-05-03T16:38:15.346147Z"
    },
    "id": "7LexxyPWWjJB",
    "outputId": "2039780b-43f2-49b5-ffa8-2a0c33ad2d15",
    "papermill": {
     "duration": 14.112451,
     "end_time": "2023-05-03T16:38:15.350923",
     "exception": false,
     "start_time": "2023-05-03T16:38:01.238472",
     "status": "completed"
    },
    "tags": []
   },
   "outputs": [
    {
     "name": "stdout",
     "output_type": "stream",
     "text": [
      "\u001b[33mWARNING: Running pip as the 'root' user can result in broken permissions and conflicting behaviour with the system package manager. It is recommended to use a virtual environment instead: https://pip.pypa.io/warnings/venv\u001b[0m\u001b[33m\r\n",
      "\u001b[0m"
     ]
    }
   ],
   "source": [
    "# Training progress bar\n",
    "!pip install -q qqdm"
   ]
  },
  {
   "attachments": {},
   "cell_type": "markdown",
   "id": "33227f4e",
   "metadata": {
    "id": "DCgNXSsEWuY7",
    "papermill": {
     "duration": 0.006284,
     "end_time": "2023-05-03T16:38:15.364085",
     "exception": false,
     "start_time": "2023-05-03T16:38:15.357801",
     "status": "completed"
    },
    "tags": []
   },
   "source": [
    "## Downloading data"
   ]
  },
  {
   "cell_type": "code",
   "execution_count": 2,
   "id": "bb8b73cc",
   "metadata": {
    "execution": {
     "iopub.execute_input": "2023-05-03T16:38:15.379774Z",
     "iopub.status.busy": "2023-05-03T16:38:15.379303Z",
     "iopub.status.idle": "2023-05-03T16:38:34.982325Z",
     "shell.execute_reply": "2023-05-03T16:38:34.980697Z"
    },
    "papermill": {
     "duration": 19.614731,
     "end_time": "2023-05-03T16:38:34.985404",
     "exception": false,
     "start_time": "2023-05-03T16:38:15.370673",
     "status": "completed"
    },
    "tags": []
   },
   "outputs": [
    {
     "name": "stdout",
     "output_type": "stream",
     "text": [
      "Detected operating system as Ubuntu/focal.\r\n",
      "Checking for curl...\r\n",
      "Detected curl...\r\n",
      "Checking for gpg...\r\n",
      "Detected gpg...\r\n",
      "Detected apt version as 2.0.9\r\n",
      "Running apt-get update... done.\r\n",
      "Installing apt-transport-https... done.\r\n",
      "Installing /etc/apt/sources.list.d/github_git-lfs.list...done.\r\n",
      "Importing packagecloud gpg key... Packagecloud gpg key imported to /etc/apt/keyrings/github_git-lfs-archive-keyring.gpg\r\n",
      "done.\r\n",
      "Running apt-get update... done.\r\n",
      "\r\n",
      "The repository is setup! You can now install packages.\r\n",
      "\r\n",
      "\r\n",
      "\r\n",
      "The following packages will be upgraded:\r\n",
      "  git-lfs\r\n",
      "1 upgraded, 0 newly installed, 0 to remove and 80 not upgraded.\r\n",
      "Need to get 7419 kB of archives.\r\n",
      "After this operation, 4936 kB of additional disk space will be used.\r\n",
      "Get:1 https://packagecloud.io/github/git-lfs/ubuntu focal/main amd64 git-lfs amd64 3.3.0 [7419 kB]\r\n",
      "Fetched 7419 kB in 1s (11.3 MB/s)\r\n",
      "(Reading database ... 111522 files and directories currently installed.)\r\n",
      "Preparing to unpack .../git-lfs_3.3.0_amd64.deb ...\r\n",
      "Unpacking git-lfs (3.3.0) over (2.9.2-1) ...\r\n",
      "Setting up git-lfs (3.3.0) ...\r\n",
      "Git LFS initialized.\r\n",
      "Processing triggers for man-db (2.9.1-1) ...\r\n"
     ]
    }
   ],
   "source": [
    "!curl -s https://packagecloud.io/install/repositories/github/git-lfs/script.deb.sh |  bash\n",
    "!apt-get install -y --allow-unauthenticated git-lfs"
   ]
  },
  {
   "cell_type": "code",
   "execution_count": 3,
   "id": "3be9085b",
   "metadata": {
    "execution": {
     "iopub.execute_input": "2023-05-03T16:38:35.005855Z",
     "iopub.status.busy": "2023-05-03T16:38:35.004747Z",
     "iopub.status.idle": "2023-05-03T16:38:36.402156Z",
     "shell.execute_reply": "2023-05-03T16:38:36.400607Z"
    },
    "papermill": {
     "duration": 1.410504,
     "end_time": "2023-05-03T16:38:36.405107",
     "exception": false,
     "start_time": "2023-05-03T16:38:34.994603",
     "status": "completed"
    },
    "tags": []
   },
   "outputs": [
    {
     "name": "stdout",
     "output_type": "stream",
     "text": [
      "Cloning into 'ml2023spring-hw8'...\r\n",
      "remote: Enumerating objects: 11, done.\u001b[K\r\n",
      "remote: Counting objects: 100% (11/11), done.\u001b[K\r\n",
      "remote: Compressing objects: 100% (10/10), done.\u001b[K\r\n",
      "remote: Total 11 (delta 2), reused 8 (delta 0), pack-reused 0\u001b[K\r\n",
      "Receiving objects: 100% (11/11), done.\r\n",
      "Resolving deltas: 100% (2/2), done.\r\n"
     ]
    }
   ],
   "source": [
    "!git clone https://github.com/chiyuanhsiao/ml2023spring-hw8"
   ]
  },
  {
   "cell_type": "code",
   "execution_count": 4,
   "id": "5125adc6",
   "metadata": {
    "execution": {
     "iopub.execute_input": "2023-05-03T16:38:36.426595Z",
     "iopub.status.busy": "2023-05-03T16:38:36.426165Z",
     "iopub.status.idle": "2023-05-03T16:39:06.950153Z",
     "shell.execute_reply": "2023-05-03T16:39:06.948697Z"
    },
    "id": "e-yCMrIl4L60",
    "outputId": "7a5c329a-933e-4564-8423-b11469700577",
    "papermill": {
     "duration": 30.537492,
     "end_time": "2023-05-03T16:39:06.952948",
     "exception": false,
     "start_time": "2023-05-03T16:38:36.415456",
     "status": "completed"
    },
    "tags": []
   },
   "outputs": [
    {
     "name": "stdout",
     "output_type": "stream",
     "text": [
      "/kaggle/working/ml2023spring-hw8\n",
      "Updated Git hooks.\r\n",
      "Git LFS initialized.\r\n",
      "Downloading LFS objects: 100% (2/2), 1.5 GB | 93 MB/s                           \r"
     ]
    }
   ],
   "source": [
    "%cd ./ml2023spring-hw8\n",
    "!git lfs install\n",
    "!git lfs pull"
   ]
  },
  {
   "attachments": {},
   "cell_type": "markdown",
   "id": "9d71c522",
   "metadata": {
    "id": "HNe7QU7n7cqh",
    "papermill": {
     "duration": 0.012627,
     "end_time": "2023-05-03T16:39:06.979155",
     "exception": false,
     "start_time": "2023-05-03T16:39:06.966528",
     "status": "completed"
    },
    "tags": []
   },
   "source": [
    "# Import packages"
   ]
  },
  {
   "cell_type": "code",
   "execution_count": 5,
   "id": "21c3fe9e",
   "metadata": {
    "execution": {
     "iopub.execute_input": "2023-05-03T16:39:07.008237Z",
     "iopub.status.busy": "2023-05-03T16:39:07.007054Z",
     "iopub.status.idle": "2023-05-03T16:39:10.065913Z",
     "shell.execute_reply": "2023-05-03T16:39:10.064691Z"
    },
    "id": "Jk3qFK_a7k8P",
    "papermill": {
     "duration": 3.076084,
     "end_time": "2023-05-03T16:39:10.068698",
     "exception": false,
     "start_time": "2023-05-03T16:39:06.992614",
     "status": "completed"
    },
    "tags": []
   },
   "outputs": [],
   "source": [
    "import random\n",
    "import numpy as np\n",
    "import torch\n",
    "from torch import nn\n",
    "from torch.utils.data import DataLoader, RandomSampler, SequentialSampler, TensorDataset\n",
    "import torchvision.transforms as transforms\n",
    "import torch.nn.functional as F\n",
    "from torch.autograd import Variable\n",
    "import torchvision.models as models\n",
    "from torch.optim import Adam, AdamW\n",
    "from qqdm import qqdm, format_str\n",
    "import pandas as pd\n",
    "from torchvision.transforms.functional import crop"
   ]
  },
  {
   "attachments": {},
   "cell_type": "markdown",
   "id": "cba995c1",
   "metadata": {
    "id": "6X6fkGPnYyaF",
    "papermill": {
     "duration": 0.013025,
     "end_time": "2023-05-03T16:39:10.095064",
     "exception": false,
     "start_time": "2023-05-03T16:39:10.082039",
     "status": "completed"
    },
    "tags": []
   },
   "source": [
    "# Loading data"
   ]
  },
  {
   "cell_type": "code",
   "execution_count": 6,
   "id": "309ace4a",
   "metadata": {
    "execution": {
     "iopub.execute_input": "2023-05-03T16:39:10.123784Z",
     "iopub.status.busy": "2023-05-03T16:39:10.123143Z",
     "iopub.status.idle": "2023-05-03T16:39:10.678189Z",
     "shell.execute_reply": "2023-05-03T16:39:10.676929Z"
    },
    "id": "k7Wd4yiUYzAm",
    "outputId": "d8b80f1e-cbc4-4ed9-c95c-b2e3fb561f23",
    "papermill": {
     "duration": 0.572509,
     "end_time": "2023-05-03T16:39:10.680934",
     "exception": false,
     "start_time": "2023-05-03T16:39:10.108425",
     "status": "completed"
    },
    "tags": []
   },
   "outputs": [
    {
     "name": "stdout",
     "output_type": "stream",
     "text": [
      "(100000, 64, 64, 3)\n",
      "(19636, 64, 64, 3)\n"
     ]
    }
   ],
   "source": [
    "train = np.load('./ml2023spring-hw8/trainingset.npy', allow_pickle=True)\n",
    "test = np.load('./ml2023spring-hw8/testingset.npy', allow_pickle=True)\n",
    "\n",
    "print(train.shape)\n",
    "print(test.shape)"
   ]
  },
  {
   "attachments": {},
   "cell_type": "markdown",
   "id": "a4b784af",
   "metadata": {
    "id": "_flpmj6OYIa6",
    "papermill": {
     "duration": 0.013156,
     "end_time": "2023-05-03T16:39:10.707615",
     "exception": false,
     "start_time": "2023-05-03T16:39:10.694459",
     "status": "completed"
    },
    "tags": []
   },
   "source": [
    "## Random seed\n",
    "Set the random seed to a certain value for reproducibility."
   ]
  },
  {
   "cell_type": "code",
   "execution_count": 7,
   "id": "8f645e16",
   "metadata": {
    "execution": {
     "iopub.execute_input": "2023-05-03T16:39:10.736560Z",
     "iopub.status.busy": "2023-05-03T16:39:10.735449Z",
     "iopub.status.idle": "2023-05-03T16:39:10.808989Z",
     "shell.execute_reply": "2023-05-03T16:39:10.807423Z"
    },
    "id": "Gb-dgXQYYI2Q",
    "papermill": {
     "duration": 0.091451,
     "end_time": "2023-05-03T16:39:10.812132",
     "exception": false,
     "start_time": "2023-05-03T16:39:10.720681",
     "status": "completed"
    },
    "tags": []
   },
   "outputs": [],
   "source": [
    "def same_seeds(seed):\n",
    "    random.seed(seed)\n",
    "    np.random.seed(seed)\n",
    "    torch.manual_seed(seed)\n",
    "    if torch.cuda.is_available():\n",
    "        torch.cuda.manual_seed(seed)\n",
    "        torch.cuda.manual_seed_all(seed)\n",
    "    torch.backends.cudnn.benchmark = False\n",
    "    torch.backends.cudnn.deterministic = True\n",
    "\n",
    "same_seeds(48763)"
   ]
  },
  {
   "attachments": {},
   "cell_type": "markdown",
   "id": "5a464834",
   "metadata": {
    "id": "zR9zC0_Df-CR",
    "papermill": {
     "duration": 0.012819,
     "end_time": "2023-05-03T16:39:10.837763",
     "exception": false,
     "start_time": "2023-05-03T16:39:10.824944",
     "status": "completed"
    },
    "tags": []
   },
   "source": [
    "# Autoencoder"
   ]
  },
  {
   "attachments": {},
   "cell_type": "markdown",
   "id": "4ab0d858",
   "metadata": {
    "id": "1EbfwRREhA7c",
    "papermill": {
     "duration": 0.012574,
     "end_time": "2023-05-03T16:39:10.863666",
     "exception": false,
     "start_time": "2023-05-03T16:39:10.851092",
     "status": "completed"
    },
    "tags": []
   },
   "source": [
    "# Models & loss"
   ]
  },
  {
   "cell_type": "code",
   "execution_count": 8,
   "id": "32968235",
   "metadata": {
    "execution": {
     "iopub.execute_input": "2023-05-03T16:39:10.892468Z",
     "iopub.status.busy": "2023-05-03T16:39:10.892067Z",
     "iopub.status.idle": "2023-05-03T16:39:10.926148Z",
     "shell.execute_reply": "2023-05-03T16:39:10.924971Z"
    },
    "id": "Wi8ds1fugCkR",
    "papermill": {
     "duration": 0.052506,
     "end_time": "2023-05-03T16:39:10.929261",
     "exception": false,
     "start_time": "2023-05-03T16:39:10.876755",
     "status": "completed"
    },
    "tags": []
   },
   "outputs": [],
   "source": [
    "class fcn_autoencoder(nn.Module):\n",
    "    def __init__(self):\n",
    "        super(fcn_autoencoder, self).__init__()\n",
    "        self.encoder = nn.Sequential(\n",
    "            nn.Linear(64 * 64 * 3, 1024),\n",
    "            nn.BatchNorm1d(1024),\n",
    "            nn.PReLU(),\n",
    "            nn.Linear(1024, 32),\n",
    "            #nn.BatchNorm1d(512),\n",
    "            #nn.PReLU(), \n",
    "            #nn.Linear(512, 256), \n",
    "            #nn.BatchNorm1d(256),\n",
    "            #nn.PReLU(), \n",
    "            #nn.Linear(256, 32),\n",
    "            # nn.ReLU(), \n",
    "            # nn.Linear(24, 12)\n",
    "        )    # Hint: dimension of latent space can be adjusted\n",
    "        \n",
    "        self.decoder = nn.Sequential(\n",
    "            # nn.Linear(12, 24),\n",
    "            # nn.ReLU(), \n",
    "            nn.Linear(32, 1024),\n",
    "            nn.BatchNorm1d(1024),\n",
    "            nn.PReLU(), \n",
    "            nn.Linear(1024, 64*64*3),\n",
    "            #nn.BatchNorm1d(512),\n",
    "            #nn.PReLU(),\n",
    "            #nn.Linear(512, 1024),\n",
    "            #nn.BatchNorm1d(1024),\n",
    "            #nn.PReLU(),\n",
    "            #nn.Linear(1024, 64 * 64 * 3), \n",
    "            nn.Tanh()\n",
    "        )\n",
    "\n",
    "    def forward(self, x):\n",
    "        x = self.encoder(x)\n",
    "        x = self.decoder(x)\n",
    "        return x\n",
    "# Output = ((I-K+2P)/S + 1), where\n",
    "# I - a size of input neuron,\n",
    "# K - kernel size,\n",
    "# P - padding,\n",
    "# S - stride.”\n",
    "# “𝑊′=(𝑊−𝐹+2𝑃/𝑆)+1”\n",
    "#  ((512-4+2*1)/2+1)=\n",
    "class cnnfcn_autoencoder(nn.Module):\n",
    "    def __init__(self):\n",
    "        super(cnnfcn_autoencoder, self).__init__()\n",
    "        self.encoder = nn.Sequential(\n",
    "            #nn.Linear(64 * 64 * 3, 768),\n",
    "            #nn.BatchNorm1d(768),\n",
    "            #nn.PReLU(),\n",
    "            nn.Conv2d(3, 128, 4, stride=2, padding=1), \n",
    "            nn.BatchNorm2d(128),\n",
    "            nn.PReLU(),\n",
    "            nn.Conv2d(128, 256, 4, stride=2, padding=1), \n",
    "            nn.BatchNorm2d(256),\n",
    "            nn.PReLU(),\n",
    "            nn.Conv2d(256, 512, 4, stride=2, padding=1),   \n",
    "            nn.BatchNorm2d(512),\n",
    "            nn.PReLU(),\n",
    "#             nn.MaxPool2d(kernel_size=4, stride=2),\n",
    "            #nn.BatchNorm1d(512),\n",
    "            #nn.PReLU(), \n",
    "            #nn.Linear(512, 256), \n",
    "            #nn.BatchNorm1d(256),\n",
    "            #nn.PReLU(), \n",
    "            #nn.Linear(256, 32),\n",
    "            # nn.ReLU(), \n",
    "            # nn.Linear(24, 12)\n",
    "        )    # Hint: dimension of latent space can be adjusted\n",
    "        self.encoder2 = nn.Sequential(\n",
    "            nn.Linear(64 * 64 * 512, 1024),\n",
    "            nn.BatchNorm1d(1024),\n",
    "            nn.PReLU(),\n",
    "            nn.Linear(1024, 32),\n",
    "            \n",
    "        )\n",
    "        self.decoder2 = nn.Sequential(\n",
    "            nn.Linear(32, 1024),\n",
    "            nn.BatchNorm1d(1024),\n",
    "            nn.PReLU(),\n",
    "            nn.Linear(1024, 64 * 64 * 3),\n",
    "            nn.Tanh(),\n",
    "        )\n",
    "        self.decoder1 = nn.Sequential(\n",
    "            # nn.Linear(12, 24),\n",
    "            # nn.ReLU(), \n",
    "            nn.ConvTranspose2d(512, 256, 4, stride=2, padding=1),\n",
    "            nn.BatchNorm2d(256),\n",
    "            nn.ReLU(),\n",
    "            nn.ConvTranspose2d(256, 128, 4, stride=2, padding=1), \n",
    "            nn.BatchNorm2d(128),\n",
    "            nn.ReLU(),\n",
    "            nn.ConvTranspose2d(128, 3, 4, stride=2, padding=1),\n",
    "            \n",
    "            #nn.ReLU(),\n",
    "            #nn.ConvTranspose2d(12, 3, 4, stride=2, padding=1),\n",
    "            nn.Tanh(),\n",
    "            #nn.MaxPool2d(kernel_size=4, stride=2)\n",
    "            #nn.BatchNorm1d(512),\n",
    "            #nn.PReLU(),\n",
    "            #nn.Linear(512, 1024),\n",
    "            #nn.BatchNorm1d(1024),\n",
    "            #nn.PReLU(),\n",
    "            #nn.Linear(1024, 64 * 64 * 3), \n",
    "        )\n",
    "\n",
    "    def forward(self, x):\n",
    "        x = self.encoder(x)\n",
    "        #print(x.shape)\n",
    "        #x = self.decoder1(x)\n",
    "        print(x.shape)\n",
    "        x = x.view(-1, 64*64*512)\n",
    "        print(x.shape)\n",
    "        x = self.encoder2(x)\n",
    "        print(x.shape)\n",
    "        x = self.decoder2(x)\n",
    "#         x = x.view(-1,64,64,512)\n",
    "        print(x.shape)\n",
    "#         x = self.decoder1(x)\n",
    "        return x\n",
    "    \n",
    "class conv_autoencoder(nn.Module):\n",
    "    def __init__(self):\n",
    "        super(conv_autoencoder, self).__init__()\n",
    "        self.encoder = nn.Sequential(\n",
    "            nn.Conv2d(3, 128, 4, stride=2, padding=1), \n",
    "            nn.BatchNorm2d(128),\n",
    "            nn.ReLU(),\n",
    "            nn.Conv2d(128, 256, 4, stride=2, padding=1), \n",
    "            nn.BatchNorm2d(256),\n",
    "            nn.ReLU(),\n",
    "            #nn.Conv2d(48, 96, 4, stride=2, padding=1),   # medium: remove this layer\n",
    "            #nn.ReLU(),\n",
    "        )\n",
    "        self.decoder = nn.Sequential(\n",
    "            nn.ConvTranspose2d(256, 128, 4, stride=2, padding=1), \n",
    "            nn.BatchNorm2d(128),\n",
    "            nn.ReLU(),\n",
    "            nn.ConvTranspose2d(128, 3, 4, stride=2, padding=1),\n",
    "            \n",
    "            #nn.ReLU(),\n",
    "            #nn.ConvTranspose2d(12, 3, 4, stride=2, padding=1),\n",
    "            nn.Tanh(),\n",
    "        )\n",
    "\n",
    "    def forward(self, x):\n",
    "        x = self.encoder(x)\n",
    "        x = self.decoder(x)\n",
    "        return x\n",
    "\n",
    "\n",
    "class VAE(nn.Module):\n",
    "    def __init__(self):\n",
    "        super(VAE, self).__init__()\n",
    "        self.encoder = nn.Sequential(\n",
    "            nn.Conv2d(3, 12, 4, stride=2, padding=1),            \n",
    "            nn.ReLU(),\n",
    "            nn.Conv2d(12, 24, 4, stride=2, padding=1),    \n",
    "            nn.ReLU(),\n",
    "        )\n",
    "        self.enc_out_1 = nn.Sequential(\n",
    "            nn.Conv2d(24, 48, 4, stride=2, padding=1),  \n",
    "            nn.ReLU(),\n",
    "        )\n",
    "        self.enc_out_2 = nn.Sequential(\n",
    "            nn.Conv2d(24, 48, 4, stride=2, padding=1),\n",
    "            nn.ReLU(),\n",
    "        )\n",
    "        self.decoder = nn.Sequential(\n",
    "\t\t\t      nn.ConvTranspose2d(48, 24, 4, stride=2, padding=1), \n",
    "            nn.ReLU(),\n",
    "\t\t\t      nn.ConvTranspose2d(24, 12, 4, stride=2, padding=1), \n",
    "            nn.ReLU(),\n",
    "            nn.ConvTranspose2d(12, 3, 4, stride=2, padding=1), \n",
    "            nn.Tanh(),\n",
    "        )\n",
    "\n",
    "    def encode(self, x):\n",
    "        h1 = self.encoder(x)\n",
    "        return self.enc_out_1(h1), self.enc_out_2(h1)\n",
    "\n",
    "    def reparametrize(self, mu, logvar):\n",
    "        std = logvar.mul(0.5).exp_()\n",
    "        if torch.cuda.is_available():\n",
    "            eps = torch.cuda.FloatTensor(std.size()).normal_()\n",
    "        else:\n",
    "            eps = torch.FloatTensor(std.size()).normal_()\n",
    "        eps = Variable(eps)\n",
    "        return eps.mul(std).add_(mu)\n",
    "\n",
    "    def decode(self, z):\n",
    "        return self.decoder(z)\n",
    "\n",
    "    def forward(self, x):\n",
    "        mu, logvar = self.encode(x)\n",
    "        z = self.reparametrize(mu, logvar)\n",
    "        return self.decode(z), mu, logvar\n",
    "\n",
    "\n",
    "def loss_vae(recon_x, x, mu, logvar, criterion):\n",
    "    \"\"\"\n",
    "    recon_x: generating images\n",
    "    x: origin images\n",
    "    mu: latent mean\n",
    "    logvar: latent log variance\n",
    "    \"\"\"\n",
    "    mse = criterion(recon_x, x)\n",
    "    KLD_element = mu.pow(2).add_(logvar.exp()).mul_(-1).add_(1).add_(logvar)\n",
    "    KLD = torch.sum(KLD_element).mul_(-0.5)\n",
    "    return mse + KLD"
   ]
  },
  {
   "attachments": {},
   "cell_type": "markdown",
   "id": "9b925198",
   "metadata": {
    "id": "vrJ9bScg9AgO",
    "papermill": {
     "duration": 0.013589,
     "end_time": "2023-05-03T16:39:10.956131",
     "exception": false,
     "start_time": "2023-05-03T16:39:10.942542",
     "status": "completed"
    },
    "tags": []
   },
   "source": [
    "# Dataset module\n",
    "\n",
    "Module for obtaining and processing data. The transform function here normalizes image's pixels from [0, 255] to [-1.0, 1.0].\n"
   ]
  },
  {
   "cell_type": "code",
   "execution_count": 9,
   "id": "a1f2f144",
   "metadata": {
    "execution": {
     "iopub.execute_input": "2023-05-03T16:39:10.984403Z",
     "iopub.status.busy": "2023-05-03T16:39:10.984023Z",
     "iopub.status.idle": "2023-05-03T16:39:10.992888Z",
     "shell.execute_reply": "2023-05-03T16:39:10.991731Z"
    },
    "id": "33fWhE-h9LPq",
    "papermill": {
     "duration": 0.025915,
     "end_time": "2023-05-03T16:39:10.995191",
     "exception": false,
     "start_time": "2023-05-03T16:39:10.969276",
     "status": "completed"
    },
    "tags": []
   },
   "outputs": [],
   "source": [
    "class CustomTensorDataset(TensorDataset):\n",
    "    \"\"\"TensorDataset with support of transforms.\n",
    "    \"\"\"\n",
    "    def __init__(self, tensors):\n",
    "        self.tensors = tensors\n",
    "        if tensors.shape[-1] == 3:\n",
    "            self.tensors = tensors.permute(0, 3, 1, 2)\n",
    "        # 與r11921a25討論\n",
    "        self.transform = transforms.Compose([\n",
    "            transforms.Lambda(lambda x: x.to(torch.float32)),\n",
    "            transforms.Lambda(lambda x: crop(x,16,14,28,32)),\n",
    "            transforms.Resize((64,64)),\n",
    "            transforms.Lambda(lambda x: 2. * x/255. - 1.),\n",
    "        ])\n",
    "        \n",
    "    def __getitem__(self, index):\n",
    "        x = self.tensors[index]\n",
    "        \n",
    "        if self.transform:\n",
    "            # mapping images to [-1.0, 1.0]\n",
    "            x = self.transform(x)\n",
    "\n",
    "        return x\n",
    "\n",
    "    def __len__(self):\n",
    "        return len(self.tensors)"
   ]
  },
  {
   "attachments": {},
   "cell_type": "markdown",
   "id": "fccf2ecd",
   "metadata": {
    "id": "XKNUImqUhIeq",
    "papermill": {
     "duration": 0.012839,
     "end_time": "2023-05-03T16:39:11.021041",
     "exception": false,
     "start_time": "2023-05-03T16:39:11.008202",
     "status": "completed"
    },
    "tags": []
   },
   "source": [
    "# Training"
   ]
  },
  {
   "attachments": {},
   "cell_type": "markdown",
   "id": "efc88856",
   "metadata": {
    "id": "7ebAJdjFmS08",
    "papermill": {
     "duration": 0.013043,
     "end_time": "2023-05-03T16:39:11.047015",
     "exception": false,
     "start_time": "2023-05-03T16:39:11.033972",
     "status": "completed"
    },
    "tags": []
   },
   "source": [
    "## Configuration\n"
   ]
  },
  {
   "cell_type": "code",
   "execution_count": 10,
   "id": "4bbc589c",
   "metadata": {
    "execution": {
     "iopub.execute_input": "2023-05-03T16:39:11.075805Z",
     "iopub.status.busy": "2023-05-03T16:39:11.074569Z",
     "iopub.status.idle": "2023-05-03T16:39:38.899658Z",
     "shell.execute_reply": "2023-05-03T16:39:38.898416Z"
    },
    "id": "in7yLfmqtZTk",
    "papermill": {
     "duration": 27.842877,
     "end_time": "2023-05-03T16:39:38.902939",
     "exception": false,
     "start_time": "2023-05-03T16:39:11.060062",
     "status": "completed"
    },
    "tags": []
   },
   "outputs": [],
   "source": [
    "# Training hyperparameters\n",
    "num_epochs = 80\n",
    "batch_size = 512\n",
    "learning_rate = 1e-3\n",
    "\n",
    "# Build training dataloader\n",
    "x = torch.from_numpy(train)\n",
    "train_dataset = CustomTensorDataset(x)\n",
    "\n",
    "train_sampler = RandomSampler(train_dataset)\n",
    "train_dataloader = DataLoader(train_dataset, sampler=train_sampler, batch_size=batch_size, num_workers=2, pin_memory=True)\n",
    "\n",
    "# Model\n",
    "model_type = 'fcn'   # selecting a model type from {'cnn', 'fcn', 'vae', 'resnet'}\n",
    "model_classes = {'fcn': fcn_autoencoder(), 'cnn': conv_autoencoder(), 'vae': VAE(), 'cnnfcn' : cnnfcn_autoencoder()}\n",
    "model = model_classes[model_type].cuda()\n",
    "\n",
    "# Loss and optimizer\n",
    "criterion = nn.MSELoss()\n",
    "optimizer = torch.optim.AdamW(model.parameters(), lr=learning_rate)\n",
    "scheduler = torch.optim.lr_scheduler.ReduceLROnPlateau(optimizer, mode='min', patience=2, factor=0.9999)"
   ]
  },
  {
   "attachments": {},
   "cell_type": "markdown",
   "id": "21017847",
   "metadata": {
    "id": "wyooN-JPm8sS",
    "papermill": {
     "duration": 0.012786,
     "end_time": "2023-05-03T16:39:38.929077",
     "exception": false,
     "start_time": "2023-05-03T16:39:38.916291",
     "status": "completed"
    },
    "tags": []
   },
   "source": [
    "## Training loop"
   ]
  },
  {
   "cell_type": "code",
   "execution_count": 11,
   "id": "1b0abca4",
   "metadata": {
    "execution": {
     "iopub.execute_input": "2023-05-03T16:39:38.957288Z",
     "iopub.status.busy": "2023-05-03T16:39:38.956897Z",
     "iopub.status.idle": "2023-05-03T17:12:40.544253Z",
     "shell.execute_reply": "2023-05-03T17:12:40.542812Z"
    },
    "id": "JoW1UrrxgI_U",
    "outputId": "78a74d89-0605-4e57-d99c-f86cf110cda4",
    "papermill": {
     "duration": 1981.604771,
     "end_time": "2023-05-03T17:12:40.546893",
     "exception": false,
     "start_time": "2023-05-03T16:39:38.942122",
     "status": "completed"
    },
    "tags": []
   },
   "outputs": [
    {
     "name": "stderr",
     "output_type": "stream",
     "text": [
      " \u001b[1mIters\u001b[0m    \u001b[1mElapsed Time\u001b[0m      \u001b[1mSpeed\u001b[0m                                               \n",
      " \u001b[99m0/\u001b[93m80\u001b[0m\u001b[0m   \u001b[99m        -        \u001b[0m  \u001b[99m   -    \u001b[0m                                             \n",
      "\u001b[1mDescription\u001b[0m   0.0% |                                                           |"
     ]
    },
    {
     "name": "stdout",
     "output_type": "stream",
     "text": [
      "epoch:1/80,loss: 0.0432\n"
     ]
    },
    {
     "name": "stderr",
     "output_type": "stream",
     "text": [
      "\u001b[K\u001b[F\u001b[K\u001b[F \u001b[1mIters\u001b[0m    \u001b[1mElapsed Time\u001b[0m      \u001b[1mSpeed\u001b[0m    \u001b[1mepoch\u001b[0m   \u001b[1mloss\u001b[0m                               \n",
      " \u001b[99m1/\u001b[93m80\u001b[0m\u001b[0m   \u001b[99m00:00:28<\u001b[93m00:37:17\u001b[0m\u001b[0m  \u001b[99m0.04it/s\u001b[0m  \u001b[99m1/80\u001b[0m   \u001b[99m0.0432\u001b[0m                              \n",
      "\u001b[1mDescription\u001b[0m   1.2% |                                                           |"
     ]
    },
    {
     "name": "stdout",
     "output_type": "stream",
     "text": [
      "epoch:2/80,loss: 0.0221\n"
     ]
    },
    {
     "name": "stderr",
     "output_type": "stream",
     "text": [
      "\u001b[K\u001b[F\u001b[K\u001b[F \u001b[1mIters\u001b[0m    \u001b[1mElapsed Time\u001b[0m      \u001b[1mSpeed\u001b[0m    \u001b[1mepoch\u001b[0m   \u001b[1mloss\u001b[0m                               \n",
      " \u001b[99m2/\u001b[93m80\u001b[0m\u001b[0m   \u001b[99m00:00:55<\u001b[93m00:35:56\u001b[0m\u001b[0m  \u001b[99m0.04it/s\u001b[0m  \u001b[99m2/80\u001b[0m   \u001b[99m0.0221\u001b[0m                              \n",
      "\u001b[1mDescription\u001b[0m   2.5% |\u001b[97m█\u001b[0m                                                          |"
     ]
    },
    {
     "name": "stdout",
     "output_type": "stream",
     "text": [
      "epoch:3/80,loss: 0.0204\n"
     ]
    },
    {
     "name": "stderr",
     "output_type": "stream",
     "text": [
      "\u001b[K\u001b[F\u001b[K\u001b[F \u001b[1mIters\u001b[0m    \u001b[1mElapsed Time\u001b[0m      \u001b[1mSpeed\u001b[0m    \u001b[1mepoch\u001b[0m   \u001b[1mloss\u001b[0m                               \n",
      " \u001b[99m3/\u001b[93m80\u001b[0m\u001b[0m   \u001b[99m00:01:21<\u001b[93m00:34:46\u001b[0m\u001b[0m  \u001b[99m0.04it/s\u001b[0m  \u001b[99m3/80\u001b[0m   \u001b[99m0.0204\u001b[0m                              \n",
      "\u001b[1mDescription\u001b[0m   3.8% |\u001b[97m█\u001b[0m\u001b[97m█\u001b[0m                                                         |"
     ]
    },
    {
     "name": "stdout",
     "output_type": "stream",
     "text": [
      "epoch:4/80,loss: 0.0198\n"
     ]
    },
    {
     "name": "stderr",
     "output_type": "stream",
     "text": [
      "\u001b[K\u001b[F\u001b[K\u001b[F \u001b[1mIters\u001b[0m    \u001b[1mElapsed Time\u001b[0m      \u001b[1mSpeed\u001b[0m    \u001b[1mepoch\u001b[0m   \u001b[1mloss\u001b[0m                               \n",
      " \u001b[99m4/\u001b[93m80\u001b[0m\u001b[0m   \u001b[99m00:01:48<\u001b[93m00:34:19\u001b[0m\u001b[0m  \u001b[99m0.04it/s\u001b[0m  \u001b[99m4/80\u001b[0m   \u001b[99m0.0198\u001b[0m                              \n",
      "\u001b[1mDescription\u001b[0m   5.0% |\u001b[97m█\u001b[0m\u001b[97m█\u001b[0m                                                         |"
     ]
    },
    {
     "name": "stdout",
     "output_type": "stream",
     "text": [
      "epoch:5/80,loss: 0.0192\n"
     ]
    },
    {
     "name": "stderr",
     "output_type": "stream",
     "text": [
      "\u001b[K\u001b[F\u001b[K\u001b[F \u001b[1mIters\u001b[0m    \u001b[1mElapsed Time\u001b[0m      \u001b[1mSpeed\u001b[0m    \u001b[1mepoch\u001b[0m   \u001b[1mloss\u001b[0m                               \n",
      " \u001b[99m5/\u001b[93m80\u001b[0m\u001b[0m   \u001b[99m00:02:15<\u001b[93m00:33:48\u001b[0m\u001b[0m  \u001b[99m0.04it/s\u001b[0m  \u001b[99m5/80\u001b[0m   \u001b[99m0.0192\u001b[0m                              \n",
      "\u001b[1mDescription\u001b[0m   6.2% |\u001b[97m█\u001b[0m\u001b[97m█\u001b[0m\u001b[97m█\u001b[0m                                                        |"
     ]
    },
    {
     "name": "stdout",
     "output_type": "stream",
     "text": [
      "epoch:6/80,loss: 0.0188\n"
     ]
    },
    {
     "name": "stderr",
     "output_type": "stream",
     "text": [
      "\u001b[K\u001b[F\u001b[K\u001b[F \u001b[1mIters\u001b[0m    \u001b[1mElapsed Time\u001b[0m      \u001b[1mSpeed\u001b[0m    \u001b[1mepoch\u001b[0m   \u001b[1mloss\u001b[0m                               \n",
      " \u001b[99m6/\u001b[93m80\u001b[0m\u001b[0m   \u001b[99m00:02:42<\u001b[93m00:33:19\u001b[0m\u001b[0m  \u001b[99m0.04it/s\u001b[0m  \u001b[99m6/80\u001b[0m   \u001b[99m0.0188\u001b[0m                              \n",
      "\u001b[1mDescription\u001b[0m   7.5% |\u001b[97m█\u001b[0m\u001b[97m█\u001b[0m\u001b[97m█\u001b[0m\u001b[97m█\u001b[0m                                                       |"
     ]
    },
    {
     "name": "stdout",
     "output_type": "stream",
     "text": [
      "epoch:7/80,loss: 0.0183\n"
     ]
    },
    {
     "name": "stderr",
     "output_type": "stream",
     "text": [
      "\u001b[K\u001b[F\u001b[K\u001b[F \u001b[1mIters\u001b[0m    \u001b[1mElapsed Time\u001b[0m      \u001b[1mSpeed\u001b[0m    \u001b[1mepoch\u001b[0m   \u001b[1mloss\u001b[0m                               \n",
      " \u001b[99m7/\u001b[93m80\u001b[0m\u001b[0m   \u001b[99m00:03:08<\u001b[93m00:32:49\u001b[0m\u001b[0m  \u001b[99m0.04it/s\u001b[0m  \u001b[99m7/80\u001b[0m   \u001b[99m0.0183\u001b[0m                              \n",
      "\u001b[1mDescription\u001b[0m   8.8% |\u001b[97m█\u001b[0m\u001b[97m█\u001b[0m\u001b[97m█\u001b[0m\u001b[97m█\u001b[0m\u001b[97m█\u001b[0m                                                      |"
     ]
    },
    {
     "name": "stdout",
     "output_type": "stream",
     "text": [
      "epoch:8/80,loss: 0.0179\n"
     ]
    },
    {
     "name": "stderr",
     "output_type": "stream",
     "text": [
      "\u001b[K\u001b[F\u001b[K\u001b[F \u001b[1mIters\u001b[0m    \u001b[1mElapsed Time\u001b[0m      \u001b[1mSpeed\u001b[0m    \u001b[1mepoch\u001b[0m   \u001b[1mloss\u001b[0m                               \n",
      " \u001b[99m8/\u001b[93m80\u001b[0m\u001b[0m   \u001b[99m00:03:33<\u001b[93m00:32:01\u001b[0m\u001b[0m  \u001b[99m0.04it/s\u001b[0m  \u001b[99m8/80\u001b[0m   \u001b[99m0.0179\u001b[0m                              \n",
      "\u001b[1mDescription\u001b[0m  10.0% |\u001b[97m█\u001b[0m\u001b[97m█\u001b[0m\u001b[97m█\u001b[0m\u001b[97m█\u001b[0m\u001b[97m█\u001b[0m                                                      |"
     ]
    },
    {
     "name": "stdout",
     "output_type": "stream",
     "text": [
      "epoch:9/80,loss: 0.0175\n"
     ]
    },
    {
     "name": "stderr",
     "output_type": "stream",
     "text": [
      "\u001b[K\u001b[F\u001b[K\u001b[F \u001b[1mIters\u001b[0m    \u001b[1mElapsed Time\u001b[0m      \u001b[1mSpeed\u001b[0m    \u001b[1mepoch\u001b[0m   \u001b[1mloss\u001b[0m                               \n",
      " \u001b[99m9/\u001b[93m80\u001b[0m\u001b[0m   \u001b[99m00:03:58<\u001b[93m00:31:22\u001b[0m\u001b[0m  \u001b[99m0.04it/s\u001b[0m  \u001b[99m9/80\u001b[0m   \u001b[99m0.0175\u001b[0m                              \n",
      "\u001b[1mDescription\u001b[0m  11.2% |\u001b[97m█\u001b[0m\u001b[97m█\u001b[0m\u001b[97m█\u001b[0m\u001b[97m█\u001b[0m\u001b[97m█\u001b[0m\u001b[97m█\u001b[0m                                                     |"
     ]
    },
    {
     "name": "stdout",
     "output_type": "stream",
     "text": [
      "epoch:10/80,loss: 0.0172\n"
     ]
    },
    {
     "name": "stderr",
     "output_type": "stream",
     "text": [
      "\u001b[K\u001b[F\u001b[K\u001b[F \u001b[1mIters\u001b[0m    \u001b[1mElapsed Time\u001b[0m      \u001b[1mSpeed\u001b[0m    \u001b[1mepoch\u001b[0m   \u001b[1mloss\u001b[0m                               \n",
      " \u001b[99m10/\u001b[93m80\u001b[0m\u001b[0m  \u001b[99m00:04:24<\u001b[93m00:30:54\u001b[0m\u001b[0m  \u001b[99m0.04it/s\u001b[0m  \u001b[99m10/80\u001b[0m  \u001b[99m0.0172\u001b[0m                              \n",
      "\u001b[1mDescription\u001b[0m  12.5% |\u001b[97m█\u001b[0m\u001b[97m█\u001b[0m\u001b[97m█\u001b[0m\u001b[97m█\u001b[0m\u001b[97m█\u001b[0m\u001b[97m█\u001b[0m\u001b[97m█\u001b[0m                                                    |"
     ]
    },
    {
     "name": "stdout",
     "output_type": "stream",
     "text": [
      "epoch:11/80,loss: 0.0169\n"
     ]
    },
    {
     "name": "stderr",
     "output_type": "stream",
     "text": [
      "\u001b[K\u001b[F\u001b[K\u001b[F \u001b[1mIters\u001b[0m    \u001b[1mElapsed Time\u001b[0m      \u001b[1mSpeed\u001b[0m    \u001b[1mepoch\u001b[0m   \u001b[1mloss\u001b[0m                               \n",
      " \u001b[99m11/\u001b[93m80\u001b[0m\u001b[0m  \u001b[99m00:04:50<\u001b[93m00:30:23\u001b[0m\u001b[0m  \u001b[99m0.04it/s\u001b[0m  \u001b[99m11/80\u001b[0m  \u001b[99m0.0169\u001b[0m                              \n",
      "\u001b[1mDescription\u001b[0m  13.8% |\u001b[97m█\u001b[0m\u001b[97m█\u001b[0m\u001b[97m█\u001b[0m\u001b[97m█\u001b[0m\u001b[97m█\u001b[0m\u001b[97m█\u001b[0m\u001b[97m█\u001b[0m\u001b[97m█\u001b[0m                                                   |"
     ]
    },
    {
     "name": "stdout",
     "output_type": "stream",
     "text": [
      "epoch:12/80,loss: 0.0167\n"
     ]
    },
    {
     "name": "stderr",
     "output_type": "stream",
     "text": [
      "\u001b[K\u001b[F\u001b[K\u001b[F \u001b[1mIters\u001b[0m    \u001b[1mElapsed Time\u001b[0m      \u001b[1mSpeed\u001b[0m    \u001b[1mepoch\u001b[0m   \u001b[1mloss\u001b[0m                               \n",
      " \u001b[99m12/\u001b[93m80\u001b[0m\u001b[0m  \u001b[99m00:05:15<\u001b[93m00:29:49\u001b[0m\u001b[0m  \u001b[99m0.04it/s\u001b[0m  \u001b[99m12/80\u001b[0m  \u001b[99m0.0167\u001b[0m                              \n",
      "\u001b[1mDescription\u001b[0m  15.0% |\u001b[97m█\u001b[0m\u001b[97m█\u001b[0m\u001b[97m█\u001b[0m\u001b[97m█\u001b[0m\u001b[97m█\u001b[0m\u001b[97m█\u001b[0m\u001b[97m█\u001b[0m\u001b[97m█\u001b[0m                                                   |"
     ]
    },
    {
     "name": "stdout",
     "output_type": "stream",
     "text": [
      "epoch:13/80,loss: 0.0165\n"
     ]
    },
    {
     "name": "stderr",
     "output_type": "stream",
     "text": [
      "\u001b[K\u001b[F\u001b[K\u001b[F \u001b[1mIters\u001b[0m    \u001b[1mElapsed Time\u001b[0m      \u001b[1mSpeed\u001b[0m    \u001b[1mepoch\u001b[0m   \u001b[1mloss\u001b[0m                               \n",
      " \u001b[99m13/\u001b[93m80\u001b[0m\u001b[0m  \u001b[99m00:05:40<\u001b[93m00:29:16\u001b[0m\u001b[0m  \u001b[99m0.04it/s\u001b[0m  \u001b[99m13/80\u001b[0m  \u001b[99m0.0165\u001b[0m                              \n",
      "\u001b[1mDescription\u001b[0m  16.2% |\u001b[97m█\u001b[0m\u001b[97m█\u001b[0m\u001b[97m█\u001b[0m\u001b[97m█\u001b[0m\u001b[97m█\u001b[0m\u001b[97m█\u001b[0m\u001b[97m█\u001b[0m\u001b[97m█\u001b[0m\u001b[97m█\u001b[0m                                                  |"
     ]
    },
    {
     "name": "stdout",
     "output_type": "stream",
     "text": [
      "epoch:14/80,loss: 0.0164\n"
     ]
    },
    {
     "name": "stderr",
     "output_type": "stream",
     "text": [
      "\u001b[K\u001b[F\u001b[K\u001b[F \u001b[1mIters\u001b[0m    \u001b[1mElapsed Time\u001b[0m      \u001b[1mSpeed\u001b[0m    \u001b[1mepoch\u001b[0m   \u001b[1mloss\u001b[0m                               \n",
      " \u001b[99m14/\u001b[93m80\u001b[0m\u001b[0m  \u001b[99m00:06:06<\u001b[93m00:28:45\u001b[0m\u001b[0m  \u001b[99m0.04it/s\u001b[0m  \u001b[99m14/80\u001b[0m  \u001b[99m0.0164\u001b[0m                              \n",
      "\u001b[1mDescription\u001b[0m  17.5% |\u001b[97m█\u001b[0m\u001b[97m█\u001b[0m\u001b[97m█\u001b[0m\u001b[97m█\u001b[0m\u001b[97m█\u001b[0m\u001b[97m█\u001b[0m\u001b[97m█\u001b[0m\u001b[97m█\u001b[0m\u001b[97m█\u001b[0m\u001b[97m█\u001b[0m                                                 |"
     ]
    },
    {
     "name": "stdout",
     "output_type": "stream",
     "text": [
      "epoch:15/80,loss: 0.0162\n"
     ]
    },
    {
     "name": "stderr",
     "output_type": "stream",
     "text": [
      "\u001b[K\u001b[F\u001b[K\u001b[F \u001b[1mIters\u001b[0m    \u001b[1mElapsed Time\u001b[0m      \u001b[1mSpeed\u001b[0m    \u001b[1mepoch\u001b[0m   \u001b[1mloss\u001b[0m                               \n",
      " \u001b[99m15/\u001b[93m80\u001b[0m\u001b[0m  \u001b[99m00:06:31<\u001b[93m00:28:15\u001b[0m\u001b[0m  \u001b[99m0.04it/s\u001b[0m  \u001b[99m15/80\u001b[0m  \u001b[99m0.0162\u001b[0m                              \n",
      "\u001b[1mDescription\u001b[0m  18.8% |\u001b[97m█\u001b[0m\u001b[97m█\u001b[0m\u001b[97m█\u001b[0m\u001b[97m█\u001b[0m\u001b[97m█\u001b[0m\u001b[97m█\u001b[0m\u001b[97m█\u001b[0m\u001b[97m█\u001b[0m\u001b[97m█\u001b[0m\u001b[97m█\u001b[0m\u001b[97m█\u001b[0m                                                |"
     ]
    },
    {
     "name": "stdout",
     "output_type": "stream",
     "text": [
      "epoch:16/80,loss: 0.0161\n"
     ]
    },
    {
     "name": "stderr",
     "output_type": "stream",
     "text": [
      "\u001b[K\u001b[F\u001b[K\u001b[F \u001b[1mIters\u001b[0m    \u001b[1mElapsed Time\u001b[0m      \u001b[1mSpeed\u001b[0m    \u001b[1mepoch\u001b[0m   \u001b[1mloss\u001b[0m                               \n",
      " \u001b[99m16/\u001b[93m80\u001b[0m\u001b[0m  \u001b[99m00:06:56<\u001b[93m00:27:45\u001b[0m\u001b[0m  \u001b[99m0.04it/s\u001b[0m  \u001b[99m16/80\u001b[0m  \u001b[99m0.0161\u001b[0m                              \n",
      "\u001b[1mDescription\u001b[0m  20.0% |\u001b[97m█\u001b[0m\u001b[97m█\u001b[0m\u001b[97m█\u001b[0m\u001b[97m█\u001b[0m\u001b[97m█\u001b[0m\u001b[97m█\u001b[0m\u001b[97m█\u001b[0m\u001b[97m█\u001b[0m\u001b[97m█\u001b[0m\u001b[97m█\u001b[0m\u001b[97m█\u001b[0m                                                |"
     ]
    },
    {
     "name": "stdout",
     "output_type": "stream",
     "text": [
      "epoch:17/80,loss: 0.0159\n"
     ]
    },
    {
     "name": "stderr",
     "output_type": "stream",
     "text": [
      "\u001b[K\u001b[F\u001b[K\u001b[F \u001b[1mIters\u001b[0m    \u001b[1mElapsed Time\u001b[0m      \u001b[1mSpeed\u001b[0m    \u001b[1mepoch\u001b[0m   \u001b[1mloss\u001b[0m                               \n",
      " \u001b[99m17/\u001b[93m80\u001b[0m\u001b[0m  \u001b[99m00:07:21<\u001b[93m00:27:16\u001b[0m\u001b[0m  \u001b[99m0.04it/s\u001b[0m  \u001b[99m17/80\u001b[0m  \u001b[99m0.0159\u001b[0m                              \n",
      "\u001b[1mDescription\u001b[0m  21.2% |\u001b[97m█\u001b[0m\u001b[97m█\u001b[0m\u001b[97m█\u001b[0m\u001b[97m█\u001b[0m\u001b[97m█\u001b[0m\u001b[97m█\u001b[0m\u001b[97m█\u001b[0m\u001b[97m█\u001b[0m\u001b[97m█\u001b[0m\u001b[97m█\u001b[0m\u001b[97m█\u001b[0m\u001b[97m█\u001b[0m                                               |"
     ]
    },
    {
     "name": "stdout",
     "output_type": "stream",
     "text": [
      "epoch:18/80,loss: 0.0158\n"
     ]
    },
    {
     "name": "stderr",
     "output_type": "stream",
     "text": [
      "\u001b[K\u001b[F\u001b[K\u001b[F \u001b[1mIters\u001b[0m    \u001b[1mElapsed Time\u001b[0m      \u001b[1mSpeed\u001b[0m    \u001b[1mepoch\u001b[0m   \u001b[1mloss\u001b[0m                               \n",
      " \u001b[99m18/\u001b[93m80\u001b[0m\u001b[0m  \u001b[99m00:07:45<\u001b[93m00:26:44\u001b[0m\u001b[0m  \u001b[99m0.04it/s\u001b[0m  \u001b[99m18/80\u001b[0m  \u001b[99m0.0158\u001b[0m                              \n",
      "\u001b[1mDescription\u001b[0m  22.5% |\u001b[97m█\u001b[0m\u001b[97m█\u001b[0m\u001b[97m█\u001b[0m\u001b[97m█\u001b[0m\u001b[97m█\u001b[0m\u001b[97m█\u001b[0m\u001b[97m█\u001b[0m\u001b[97m█\u001b[0m\u001b[97m█\u001b[0m\u001b[97m█\u001b[0m\u001b[97m█\u001b[0m\u001b[97m█\u001b[0m\u001b[97m█\u001b[0m                                              |"
     ]
    },
    {
     "name": "stdout",
     "output_type": "stream",
     "text": [
      "epoch:19/80,loss: 0.0157\n"
     ]
    },
    {
     "name": "stderr",
     "output_type": "stream",
     "text": [
      "\u001b[K\u001b[F\u001b[K\u001b[F \u001b[1mIters\u001b[0m    \u001b[1mElapsed Time\u001b[0m      \u001b[1mSpeed\u001b[0m    \u001b[1mepoch\u001b[0m   \u001b[1mloss\u001b[0m                               \n",
      " \u001b[99m19/\u001b[93m80\u001b[0m\u001b[0m  \u001b[99m00:08:10<\u001b[93m00:26:16\u001b[0m\u001b[0m  \u001b[99m0.04it/s\u001b[0m  \u001b[99m19/80\u001b[0m  \u001b[99m0.0157\u001b[0m                              \n",
      "\u001b[1mDescription\u001b[0m  23.8% |\u001b[97m█\u001b[0m\u001b[97m█\u001b[0m\u001b[97m█\u001b[0m\u001b[97m█\u001b[0m\u001b[97m█\u001b[0m\u001b[97m█\u001b[0m\u001b[97m█\u001b[0m\u001b[97m█\u001b[0m\u001b[97m█\u001b[0m\u001b[97m█\u001b[0m\u001b[97m█\u001b[0m\u001b[97m█\u001b[0m\u001b[97m█\u001b[0m\u001b[97m█\u001b[0m                                             |"
     ]
    },
    {
     "name": "stdout",
     "output_type": "stream",
     "text": [
      "epoch:20/80,loss: 0.0156\n"
     ]
    },
    {
     "name": "stderr",
     "output_type": "stream",
     "text": [
      "\u001b[K\u001b[F\u001b[K\u001b[F \u001b[1mIters\u001b[0m    \u001b[1mElapsed Time\u001b[0m      \u001b[1mSpeed\u001b[0m    \u001b[1mepoch\u001b[0m   \u001b[1mloss\u001b[0m                               \n",
      " \u001b[99m20/\u001b[93m80\u001b[0m\u001b[0m  \u001b[99m00:08:35<\u001b[93m00:25:47\u001b[0m\u001b[0m  \u001b[99m0.04it/s\u001b[0m  \u001b[99m20/80\u001b[0m  \u001b[99m0.0156\u001b[0m                              \n",
      "\u001b[1mDescription\u001b[0m  25.0% |\u001b[97m█\u001b[0m\u001b[97m█\u001b[0m\u001b[97m█\u001b[0m\u001b[97m█\u001b[0m\u001b[97m█\u001b[0m\u001b[97m█\u001b[0m\u001b[97m█\u001b[0m\u001b[97m█\u001b[0m\u001b[97m█\u001b[0m\u001b[97m█\u001b[0m\u001b[97m█\u001b[0m\u001b[97m█\u001b[0m\u001b[97m█\u001b[0m\u001b[97m█\u001b[0m                                             |"
     ]
    },
    {
     "name": "stdout",
     "output_type": "stream",
     "text": [
      "epoch:21/80,loss: 0.0154\n"
     ]
    },
    {
     "name": "stderr",
     "output_type": "stream",
     "text": [
      "\u001b[K\u001b[F\u001b[K\u001b[F \u001b[1mIters\u001b[0m    \u001b[1mElapsed Time\u001b[0m      \u001b[1mSpeed\u001b[0m    \u001b[1mepoch\u001b[0m   \u001b[1mloss\u001b[0m                               \n",
      " \u001b[99m21/\u001b[93m80\u001b[0m\u001b[0m  \u001b[99m00:09:00<\u001b[93m00:25:19\u001b[0m\u001b[0m  \u001b[99m0.04it/s\u001b[0m  \u001b[99m21/80\u001b[0m  \u001b[99m0.0154\u001b[0m                              \n",
      "\u001b[1mDescription\u001b[0m  26.2% |\u001b[97m█\u001b[0m\u001b[97m█\u001b[0m\u001b[97m█\u001b[0m\u001b[97m█\u001b[0m\u001b[97m█\u001b[0m\u001b[97m█\u001b[0m\u001b[97m█\u001b[0m\u001b[97m█\u001b[0m\u001b[97m█\u001b[0m\u001b[97m█\u001b[0m\u001b[97m█\u001b[0m\u001b[97m█\u001b[0m\u001b[97m█\u001b[0m\u001b[97m█\u001b[0m\u001b[97m█\u001b[0m                                            |"
     ]
    },
    {
     "name": "stdout",
     "output_type": "stream",
     "text": [
      "epoch:22/80,loss: 0.0154\n"
     ]
    },
    {
     "name": "stderr",
     "output_type": "stream",
     "text": [
      "\u001b[K\u001b[F\u001b[K\u001b[F \u001b[1mIters\u001b[0m    \u001b[1mElapsed Time\u001b[0m      \u001b[1mSpeed\u001b[0m    \u001b[1mepoch\u001b[0m   \u001b[1mloss\u001b[0m                               \n",
      " \u001b[99m22/\u001b[93m80\u001b[0m\u001b[0m  \u001b[99m00:09:25<\u001b[93m00:24:51\u001b[0m\u001b[0m  \u001b[99m0.04it/s\u001b[0m  \u001b[99m22/80\u001b[0m  \u001b[99m0.0154\u001b[0m                              \n",
      "\u001b[1mDescription\u001b[0m  27.5% |\u001b[97m█\u001b[0m\u001b[97m█\u001b[0m\u001b[97m█\u001b[0m\u001b[97m█\u001b[0m\u001b[97m█\u001b[0m\u001b[97m█\u001b[0m\u001b[97m█\u001b[0m\u001b[97m█\u001b[0m\u001b[97m█\u001b[0m\u001b[97m█\u001b[0m\u001b[97m█\u001b[0m\u001b[97m█\u001b[0m\u001b[97m█\u001b[0m\u001b[97m█\u001b[0m\u001b[97m█\u001b[0m\u001b[97m█\u001b[0m                                           |"
     ]
    },
    {
     "name": "stdout",
     "output_type": "stream",
     "text": [
      "epoch:23/80,loss: 0.0153\n"
     ]
    },
    {
     "name": "stderr",
     "output_type": "stream",
     "text": [
      "\u001b[K\u001b[F\u001b[K\u001b[F \u001b[1mIters\u001b[0m    \u001b[1mElapsed Time\u001b[0m      \u001b[1mSpeed\u001b[0m    \u001b[1mepoch\u001b[0m   \u001b[1mloss\u001b[0m                               \n",
      " \u001b[99m23/\u001b[93m80\u001b[0m\u001b[0m  \u001b[99m00:09:50<\u001b[93m00:24:23\u001b[0m\u001b[0m  \u001b[99m0.04it/s\u001b[0m  \u001b[99m23/80\u001b[0m  \u001b[99m0.0153\u001b[0m                              \n",
      "\u001b[1mDescription\u001b[0m  28.7% |\u001b[97m█\u001b[0m\u001b[97m█\u001b[0m\u001b[97m█\u001b[0m\u001b[97m█\u001b[0m\u001b[97m█\u001b[0m\u001b[97m█\u001b[0m\u001b[97m█\u001b[0m\u001b[97m█\u001b[0m\u001b[97m█\u001b[0m\u001b[97m█\u001b[0m\u001b[97m█\u001b[0m\u001b[97m█\u001b[0m\u001b[97m█\u001b[0m\u001b[97m█\u001b[0m\u001b[97m█\u001b[0m\u001b[97m█\u001b[0m                                           |"
     ]
    },
    {
     "name": "stdout",
     "output_type": "stream",
     "text": [
      "epoch:24/80,loss: 0.0153\n"
     ]
    },
    {
     "name": "stderr",
     "output_type": "stream",
     "text": [
      "\u001b[K\u001b[F\u001b[K\u001b[F \u001b[1mIters\u001b[0m    \u001b[1mElapsed Time\u001b[0m      \u001b[1mSpeed\u001b[0m    \u001b[1mepoch\u001b[0m   \u001b[1mloss\u001b[0m                               \n",
      " \u001b[99m24/\u001b[93m80\u001b[0m\u001b[0m  \u001b[99m00:10:15<\u001b[93m00:23:55\u001b[0m\u001b[0m  \u001b[99m0.04it/s\u001b[0m  \u001b[99m24/80\u001b[0m  \u001b[99m0.0153\u001b[0m                              \n",
      "\u001b[1mDescription\u001b[0m  30.0% |\u001b[97m█\u001b[0m\u001b[97m█\u001b[0m\u001b[97m█\u001b[0m\u001b[97m█\u001b[0m\u001b[97m█\u001b[0m\u001b[97m█\u001b[0m\u001b[97m█\u001b[0m\u001b[97m█\u001b[0m\u001b[97m█\u001b[0m\u001b[97m█\u001b[0m\u001b[97m█\u001b[0m\u001b[97m█\u001b[0m\u001b[97m█\u001b[0m\u001b[97m█\u001b[0m\u001b[97m█\u001b[0m\u001b[97m█\u001b[0m\u001b[97m█\u001b[0m                                          |"
     ]
    },
    {
     "name": "stdout",
     "output_type": "stream",
     "text": [
      "epoch:25/80,loss: 0.0152\n"
     ]
    },
    {
     "name": "stderr",
     "output_type": "stream",
     "text": [
      "\u001b[K\u001b[F\u001b[K\u001b[F \u001b[1mIters\u001b[0m    \u001b[1mElapsed Time\u001b[0m      \u001b[1mSpeed\u001b[0m    \u001b[1mepoch\u001b[0m   \u001b[1mloss\u001b[0m                               \n",
      " \u001b[99m25/\u001b[93m80\u001b[0m\u001b[0m  \u001b[99m00:10:40<\u001b[93m00:23:28\u001b[0m\u001b[0m  \u001b[99m0.04it/s\u001b[0m  \u001b[99m25/80\u001b[0m  \u001b[99m0.0152\u001b[0m                              \n",
      "\u001b[1mDescription\u001b[0m  31.2% |\u001b[97m█\u001b[0m\u001b[97m█\u001b[0m\u001b[97m█\u001b[0m\u001b[97m█\u001b[0m\u001b[97m█\u001b[0m\u001b[97m█\u001b[0m\u001b[97m█\u001b[0m\u001b[97m█\u001b[0m\u001b[97m█\u001b[0m\u001b[97m█\u001b[0m\u001b[97m█\u001b[0m\u001b[97m█\u001b[0m\u001b[97m█\u001b[0m\u001b[97m█\u001b[0m\u001b[97m█\u001b[0m\u001b[97m█\u001b[0m\u001b[97m█\u001b[0m\u001b[97m█\u001b[0m                                         |"
     ]
    },
    {
     "name": "stdout",
     "output_type": "stream",
     "text": [
      "epoch:26/80,loss: 0.0151\n"
     ]
    },
    {
     "name": "stderr",
     "output_type": "stream",
     "text": [
      "\u001b[K\u001b[F\u001b[K\u001b[F \u001b[1mIters\u001b[0m    \u001b[1mElapsed Time\u001b[0m      \u001b[1mSpeed\u001b[0m    \u001b[1mepoch\u001b[0m   \u001b[1mloss\u001b[0m                               \n",
      " \u001b[99m26/\u001b[93m80\u001b[0m\u001b[0m  \u001b[99m00:11:04<\u001b[93m00:23:00\u001b[0m\u001b[0m  \u001b[99m0.04it/s\u001b[0m  \u001b[99m26/80\u001b[0m  \u001b[99m0.0151\u001b[0m                              \n",
      "\u001b[1mDescription\u001b[0m  32.5% |\u001b[97m█\u001b[0m\u001b[97m█\u001b[0m\u001b[97m█\u001b[0m\u001b[97m█\u001b[0m\u001b[97m█\u001b[0m\u001b[97m█\u001b[0m\u001b[97m█\u001b[0m\u001b[97m█\u001b[0m\u001b[97m█\u001b[0m\u001b[97m█\u001b[0m\u001b[97m█\u001b[0m\u001b[97m█\u001b[0m\u001b[97m█\u001b[0m\u001b[97m█\u001b[0m\u001b[97m█\u001b[0m\u001b[97m█\u001b[0m\u001b[97m█\u001b[0m\u001b[97m█\u001b[0m\u001b[97m█\u001b[0m                                        |"
     ]
    },
    {
     "name": "stdout",
     "output_type": "stream",
     "text": [
      "epoch:27/80,loss: 0.0151\n"
     ]
    },
    {
     "name": "stderr",
     "output_type": "stream",
     "text": [
      "\u001b[K\u001b[F\u001b[K\u001b[F \u001b[1mIters\u001b[0m    \u001b[1mElapsed Time\u001b[0m      \u001b[1mSpeed\u001b[0m    \u001b[1mepoch\u001b[0m   \u001b[1mloss\u001b[0m                               \n",
      " \u001b[99m27/\u001b[93m80\u001b[0m\u001b[0m  \u001b[99m00:11:28<\u001b[93m00:22:31\u001b[0m\u001b[0m  \u001b[99m0.04it/s\u001b[0m  \u001b[99m27/80\u001b[0m  \u001b[99m0.0151\u001b[0m                              \n",
      "\u001b[1mDescription\u001b[0m  33.8% |\u001b[97m█\u001b[0m\u001b[97m█\u001b[0m\u001b[97m█\u001b[0m\u001b[97m█\u001b[0m\u001b[97m█\u001b[0m\u001b[97m█\u001b[0m\u001b[97m█\u001b[0m\u001b[97m█\u001b[0m\u001b[97m█\u001b[0m\u001b[97m█\u001b[0m\u001b[97m█\u001b[0m\u001b[97m█\u001b[0m\u001b[97m█\u001b[0m\u001b[97m█\u001b[0m\u001b[97m█\u001b[0m\u001b[97m█\u001b[0m\u001b[97m█\u001b[0m\u001b[97m█\u001b[0m\u001b[97m█\u001b[0m                                        |"
     ]
    },
    {
     "name": "stdout",
     "output_type": "stream",
     "text": [
      "epoch:28/80,loss: 0.0150\n"
     ]
    },
    {
     "name": "stderr",
     "output_type": "stream",
     "text": [
      "\u001b[K\u001b[F\u001b[K\u001b[F \u001b[1mIters\u001b[0m    \u001b[1mElapsed Time\u001b[0m      \u001b[1mSpeed\u001b[0m    \u001b[1mepoch\u001b[0m   \u001b[1mloss\u001b[0m                               \n",
      " \u001b[99m28/\u001b[93m80\u001b[0m\u001b[0m  \u001b[99m00:11:53<\u001b[93m00:22:05\u001b[0m\u001b[0m  \u001b[99m0.04it/s\u001b[0m  \u001b[99m28/80\u001b[0m  \u001b[99m0.0150\u001b[0m                              \n",
      "\u001b[1mDescription\u001b[0m  35.0% |\u001b[97m█\u001b[0m\u001b[97m█\u001b[0m\u001b[97m█\u001b[0m\u001b[97m█\u001b[0m\u001b[97m█\u001b[0m\u001b[97m█\u001b[0m\u001b[97m█\u001b[0m\u001b[97m█\u001b[0m\u001b[97m█\u001b[0m\u001b[97m█\u001b[0m\u001b[97m█\u001b[0m\u001b[97m█\u001b[0m\u001b[97m█\u001b[0m\u001b[97m█\u001b[0m\u001b[97m█\u001b[0m\u001b[97m█\u001b[0m\u001b[97m█\u001b[0m\u001b[97m█\u001b[0m\u001b[97m█\u001b[0m\u001b[97m█\u001b[0m                                       |"
     ]
    },
    {
     "name": "stdout",
     "output_type": "stream",
     "text": [
      "epoch:29/80,loss: 0.0149\n"
     ]
    },
    {
     "name": "stderr",
     "output_type": "stream",
     "text": [
      "\u001b[K\u001b[F\u001b[K\u001b[F \u001b[1mIters\u001b[0m    \u001b[1mElapsed Time\u001b[0m      \u001b[1mSpeed\u001b[0m    \u001b[1mepoch\u001b[0m   \u001b[1mloss\u001b[0m                               \n",
      " \u001b[99m29/\u001b[93m80\u001b[0m\u001b[0m  \u001b[99m00:12:20<\u001b[93m00:21:41\u001b[0m\u001b[0m  \u001b[99m0.04it/s\u001b[0m  \u001b[99m29/80\u001b[0m  \u001b[99m0.0149\u001b[0m                              \n",
      "\u001b[1mDescription\u001b[0m  36.2% |\u001b[97m█\u001b[0m\u001b[97m█\u001b[0m\u001b[97m█\u001b[0m\u001b[97m█\u001b[0m\u001b[97m█\u001b[0m\u001b[97m█\u001b[0m\u001b[97m█\u001b[0m\u001b[97m█\u001b[0m\u001b[97m█\u001b[0m\u001b[97m█\u001b[0m\u001b[97m█\u001b[0m\u001b[97m█\u001b[0m\u001b[97m█\u001b[0m\u001b[97m█\u001b[0m\u001b[97m█\u001b[0m\u001b[97m█\u001b[0m\u001b[97m█\u001b[0m\u001b[97m█\u001b[0m\u001b[97m█\u001b[0m\u001b[97m█\u001b[0m\u001b[97m█\u001b[0m                                      |"
     ]
    },
    {
     "name": "stdout",
     "output_type": "stream",
     "text": [
      "epoch:30/80,loss: 0.0149\n"
     ]
    },
    {
     "name": "stderr",
     "output_type": "stream",
     "text": [
      "\u001b[K\u001b[F\u001b[K\u001b[F \u001b[1mIters\u001b[0m    \u001b[1mElapsed Time\u001b[0m      \u001b[1mSpeed\u001b[0m    \u001b[1mepoch\u001b[0m   \u001b[1mloss\u001b[0m                               \n",
      " \u001b[99m30/\u001b[93m80\u001b[0m\u001b[0m  \u001b[99m00:12:44<\u001b[93m00:21:14\u001b[0m\u001b[0m  \u001b[99m0.04it/s\u001b[0m  \u001b[99m30/80\u001b[0m  \u001b[99m0.0149\u001b[0m                              \n",
      "\u001b[1mDescription\u001b[0m  37.5% |\u001b[97m█\u001b[0m\u001b[97m█\u001b[0m\u001b[97m█\u001b[0m\u001b[97m█\u001b[0m\u001b[97m█\u001b[0m\u001b[97m█\u001b[0m\u001b[97m█\u001b[0m\u001b[97m█\u001b[0m\u001b[97m█\u001b[0m\u001b[97m█\u001b[0m\u001b[97m█\u001b[0m\u001b[97m█\u001b[0m\u001b[97m█\u001b[0m\u001b[97m█\u001b[0m\u001b[97m█\u001b[0m\u001b[97m█\u001b[0m\u001b[97m█\u001b[0m\u001b[97m█\u001b[0m\u001b[97m█\u001b[0m\u001b[97m█\u001b[0m\u001b[97m█\u001b[0m\u001b[97m█\u001b[0m                                     |"
     ]
    },
    {
     "name": "stdout",
     "output_type": "stream",
     "text": [
      "epoch:31/80,loss: 0.0148\n"
     ]
    },
    {
     "name": "stderr",
     "output_type": "stream",
     "text": [
      "\u001b[K\u001b[F\u001b[K\u001b[F \u001b[1mIters\u001b[0m    \u001b[1mElapsed Time\u001b[0m      \u001b[1mSpeed\u001b[0m    \u001b[1mepoch\u001b[0m   \u001b[1mloss\u001b[0m                               \n",
      " \u001b[99m31/\u001b[93m80\u001b[0m\u001b[0m  \u001b[99m00:13:08<\u001b[93m00:20:46\u001b[0m\u001b[0m  \u001b[99m0.04it/s\u001b[0m  \u001b[99m31/80\u001b[0m  \u001b[99m0.0148\u001b[0m                              \n",
      "\u001b[1mDescription\u001b[0m  38.8% |\u001b[97m█\u001b[0m\u001b[97m█\u001b[0m\u001b[97m█\u001b[0m\u001b[97m█\u001b[0m\u001b[97m█\u001b[0m\u001b[97m█\u001b[0m\u001b[97m█\u001b[0m\u001b[97m█\u001b[0m\u001b[97m█\u001b[0m\u001b[97m█\u001b[0m\u001b[97m█\u001b[0m\u001b[97m█\u001b[0m\u001b[97m█\u001b[0m\u001b[97m█\u001b[0m\u001b[97m█\u001b[0m\u001b[97m█\u001b[0m\u001b[97m█\u001b[0m\u001b[97m█\u001b[0m\u001b[97m█\u001b[0m\u001b[97m█\u001b[0m\u001b[97m█\u001b[0m\u001b[97m█\u001b[0m                                     |"
     ]
    },
    {
     "name": "stdout",
     "output_type": "stream",
     "text": [
      "epoch:32/80,loss: 0.0147\n"
     ]
    },
    {
     "name": "stderr",
     "output_type": "stream",
     "text": [
      "\u001b[K\u001b[F\u001b[K\u001b[F \u001b[1mIters\u001b[0m    \u001b[1mElapsed Time\u001b[0m      \u001b[1mSpeed\u001b[0m    \u001b[1mepoch\u001b[0m   \u001b[1mloss\u001b[0m                               \n",
      " \u001b[99m32/\u001b[93m80\u001b[0m\u001b[0m  \u001b[99m00:13:33<\u001b[93m00:20:20\u001b[0m\u001b[0m  \u001b[99m0.04it/s\u001b[0m  \u001b[99m32/80\u001b[0m  \u001b[99m0.0147\u001b[0m                              \n",
      "\u001b[1mDescription\u001b[0m  40.0% |\u001b[97m█\u001b[0m\u001b[97m█\u001b[0m\u001b[97m█\u001b[0m\u001b[97m█\u001b[0m\u001b[97m█\u001b[0m\u001b[97m█\u001b[0m\u001b[97m█\u001b[0m\u001b[97m█\u001b[0m\u001b[97m█\u001b[0m\u001b[97m█\u001b[0m\u001b[97m█\u001b[0m\u001b[97m█\u001b[0m\u001b[97m█\u001b[0m\u001b[97m█\u001b[0m\u001b[97m█\u001b[0m\u001b[97m█\u001b[0m\u001b[97m█\u001b[0m\u001b[97m█\u001b[0m\u001b[97m█\u001b[0m\u001b[97m█\u001b[0m\u001b[97m█\u001b[0m\u001b[97m█\u001b[0m\u001b[97m█\u001b[0m                                    |\u001b[K\u001b[F\u001b[K\u001b[F \u001b[1mIters\u001b[0m    \u001b[1mElapsed Time\u001b[0m      \u001b[1mSpeed\u001b[0m    \u001b[1mepoch\u001b[0m   \u001b[1mloss\u001b[0m                               \n",
      " \u001b[99m33/\u001b[93m80\u001b[0m\u001b[0m  \u001b[99m00:13:57<\u001b[93m00:19:53\u001b[0m\u001b[0m  \u001b[99m0.04it/s\u001b[0m  \u001b[99m33/80\u001b[0m  \u001b[99m0.0147\u001b[0m                              \n",
      "\u001b[1mDescription\u001b[0m  41.2% |\u001b[97m█\u001b[0m\u001b[97m█\u001b[0m\u001b[97m█\u001b[0m\u001b[97m█\u001b[0m\u001b[97m█\u001b[0m\u001b[97m█\u001b[0m\u001b[97m█\u001b[0m\u001b[97m█\u001b[0m\u001b[97m█\u001b[0m\u001b[97m█\u001b[0m\u001b[97m█\u001b[0m\u001b[97m█\u001b[0m\u001b[97m█\u001b[0m\u001b[97m█\u001b[0m\u001b[97m█\u001b[0m\u001b[97m█\u001b[0m\u001b[97m█\u001b[0m\u001b[97m█\u001b[0m\u001b[97m█\u001b[0m\u001b[97m█\u001b[0m\u001b[97m█\u001b[0m\u001b[97m█\u001b[0m\u001b[97m█\u001b[0m\u001b[97m█\u001b[0m                                   |"
     ]
    },
    {
     "name": "stdout",
     "output_type": "stream",
     "text": [
      "epoch:34/80,loss: 0.0147\n"
     ]
    },
    {
     "name": "stderr",
     "output_type": "stream",
     "text": [
      "\u001b[K\u001b[F\u001b[K\u001b[F \u001b[1mIters\u001b[0m    \u001b[1mElapsed Time\u001b[0m      \u001b[1mSpeed\u001b[0m    \u001b[1mepoch\u001b[0m   \u001b[1mloss\u001b[0m                               \n",
      " \u001b[99m34/\u001b[93m80\u001b[0m\u001b[0m  \u001b[99m00:14:22<\u001b[93m00:19:26\u001b[0m\u001b[0m  \u001b[99m0.04it/s\u001b[0m  \u001b[99m34/80\u001b[0m  \u001b[99m0.0147\u001b[0m                              \n",
      "\u001b[1mDescription\u001b[0m  42.5% |\u001b[97m█\u001b[0m\u001b[97m█\u001b[0m\u001b[97m█\u001b[0m\u001b[97m█\u001b[0m\u001b[97m█\u001b[0m\u001b[97m█\u001b[0m\u001b[97m█\u001b[0m\u001b[97m█\u001b[0m\u001b[97m█\u001b[0m\u001b[97m█\u001b[0m\u001b[97m█\u001b[0m\u001b[97m█\u001b[0m\u001b[97m█\u001b[0m\u001b[97m█\u001b[0m\u001b[97m█\u001b[0m\u001b[97m█\u001b[0m\u001b[97m█\u001b[0m\u001b[97m█\u001b[0m\u001b[97m█\u001b[0m\u001b[97m█\u001b[0m\u001b[97m█\u001b[0m\u001b[97m█\u001b[0m\u001b[97m█\u001b[0m\u001b[97m█\u001b[0m\u001b[97m█\u001b[0m                                  |"
     ]
    },
    {
     "name": "stdout",
     "output_type": "stream",
     "text": [
      "epoch:35/80,loss: 0.0146\n"
     ]
    },
    {
     "name": "stderr",
     "output_type": "stream",
     "text": [
      "\u001b[K\u001b[F\u001b[K\u001b[F \u001b[1mIters\u001b[0m    \u001b[1mElapsed Time\u001b[0m      \u001b[1mSpeed\u001b[0m    \u001b[1mepoch\u001b[0m   \u001b[1mloss\u001b[0m                               \n",
      " \u001b[99m35/\u001b[93m80\u001b[0m\u001b[0m  \u001b[99m00:14:47<\u001b[93m00:19:00\u001b[0m\u001b[0m  \u001b[99m0.04it/s\u001b[0m  \u001b[99m35/80\u001b[0m  \u001b[99m0.0146\u001b[0m                              \n",
      "\u001b[1mDescription\u001b[0m  43.8% |\u001b[97m█\u001b[0m\u001b[97m█\u001b[0m\u001b[97m█\u001b[0m\u001b[97m█\u001b[0m\u001b[97m█\u001b[0m\u001b[97m█\u001b[0m\u001b[97m█\u001b[0m\u001b[97m█\u001b[0m\u001b[97m█\u001b[0m\u001b[97m█\u001b[0m\u001b[97m█\u001b[0m\u001b[97m█\u001b[0m\u001b[97m█\u001b[0m\u001b[97m█\u001b[0m\u001b[97m█\u001b[0m\u001b[97m█\u001b[0m\u001b[97m█\u001b[0m\u001b[97m█\u001b[0m\u001b[97m█\u001b[0m\u001b[97m█\u001b[0m\u001b[97m█\u001b[0m\u001b[97m█\u001b[0m\u001b[97m█\u001b[0m\u001b[97m█\u001b[0m\u001b[97m█\u001b[0m                                  |"
     ]
    },
    {
     "name": "stdout",
     "output_type": "stream",
     "text": [
      "epoch:36/80,loss: 0.0146\n"
     ]
    },
    {
     "name": "stderr",
     "output_type": "stream",
     "text": [
      "\u001b[K\u001b[F\u001b[K\u001b[F \u001b[1mIters\u001b[0m    \u001b[1mElapsed Time\u001b[0m      \u001b[1mSpeed\u001b[0m    \u001b[1mepoch\u001b[0m   \u001b[1mloss\u001b[0m                               \n",
      " \u001b[99m36/\u001b[93m80\u001b[0m\u001b[0m  \u001b[99m00:15:11<\u001b[93m00:18:34\u001b[0m\u001b[0m  \u001b[99m0.04it/s\u001b[0m  \u001b[99m36/80\u001b[0m  \u001b[99m0.0146\u001b[0m                              \n",
      "\u001b[1mDescription\u001b[0m  45.0% |\u001b[97m█\u001b[0m\u001b[97m█\u001b[0m\u001b[97m█\u001b[0m\u001b[97m█\u001b[0m\u001b[97m█\u001b[0m\u001b[97m█\u001b[0m\u001b[97m█\u001b[0m\u001b[97m█\u001b[0m\u001b[97m█\u001b[0m\u001b[97m█\u001b[0m\u001b[97m█\u001b[0m\u001b[97m█\u001b[0m\u001b[97m█\u001b[0m\u001b[97m█\u001b[0m\u001b[97m█\u001b[0m\u001b[97m█\u001b[0m\u001b[97m█\u001b[0m\u001b[97m█\u001b[0m\u001b[97m█\u001b[0m\u001b[97m█\u001b[0m\u001b[97m█\u001b[0m\u001b[97m█\u001b[0m\u001b[97m█\u001b[0m\u001b[97m█\u001b[0m\u001b[97m█\u001b[0m\u001b[97m█\u001b[0m                                 |"
     ]
    },
    {
     "name": "stdout",
     "output_type": "stream",
     "text": [
      "epoch:37/80,loss: 0.0145\n"
     ]
    },
    {
     "name": "stderr",
     "output_type": "stream",
     "text": [
      "\u001b[K\u001b[F\u001b[K\u001b[F \u001b[1mIters\u001b[0m    \u001b[1mElapsed Time\u001b[0m      \u001b[1mSpeed\u001b[0m    \u001b[1mepoch\u001b[0m   \u001b[1mloss\u001b[0m                               \n",
      " \u001b[99m37/\u001b[93m80\u001b[0m\u001b[0m  \u001b[99m00:15:36<\u001b[93m00:18:08\u001b[0m\u001b[0m  \u001b[99m0.04it/s\u001b[0m  \u001b[99m37/80\u001b[0m  \u001b[99m0.0145\u001b[0m                              \n",
      "\u001b[1mDescription\u001b[0m  46.2% |\u001b[97m█\u001b[0m\u001b[97m█\u001b[0m\u001b[97m█\u001b[0m\u001b[97m█\u001b[0m\u001b[97m█\u001b[0m\u001b[97m█\u001b[0m\u001b[97m█\u001b[0m\u001b[97m█\u001b[0m\u001b[97m█\u001b[0m\u001b[97m█\u001b[0m\u001b[97m█\u001b[0m\u001b[97m█\u001b[0m\u001b[97m█\u001b[0m\u001b[97m█\u001b[0m\u001b[97m█\u001b[0m\u001b[97m█\u001b[0m\u001b[97m█\u001b[0m\u001b[97m█\u001b[0m\u001b[97m█\u001b[0m\u001b[97m█\u001b[0m\u001b[97m█\u001b[0m\u001b[97m█\u001b[0m\u001b[97m█\u001b[0m\u001b[97m█\u001b[0m\u001b[97m█\u001b[0m\u001b[97m█\u001b[0m\u001b[97m█\u001b[0m                                |"
     ]
    },
    {
     "name": "stdout",
     "output_type": "stream",
     "text": [
      "epoch:38/80,loss: 0.0145\n"
     ]
    },
    {
     "name": "stderr",
     "output_type": "stream",
     "text": [
      "\u001b[K\u001b[F\u001b[K\u001b[F \u001b[1mIters\u001b[0m    \u001b[1mElapsed Time\u001b[0m      \u001b[1mSpeed\u001b[0m    \u001b[1mepoch\u001b[0m   \u001b[1mloss\u001b[0m                               \n",
      " \u001b[99m38/\u001b[93m80\u001b[0m\u001b[0m  \u001b[99m00:16:01<\u001b[93m00:17:42\u001b[0m\u001b[0m  \u001b[99m0.04it/s\u001b[0m  \u001b[99m38/80\u001b[0m  \u001b[99m0.0145\u001b[0m                              \n",
      "\u001b[1mDescription\u001b[0m  47.5% |\u001b[97m█\u001b[0m\u001b[97m█\u001b[0m\u001b[97m█\u001b[0m\u001b[97m█\u001b[0m\u001b[97m█\u001b[0m\u001b[97m█\u001b[0m\u001b[97m█\u001b[0m\u001b[97m█\u001b[0m\u001b[97m█\u001b[0m\u001b[97m█\u001b[0m\u001b[97m█\u001b[0m\u001b[97m█\u001b[0m\u001b[97m█\u001b[0m\u001b[97m█\u001b[0m\u001b[97m█\u001b[0m\u001b[97m█\u001b[0m\u001b[97m█\u001b[0m\u001b[97m█\u001b[0m\u001b[97m█\u001b[0m\u001b[97m█\u001b[0m\u001b[97m█\u001b[0m\u001b[97m█\u001b[0m\u001b[97m█\u001b[0m\u001b[97m█\u001b[0m\u001b[97m█\u001b[0m\u001b[97m█\u001b[0m\u001b[97m█\u001b[0m\u001b[97m█\u001b[0m                               |"
     ]
    },
    {
     "name": "stdout",
     "output_type": "stream",
     "text": [
      "epoch:39/80,loss: 0.0144\n"
     ]
    },
    {
     "name": "stderr",
     "output_type": "stream",
     "text": [
      "\u001b[K\u001b[F\u001b[K\u001b[F \u001b[1mIters\u001b[0m    \u001b[1mElapsed Time\u001b[0m      \u001b[1mSpeed\u001b[0m    \u001b[1mepoch\u001b[0m   \u001b[1mloss\u001b[0m                               \n",
      " \u001b[99m39/\u001b[93m80\u001b[0m\u001b[0m  \u001b[99m00:16:26<\u001b[93m00:17:16\u001b[0m\u001b[0m  \u001b[99m0.04it/s\u001b[0m  \u001b[99m39/80\u001b[0m  \u001b[99m0.0144\u001b[0m                              \n",
      "\u001b[1mDescription\u001b[0m  48.8% |\u001b[97m█\u001b[0m\u001b[97m█\u001b[0m\u001b[97m█\u001b[0m\u001b[97m█\u001b[0m\u001b[97m█\u001b[0m\u001b[97m█\u001b[0m\u001b[97m█\u001b[0m\u001b[97m█\u001b[0m\u001b[97m█\u001b[0m\u001b[97m█\u001b[0m\u001b[97m█\u001b[0m\u001b[97m█\u001b[0m\u001b[97m█\u001b[0m\u001b[97m█\u001b[0m\u001b[97m█\u001b[0m\u001b[97m█\u001b[0m\u001b[97m█\u001b[0m\u001b[97m█\u001b[0m\u001b[97m█\u001b[0m\u001b[97m█\u001b[0m\u001b[97m█\u001b[0m\u001b[97m█\u001b[0m\u001b[97m█\u001b[0m\u001b[97m█\u001b[0m\u001b[97m█\u001b[0m\u001b[97m█\u001b[0m\u001b[97m█\u001b[0m\u001b[97m█\u001b[0m                               |"
     ]
    },
    {
     "name": "stdout",
     "output_type": "stream",
     "text": [
      "epoch:40/80,loss: 0.0144\n"
     ]
    },
    {
     "name": "stderr",
     "output_type": "stream",
     "text": [
      "\u001b[K\u001b[F\u001b[K\u001b[F \u001b[1mIters\u001b[0m    \u001b[1mElapsed Time\u001b[0m      \u001b[1mSpeed\u001b[0m    \u001b[1mepoch\u001b[0m   \u001b[1mloss\u001b[0m                               \n",
      " \u001b[99m40/\u001b[93m80\u001b[0m\u001b[0m  \u001b[99m00:16:50<\u001b[93m00:16:50\u001b[0m\u001b[0m  \u001b[99m0.04it/s\u001b[0m  \u001b[99m40/80\u001b[0m  \u001b[99m0.0144\u001b[0m                              \n",
      "\u001b[1mDescription\u001b[0m  50.0% |\u001b[97m█\u001b[0m\u001b[97m█\u001b[0m\u001b[97m█\u001b[0m\u001b[97m█\u001b[0m\u001b[97m█\u001b[0m\u001b[97m█\u001b[0m\u001b[97m█\u001b[0m\u001b[97m█\u001b[0m\u001b[97m█\u001b[0m\u001b[97m█\u001b[0m\u001b[97m█\u001b[0m\u001b[97m█\u001b[0m\u001b[97m█\u001b[0m\u001b[97m█\u001b[0m\u001b[97m█\u001b[0m\u001b[97m█\u001b[0m\u001b[97m█\u001b[0m\u001b[97m█\u001b[0m\u001b[97m█\u001b[0m\u001b[97m█\u001b[0m\u001b[97m█\u001b[0m\u001b[97m█\u001b[0m\u001b[97m█\u001b[0m\u001b[97m█\u001b[0m\u001b[97m█\u001b[0m\u001b[97m█\u001b[0m\u001b[97m█\u001b[0m\u001b[97m█\u001b[0m\u001b[97m█\u001b[0m                              |"
     ]
    },
    {
     "name": "stdout",
     "output_type": "stream",
     "text": [
      "epoch:41/80,loss: 0.0144\n"
     ]
    },
    {
     "name": "stderr",
     "output_type": "stream",
     "text": [
      "\u001b[K\u001b[F\u001b[K\u001b[F \u001b[1mIters\u001b[0m    \u001b[1mElapsed Time\u001b[0m      \u001b[1mSpeed\u001b[0m    \u001b[1mepoch\u001b[0m   \u001b[1mloss\u001b[0m                               \n",
      " \u001b[99m41/\u001b[93m80\u001b[0m\u001b[0m  \u001b[99m00:17:15<\u001b[93m00:16:24\u001b[0m\u001b[0m  \u001b[99m0.04it/s\u001b[0m  \u001b[99m41/80\u001b[0m  \u001b[99m0.0144\u001b[0m                              \n",
      "\u001b[1mDescription\u001b[0m  51.2% |\u001b[97m█\u001b[0m\u001b[97m█\u001b[0m\u001b[97m█\u001b[0m\u001b[97m█\u001b[0m\u001b[97m█\u001b[0m\u001b[97m█\u001b[0m\u001b[97m█\u001b[0m\u001b[97m█\u001b[0m\u001b[97m█\u001b[0m\u001b[97m█\u001b[0m\u001b[97m█\u001b[0m\u001b[97m█\u001b[0m\u001b[97m█\u001b[0m\u001b[97m█\u001b[0m\u001b[97m█\u001b[0m\u001b[97m█\u001b[0m\u001b[97m█\u001b[0m\u001b[97m█\u001b[0m\u001b[97m█\u001b[0m\u001b[97m█\u001b[0m\u001b[97m█\u001b[0m\u001b[97m█\u001b[0m\u001b[97m█\u001b[0m\u001b[97m█\u001b[0m\u001b[97m█\u001b[0m\u001b[97m█\u001b[0m\u001b[97m█\u001b[0m\u001b[97m█\u001b[0m\u001b[97m█\u001b[0m\u001b[97m█\u001b[0m                             |\u001b[K\u001b[F\u001b[K\u001b[F \u001b[1mIters\u001b[0m    \u001b[1mElapsed Time\u001b[0m      \u001b[1mSpeed\u001b[0m    \u001b[1mepoch\u001b[0m   \u001b[1mloss\u001b[0m                               \n",
      " \u001b[99m42/\u001b[93m80\u001b[0m\u001b[0m  \u001b[99m00:17:39<\u001b[93m00:15:59\u001b[0m\u001b[0m  \u001b[99m0.04it/s\u001b[0m  \u001b[99m42/80\u001b[0m  \u001b[99m0.0144\u001b[0m                              \n",
      "\u001b[1mDescription\u001b[0m  52.5% |\u001b[97m█\u001b[0m\u001b[97m█\u001b[0m\u001b[97m█\u001b[0m\u001b[97m█\u001b[0m\u001b[97m█\u001b[0m\u001b[97m█\u001b[0m\u001b[97m█\u001b[0m\u001b[97m█\u001b[0m\u001b[97m█\u001b[0m\u001b[97m█\u001b[0m\u001b[97m█\u001b[0m\u001b[97m█\u001b[0m\u001b[97m█\u001b[0m\u001b[97m█\u001b[0m\u001b[97m█\u001b[0m\u001b[97m█\u001b[0m\u001b[97m█\u001b[0m\u001b[97m█\u001b[0m\u001b[97m█\u001b[0m\u001b[97m█\u001b[0m\u001b[97m█\u001b[0m\u001b[97m█\u001b[0m\u001b[97m█\u001b[0m\u001b[97m█\u001b[0m\u001b[97m█\u001b[0m\u001b[97m█\u001b[0m\u001b[97m█\u001b[0m\u001b[97m█\u001b[0m\u001b[97m█\u001b[0m\u001b[97m█\u001b[0m                             |"
     ]
    },
    {
     "name": "stdout",
     "output_type": "stream",
     "text": [
      "epoch:43/80,loss: 0.0143\n"
     ]
    },
    {
     "name": "stderr",
     "output_type": "stream",
     "text": [
      "\u001b[K\u001b[F\u001b[K\u001b[F \u001b[1mIters\u001b[0m    \u001b[1mElapsed Time\u001b[0m      \u001b[1mSpeed\u001b[0m    \u001b[1mepoch\u001b[0m   \u001b[1mloss\u001b[0m                               \n",
      " \u001b[99m43/\u001b[93m80\u001b[0m\u001b[0m  \u001b[99m00:18:04<\u001b[93m00:15:33\u001b[0m\u001b[0m  \u001b[99m0.04it/s\u001b[0m  \u001b[99m43/80\u001b[0m  \u001b[99m0.0143\u001b[0m                              \n",
      "\u001b[1mDescription\u001b[0m  53.8% |\u001b[97m█\u001b[0m\u001b[97m█\u001b[0m\u001b[97m█\u001b[0m\u001b[97m█\u001b[0m\u001b[97m█\u001b[0m\u001b[97m█\u001b[0m\u001b[97m█\u001b[0m\u001b[97m█\u001b[0m\u001b[97m█\u001b[0m\u001b[97m█\u001b[0m\u001b[97m█\u001b[0m\u001b[97m█\u001b[0m\u001b[97m█\u001b[0m\u001b[97m█\u001b[0m\u001b[97m█\u001b[0m\u001b[97m█\u001b[0m\u001b[97m█\u001b[0m\u001b[97m█\u001b[0m\u001b[97m█\u001b[0m\u001b[97m█\u001b[0m\u001b[97m█\u001b[0m\u001b[97m█\u001b[0m\u001b[97m█\u001b[0m\u001b[97m█\u001b[0m\u001b[97m█\u001b[0m\u001b[97m█\u001b[0m\u001b[97m█\u001b[0m\u001b[97m█\u001b[0m\u001b[97m█\u001b[0m\u001b[97m█\u001b[0m\u001b[97m█\u001b[0m                            |"
     ]
    },
    {
     "name": "stdout",
     "output_type": "stream",
     "text": [
      "epoch:44/80,loss: 0.0143\n"
     ]
    },
    {
     "name": "stderr",
     "output_type": "stream",
     "text": [
      "\u001b[K\u001b[F\u001b[K\u001b[F \u001b[1mIters\u001b[0m    \u001b[1mElapsed Time\u001b[0m      \u001b[1mSpeed\u001b[0m    \u001b[1mepoch\u001b[0m   \u001b[1mloss\u001b[0m                               \n",
      " \u001b[99m44/\u001b[93m80\u001b[0m\u001b[0m  \u001b[99m00:18:28<\u001b[93m00:15:07\u001b[0m\u001b[0m  \u001b[99m0.04it/s\u001b[0m  \u001b[99m44/80\u001b[0m  \u001b[99m0.0143\u001b[0m                              \n",
      "\u001b[1mDescription\u001b[0m  55.0% |\u001b[97m█\u001b[0m\u001b[97m█\u001b[0m\u001b[97m█\u001b[0m\u001b[97m█\u001b[0m\u001b[97m█\u001b[0m\u001b[97m█\u001b[0m\u001b[97m█\u001b[0m\u001b[97m█\u001b[0m\u001b[97m█\u001b[0m\u001b[97m█\u001b[0m\u001b[97m█\u001b[0m\u001b[97m█\u001b[0m\u001b[97m█\u001b[0m\u001b[97m█\u001b[0m\u001b[97m█\u001b[0m\u001b[97m█\u001b[0m\u001b[97m█\u001b[0m\u001b[97m█\u001b[0m\u001b[97m█\u001b[0m\u001b[97m█\u001b[0m\u001b[97m█\u001b[0m\u001b[97m█\u001b[0m\u001b[97m█\u001b[0m\u001b[97m█\u001b[0m\u001b[97m█\u001b[0m\u001b[97m█\u001b[0m\u001b[97m█\u001b[0m\u001b[97m█\u001b[0m\u001b[97m█\u001b[0m\u001b[97m█\u001b[0m\u001b[97m█\u001b[0m\u001b[97m█\u001b[0m                           |\u001b[K\u001b[F\u001b[K\u001b[F \u001b[1mIters\u001b[0m    \u001b[1mElapsed Time\u001b[0m      \u001b[1mSpeed\u001b[0m    \u001b[1mepoch\u001b[0m   \u001b[1mloss\u001b[0m                               \n",
      " \u001b[99m45/\u001b[93m80\u001b[0m\u001b[0m  \u001b[99m00:18:52<\u001b[93m00:14:41\u001b[0m\u001b[0m  \u001b[99m0.04it/s\u001b[0m  \u001b[99m45/80\u001b[0m  \u001b[99m0.0143\u001b[0m                              \n",
      "\u001b[1mDescription\u001b[0m  56.2% |\u001b[97m█\u001b[0m\u001b[97m█\u001b[0m\u001b[97m█\u001b[0m\u001b[97m█\u001b[0m\u001b[97m█\u001b[0m\u001b[97m█\u001b[0m\u001b[97m█\u001b[0m\u001b[97m█\u001b[0m\u001b[97m█\u001b[0m\u001b[97m█\u001b[0m\u001b[97m█\u001b[0m\u001b[97m█\u001b[0m\u001b[97m█\u001b[0m\u001b[97m█\u001b[0m\u001b[97m█\u001b[0m\u001b[97m█\u001b[0m\u001b[97m█\u001b[0m\u001b[97m█\u001b[0m\u001b[97m█\u001b[0m\u001b[97m█\u001b[0m\u001b[97m█\u001b[0m\u001b[97m█\u001b[0m\u001b[97m█\u001b[0m\u001b[97m█\u001b[0m\u001b[97m█\u001b[0m\u001b[97m█\u001b[0m\u001b[97m█\u001b[0m\u001b[97m█\u001b[0m\u001b[97m█\u001b[0m\u001b[97m█\u001b[0m\u001b[97m█\u001b[0m\u001b[97m█\u001b[0m\u001b[97m█\u001b[0m                          |"
     ]
    },
    {
     "name": "stdout",
     "output_type": "stream",
     "text": [
      "epoch:46/80,loss: 0.0142\n"
     ]
    },
    {
     "name": "stderr",
     "output_type": "stream",
     "text": [
      "\u001b[K\u001b[F\u001b[K\u001b[F \u001b[1mIters\u001b[0m    \u001b[1mElapsed Time\u001b[0m      \u001b[1mSpeed\u001b[0m    \u001b[1mepoch\u001b[0m   \u001b[1mloss\u001b[0m                               \n",
      " \u001b[99m46/\u001b[93m80\u001b[0m\u001b[0m  \u001b[99m00:19:17<\u001b[93m00:14:15\u001b[0m\u001b[0m  \u001b[99m0.04it/s\u001b[0m  \u001b[99m46/80\u001b[0m  \u001b[99m0.0142\u001b[0m                              \n",
      "\u001b[1mDescription\u001b[0m  57.5% |\u001b[97m█\u001b[0m\u001b[97m█\u001b[0m\u001b[97m█\u001b[0m\u001b[97m█\u001b[0m\u001b[97m█\u001b[0m\u001b[97m█\u001b[0m\u001b[97m█\u001b[0m\u001b[97m█\u001b[0m\u001b[97m█\u001b[0m\u001b[97m█\u001b[0m\u001b[97m█\u001b[0m\u001b[97m█\u001b[0m\u001b[97m█\u001b[0m\u001b[97m█\u001b[0m\u001b[97m█\u001b[0m\u001b[97m█\u001b[0m\u001b[97m█\u001b[0m\u001b[97m█\u001b[0m\u001b[97m█\u001b[0m\u001b[97m█\u001b[0m\u001b[97m█\u001b[0m\u001b[97m█\u001b[0m\u001b[97m█\u001b[0m\u001b[97m█\u001b[0m\u001b[97m█\u001b[0m\u001b[97m█\u001b[0m\u001b[97m█\u001b[0m\u001b[97m█\u001b[0m\u001b[97m█\u001b[0m\u001b[97m█\u001b[0m\u001b[97m█\u001b[0m\u001b[97m█\u001b[0m\u001b[97m█\u001b[0m                          |"
     ]
    },
    {
     "name": "stdout",
     "output_type": "stream",
     "text": [
      "epoch:47/80,loss: 0.0142\n"
     ]
    },
    {
     "name": "stderr",
     "output_type": "stream",
     "text": [
      "\u001b[K\u001b[F\u001b[K\u001b[F \u001b[1mIters\u001b[0m    \u001b[1mElapsed Time\u001b[0m      \u001b[1mSpeed\u001b[0m    \u001b[1mepoch\u001b[0m   \u001b[1mloss\u001b[0m                               \n",
      " \u001b[99m47/\u001b[93m80\u001b[0m\u001b[0m  \u001b[99m00:19:41<\u001b[93m00:13:49\u001b[0m\u001b[0m  \u001b[99m0.04it/s\u001b[0m  \u001b[99m47/80\u001b[0m  \u001b[99m0.0142\u001b[0m                              \n",
      "\u001b[1mDescription\u001b[0m  58.8% |\u001b[97m█\u001b[0m\u001b[97m█\u001b[0m\u001b[97m█\u001b[0m\u001b[97m█\u001b[0m\u001b[97m█\u001b[0m\u001b[97m█\u001b[0m\u001b[97m█\u001b[0m\u001b[97m█\u001b[0m\u001b[97m█\u001b[0m\u001b[97m█\u001b[0m\u001b[97m█\u001b[0m\u001b[97m█\u001b[0m\u001b[97m█\u001b[0m\u001b[97m█\u001b[0m\u001b[97m█\u001b[0m\u001b[97m█\u001b[0m\u001b[97m█\u001b[0m\u001b[97m█\u001b[0m\u001b[97m█\u001b[0m\u001b[97m█\u001b[0m\u001b[97m█\u001b[0m\u001b[97m█\u001b[0m\u001b[97m█\u001b[0m\u001b[97m█\u001b[0m\u001b[97m█\u001b[0m\u001b[97m█\u001b[0m\u001b[97m█\u001b[0m\u001b[97m█\u001b[0m\u001b[97m█\u001b[0m\u001b[97m█\u001b[0m\u001b[97m█\u001b[0m\u001b[97m█\u001b[0m\u001b[97m█\u001b[0m\u001b[97m█\u001b[0m                         |"
     ]
    },
    {
     "name": "stdout",
     "output_type": "stream",
     "text": [
      "epoch:48/80,loss: 0.0142\n"
     ]
    },
    {
     "name": "stderr",
     "output_type": "stream",
     "text": [
      "\u001b[K\u001b[F\u001b[K\u001b[F \u001b[1mIters\u001b[0m    \u001b[1mElapsed Time\u001b[0m      \u001b[1mSpeed\u001b[0m    \u001b[1mepoch\u001b[0m   \u001b[1mloss\u001b[0m                               \n",
      " \u001b[99m48/\u001b[93m80\u001b[0m\u001b[0m  \u001b[99m00:20:06<\u001b[93m00:13:24\u001b[0m\u001b[0m  \u001b[99m0.04it/s\u001b[0m  \u001b[99m48/80\u001b[0m  \u001b[99m0.0142\u001b[0m                              \n",
      "\u001b[1mDescription\u001b[0m  60.0% |\u001b[97m█\u001b[0m\u001b[97m█\u001b[0m\u001b[97m█\u001b[0m\u001b[97m█\u001b[0m\u001b[97m█\u001b[0m\u001b[97m█\u001b[0m\u001b[97m█\u001b[0m\u001b[97m█\u001b[0m\u001b[97m█\u001b[0m\u001b[97m█\u001b[0m\u001b[97m█\u001b[0m\u001b[97m█\u001b[0m\u001b[97m█\u001b[0m\u001b[97m█\u001b[0m\u001b[97m█\u001b[0m\u001b[97m█\u001b[0m\u001b[97m█\u001b[0m\u001b[97m█\u001b[0m\u001b[97m█\u001b[0m\u001b[97m█\u001b[0m\u001b[97m█\u001b[0m\u001b[97m█\u001b[0m\u001b[97m█\u001b[0m\u001b[97m█\u001b[0m\u001b[97m█\u001b[0m\u001b[97m█\u001b[0m\u001b[97m█\u001b[0m\u001b[97m█\u001b[0m\u001b[97m█\u001b[0m\u001b[97m█\u001b[0m\u001b[97m█\u001b[0m\u001b[97m█\u001b[0m\u001b[97m█\u001b[0m\u001b[97m█\u001b[0m\u001b[97m█\u001b[0m                        |"
     ]
    },
    {
     "name": "stdout",
     "output_type": "stream",
     "text": [
      "epoch:49/80,loss: 0.0141\n"
     ]
    },
    {
     "name": "stderr",
     "output_type": "stream",
     "text": [
      "\u001b[K\u001b[F\u001b[K\u001b[F \u001b[1mIters\u001b[0m    \u001b[1mElapsed Time\u001b[0m      \u001b[1mSpeed\u001b[0m    \u001b[1mepoch\u001b[0m   \u001b[1mloss\u001b[0m                               \n",
      " \u001b[99m49/\u001b[93m80\u001b[0m\u001b[0m  \u001b[99m00:20:30<\u001b[93m00:12:58\u001b[0m\u001b[0m  \u001b[99m0.04it/s\u001b[0m  \u001b[99m49/80\u001b[0m  \u001b[99m0.0141\u001b[0m                              \n",
      "\u001b[1mDescription\u001b[0m  61.3% |\u001b[97m█\u001b[0m\u001b[97m█\u001b[0m\u001b[97m█\u001b[0m\u001b[97m█\u001b[0m\u001b[97m█\u001b[0m\u001b[97m█\u001b[0m\u001b[97m█\u001b[0m\u001b[97m█\u001b[0m\u001b[97m█\u001b[0m\u001b[97m█\u001b[0m\u001b[97m█\u001b[0m\u001b[97m█\u001b[0m\u001b[97m█\u001b[0m\u001b[97m█\u001b[0m\u001b[97m█\u001b[0m\u001b[97m█\u001b[0m\u001b[97m█\u001b[0m\u001b[97m█\u001b[0m\u001b[97m█\u001b[0m\u001b[97m█\u001b[0m\u001b[97m█\u001b[0m\u001b[97m█\u001b[0m\u001b[97m█\u001b[0m\u001b[97m█\u001b[0m\u001b[97m█\u001b[0m\u001b[97m█\u001b[0m\u001b[97m█\u001b[0m\u001b[97m█\u001b[0m\u001b[97m█\u001b[0m\u001b[97m█\u001b[0m\u001b[97m█\u001b[0m\u001b[97m█\u001b[0m\u001b[97m█\u001b[0m\u001b[97m█\u001b[0m\u001b[97m█\u001b[0m\u001b[97m█\u001b[0m                       |"
     ]
    },
    {
     "name": "stdout",
     "output_type": "stream",
     "text": [
      "epoch:50/80,loss: 0.0141\n"
     ]
    },
    {
     "name": "stderr",
     "output_type": "stream",
     "text": [
      "\u001b[K\u001b[F\u001b[K\u001b[F \u001b[1mIters\u001b[0m    \u001b[1mElapsed Time\u001b[0m      \u001b[1mSpeed\u001b[0m    \u001b[1mepoch\u001b[0m   \u001b[1mloss\u001b[0m                               \n",
      " \u001b[99m50/\u001b[93m80\u001b[0m\u001b[0m  \u001b[99m00:20:55<\u001b[93m00:12:33\u001b[0m\u001b[0m  \u001b[99m0.04it/s\u001b[0m  \u001b[99m50/80\u001b[0m  \u001b[99m0.0141\u001b[0m                              \n",
      "\u001b[1mDescription\u001b[0m  62.5% |\u001b[97m█\u001b[0m\u001b[97m█\u001b[0m\u001b[97m█\u001b[0m\u001b[97m█\u001b[0m\u001b[97m█\u001b[0m\u001b[97m█\u001b[0m\u001b[97m█\u001b[0m\u001b[97m█\u001b[0m\u001b[97m█\u001b[0m\u001b[97m█\u001b[0m\u001b[97m█\u001b[0m\u001b[97m█\u001b[0m\u001b[97m█\u001b[0m\u001b[97m█\u001b[0m\u001b[97m█\u001b[0m\u001b[97m█\u001b[0m\u001b[97m█\u001b[0m\u001b[97m█\u001b[0m\u001b[97m█\u001b[0m\u001b[97m█\u001b[0m\u001b[97m█\u001b[0m\u001b[97m█\u001b[0m\u001b[97m█\u001b[0m\u001b[97m█\u001b[0m\u001b[97m█\u001b[0m\u001b[97m█\u001b[0m\u001b[97m█\u001b[0m\u001b[97m█\u001b[0m\u001b[97m█\u001b[0m\u001b[97m█\u001b[0m\u001b[97m█\u001b[0m\u001b[97m█\u001b[0m\u001b[97m█\u001b[0m\u001b[97m█\u001b[0m\u001b[97m█\u001b[0m\u001b[97m█\u001b[0m                       |\u001b[K\u001b[F\u001b[K\u001b[F \u001b[1mIters\u001b[0m    \u001b[1mElapsed Time\u001b[0m      \u001b[1mSpeed\u001b[0m    \u001b[1mepoch\u001b[0m   \u001b[1mloss\u001b[0m                               \n",
      " \u001b[99m51/\u001b[93m80\u001b[0m\u001b[0m  \u001b[99m00:21:19<\u001b[93m00:12:07\u001b[0m\u001b[0m  \u001b[99m0.04it/s\u001b[0m  \u001b[99m51/80\u001b[0m  \u001b[99m0.0141\u001b[0m                              \n",
      "\u001b[1mDescription\u001b[0m  63.7% |\u001b[97m█\u001b[0m\u001b[97m█\u001b[0m\u001b[97m█\u001b[0m\u001b[97m█\u001b[0m\u001b[97m█\u001b[0m\u001b[97m█\u001b[0m\u001b[97m█\u001b[0m\u001b[97m█\u001b[0m\u001b[97m█\u001b[0m\u001b[97m█\u001b[0m\u001b[97m█\u001b[0m\u001b[97m█\u001b[0m\u001b[97m█\u001b[0m\u001b[97m█\u001b[0m\u001b[97m█\u001b[0m\u001b[97m█\u001b[0m\u001b[97m█\u001b[0m\u001b[97m█\u001b[0m\u001b[97m█\u001b[0m\u001b[97m█\u001b[0m\u001b[97m█\u001b[0m\u001b[97m█\u001b[0m\u001b[97m█\u001b[0m\u001b[97m█\u001b[0m\u001b[97m█\u001b[0m\u001b[97m█\u001b[0m\u001b[97m█\u001b[0m\u001b[97m█\u001b[0m\u001b[97m█\u001b[0m\u001b[97m█\u001b[0m\u001b[97m█\u001b[0m\u001b[97m█\u001b[0m\u001b[97m█\u001b[0m\u001b[97m█\u001b[0m\u001b[97m█\u001b[0m\u001b[97m█\u001b[0m\u001b[97m█\u001b[0m                      |"
     ]
    },
    {
     "name": "stdout",
     "output_type": "stream",
     "text": [
      "epoch:52/80,loss: 0.0140\n"
     ]
    },
    {
     "name": "stderr",
     "output_type": "stream",
     "text": [
      "\u001b[K\u001b[F\u001b[K\u001b[F \u001b[1mIters\u001b[0m    \u001b[1mElapsed Time\u001b[0m      \u001b[1mSpeed\u001b[0m    \u001b[1mepoch\u001b[0m   \u001b[1mloss\u001b[0m                               \n",
      " \u001b[99m52/\u001b[93m80\u001b[0m\u001b[0m  \u001b[99m00:21:44<\u001b[93m00:11:42\u001b[0m\u001b[0m  \u001b[99m0.04it/s\u001b[0m  \u001b[99m52/80\u001b[0m  \u001b[99m0.0140\u001b[0m                              \n",
      "\u001b[1mDescription\u001b[0m  65.0% |\u001b[97m█\u001b[0m\u001b[97m█\u001b[0m\u001b[97m█\u001b[0m\u001b[97m█\u001b[0m\u001b[97m█\u001b[0m\u001b[97m█\u001b[0m\u001b[97m█\u001b[0m\u001b[97m█\u001b[0m\u001b[97m█\u001b[0m\u001b[97m█\u001b[0m\u001b[97m█\u001b[0m\u001b[97m█\u001b[0m\u001b[97m█\u001b[0m\u001b[97m█\u001b[0m\u001b[97m█\u001b[0m\u001b[97m█\u001b[0m\u001b[97m█\u001b[0m\u001b[97m█\u001b[0m\u001b[97m█\u001b[0m\u001b[97m█\u001b[0m\u001b[97m█\u001b[0m\u001b[97m█\u001b[0m\u001b[97m█\u001b[0m\u001b[97m█\u001b[0m\u001b[97m█\u001b[0m\u001b[97m█\u001b[0m\u001b[97m█\u001b[0m\u001b[97m█\u001b[0m\u001b[97m█\u001b[0m\u001b[97m█\u001b[0m\u001b[97m█\u001b[0m\u001b[97m█\u001b[0m\u001b[97m█\u001b[0m\u001b[97m█\u001b[0m\u001b[97m█\u001b[0m\u001b[97m█\u001b[0m\u001b[97m█\u001b[0m\u001b[97m█\u001b[0m                     |\u001b[K\u001b[F\u001b[K\u001b[F \u001b[1mIters\u001b[0m    \u001b[1mElapsed Time\u001b[0m      \u001b[1mSpeed\u001b[0m    \u001b[1mepoch\u001b[0m   \u001b[1mloss\u001b[0m                               \n",
      " \u001b[99m53/\u001b[93m80\u001b[0m\u001b[0m  \u001b[99m00:22:08<\u001b[93m00:11:16\u001b[0m\u001b[0m  \u001b[99m0.04it/s\u001b[0m  \u001b[99m53/80\u001b[0m  \u001b[99m0.0141\u001b[0m                              \n",
      "\u001b[1mDescription\u001b[0m  66.2% |\u001b[97m█\u001b[0m\u001b[97m█\u001b[0m\u001b[97m█\u001b[0m\u001b[97m█\u001b[0m\u001b[97m█\u001b[0m\u001b[97m█\u001b[0m\u001b[97m█\u001b[0m\u001b[97m█\u001b[0m\u001b[97m█\u001b[0m\u001b[97m█\u001b[0m\u001b[97m█\u001b[0m\u001b[97m█\u001b[0m\u001b[97m█\u001b[0m\u001b[97m█\u001b[0m\u001b[97m█\u001b[0m\u001b[97m█\u001b[0m\u001b[97m█\u001b[0m\u001b[97m█\u001b[0m\u001b[97m█\u001b[0m\u001b[97m█\u001b[0m\u001b[97m█\u001b[0m\u001b[97m█\u001b[0m\u001b[97m█\u001b[0m\u001b[97m█\u001b[0m\u001b[97m█\u001b[0m\u001b[97m█\u001b[0m\u001b[97m█\u001b[0m\u001b[97m█\u001b[0m\u001b[97m█\u001b[0m\u001b[97m█\u001b[0m\u001b[97m█\u001b[0m\u001b[97m█\u001b[0m\u001b[97m█\u001b[0m\u001b[97m█\u001b[0m\u001b[97m█\u001b[0m\u001b[97m█\u001b[0m\u001b[97m█\u001b[0m\u001b[97m█\u001b[0m\u001b[97m█\u001b[0m                    |"
     ]
    },
    {
     "name": "stdout",
     "output_type": "stream",
     "text": [
      "epoch:54/80,loss: 0.0140\n"
     ]
    },
    {
     "name": "stderr",
     "output_type": "stream",
     "text": [
      "\u001b[K\u001b[F\u001b[K\u001b[F \u001b[1mIters\u001b[0m    \u001b[1mElapsed Time\u001b[0m      \u001b[1mSpeed\u001b[0m    \u001b[1mepoch\u001b[0m   \u001b[1mloss\u001b[0m                               \n",
      " \u001b[99m54/\u001b[93m80\u001b[0m\u001b[0m  \u001b[99m00:22:32<\u001b[93m00:10:51\u001b[0m\u001b[0m  \u001b[99m0.04it/s\u001b[0m  \u001b[99m54/80\u001b[0m  \u001b[99m0.0140\u001b[0m                              \n",
      "\u001b[1mDescription\u001b[0m  67.5% |\u001b[97m█\u001b[0m\u001b[97m█\u001b[0m\u001b[97m█\u001b[0m\u001b[97m█\u001b[0m\u001b[97m█\u001b[0m\u001b[97m█\u001b[0m\u001b[97m█\u001b[0m\u001b[97m█\u001b[0m\u001b[97m█\u001b[0m\u001b[97m█\u001b[0m\u001b[97m█\u001b[0m\u001b[97m█\u001b[0m\u001b[97m█\u001b[0m\u001b[97m█\u001b[0m\u001b[97m█\u001b[0m\u001b[97m█\u001b[0m\u001b[97m█\u001b[0m\u001b[97m█\u001b[0m\u001b[97m█\u001b[0m\u001b[97m█\u001b[0m\u001b[97m█\u001b[0m\u001b[97m█\u001b[0m\u001b[97m█\u001b[0m\u001b[97m█\u001b[0m\u001b[97m█\u001b[0m\u001b[97m█\u001b[0m\u001b[97m█\u001b[0m\u001b[97m█\u001b[0m\u001b[97m█\u001b[0m\u001b[97m█\u001b[0m\u001b[97m█\u001b[0m\u001b[97m█\u001b[0m\u001b[97m█\u001b[0m\u001b[97m█\u001b[0m\u001b[97m█\u001b[0m\u001b[97m█\u001b[0m\u001b[97m█\u001b[0m\u001b[97m█\u001b[0m\u001b[97m█\u001b[0m                    |"
     ]
    },
    {
     "name": "stdout",
     "output_type": "stream",
     "text": [
      "epoch:55/80,loss: 0.0140\n"
     ]
    },
    {
     "name": "stderr",
     "output_type": "stream",
     "text": [
      "\u001b[K\u001b[F\u001b[K\u001b[F \u001b[1mIters\u001b[0m    \u001b[1mElapsed Time\u001b[0m      \u001b[1mSpeed\u001b[0m    \u001b[1mepoch\u001b[0m   \u001b[1mloss\u001b[0m                               \n",
      " \u001b[99m55/\u001b[93m80\u001b[0m\u001b[0m  \u001b[99m00:22:57<\u001b[93m00:10:26\u001b[0m\u001b[0m  \u001b[99m0.04it/s\u001b[0m  \u001b[99m55/80\u001b[0m  \u001b[99m0.0140\u001b[0m                              \n",
      "\u001b[1mDescription\u001b[0m  68.8% |\u001b[97m█\u001b[0m\u001b[97m█\u001b[0m\u001b[97m█\u001b[0m\u001b[97m█\u001b[0m\u001b[97m█\u001b[0m\u001b[97m█\u001b[0m\u001b[97m█\u001b[0m\u001b[97m█\u001b[0m\u001b[97m█\u001b[0m\u001b[97m█\u001b[0m\u001b[97m█\u001b[0m\u001b[97m█\u001b[0m\u001b[97m█\u001b[0m\u001b[97m█\u001b[0m\u001b[97m█\u001b[0m\u001b[97m█\u001b[0m\u001b[97m█\u001b[0m\u001b[97m█\u001b[0m\u001b[97m█\u001b[0m\u001b[97m█\u001b[0m\u001b[97m█\u001b[0m\u001b[97m█\u001b[0m\u001b[97m█\u001b[0m\u001b[97m█\u001b[0m\u001b[97m█\u001b[0m\u001b[97m█\u001b[0m\u001b[97m█\u001b[0m\u001b[97m█\u001b[0m\u001b[97m█\u001b[0m\u001b[97m█\u001b[0m\u001b[97m█\u001b[0m\u001b[97m█\u001b[0m\u001b[97m█\u001b[0m\u001b[97m█\u001b[0m\u001b[97m█\u001b[0m\u001b[97m█\u001b[0m\u001b[97m█\u001b[0m\u001b[97m█\u001b[0m\u001b[97m█\u001b[0m\u001b[97m█\u001b[0m                   |"
     ]
    },
    {
     "name": "stdout",
     "output_type": "stream",
     "text": [
      "epoch:56/80,loss: 0.0140\n"
     ]
    },
    {
     "name": "stderr",
     "output_type": "stream",
     "text": [
      "\u001b[K\u001b[F\u001b[K\u001b[F \u001b[1mIters\u001b[0m    \u001b[1mElapsed Time\u001b[0m      \u001b[1mSpeed\u001b[0m    \u001b[1mepoch\u001b[0m   \u001b[1mloss\u001b[0m                               \n",
      " \u001b[99m56/\u001b[93m80\u001b[0m\u001b[0m  \u001b[99m00:23:22<\u001b[93m00:10:00\u001b[0m\u001b[0m  \u001b[99m0.04it/s\u001b[0m  \u001b[99m56/80\u001b[0m  \u001b[99m0.0140\u001b[0m                              \n",
      "\u001b[1mDescription\u001b[0m  70.0% |\u001b[97m█\u001b[0m\u001b[97m█\u001b[0m\u001b[97m█\u001b[0m\u001b[97m█\u001b[0m\u001b[97m█\u001b[0m\u001b[97m█\u001b[0m\u001b[97m█\u001b[0m\u001b[97m█\u001b[0m\u001b[97m█\u001b[0m\u001b[97m█\u001b[0m\u001b[97m█\u001b[0m\u001b[97m█\u001b[0m\u001b[97m█\u001b[0m\u001b[97m█\u001b[0m\u001b[97m█\u001b[0m\u001b[97m█\u001b[0m\u001b[97m█\u001b[0m\u001b[97m█\u001b[0m\u001b[97m█\u001b[0m\u001b[97m█\u001b[0m\u001b[97m█\u001b[0m\u001b[97m█\u001b[0m\u001b[97m█\u001b[0m\u001b[97m█\u001b[0m\u001b[97m█\u001b[0m\u001b[97m█\u001b[0m\u001b[97m█\u001b[0m\u001b[97m█\u001b[0m\u001b[97m█\u001b[0m\u001b[97m█\u001b[0m\u001b[97m█\u001b[0m\u001b[97m█\u001b[0m\u001b[97m█\u001b[0m\u001b[97m█\u001b[0m\u001b[97m█\u001b[0m\u001b[97m█\u001b[0m\u001b[97m█\u001b[0m\u001b[97m█\u001b[0m\u001b[97m█\u001b[0m\u001b[97m█\u001b[0m\u001b[97m█\u001b[0m                  |"
     ]
    },
    {
     "name": "stdout",
     "output_type": "stream",
     "text": [
      "epoch:57/80,loss: 0.0140\n"
     ]
    },
    {
     "name": "stderr",
     "output_type": "stream",
     "text": [
      "\u001b[K\u001b[F\u001b[K\u001b[F \u001b[1mIters\u001b[0m    \u001b[1mElapsed Time\u001b[0m      \u001b[1mSpeed\u001b[0m    \u001b[1mepoch\u001b[0m   \u001b[1mloss\u001b[0m                               \n",
      " \u001b[99m57/\u001b[93m80\u001b[0m\u001b[0m  \u001b[99m00:23:47<\u001b[93m00:09:35\u001b[0m\u001b[0m  \u001b[99m0.04it/s\u001b[0m  \u001b[99m57/80\u001b[0m  \u001b[99m0.0140\u001b[0m                              \n",
      "\u001b[1mDescription\u001b[0m  71.2% |\u001b[97m█\u001b[0m\u001b[97m█\u001b[0m\u001b[97m█\u001b[0m\u001b[97m█\u001b[0m\u001b[97m█\u001b[0m\u001b[97m█\u001b[0m\u001b[97m█\u001b[0m\u001b[97m█\u001b[0m\u001b[97m█\u001b[0m\u001b[97m█\u001b[0m\u001b[97m█\u001b[0m\u001b[97m█\u001b[0m\u001b[97m█\u001b[0m\u001b[97m█\u001b[0m\u001b[97m█\u001b[0m\u001b[97m█\u001b[0m\u001b[97m█\u001b[0m\u001b[97m█\u001b[0m\u001b[97m█\u001b[0m\u001b[97m█\u001b[0m\u001b[97m█\u001b[0m\u001b[97m█\u001b[0m\u001b[97m█\u001b[0m\u001b[97m█\u001b[0m\u001b[97m█\u001b[0m\u001b[97m█\u001b[0m\u001b[97m█\u001b[0m\u001b[97m█\u001b[0m\u001b[97m█\u001b[0m\u001b[97m█\u001b[0m\u001b[97m█\u001b[0m\u001b[97m█\u001b[0m\u001b[97m█\u001b[0m\u001b[97m█\u001b[0m\u001b[97m█\u001b[0m\u001b[97m█\u001b[0m\u001b[97m█\u001b[0m\u001b[97m█\u001b[0m\u001b[97m█\u001b[0m\u001b[97m█\u001b[0m\u001b[97m█\u001b[0m\u001b[97m█\u001b[0m                 |"
     ]
    },
    {
     "name": "stdout",
     "output_type": "stream",
     "text": [
      "epoch:58/80,loss: 0.0139\n"
     ]
    },
    {
     "name": "stderr",
     "output_type": "stream",
     "text": [
      "\u001b[K\u001b[F\u001b[K\u001b[F \u001b[1mIters\u001b[0m    \u001b[1mElapsed Time\u001b[0m      \u001b[1mSpeed\u001b[0m    \u001b[1mepoch\u001b[0m   \u001b[1mloss\u001b[0m                               \n",
      " \u001b[99m58/\u001b[93m80\u001b[0m\u001b[0m  \u001b[99m00:24:11<\u001b[93m00:09:10\u001b[0m\u001b[0m  \u001b[99m0.04it/s\u001b[0m  \u001b[99m58/80\u001b[0m  \u001b[99m0.0139\u001b[0m                              \n",
      "\u001b[1mDescription\u001b[0m  72.5% |\u001b[97m█\u001b[0m\u001b[97m█\u001b[0m\u001b[97m█\u001b[0m\u001b[97m█\u001b[0m\u001b[97m█\u001b[0m\u001b[97m█\u001b[0m\u001b[97m█\u001b[0m\u001b[97m█\u001b[0m\u001b[97m█\u001b[0m\u001b[97m█\u001b[0m\u001b[97m█\u001b[0m\u001b[97m█\u001b[0m\u001b[97m█\u001b[0m\u001b[97m█\u001b[0m\u001b[97m█\u001b[0m\u001b[97m█\u001b[0m\u001b[97m█\u001b[0m\u001b[97m█\u001b[0m\u001b[97m█\u001b[0m\u001b[97m█\u001b[0m\u001b[97m█\u001b[0m\u001b[97m█\u001b[0m\u001b[97m█\u001b[0m\u001b[97m█\u001b[0m\u001b[97m█\u001b[0m\u001b[97m█\u001b[0m\u001b[97m█\u001b[0m\u001b[97m█\u001b[0m\u001b[97m█\u001b[0m\u001b[97m█\u001b[0m\u001b[97m█\u001b[0m\u001b[97m█\u001b[0m\u001b[97m█\u001b[0m\u001b[97m█\u001b[0m\u001b[97m█\u001b[0m\u001b[97m█\u001b[0m\u001b[97m█\u001b[0m\u001b[97m█\u001b[0m\u001b[97m█\u001b[0m\u001b[97m█\u001b[0m\u001b[97m█\u001b[0m\u001b[97m█\u001b[0m                 |"
     ]
    },
    {
     "name": "stdout",
     "output_type": "stream",
     "text": [
      "epoch:59/80,loss: 0.0139\n"
     ]
    },
    {
     "name": "stderr",
     "output_type": "stream",
     "text": [
      "\u001b[K\u001b[F\u001b[K\u001b[F \u001b[1mIters\u001b[0m    \u001b[1mElapsed Time\u001b[0m      \u001b[1mSpeed\u001b[0m    \u001b[1mepoch\u001b[0m   \u001b[1mloss\u001b[0m                               \n",
      " \u001b[99m59/\u001b[93m80\u001b[0m\u001b[0m  \u001b[99m00:24:35<\u001b[93m00:08:45\u001b[0m\u001b[0m  \u001b[99m0.04it/s\u001b[0m  \u001b[99m59/80\u001b[0m  \u001b[99m0.0139\u001b[0m                              \n",
      "\u001b[1mDescription\u001b[0m  73.8% |\u001b[97m█\u001b[0m\u001b[97m█\u001b[0m\u001b[97m█\u001b[0m\u001b[97m█\u001b[0m\u001b[97m█\u001b[0m\u001b[97m█\u001b[0m\u001b[97m█\u001b[0m\u001b[97m█\u001b[0m\u001b[97m█\u001b[0m\u001b[97m█\u001b[0m\u001b[97m█\u001b[0m\u001b[97m█\u001b[0m\u001b[97m█\u001b[0m\u001b[97m█\u001b[0m\u001b[97m█\u001b[0m\u001b[97m█\u001b[0m\u001b[97m█\u001b[0m\u001b[97m█\u001b[0m\u001b[97m█\u001b[0m\u001b[97m█\u001b[0m\u001b[97m█\u001b[0m\u001b[97m█\u001b[0m\u001b[97m█\u001b[0m\u001b[97m█\u001b[0m\u001b[97m█\u001b[0m\u001b[97m█\u001b[0m\u001b[97m█\u001b[0m\u001b[97m█\u001b[0m\u001b[97m█\u001b[0m\u001b[97m█\u001b[0m\u001b[97m█\u001b[0m\u001b[97m█\u001b[0m\u001b[97m█\u001b[0m\u001b[97m█\u001b[0m\u001b[97m█\u001b[0m\u001b[97m█\u001b[0m\u001b[97m█\u001b[0m\u001b[97m█\u001b[0m\u001b[97m█\u001b[0m\u001b[97m█\u001b[0m\u001b[97m█\u001b[0m\u001b[97m█\u001b[0m\u001b[97m█\u001b[0m                |"
     ]
    },
    {
     "name": "stdout",
     "output_type": "stream",
     "text": [
      "epoch:60/80,loss: 0.0139\n"
     ]
    },
    {
     "name": "stderr",
     "output_type": "stream",
     "text": [
      "\u001b[K\u001b[F\u001b[K\u001b[F \u001b[1mIters\u001b[0m    \u001b[1mElapsed Time\u001b[0m      \u001b[1mSpeed\u001b[0m    \u001b[1mepoch\u001b[0m   \u001b[1mloss\u001b[0m                               \n",
      " \u001b[99m60/\u001b[93m80\u001b[0m\u001b[0m  \u001b[99m00:25:00<\u001b[93m00:08:20\u001b[0m\u001b[0m  \u001b[99m0.04it/s\u001b[0m  \u001b[99m60/80\u001b[0m  \u001b[99m0.0139\u001b[0m                              \n",
      "\u001b[1mDescription\u001b[0m  75.0% |\u001b[97m█\u001b[0m\u001b[97m█\u001b[0m\u001b[97m█\u001b[0m\u001b[97m█\u001b[0m\u001b[97m█\u001b[0m\u001b[97m█\u001b[0m\u001b[97m█\u001b[0m\u001b[97m█\u001b[0m\u001b[97m█\u001b[0m\u001b[97m█\u001b[0m\u001b[97m█\u001b[0m\u001b[97m█\u001b[0m\u001b[97m█\u001b[0m\u001b[97m█\u001b[0m\u001b[97m█\u001b[0m\u001b[97m█\u001b[0m\u001b[97m█\u001b[0m\u001b[97m█\u001b[0m\u001b[97m█\u001b[0m\u001b[97m█\u001b[0m\u001b[97m█\u001b[0m\u001b[97m█\u001b[0m\u001b[97m█\u001b[0m\u001b[97m█\u001b[0m\u001b[97m█\u001b[0m\u001b[97m█\u001b[0m\u001b[97m█\u001b[0m\u001b[97m█\u001b[0m\u001b[97m█\u001b[0m\u001b[97m█\u001b[0m\u001b[97m█\u001b[0m\u001b[97m█\u001b[0m\u001b[97m█\u001b[0m\u001b[97m█\u001b[0m\u001b[97m█\u001b[0m\u001b[97m█\u001b[0m\u001b[97m█\u001b[0m\u001b[97m█\u001b[0m\u001b[97m█\u001b[0m\u001b[97m█\u001b[0m\u001b[97m█\u001b[0m\u001b[97m█\u001b[0m\u001b[97m█\u001b[0m\u001b[97m█\u001b[0m               |"
     ]
    },
    {
     "name": "stdout",
     "output_type": "stream",
     "text": [
      "epoch:61/80,loss: 0.0139\n"
     ]
    },
    {
     "name": "stderr",
     "output_type": "stream",
     "text": [
      "\u001b[K\u001b[F\u001b[K\u001b[F \u001b[1mIters\u001b[0m    \u001b[1mElapsed Time\u001b[0m      \u001b[1mSpeed\u001b[0m    \u001b[1mepoch\u001b[0m   \u001b[1mloss\u001b[0m                               \n",
      " \u001b[99m61/\u001b[93m80\u001b[0m\u001b[0m  \u001b[99m00:25:24<\u001b[93m00:07:54\u001b[0m\u001b[0m  \u001b[99m0.04it/s\u001b[0m  \u001b[99m61/80\u001b[0m  \u001b[99m0.0139\u001b[0m                              \n",
      "\u001b[1mDescription\u001b[0m  76.2% |\u001b[97m█\u001b[0m\u001b[97m█\u001b[0m\u001b[97m█\u001b[0m\u001b[97m█\u001b[0m\u001b[97m█\u001b[0m\u001b[97m█\u001b[0m\u001b[97m█\u001b[0m\u001b[97m█\u001b[0m\u001b[97m█\u001b[0m\u001b[97m█\u001b[0m\u001b[97m█\u001b[0m\u001b[97m█\u001b[0m\u001b[97m█\u001b[0m\u001b[97m█\u001b[0m\u001b[97m█\u001b[0m\u001b[97m█\u001b[0m\u001b[97m█\u001b[0m\u001b[97m█\u001b[0m\u001b[97m█\u001b[0m\u001b[97m█\u001b[0m\u001b[97m█\u001b[0m\u001b[97m█\u001b[0m\u001b[97m█\u001b[0m\u001b[97m█\u001b[0m\u001b[97m█\u001b[0m\u001b[97m█\u001b[0m\u001b[97m█\u001b[0m\u001b[97m█\u001b[0m\u001b[97m█\u001b[0m\u001b[97m█\u001b[0m\u001b[97m█\u001b[0m\u001b[97m█\u001b[0m\u001b[97m█\u001b[0m\u001b[97m█\u001b[0m\u001b[97m█\u001b[0m\u001b[97m█\u001b[0m\u001b[97m█\u001b[0m\u001b[97m█\u001b[0m\u001b[97m█\u001b[0m\u001b[97m█\u001b[0m\u001b[97m█\u001b[0m\u001b[97m█\u001b[0m\u001b[97m█\u001b[0m\u001b[97m█\u001b[0m               |"
     ]
    },
    {
     "name": "stdout",
     "output_type": "stream",
     "text": [
      "epoch:62/80,loss: 0.0138\n"
     ]
    },
    {
     "name": "stderr",
     "output_type": "stream",
     "text": [
      "\u001b[K\u001b[F\u001b[K\u001b[F \u001b[1mIters\u001b[0m    \u001b[1mElapsed Time\u001b[0m      \u001b[1mSpeed\u001b[0m    \u001b[1mepoch\u001b[0m   \u001b[1mloss\u001b[0m                               \n",
      " \u001b[99m62/\u001b[93m80\u001b[0m\u001b[0m  \u001b[99m00:25:48<\u001b[93m00:07:29\u001b[0m\u001b[0m  \u001b[99m0.04it/s\u001b[0m  \u001b[99m62/80\u001b[0m  \u001b[99m0.0138\u001b[0m                              \n",
      "\u001b[1mDescription\u001b[0m  77.5% |\u001b[97m█\u001b[0m\u001b[97m█\u001b[0m\u001b[97m█\u001b[0m\u001b[97m█\u001b[0m\u001b[97m█\u001b[0m\u001b[97m█\u001b[0m\u001b[97m█\u001b[0m\u001b[97m█\u001b[0m\u001b[97m█\u001b[0m\u001b[97m█\u001b[0m\u001b[97m█\u001b[0m\u001b[97m█\u001b[0m\u001b[97m█\u001b[0m\u001b[97m█\u001b[0m\u001b[97m█\u001b[0m\u001b[97m█\u001b[0m\u001b[97m█\u001b[0m\u001b[97m█\u001b[0m\u001b[97m█\u001b[0m\u001b[97m█\u001b[0m\u001b[97m█\u001b[0m\u001b[97m█\u001b[0m\u001b[97m█\u001b[0m\u001b[97m█\u001b[0m\u001b[97m█\u001b[0m\u001b[97m█\u001b[0m\u001b[97m█\u001b[0m\u001b[97m█\u001b[0m\u001b[97m█\u001b[0m\u001b[97m█\u001b[0m\u001b[97m█\u001b[0m\u001b[97m█\u001b[0m\u001b[97m█\u001b[0m\u001b[97m█\u001b[0m\u001b[97m█\u001b[0m\u001b[97m█\u001b[0m\u001b[97m█\u001b[0m\u001b[97m█\u001b[0m\u001b[97m█\u001b[0m\u001b[97m█\u001b[0m\u001b[97m█\u001b[0m\u001b[97m█\u001b[0m\u001b[97m█\u001b[0m\u001b[97m█\u001b[0m\u001b[97m█\u001b[0m              |"
     ]
    },
    {
     "name": "stdout",
     "output_type": "stream",
     "text": [
      "epoch:63/80,loss: 0.0138\n"
     ]
    },
    {
     "name": "stderr",
     "output_type": "stream",
     "text": [
      "\u001b[K\u001b[F\u001b[K\u001b[F \u001b[1mIters\u001b[0m    \u001b[1mElapsed Time\u001b[0m      \u001b[1mSpeed\u001b[0m    \u001b[1mepoch\u001b[0m   \u001b[1mloss\u001b[0m                               \n",
      " \u001b[99m63/\u001b[93m80\u001b[0m\u001b[0m  \u001b[99m00:26:13<\u001b[93m00:07:04\u001b[0m\u001b[0m  \u001b[99m0.04it/s\u001b[0m  \u001b[99m63/80\u001b[0m  \u001b[99m0.0138\u001b[0m                              \n",
      "\u001b[1mDescription\u001b[0m  78.8% |\u001b[97m█\u001b[0m\u001b[97m█\u001b[0m\u001b[97m█\u001b[0m\u001b[97m█\u001b[0m\u001b[97m█\u001b[0m\u001b[97m█\u001b[0m\u001b[97m█\u001b[0m\u001b[97m█\u001b[0m\u001b[97m█\u001b[0m\u001b[97m█\u001b[0m\u001b[97m█\u001b[0m\u001b[97m█\u001b[0m\u001b[97m█\u001b[0m\u001b[97m█\u001b[0m\u001b[97m█\u001b[0m\u001b[97m█\u001b[0m\u001b[97m█\u001b[0m\u001b[97m█\u001b[0m\u001b[97m█\u001b[0m\u001b[97m█\u001b[0m\u001b[97m█\u001b[0m\u001b[97m█\u001b[0m\u001b[97m█\u001b[0m\u001b[97m█\u001b[0m\u001b[97m█\u001b[0m\u001b[97m█\u001b[0m\u001b[97m█\u001b[0m\u001b[97m█\u001b[0m\u001b[97m█\u001b[0m\u001b[97m█\u001b[0m\u001b[97m█\u001b[0m\u001b[97m█\u001b[0m\u001b[97m█\u001b[0m\u001b[97m█\u001b[0m\u001b[97m█\u001b[0m\u001b[97m█\u001b[0m\u001b[97m█\u001b[0m\u001b[97m█\u001b[0m\u001b[97m█\u001b[0m\u001b[97m█\u001b[0m\u001b[97m█\u001b[0m\u001b[97m█\u001b[0m\u001b[97m█\u001b[0m\u001b[97m█\u001b[0m\u001b[97m█\u001b[0m\u001b[97m█\u001b[0m             |\u001b[K\u001b[F\u001b[K\u001b[F \u001b[1mIters\u001b[0m    \u001b[1mElapsed Time\u001b[0m      \u001b[1mSpeed\u001b[0m    \u001b[1mepoch\u001b[0m   \u001b[1mloss\u001b[0m                               \n",
      " \u001b[99m64/\u001b[93m80\u001b[0m\u001b[0m  \u001b[99m00:26:38<\u001b[93m00:06:39\u001b[0m\u001b[0m  \u001b[99m0.04it/s\u001b[0m  \u001b[99m64/80\u001b[0m  \u001b[99m0.0138\u001b[0m                              \n",
      "\u001b[1mDescription\u001b[0m  80.0% |\u001b[97m█\u001b[0m\u001b[97m█\u001b[0m\u001b[97m█\u001b[0m\u001b[97m█\u001b[0m\u001b[97m█\u001b[0m\u001b[97m█\u001b[0m\u001b[97m█\u001b[0m\u001b[97m█\u001b[0m\u001b[97m█\u001b[0m\u001b[97m█\u001b[0m\u001b[97m█\u001b[0m\u001b[97m█\u001b[0m\u001b[97m█\u001b[0m\u001b[97m█\u001b[0m\u001b[97m█\u001b[0m\u001b[97m█\u001b[0m\u001b[97m█\u001b[0m\u001b[97m█\u001b[0m\u001b[97m█\u001b[0m\u001b[97m█\u001b[0m\u001b[97m█\u001b[0m\u001b[97m█\u001b[0m\u001b[97m█\u001b[0m\u001b[97m█\u001b[0m\u001b[97m█\u001b[0m\u001b[97m█\u001b[0m\u001b[97m█\u001b[0m\u001b[97m█\u001b[0m\u001b[97m█\u001b[0m\u001b[97m█\u001b[0m\u001b[97m█\u001b[0m\u001b[97m█\u001b[0m\u001b[97m█\u001b[0m\u001b[97m█\u001b[0m\u001b[97m█\u001b[0m\u001b[97m█\u001b[0m\u001b[97m█\u001b[0m\u001b[97m█\u001b[0m\u001b[97m█\u001b[0m\u001b[97m█\u001b[0m\u001b[97m█\u001b[0m\u001b[97m█\u001b[0m\u001b[97m█\u001b[0m\u001b[97m█\u001b[0m\u001b[97m█\u001b[0m\u001b[97m█\u001b[0m\u001b[97m█\u001b[0m            |"
     ]
    },
    {
     "name": "stdout",
     "output_type": "stream",
     "text": [
      "epoch:65/80,loss: 0.0138\n"
     ]
    },
    {
     "name": "stderr",
     "output_type": "stream",
     "text": [
      "\u001b[K\u001b[F\u001b[K\u001b[F \u001b[1mIters\u001b[0m    \u001b[1mElapsed Time\u001b[0m      \u001b[1mSpeed\u001b[0m    \u001b[1mepoch\u001b[0m   \u001b[1mloss\u001b[0m                               \n",
      " \u001b[99m65/\u001b[93m80\u001b[0m\u001b[0m  \u001b[99m00:27:03<\u001b[93m00:06:14\u001b[0m\u001b[0m  \u001b[99m0.04it/s\u001b[0m  \u001b[99m65/80\u001b[0m  \u001b[99m0.0138\u001b[0m                              \n",
      "\u001b[1mDescription\u001b[0m  81.2% |\u001b[97m█\u001b[0m\u001b[97m█\u001b[0m\u001b[97m█\u001b[0m\u001b[97m█\u001b[0m\u001b[97m█\u001b[0m\u001b[97m█\u001b[0m\u001b[97m█\u001b[0m\u001b[97m█\u001b[0m\u001b[97m█\u001b[0m\u001b[97m█\u001b[0m\u001b[97m█\u001b[0m\u001b[97m█\u001b[0m\u001b[97m█\u001b[0m\u001b[97m█\u001b[0m\u001b[97m█\u001b[0m\u001b[97m█\u001b[0m\u001b[97m█\u001b[0m\u001b[97m█\u001b[0m\u001b[97m█\u001b[0m\u001b[97m█\u001b[0m\u001b[97m█\u001b[0m\u001b[97m█\u001b[0m\u001b[97m█\u001b[0m\u001b[97m█\u001b[0m\u001b[97m█\u001b[0m\u001b[97m█\u001b[0m\u001b[97m█\u001b[0m\u001b[97m█\u001b[0m\u001b[97m█\u001b[0m\u001b[97m█\u001b[0m\u001b[97m█\u001b[0m\u001b[97m█\u001b[0m\u001b[97m█\u001b[0m\u001b[97m█\u001b[0m\u001b[97m█\u001b[0m\u001b[97m█\u001b[0m\u001b[97m█\u001b[0m\u001b[97m█\u001b[0m\u001b[97m█\u001b[0m\u001b[97m█\u001b[0m\u001b[97m█\u001b[0m\u001b[97m█\u001b[0m\u001b[97m█\u001b[0m\u001b[97m█\u001b[0m\u001b[97m█\u001b[0m\u001b[97m█\u001b[0m\u001b[97m█\u001b[0m            |\u001b[K\u001b[F\u001b[K\u001b[F \u001b[1mIters\u001b[0m    \u001b[1mElapsed Time\u001b[0m      \u001b[1mSpeed\u001b[0m    \u001b[1mepoch\u001b[0m   \u001b[1mloss\u001b[0m                               \n",
      " \u001b[99m66/\u001b[93m80\u001b[0m\u001b[0m  \u001b[99m00:27:27<\u001b[93m00:05:49\u001b[0m\u001b[0m  \u001b[99m0.04it/s\u001b[0m  \u001b[99m66/80\u001b[0m  \u001b[99m0.0138\u001b[0m                              \n",
      "\u001b[1mDescription\u001b[0m  82.5% |\u001b[97m█\u001b[0m\u001b[97m█\u001b[0m\u001b[97m█\u001b[0m\u001b[97m█\u001b[0m\u001b[97m█\u001b[0m\u001b[97m█\u001b[0m\u001b[97m█\u001b[0m\u001b[97m█\u001b[0m\u001b[97m█\u001b[0m\u001b[97m█\u001b[0m\u001b[97m█\u001b[0m\u001b[97m█\u001b[0m\u001b[97m█\u001b[0m\u001b[97m█\u001b[0m\u001b[97m█\u001b[0m\u001b[97m█\u001b[0m\u001b[97m█\u001b[0m\u001b[97m█\u001b[0m\u001b[97m█\u001b[0m\u001b[97m█\u001b[0m\u001b[97m█\u001b[0m\u001b[97m█\u001b[0m\u001b[97m█\u001b[0m\u001b[97m█\u001b[0m\u001b[97m█\u001b[0m\u001b[97m█\u001b[0m\u001b[97m█\u001b[0m\u001b[97m█\u001b[0m\u001b[97m█\u001b[0m\u001b[97m█\u001b[0m\u001b[97m█\u001b[0m\u001b[97m█\u001b[0m\u001b[97m█\u001b[0m\u001b[97m█\u001b[0m\u001b[97m█\u001b[0m\u001b[97m█\u001b[0m\u001b[97m█\u001b[0m\u001b[97m█\u001b[0m\u001b[97m█\u001b[0m\u001b[97m█\u001b[0m\u001b[97m█\u001b[0m\u001b[97m█\u001b[0m\u001b[97m█\u001b[0m\u001b[97m█\u001b[0m\u001b[97m█\u001b[0m\u001b[97m█\u001b[0m\u001b[97m█\u001b[0m\u001b[97m█\u001b[0m           |\u001b[K\u001b[F\u001b[K\u001b[F \u001b[1mIters\u001b[0m    \u001b[1mElapsed Time\u001b[0m      \u001b[1mSpeed\u001b[0m    \u001b[1mepoch\u001b[0m   \u001b[1mloss\u001b[0m                               \n",
      " \u001b[99m67/\u001b[93m80\u001b[0m\u001b[0m  \u001b[99m00:27:51<\u001b[93m00:05:24\u001b[0m\u001b[0m  \u001b[99m0.04it/s\u001b[0m  \u001b[99m67/80\u001b[0m  \u001b[99m0.0138\u001b[0m                              \n",
      "\u001b[1mDescription\u001b[0m  83.8% |\u001b[97m█\u001b[0m\u001b[97m█\u001b[0m\u001b[97m█\u001b[0m\u001b[97m█\u001b[0m\u001b[97m█\u001b[0m\u001b[97m█\u001b[0m\u001b[97m█\u001b[0m\u001b[97m█\u001b[0m\u001b[97m█\u001b[0m\u001b[97m█\u001b[0m\u001b[97m█\u001b[0m\u001b[97m█\u001b[0m\u001b[97m█\u001b[0m\u001b[97m█\u001b[0m\u001b[97m█\u001b[0m\u001b[97m█\u001b[0m\u001b[97m█\u001b[0m\u001b[97m█\u001b[0m\u001b[97m█\u001b[0m\u001b[97m█\u001b[0m\u001b[97m█\u001b[0m\u001b[97m█\u001b[0m\u001b[97m█\u001b[0m\u001b[97m█\u001b[0m\u001b[97m█\u001b[0m\u001b[97m█\u001b[0m\u001b[97m█\u001b[0m\u001b[97m█\u001b[0m\u001b[97m█\u001b[0m\u001b[97m█\u001b[0m\u001b[97m█\u001b[0m\u001b[97m█\u001b[0m\u001b[97m█\u001b[0m\u001b[97m█\u001b[0m\u001b[97m█\u001b[0m\u001b[97m█\u001b[0m\u001b[97m█\u001b[0m\u001b[97m█\u001b[0m\u001b[97m█\u001b[0m\u001b[97m█\u001b[0m\u001b[97m█\u001b[0m\u001b[97m█\u001b[0m\u001b[97m█\u001b[0m\u001b[97m█\u001b[0m\u001b[97m█\u001b[0m\u001b[97m█\u001b[0m\u001b[97m█\u001b[0m\u001b[97m█\u001b[0m\u001b[97m█\u001b[0m          |"
     ]
    },
    {
     "name": "stdout",
     "output_type": "stream",
     "text": [
      "epoch:68/80,loss: 0.0138\n"
     ]
    },
    {
     "name": "stderr",
     "output_type": "stream",
     "text": [
      "\u001b[K\u001b[F\u001b[K\u001b[F \u001b[1mIters\u001b[0m    \u001b[1mElapsed Time\u001b[0m      \u001b[1mSpeed\u001b[0m    \u001b[1mepoch\u001b[0m   \u001b[1mloss\u001b[0m                               \n",
      " \u001b[99m68/\u001b[93m80\u001b[0m\u001b[0m  \u001b[99m00:28:15<\u001b[93m00:04:59\u001b[0m\u001b[0m  \u001b[99m0.04it/s\u001b[0m  \u001b[99m68/80\u001b[0m  \u001b[99m0.0138\u001b[0m                              \n",
      "\u001b[1mDescription\u001b[0m  85.0% |\u001b[97m█\u001b[0m\u001b[97m█\u001b[0m\u001b[97m█\u001b[0m\u001b[97m█\u001b[0m\u001b[97m█\u001b[0m\u001b[97m█\u001b[0m\u001b[97m█\u001b[0m\u001b[97m█\u001b[0m\u001b[97m█\u001b[0m\u001b[97m█\u001b[0m\u001b[97m█\u001b[0m\u001b[97m█\u001b[0m\u001b[97m█\u001b[0m\u001b[97m█\u001b[0m\u001b[97m█\u001b[0m\u001b[97m█\u001b[0m\u001b[97m█\u001b[0m\u001b[97m█\u001b[0m\u001b[97m█\u001b[0m\u001b[97m█\u001b[0m\u001b[97m█\u001b[0m\u001b[97m█\u001b[0m\u001b[97m█\u001b[0m\u001b[97m█\u001b[0m\u001b[97m█\u001b[0m\u001b[97m█\u001b[0m\u001b[97m█\u001b[0m\u001b[97m█\u001b[0m\u001b[97m█\u001b[0m\u001b[97m█\u001b[0m\u001b[97m█\u001b[0m\u001b[97m█\u001b[0m\u001b[97m█\u001b[0m\u001b[97m█\u001b[0m\u001b[97m█\u001b[0m\u001b[97m█\u001b[0m\u001b[97m█\u001b[0m\u001b[97m█\u001b[0m\u001b[97m█\u001b[0m\u001b[97m█\u001b[0m\u001b[97m█\u001b[0m\u001b[97m█\u001b[0m\u001b[97m█\u001b[0m\u001b[97m█\u001b[0m\u001b[97m█\u001b[0m\u001b[97m█\u001b[0m\u001b[97m█\u001b[0m\u001b[97m█\u001b[0m\u001b[97m█\u001b[0m\u001b[97m█\u001b[0m         |"
     ]
    },
    {
     "name": "stdout",
     "output_type": "stream",
     "text": [
      "epoch:69/80,loss: 0.0137\n"
     ]
    },
    {
     "name": "stderr",
     "output_type": "stream",
     "text": [
      "\u001b[K\u001b[F\u001b[K\u001b[F \u001b[1mIters\u001b[0m    \u001b[1mElapsed Time\u001b[0m      \u001b[1mSpeed\u001b[0m    \u001b[1mepoch\u001b[0m   \u001b[1mloss\u001b[0m                               \n",
      " \u001b[99m69/\u001b[93m80\u001b[0m\u001b[0m  \u001b[99m00:28:40<\u001b[93m00:04:34\u001b[0m\u001b[0m  \u001b[99m0.04it/s\u001b[0m  \u001b[99m69/80\u001b[0m  \u001b[99m0.0137\u001b[0m                              \n",
      "\u001b[1mDescription\u001b[0m  86.2% |\u001b[97m█\u001b[0m\u001b[97m█\u001b[0m\u001b[97m█\u001b[0m\u001b[97m█\u001b[0m\u001b[97m█\u001b[0m\u001b[97m█\u001b[0m\u001b[97m█\u001b[0m\u001b[97m█\u001b[0m\u001b[97m█\u001b[0m\u001b[97m█\u001b[0m\u001b[97m█\u001b[0m\u001b[97m█\u001b[0m\u001b[97m█\u001b[0m\u001b[97m█\u001b[0m\u001b[97m█\u001b[0m\u001b[97m█\u001b[0m\u001b[97m█\u001b[0m\u001b[97m█\u001b[0m\u001b[97m█\u001b[0m\u001b[97m█\u001b[0m\u001b[97m█\u001b[0m\u001b[97m█\u001b[0m\u001b[97m█\u001b[0m\u001b[97m█\u001b[0m\u001b[97m█\u001b[0m\u001b[97m█\u001b[0m\u001b[97m█\u001b[0m\u001b[97m█\u001b[0m\u001b[97m█\u001b[0m\u001b[97m█\u001b[0m\u001b[97m█\u001b[0m\u001b[97m█\u001b[0m\u001b[97m█\u001b[0m\u001b[97m█\u001b[0m\u001b[97m█\u001b[0m\u001b[97m█\u001b[0m\u001b[97m█\u001b[0m\u001b[97m█\u001b[0m\u001b[97m█\u001b[0m\u001b[97m█\u001b[0m\u001b[97m█\u001b[0m\u001b[97m█\u001b[0m\u001b[97m█\u001b[0m\u001b[97m█\u001b[0m\u001b[97m█\u001b[0m\u001b[97m█\u001b[0m\u001b[97m█\u001b[0m\u001b[97m█\u001b[0m\u001b[97m█\u001b[0m\u001b[97m█\u001b[0m         |\u001b[K\u001b[F\u001b[K\u001b[F \u001b[1mIters\u001b[0m    \u001b[1mElapsed Time\u001b[0m      \u001b[1mSpeed\u001b[0m    \u001b[1mepoch\u001b[0m   \u001b[1mloss\u001b[0m                               \n",
      " \u001b[99m70/\u001b[93m80\u001b[0m\u001b[0m  \u001b[99m00:29:03<\u001b[93m00:04:09\u001b[0m\u001b[0m  \u001b[99m0.04it/s\u001b[0m  \u001b[99m70/80\u001b[0m  \u001b[99m0.0138\u001b[0m                              \n",
      "\u001b[1mDescription\u001b[0m  87.5% |\u001b[97m█\u001b[0m\u001b[97m█\u001b[0m\u001b[97m█\u001b[0m\u001b[97m█\u001b[0m\u001b[97m█\u001b[0m\u001b[97m█\u001b[0m\u001b[97m█\u001b[0m\u001b[97m█\u001b[0m\u001b[97m█\u001b[0m\u001b[97m█\u001b[0m\u001b[97m█\u001b[0m\u001b[97m█\u001b[0m\u001b[97m█\u001b[0m\u001b[97m█\u001b[0m\u001b[97m█\u001b[0m\u001b[97m█\u001b[0m\u001b[97m█\u001b[0m\u001b[97m█\u001b[0m\u001b[97m█\u001b[0m\u001b[97m█\u001b[0m\u001b[97m█\u001b[0m\u001b[97m█\u001b[0m\u001b[97m█\u001b[0m\u001b[97m█\u001b[0m\u001b[97m█\u001b[0m\u001b[97m█\u001b[0m\u001b[97m█\u001b[0m\u001b[97m█\u001b[0m\u001b[97m█\u001b[0m\u001b[97m█\u001b[0m\u001b[97m█\u001b[0m\u001b[97m█\u001b[0m\u001b[97m█\u001b[0m\u001b[97m█\u001b[0m\u001b[97m█\u001b[0m\u001b[97m█\u001b[0m\u001b[97m█\u001b[0m\u001b[97m█\u001b[0m\u001b[97m█\u001b[0m\u001b[97m█\u001b[0m\u001b[97m█\u001b[0m\u001b[97m█\u001b[0m\u001b[97m█\u001b[0m\u001b[97m█\u001b[0m\u001b[97m█\u001b[0m\u001b[97m█\u001b[0m\u001b[97m█\u001b[0m\u001b[97m█\u001b[0m\u001b[97m█\u001b[0m\u001b[97m█\u001b[0m\u001b[97m█\u001b[0m        |"
     ]
    },
    {
     "name": "stdout",
     "output_type": "stream",
     "text": [
      "epoch:71/80,loss: 0.0137\n"
     ]
    },
    {
     "name": "stderr",
     "output_type": "stream",
     "text": [
      "\u001b[K\u001b[F\u001b[K\u001b[F \u001b[1mIters\u001b[0m    \u001b[1mElapsed Time\u001b[0m      \u001b[1mSpeed\u001b[0m    \u001b[1mepoch\u001b[0m   \u001b[1mloss\u001b[0m                               \n",
      " \u001b[99m71/\u001b[93m80\u001b[0m\u001b[0m  \u001b[99m00:29:27<\u001b[93m00:03:44\u001b[0m\u001b[0m  \u001b[99m0.04it/s\u001b[0m  \u001b[99m71/80\u001b[0m  \u001b[99m0.0137\u001b[0m                              \n",
      "\u001b[1mDescription\u001b[0m  88.8% |\u001b[97m█\u001b[0m\u001b[97m█\u001b[0m\u001b[97m█\u001b[0m\u001b[97m█\u001b[0m\u001b[97m█\u001b[0m\u001b[97m█\u001b[0m\u001b[97m█\u001b[0m\u001b[97m█\u001b[0m\u001b[97m█\u001b[0m\u001b[97m█\u001b[0m\u001b[97m█\u001b[0m\u001b[97m█\u001b[0m\u001b[97m█\u001b[0m\u001b[97m█\u001b[0m\u001b[97m█\u001b[0m\u001b[97m█\u001b[0m\u001b[97m█\u001b[0m\u001b[97m█\u001b[0m\u001b[97m█\u001b[0m\u001b[97m█\u001b[0m\u001b[97m█\u001b[0m\u001b[97m█\u001b[0m\u001b[97m█\u001b[0m\u001b[97m█\u001b[0m\u001b[97m█\u001b[0m\u001b[97m█\u001b[0m\u001b[97m█\u001b[0m\u001b[97m█\u001b[0m\u001b[97m█\u001b[0m\u001b[97m█\u001b[0m\u001b[97m█\u001b[0m\u001b[97m█\u001b[0m\u001b[97m█\u001b[0m\u001b[97m█\u001b[0m\u001b[97m█\u001b[0m\u001b[97m█\u001b[0m\u001b[97m█\u001b[0m\u001b[97m█\u001b[0m\u001b[97m█\u001b[0m\u001b[97m█\u001b[0m\u001b[97m█\u001b[0m\u001b[97m█\u001b[0m\u001b[97m█\u001b[0m\u001b[97m█\u001b[0m\u001b[97m█\u001b[0m\u001b[97m█\u001b[0m\u001b[97m█\u001b[0m\u001b[97m█\u001b[0m\u001b[97m█\u001b[0m\u001b[97m█\u001b[0m\u001b[97m█\u001b[0m\u001b[97m█\u001b[0m       |"
     ]
    },
    {
     "name": "stdout",
     "output_type": "stream",
     "text": [
      "epoch:72/80,loss: 0.0137\n"
     ]
    },
    {
     "name": "stderr",
     "output_type": "stream",
     "text": [
      "\u001b[K\u001b[F\u001b[K\u001b[F \u001b[1mIters\u001b[0m    \u001b[1mElapsed Time\u001b[0m      \u001b[1mSpeed\u001b[0m    \u001b[1mepoch\u001b[0m   \u001b[1mloss\u001b[0m                               \n",
      " \u001b[99m72/\u001b[93m80\u001b[0m\u001b[0m  \u001b[99m00:29:51<\u001b[93m00:03:19\u001b[0m\u001b[0m  \u001b[99m0.04it/s\u001b[0m  \u001b[99m72/80\u001b[0m  \u001b[99m0.0137\u001b[0m                              \n",
      "\u001b[1mDescription\u001b[0m  90.0% |\u001b[97m█\u001b[0m\u001b[97m█\u001b[0m\u001b[97m█\u001b[0m\u001b[97m█\u001b[0m\u001b[97m█\u001b[0m\u001b[97m█\u001b[0m\u001b[97m█\u001b[0m\u001b[97m█\u001b[0m\u001b[97m█\u001b[0m\u001b[97m█\u001b[0m\u001b[97m█\u001b[0m\u001b[97m█\u001b[0m\u001b[97m█\u001b[0m\u001b[97m█\u001b[0m\u001b[97m█\u001b[0m\u001b[97m█\u001b[0m\u001b[97m█\u001b[0m\u001b[97m█\u001b[0m\u001b[97m█\u001b[0m\u001b[97m█\u001b[0m\u001b[97m█\u001b[0m\u001b[97m█\u001b[0m\u001b[97m█\u001b[0m\u001b[97m█\u001b[0m\u001b[97m█\u001b[0m\u001b[97m█\u001b[0m\u001b[97m█\u001b[0m\u001b[97m█\u001b[0m\u001b[97m█\u001b[0m\u001b[97m█\u001b[0m\u001b[97m█\u001b[0m\u001b[97m█\u001b[0m\u001b[97m█\u001b[0m\u001b[97m█\u001b[0m\u001b[97m█\u001b[0m\u001b[97m█\u001b[0m\u001b[97m█\u001b[0m\u001b[97m█\u001b[0m\u001b[97m█\u001b[0m\u001b[97m█\u001b[0m\u001b[97m█\u001b[0m\u001b[97m█\u001b[0m\u001b[97m█\u001b[0m\u001b[97m█\u001b[0m\u001b[97m█\u001b[0m\u001b[97m█\u001b[0m\u001b[97m█\u001b[0m\u001b[97m█\u001b[0m\u001b[97m█\u001b[0m\u001b[97m█\u001b[0m\u001b[97m█\u001b[0m\u001b[97m█\u001b[0m\u001b[97m█\u001b[0m      |"
     ]
    },
    {
     "name": "stdout",
     "output_type": "stream",
     "text": [
      "epoch:73/80,loss: 0.0137\n"
     ]
    },
    {
     "name": "stderr",
     "output_type": "stream",
     "text": [
      "\u001b[K\u001b[F\u001b[K\u001b[F \u001b[1mIters\u001b[0m    \u001b[1mElapsed Time\u001b[0m      \u001b[1mSpeed\u001b[0m    \u001b[1mepoch\u001b[0m   \u001b[1mloss\u001b[0m                               \n",
      " \u001b[99m73/\u001b[93m80\u001b[0m\u001b[0m  \u001b[99m00:30:15<\u001b[93m00:02:54\u001b[0m\u001b[0m  \u001b[99m0.04it/s\u001b[0m  \u001b[99m73/80\u001b[0m  \u001b[99m0.0137\u001b[0m                              \n",
      "\u001b[1mDescription\u001b[0m  91.2% |\u001b[97m█\u001b[0m\u001b[97m█\u001b[0m\u001b[97m█\u001b[0m\u001b[97m█\u001b[0m\u001b[97m█\u001b[0m\u001b[97m█\u001b[0m\u001b[97m█\u001b[0m\u001b[97m█\u001b[0m\u001b[97m█\u001b[0m\u001b[97m█\u001b[0m\u001b[97m█\u001b[0m\u001b[97m█\u001b[0m\u001b[97m█\u001b[0m\u001b[97m█\u001b[0m\u001b[97m█\u001b[0m\u001b[97m█\u001b[0m\u001b[97m█\u001b[0m\u001b[97m█\u001b[0m\u001b[97m█\u001b[0m\u001b[97m█\u001b[0m\u001b[97m█\u001b[0m\u001b[97m█\u001b[0m\u001b[97m█\u001b[0m\u001b[97m█\u001b[0m\u001b[97m█\u001b[0m\u001b[97m█\u001b[0m\u001b[97m█\u001b[0m\u001b[97m█\u001b[0m\u001b[97m█\u001b[0m\u001b[97m█\u001b[0m\u001b[97m█\u001b[0m\u001b[97m█\u001b[0m\u001b[97m█\u001b[0m\u001b[97m█\u001b[0m\u001b[97m█\u001b[0m\u001b[97m█\u001b[0m\u001b[97m█\u001b[0m\u001b[97m█\u001b[0m\u001b[97m█\u001b[0m\u001b[97m█\u001b[0m\u001b[97m█\u001b[0m\u001b[97m█\u001b[0m\u001b[97m█\u001b[0m\u001b[97m█\u001b[0m\u001b[97m█\u001b[0m\u001b[97m█\u001b[0m\u001b[97m█\u001b[0m\u001b[97m█\u001b[0m\u001b[97m█\u001b[0m\u001b[97m█\u001b[0m\u001b[97m█\u001b[0m\u001b[97m█\u001b[0m\u001b[97m█\u001b[0m      |"
     ]
    },
    {
     "name": "stdout",
     "output_type": "stream",
     "text": [
      "epoch:74/80,loss: 0.0137\n"
     ]
    },
    {
     "name": "stderr",
     "output_type": "stream",
     "text": [
      "\u001b[K\u001b[F\u001b[K\u001b[F \u001b[1mIters\u001b[0m    \u001b[1mElapsed Time\u001b[0m      \u001b[1mSpeed\u001b[0m    \u001b[1mepoch\u001b[0m   \u001b[1mloss\u001b[0m                               \n",
      " \u001b[99m74/\u001b[93m80\u001b[0m\u001b[0m  \u001b[99m00:30:39<\u001b[93m00:02:29\u001b[0m\u001b[0m  \u001b[99m0.04it/s\u001b[0m  \u001b[99m74/80\u001b[0m  \u001b[99m0.0137\u001b[0m                              \n",
      "\u001b[1mDescription\u001b[0m  92.5% |\u001b[97m█\u001b[0m\u001b[97m█\u001b[0m\u001b[97m█\u001b[0m\u001b[97m█\u001b[0m\u001b[97m█\u001b[0m\u001b[97m█\u001b[0m\u001b[97m█\u001b[0m\u001b[97m█\u001b[0m\u001b[97m█\u001b[0m\u001b[97m█\u001b[0m\u001b[97m█\u001b[0m\u001b[97m█\u001b[0m\u001b[97m█\u001b[0m\u001b[97m█\u001b[0m\u001b[97m█\u001b[0m\u001b[97m█\u001b[0m\u001b[97m█\u001b[0m\u001b[97m█\u001b[0m\u001b[97m█\u001b[0m\u001b[97m█\u001b[0m\u001b[97m█\u001b[0m\u001b[97m█\u001b[0m\u001b[97m█\u001b[0m\u001b[97m█\u001b[0m\u001b[97m█\u001b[0m\u001b[97m█\u001b[0m\u001b[97m█\u001b[0m\u001b[97m█\u001b[0m\u001b[97m█\u001b[0m\u001b[97m█\u001b[0m\u001b[97m█\u001b[0m\u001b[97m█\u001b[0m\u001b[97m█\u001b[0m\u001b[97m█\u001b[0m\u001b[97m█\u001b[0m\u001b[97m█\u001b[0m\u001b[97m█\u001b[0m\u001b[97m█\u001b[0m\u001b[97m█\u001b[0m\u001b[97m█\u001b[0m\u001b[97m█\u001b[0m\u001b[97m█\u001b[0m\u001b[97m█\u001b[0m\u001b[97m█\u001b[0m\u001b[97m█\u001b[0m\u001b[97m█\u001b[0m\u001b[97m█\u001b[0m\u001b[97m█\u001b[0m\u001b[97m█\u001b[0m\u001b[97m█\u001b[0m\u001b[97m█\u001b[0m\u001b[97m█\u001b[0m\u001b[97m█\u001b[0m\u001b[97m█\u001b[0m     |\u001b[K\u001b[F\u001b[K\u001b[F \u001b[1mIters\u001b[0m    \u001b[1mElapsed Time\u001b[0m      \u001b[1mSpeed\u001b[0m    \u001b[1mepoch\u001b[0m   \u001b[1mloss\u001b[0m                               \n",
      " \u001b[99m75/\u001b[93m80\u001b[0m\u001b[0m  \u001b[99m00:31:03<\u001b[93m00:02:04\u001b[0m\u001b[0m  \u001b[99m0.04it/s\u001b[0m  \u001b[99m75/80\u001b[0m  \u001b[99m0.0137\u001b[0m                              \n",
      "\u001b[1mDescription\u001b[0m  93.8% |\u001b[97m█\u001b[0m\u001b[97m█\u001b[0m\u001b[97m█\u001b[0m\u001b[97m█\u001b[0m\u001b[97m█\u001b[0m\u001b[97m█\u001b[0m\u001b[97m█\u001b[0m\u001b[97m█\u001b[0m\u001b[97m█\u001b[0m\u001b[97m█\u001b[0m\u001b[97m█\u001b[0m\u001b[97m█\u001b[0m\u001b[97m█\u001b[0m\u001b[97m█\u001b[0m\u001b[97m█\u001b[0m\u001b[97m█\u001b[0m\u001b[97m█\u001b[0m\u001b[97m█\u001b[0m\u001b[97m█\u001b[0m\u001b[97m█\u001b[0m\u001b[97m█\u001b[0m\u001b[97m█\u001b[0m\u001b[97m█\u001b[0m\u001b[97m█\u001b[0m\u001b[97m█\u001b[0m\u001b[97m█\u001b[0m\u001b[97m█\u001b[0m\u001b[97m█\u001b[0m\u001b[97m█\u001b[0m\u001b[97m█\u001b[0m\u001b[97m█\u001b[0m\u001b[97m█\u001b[0m\u001b[97m█\u001b[0m\u001b[97m█\u001b[0m\u001b[97m█\u001b[0m\u001b[97m█\u001b[0m\u001b[97m█\u001b[0m\u001b[97m█\u001b[0m\u001b[97m█\u001b[0m\u001b[97m█\u001b[0m\u001b[97m█\u001b[0m\u001b[97m█\u001b[0m\u001b[97m█\u001b[0m\u001b[97m█\u001b[0m\u001b[97m█\u001b[0m\u001b[97m█\u001b[0m\u001b[97m█\u001b[0m\u001b[97m█\u001b[0m\u001b[97m█\u001b[0m\u001b[97m█\u001b[0m\u001b[97m█\u001b[0m\u001b[97m█\u001b[0m\u001b[97m█\u001b[0m\u001b[97m█\u001b[0m\u001b[97m█\u001b[0m    |"
     ]
    },
    {
     "name": "stdout",
     "output_type": "stream",
     "text": [
      "epoch:76/80,loss: 0.0136\n"
     ]
    },
    {
     "name": "stderr",
     "output_type": "stream",
     "text": [
      "\u001b[K\u001b[F\u001b[K\u001b[F \u001b[1mIters\u001b[0m    \u001b[1mElapsed Time\u001b[0m      \u001b[1mSpeed\u001b[0m    \u001b[1mepoch\u001b[0m   \u001b[1mloss\u001b[0m                               \n",
      " \u001b[99m76/\u001b[93m80\u001b[0m\u001b[0m  \u001b[99m00:31:27<\u001b[93m00:01:39\u001b[0m\u001b[0m  \u001b[99m0.04it/s\u001b[0m  \u001b[99m76/80\u001b[0m  \u001b[99m0.0136\u001b[0m                              \n",
      "\u001b[1mDescription\u001b[0m  95.0% |\u001b[97m█\u001b[0m\u001b[97m█\u001b[0m\u001b[97m█\u001b[0m\u001b[97m█\u001b[0m\u001b[97m█\u001b[0m\u001b[97m█\u001b[0m\u001b[97m█\u001b[0m\u001b[97m█\u001b[0m\u001b[97m█\u001b[0m\u001b[97m█\u001b[0m\u001b[97m█\u001b[0m\u001b[97m█\u001b[0m\u001b[97m█\u001b[0m\u001b[97m█\u001b[0m\u001b[97m█\u001b[0m\u001b[97m█\u001b[0m\u001b[97m█\u001b[0m\u001b[97m█\u001b[0m\u001b[97m█\u001b[0m\u001b[97m█\u001b[0m\u001b[97m█\u001b[0m\u001b[97m█\u001b[0m\u001b[97m█\u001b[0m\u001b[97m█\u001b[0m\u001b[97m█\u001b[0m\u001b[97m█\u001b[0m\u001b[97m█\u001b[0m\u001b[97m█\u001b[0m\u001b[97m█\u001b[0m\u001b[97m█\u001b[0m\u001b[97m█\u001b[0m\u001b[97m█\u001b[0m\u001b[97m█\u001b[0m\u001b[97m█\u001b[0m\u001b[97m█\u001b[0m\u001b[97m█\u001b[0m\u001b[97m█\u001b[0m\u001b[97m█\u001b[0m\u001b[97m█\u001b[0m\u001b[97m█\u001b[0m\u001b[97m█\u001b[0m\u001b[97m█\u001b[0m\u001b[97m█\u001b[0m\u001b[97m█\u001b[0m\u001b[97m█\u001b[0m\u001b[97m█\u001b[0m\u001b[97m█\u001b[0m\u001b[97m█\u001b[0m\u001b[97m█\u001b[0m\u001b[97m█\u001b[0m\u001b[97m█\u001b[0m\u001b[97m█\u001b[0m\u001b[97m█\u001b[0m\u001b[97m█\u001b[0m\u001b[97m█\u001b[0m\u001b[97m█\u001b[0m   |\u001b[K\u001b[F\u001b[K\u001b[F \u001b[1mIters\u001b[0m    \u001b[1mElapsed Time\u001b[0m      \u001b[1mSpeed\u001b[0m    \u001b[1mepoch\u001b[0m   \u001b[1mloss\u001b[0m                               \n",
      " \u001b[99m77/\u001b[93m80\u001b[0m\u001b[0m  \u001b[99m00:31:50<\u001b[93m00:01:14\u001b[0m\u001b[0m  \u001b[99m0.04it/s\u001b[0m  \u001b[99m77/80\u001b[0m  \u001b[99m0.0137\u001b[0m                              \n",
      "\u001b[1mDescription\u001b[0m  96.2% |\u001b[97m█\u001b[0m\u001b[97m█\u001b[0m\u001b[97m█\u001b[0m\u001b[97m█\u001b[0m\u001b[97m█\u001b[0m\u001b[97m█\u001b[0m\u001b[97m█\u001b[0m\u001b[97m█\u001b[0m\u001b[97m█\u001b[0m\u001b[97m█\u001b[0m\u001b[97m█\u001b[0m\u001b[97m█\u001b[0m\u001b[97m█\u001b[0m\u001b[97m█\u001b[0m\u001b[97m█\u001b[0m\u001b[97m█\u001b[0m\u001b[97m█\u001b[0m\u001b[97m█\u001b[0m\u001b[97m█\u001b[0m\u001b[97m█\u001b[0m\u001b[97m█\u001b[0m\u001b[97m█\u001b[0m\u001b[97m█\u001b[0m\u001b[97m█\u001b[0m\u001b[97m█\u001b[0m\u001b[97m█\u001b[0m\u001b[97m█\u001b[0m\u001b[97m█\u001b[0m\u001b[97m█\u001b[0m\u001b[97m█\u001b[0m\u001b[97m█\u001b[0m\u001b[97m█\u001b[0m\u001b[97m█\u001b[0m\u001b[97m█\u001b[0m\u001b[97m█\u001b[0m\u001b[97m█\u001b[0m\u001b[97m█\u001b[0m\u001b[97m█\u001b[0m\u001b[97m█\u001b[0m\u001b[97m█\u001b[0m\u001b[97m█\u001b[0m\u001b[97m█\u001b[0m\u001b[97m█\u001b[0m\u001b[97m█\u001b[0m\u001b[97m█\u001b[0m\u001b[97m█\u001b[0m\u001b[97m█\u001b[0m\u001b[97m█\u001b[0m\u001b[97m█\u001b[0m\u001b[97m█\u001b[0m\u001b[97m█\u001b[0m\u001b[97m█\u001b[0m\u001b[97m█\u001b[0m\u001b[97m█\u001b[0m\u001b[97m█\u001b[0m\u001b[97m█\u001b[0m   |\u001b[K\u001b[F\u001b[K\u001b[F \u001b[1mIters\u001b[0m    \u001b[1mElapsed Time\u001b[0m      \u001b[1mSpeed\u001b[0m    \u001b[1mepoch\u001b[0m   \u001b[1mloss\u001b[0m                               \n",
      " \u001b[99m78/\u001b[93m80\u001b[0m\u001b[0m  \u001b[99m00:32:13<\u001b[93m00:00:49\u001b[0m\u001b[0m  \u001b[99m0.04it/s\u001b[0m  \u001b[99m78/80\u001b[0m  \u001b[99m0.0136\u001b[0m                              \n",
      "\u001b[1mDescription\u001b[0m  97.5% |\u001b[97m█\u001b[0m\u001b[97m█\u001b[0m\u001b[97m█\u001b[0m\u001b[97m█\u001b[0m\u001b[97m█\u001b[0m\u001b[97m█\u001b[0m\u001b[97m█\u001b[0m\u001b[97m█\u001b[0m\u001b[97m█\u001b[0m\u001b[97m█\u001b[0m\u001b[97m█\u001b[0m\u001b[97m█\u001b[0m\u001b[97m█\u001b[0m\u001b[97m█\u001b[0m\u001b[97m█\u001b[0m\u001b[97m█\u001b[0m\u001b[97m█\u001b[0m\u001b[97m█\u001b[0m\u001b[97m█\u001b[0m\u001b[97m█\u001b[0m\u001b[97m█\u001b[0m\u001b[97m█\u001b[0m\u001b[97m█\u001b[0m\u001b[97m█\u001b[0m\u001b[97m█\u001b[0m\u001b[97m█\u001b[0m\u001b[97m█\u001b[0m\u001b[97m█\u001b[0m\u001b[97m█\u001b[0m\u001b[97m█\u001b[0m\u001b[97m█\u001b[0m\u001b[97m█\u001b[0m\u001b[97m█\u001b[0m\u001b[97m█\u001b[0m\u001b[97m█\u001b[0m\u001b[97m█\u001b[0m\u001b[97m█\u001b[0m\u001b[97m█\u001b[0m\u001b[97m█\u001b[0m\u001b[97m█\u001b[0m\u001b[97m█\u001b[0m\u001b[97m█\u001b[0m\u001b[97m█\u001b[0m\u001b[97m█\u001b[0m\u001b[97m█\u001b[0m\u001b[97m█\u001b[0m\u001b[97m█\u001b[0m\u001b[97m█\u001b[0m\u001b[97m█\u001b[0m\u001b[97m█\u001b[0m\u001b[97m█\u001b[0m\u001b[97m█\u001b[0m\u001b[97m█\u001b[0m\u001b[97m█\u001b[0m\u001b[97m█\u001b[0m\u001b[97m█\u001b[0m\u001b[97m█\u001b[0m  |"
     ]
    },
    {
     "name": "stdout",
     "output_type": "stream",
     "text": [
      "epoch:79/80,loss: 0.0136\n"
     ]
    },
    {
     "name": "stderr",
     "output_type": "stream",
     "text": [
      "\u001b[K\u001b[F\u001b[K\u001b[F \u001b[1mIters\u001b[0m    \u001b[1mElapsed Time\u001b[0m      \u001b[1mSpeed\u001b[0m    \u001b[1mepoch\u001b[0m   \u001b[1mloss\u001b[0m                               \n",
      " \u001b[99m79/\u001b[93m80\u001b[0m\u001b[0m  \u001b[99m00:32:37<\u001b[93m00:00:24\u001b[0m\u001b[0m  \u001b[99m0.04it/s\u001b[0m  \u001b[99m79/80\u001b[0m  \u001b[99m0.0136\u001b[0m                              \n",
      "\u001b[1mDescription\u001b[0m  98.8% |\u001b[97m█\u001b[0m\u001b[97m█\u001b[0m\u001b[97m█\u001b[0m\u001b[97m█\u001b[0m\u001b[97m█\u001b[0m\u001b[97m█\u001b[0m\u001b[97m█\u001b[0m\u001b[97m█\u001b[0m\u001b[97m█\u001b[0m\u001b[97m█\u001b[0m\u001b[97m█\u001b[0m\u001b[97m█\u001b[0m\u001b[97m█\u001b[0m\u001b[97m█\u001b[0m\u001b[97m█\u001b[0m\u001b[97m█\u001b[0m\u001b[97m█\u001b[0m\u001b[97m█\u001b[0m\u001b[97m█\u001b[0m\u001b[97m█\u001b[0m\u001b[97m█\u001b[0m\u001b[97m█\u001b[0m\u001b[97m█\u001b[0m\u001b[97m█\u001b[0m\u001b[97m█\u001b[0m\u001b[97m█\u001b[0m\u001b[97m█\u001b[0m\u001b[97m█\u001b[0m\u001b[97m█\u001b[0m\u001b[97m█\u001b[0m\u001b[97m█\u001b[0m\u001b[97m█\u001b[0m\u001b[97m█\u001b[0m\u001b[97m█\u001b[0m\u001b[97m█\u001b[0m\u001b[97m█\u001b[0m\u001b[97m█\u001b[0m\u001b[97m█\u001b[0m\u001b[97m█\u001b[0m\u001b[97m█\u001b[0m\u001b[97m█\u001b[0m\u001b[97m█\u001b[0m\u001b[97m█\u001b[0m\u001b[97m█\u001b[0m\u001b[97m█\u001b[0m\u001b[97m█\u001b[0m\u001b[97m█\u001b[0m\u001b[97m█\u001b[0m\u001b[97m█\u001b[0m\u001b[97m█\u001b[0m\u001b[97m█\u001b[0m\u001b[97m█\u001b[0m\u001b[97m█\u001b[0m\u001b[97m█\u001b[0m\u001b[97m█\u001b[0m\u001b[97m█\u001b[0m\u001b[97m█\u001b[0m\u001b[97m█\u001b[0m |"
     ]
    },
    {
     "name": "stdout",
     "output_type": "stream",
     "text": [
      "epoch:80/80,loss: 0.0136\n"
     ]
    },
    {
     "name": "stderr",
     "output_type": "stream",
     "text": [
      "\u001b[K\u001b[F\u001b[K\u001b[F \u001b[1mIters\u001b[0m    \u001b[1mElapsed Time\u001b[0m      \u001b[1mSpeed\u001b[0m    \u001b[1mepoch\u001b[0m   \u001b[1mloss\u001b[0m                               \n",
      " \u001b[99m80/\u001b[93m80\u001b[0m\u001b[0m  \u001b[99m00:33:01<\u001b[93m00:00:00\u001b[0m\u001b[0m  \u001b[99m0.04it/s\u001b[0m  \u001b[99m80/80\u001b[0m  \u001b[99m0.0136\u001b[0m                              \n",
      "\u001b[1mDescription\u001b[0m 100.0% |\u001b[97m█\u001b[0m\u001b[97m█\u001b[0m\u001b[97m█\u001b[0m\u001b[97m█\u001b[0m\u001b[97m█\u001b[0m\u001b[97m█\u001b[0m\u001b[97m█\u001b[0m\u001b[97m█\u001b[0m\u001b[97m█\u001b[0m\u001b[97m█\u001b[0m\u001b[97m█\u001b[0m\u001b[97m█\u001b[0m\u001b[97m█\u001b[0m\u001b[97m█\u001b[0m\u001b[97m█\u001b[0m\u001b[97m█\u001b[0m\u001b[97m█\u001b[0m\u001b[97m█\u001b[0m\u001b[97m█\u001b[0m\u001b[97m█\u001b[0m\u001b[97m█\u001b[0m\u001b[97m█\u001b[0m\u001b[97m█\u001b[0m\u001b[97m█\u001b[0m\u001b[97m█\u001b[0m\u001b[97m█\u001b[0m\u001b[97m█\u001b[0m\u001b[97m█\u001b[0m\u001b[97m█\u001b[0m\u001b[97m█\u001b[0m\u001b[97m█\u001b[0m\u001b[97m█\u001b[0m\u001b[97m█\u001b[0m\u001b[97m█\u001b[0m\u001b[97m█\u001b[0m\u001b[97m█\u001b[0m\u001b[97m█\u001b[0m\u001b[97m█\u001b[0m\u001b[97m█\u001b[0m\u001b[97m█\u001b[0m\u001b[97m█\u001b[0m\u001b[97m█\u001b[0m\u001b[97m█\u001b[0m\u001b[97m█\u001b[0m\u001b[97m█\u001b[0m\u001b[97m█\u001b[0m\u001b[97m█\u001b[0m\u001b[97m█\u001b[0m\u001b[97m█\u001b[0m\u001b[97m█\u001b[0m\u001b[97m█\u001b[0m\u001b[97m█\u001b[0m\u001b[97m█\u001b[0m\u001b[97m█\u001b[0m\u001b[97m█\u001b[0m\u001b[97m█\u001b[0m\u001b[97m█\u001b[0m\u001b[97m█\u001b[0m\u001b[97m█\u001b[0m|\u001b[K\u001b[F\u001b[K\u001b[F \u001b[1mIters\u001b[0m    \u001b[1mElapsed Time\u001b[0m      \u001b[1mSpeed\u001b[0m    \u001b[1mepoch\u001b[0m   \u001b[1mloss\u001b[0m                               \n",
      " \u001b[99m80/\u001b[93m80\u001b[0m\u001b[0m  \u001b[99m00:33:01<\u001b[93m00:00:00\u001b[0m\u001b[0m  \u001b[99m0.04it/s\u001b[0m  \u001b[99m80/80\u001b[0m  \u001b[99m0.0136\u001b[0m                              \n",
      "\u001b[1mDescription\u001b[0m 100.0% |\u001b[97m█\u001b[0m\u001b[97m█\u001b[0m\u001b[97m█\u001b[0m\u001b[97m█\u001b[0m\u001b[97m█\u001b[0m\u001b[97m█\u001b[0m\u001b[97m█\u001b[0m\u001b[97m█\u001b[0m\u001b[97m█\u001b[0m\u001b[97m█\u001b[0m\u001b[97m█\u001b[0m\u001b[97m█\u001b[0m\u001b[97m█\u001b[0m\u001b[97m█\u001b[0m\u001b[97m█\u001b[0m\u001b[97m█\u001b[0m\u001b[97m█\u001b[0m\u001b[97m█\u001b[0m\u001b[97m█\u001b[0m\u001b[97m█\u001b[0m\u001b[97m█\u001b[0m\u001b[97m█\u001b[0m\u001b[97m█\u001b[0m\u001b[97m█\u001b[0m\u001b[97m█\u001b[0m\u001b[97m█\u001b[0m\u001b[97m█\u001b[0m\u001b[97m█\u001b[0m\u001b[97m█\u001b[0m\u001b[97m█\u001b[0m\u001b[97m█\u001b[0m\u001b[97m█\u001b[0m\u001b[97m█\u001b[0m\u001b[97m█\u001b[0m\u001b[97m█\u001b[0m\u001b[97m█\u001b[0m\u001b[97m█\u001b[0m\u001b[97m█\u001b[0m\u001b[97m█\u001b[0m\u001b[97m█\u001b[0m\u001b[97m█\u001b[0m\u001b[97m█\u001b[0m\u001b[97m█\u001b[0m\u001b[97m█\u001b[0m\u001b[97m█\u001b[0m\u001b[97m█\u001b[0m\u001b[97m█\u001b[0m\u001b[97m█\u001b[0m\u001b[97m█\u001b[0m\u001b[97m█\u001b[0m\u001b[97m█\u001b[0m\u001b[97m█\u001b[0m\u001b[97m█\u001b[0m\u001b[97m█\u001b[0m\u001b[97m█\u001b[0m\u001b[97m█\u001b[0m\u001b[97m█\u001b[0m\u001b[97m█\u001b[0m\u001b[97m█\u001b[0m|"
     ]
    }
   ],
   "source": [
    "\n",
    "best_loss = np.inf\n",
    "model.train()\n",
    "\n",
    "qqdm_train = qqdm(range(num_epochs), desc=format_str('bold', 'Description'))\n",
    "for epoch in qqdm_train:\n",
    "    tot_loss = list()\n",
    "    for data in train_dataloader:\n",
    "\n",
    "        # ===================loading=====================\n",
    "        img = data.float().cuda()\n",
    "        if model_type in ['fcn']:\n",
    "            img = img.view(img.shape[0], -1)\n",
    "        if model_type in ['cnnfcn']:\n",
    "            img1 = img.view(img.shape[0], -1)\n",
    "        # ===================forward=====================\n",
    "        output = model(img)\n",
    "        if model_type in ['vae']:\n",
    "            loss = loss_vae(output[0], img, output[1], output[2], criterion)\n",
    "        #elif model_type in ['cnnfcn']:\n",
    "        #    loss = criterion(output, img.view(img.shape[0], -1))\n",
    "        else:\n",
    "            loss = criterion(output, img)\n",
    "\n",
    "        tot_loss.append(loss.item())\n",
    "        # ===================backward====================\n",
    "        optimizer.zero_grad()\n",
    "        loss.backward()\n",
    "        optimizer.step()\n",
    "        scheduler.step(loss)\n",
    "    # ===================save_best====================\n",
    "    mean_loss = np.mean(tot_loss)\n",
    "    if mean_loss < best_loss:\n",
    "        best_loss = mean_loss\n",
    "        torch.save(model, 'best_model_{}.pt'.format(model_type))\n",
    "        print('epoch:' +f'{epoch + 1:.0f}/{num_epochs:.0f}' + ',loss: ' + f'{mean_loss:.4f}')\n",
    "    # ===================log========================\n",
    "    qqdm_train.set_infos({\n",
    "        'epoch': f'{epoch + 1:.0f}/{num_epochs:.0f}',\n",
    "        'loss': f'{mean_loss:.4f}',\n",
    "    })\n",
    "    # ===================save_last========================\n",
    "    torch.save(model, 'last_model_{}.pt'.format(model_type))"
   ]
  },
  {
   "attachments": {},
   "cell_type": "markdown",
   "id": "b734a2d4",
   "metadata": {
    "id": "Wk0UxFuchLzR",
    "papermill": {
     "duration": 0.019721,
     "end_time": "2023-05-03T17:12:40.586763",
     "exception": false,
     "start_time": "2023-05-03T17:12:40.567042",
     "status": "completed"
    },
    "tags": []
   },
   "source": [
    "# Inference\n",
    "Model is loaded and generates its anomaly score predictions."
   ]
  },
  {
   "attachments": {},
   "cell_type": "markdown",
   "id": "132d9fcc",
   "metadata": {
    "id": "evgMW3OwoGqD",
    "papermill": {
     "duration": 0.019532,
     "end_time": "2023-05-03T17:12:40.626017",
     "exception": false,
     "start_time": "2023-05-03T17:12:40.606485",
     "status": "completed"
    },
    "tags": []
   },
   "source": [
    "## Initialize\n",
    "- dataloader\n",
    "- model\n",
    "- prediction file"
   ]
  },
  {
   "cell_type": "code",
   "execution_count": 12,
   "id": "cd39817b",
   "metadata": {
    "execution": {
     "iopub.execute_input": "2023-05-03T17:12:40.667357Z",
     "iopub.status.busy": "2023-05-03T17:12:40.667018Z",
     "iopub.status.idle": "2023-05-03T17:12:42.376538Z",
     "shell.execute_reply": "2023-05-03T17:12:42.375437Z"
    },
    "id": "_MBnXAswoKmq",
    "papermill": {
     "duration": 1.7332,
     "end_time": "2023-05-03T17:12:42.379150",
     "exception": false,
     "start_time": "2023-05-03T17:12:40.645950",
     "status": "completed"
    },
    "tags": []
   },
   "outputs": [],
   "source": [
    "eval_batch_size = 200\n",
    "\n",
    "# build testing dataloader\n",
    "data = torch.tensor(test, dtype=torch.float32)\n",
    "test_dataset = CustomTensorDataset(data)\n",
    "test_sampler = SequentialSampler(test_dataset)\n",
    "test_dataloader = DataLoader(test_dataset, sampler=test_sampler, batch_size=eval_batch_size, num_workers=2)\n",
    "eval_loss = nn.MSELoss(reduction='none')\n",
    "\n",
    "# load trained model\n",
    "checkpoint_path = f'last_model_{model_type}.pt'\n",
    "model = torch.load(checkpoint_path)\n",
    "model.eval()\n",
    "\n",
    "# prediction file \n",
    "out_file = './prediction_v72.csv'"
   ]
  },
  {
   "cell_type": "code",
   "execution_count": 13,
   "id": "6983c6dd",
   "metadata": {
    "execution": {
     "iopub.execute_input": "2023-05-03T17:12:42.429929Z",
     "iopub.status.busy": "2023-05-03T17:12:42.429558Z",
     "iopub.status.idle": "2023-05-03T17:12:47.020538Z",
     "shell.execute_reply": "2023-05-03T17:12:47.019267Z"
    },
    "id": "_1IxCX2iCW6V",
    "papermill": {
     "duration": 4.615053,
     "end_time": "2023-05-03T17:12:47.023231",
     "exception": false,
     "start_time": "2023-05-03T17:12:42.408178",
     "status": "completed"
    },
    "tags": []
   },
   "outputs": [],
   "source": [
    "anomality = list()\n",
    "with torch.no_grad():\n",
    "  for i, data in enumerate(test_dataloader):\n",
    "    img = data.float().cuda()\n",
    "    if model_type in ['fcn']:\n",
    "      img = img.view(img.shape[0], -1)\n",
    "    if model_type in ['cnnfcn']:\n",
    "      img1 = img.view(img.shape[0], -1)\n",
    "    output = model(img)\n",
    "    if model_type in ['vae']:\n",
    "      output = output[0]\n",
    "    if model_type in ['fcn']:\n",
    "        loss = eval_loss(output, img).sum(-1)\n",
    "    #elif model_type in ['cnnfcn']:\n",
    "    #    loss = eval_loss(output, img.view(img.shape[0], -1)).sum(-1)\n",
    "    else:\n",
    "        loss = eval_loss(output, img).sum([1, 2, 3])\n",
    "    anomality.append(loss)\n",
    "anomality = torch.cat(anomality, axis=0)\n",
    "anomality = torch.sqrt(anomality).reshape(len(test), 1).cpu().numpy()\n",
    "\n",
    "df = pd.DataFrame(anomality, columns=['score'])\n",
    "df.to_csv(out_file, index_label = 'ID')"
   ]
  }
 ],
 "metadata": {
  "kernelspec": {
   "display_name": "Python 3",
   "language": "python",
   "name": "python3"
  },
  "language_info": {
   "codemirror_mode": {
    "name": "ipython",
    "version": 3
   },
   "file_extension": ".py",
   "mimetype": "text/x-python",
   "name": "python",
   "nbconvert_exporter": "python",
   "pygments_lexer": "ipython3",
   "version": "3.7.12"
  },
  "papermill": {
   "default_parameters": {},
   "duration": 2098.89494,
   "end_time": "2023-05-03T17:12:49.073483",
   "environment_variables": {},
   "exception": null,
   "input_path": "__notebook__.ipynb",
   "output_path": "__notebook__.ipynb",
   "parameters": {},
   "start_time": "2023-05-03T16:37:50.178543",
   "version": "2.4.0"
  }
 },
 "nbformat": 4,
 "nbformat_minor": 5
}
