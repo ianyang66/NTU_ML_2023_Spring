{
 "cells": [
  {
   "attachments": {},
   "cell_type": "markdown",
   "id": "bbff90df",
   "metadata": {
    "id": "YiVfKn-6tXz8",
    "papermill": {
     "duration": 0.006206,
     "end_time": "2023-05-03T02:53:46.248972",
     "exception": false,
     "start_time": "2023-05-03T02:53:46.242766",
     "status": "completed"
    },
    "tags": []
   },
   "source": [
    "# **Homework 8 - Anomaly Detection**\n",
    "\n",
    "If there are any questions, please contact mlta-2023-spring@googlegroups.com\n",
    "\n",
    "Slide:    [Link](https://docs.google.com/presentation/d/18LkR8qulwSbi3SVoLl1XNNGjQQ_qczs_35lrJWOmHCk/edit?usp=sharing)　Kaggle: [Link](https://www.kaggle.com/t/c76950cc460140eba30a576ca7668d28)"
   ]
  },
  {
   "attachments": {},
   "cell_type": "markdown",
   "id": "c8de1fc2",
   "metadata": {
    "id": "bDk9r2YOcDc9",
    "papermill": {
     "duration": 0.004993,
     "end_time": "2023-05-03T02:53:46.260016",
     "exception": false,
     "start_time": "2023-05-03T02:53:46.255023",
     "status": "completed"
    },
    "tags": []
   },
   "source": [
    "# Set up the environment\n"
   ]
  },
  {
   "attachments": {},
   "cell_type": "markdown",
   "id": "b5284e84",
   "metadata": {
    "id": "Oi12tJMYWi0Q",
    "papermill": {
     "duration": 0.005038,
     "end_time": "2023-05-03T02:53:46.270130",
     "exception": false,
     "start_time": "2023-05-03T02:53:46.265092",
     "status": "completed"
    },
    "tags": []
   },
   "source": [
    "## Package installation"
   ]
  },
  {
   "cell_type": "code",
   "execution_count": 1,
   "id": "77b30294",
   "metadata": {
    "execution": {
     "iopub.execute_input": "2023-05-03T02:53:46.282727Z",
     "iopub.status.busy": "2023-05-03T02:53:46.281981Z",
     "iopub.status.idle": "2023-05-03T02:53:58.534680Z",
     "shell.execute_reply": "2023-05-03T02:53:58.533437Z"
    },
    "id": "7LexxyPWWjJB",
    "outputId": "2039780b-43f2-49b5-ffa8-2a0c33ad2d15",
    "papermill": {
     "duration": 12.261999,
     "end_time": "2023-05-03T02:53:58.537478",
     "exception": false,
     "start_time": "2023-05-03T02:53:46.275479",
     "status": "completed"
    },
    "tags": []
   },
   "outputs": [
    {
     "name": "stdout",
     "output_type": "stream",
     "text": [
      "\u001b[33mWARNING: Running pip as the 'root' user can result in broken permissions and conflicting behaviour with the system package manager. It is recommended to use a virtual environment instead: https://pip.pypa.io/warnings/venv\u001b[0m\u001b[33m\r\n",
      "\u001b[0m"
     ]
    }
   ],
   "source": [
    "# Training progress bar\n",
    "!pip install -q qqdm"
   ]
  },
  {
   "attachments": {},
   "cell_type": "markdown",
   "id": "67f480bc",
   "metadata": {
    "id": "DCgNXSsEWuY7",
    "papermill": {
     "duration": 0.005037,
     "end_time": "2023-05-03T02:53:58.548307",
     "exception": false,
     "start_time": "2023-05-03T02:53:58.543270",
     "status": "completed"
    },
    "tags": []
   },
   "source": [
    "## Downloading data"
   ]
  },
  {
   "cell_type": "code",
   "execution_count": 2,
   "id": "ea71c7db",
   "metadata": {
    "execution": {
     "iopub.execute_input": "2023-05-03T02:53:58.560267Z",
     "iopub.status.busy": "2023-05-03T02:53:58.559919Z",
     "iopub.status.idle": "2023-05-03T02:54:16.961963Z",
     "shell.execute_reply": "2023-05-03T02:54:16.960632Z"
    },
    "papermill": {
     "duration": 18.41149,
     "end_time": "2023-05-03T02:54:16.964868",
     "exception": false,
     "start_time": "2023-05-03T02:53:58.553378",
     "status": "completed"
    },
    "tags": []
   },
   "outputs": [
    {
     "name": "stdout",
     "output_type": "stream",
     "text": [
      "Detected operating system as Ubuntu/focal.\r\n",
      "Checking for curl...\r\n",
      "Detected curl...\r\n",
      "Checking for gpg...\r\n",
      "Detected gpg...\r\n",
      "Detected apt version as 2.0.9\r\n",
      "Running apt-get update... done.\r\n",
      "Installing apt-transport-https... done.\r\n",
      "Installing /etc/apt/sources.list.d/github_git-lfs.list...done.\r\n",
      "Importing packagecloud gpg key... Packagecloud gpg key imported to /etc/apt/keyrings/github_git-lfs-archive-keyring.gpg\r\n",
      "done.\r\n",
      "Running apt-get update... done.\r\n",
      "\r\n",
      "The repository is setup! You can now install packages.\r\n",
      "\r\n",
      "\r\n",
      "\r\n",
      "The following packages will be upgraded:\r\n",
      "  git-lfs\r\n",
      "1 upgraded, 0 newly installed, 0 to remove and 80 not upgraded.\r\n",
      "Need to get 7419 kB of archives.\r\n",
      "After this operation, 4936 kB of additional disk space will be used.\r\n",
      "Get:1 https://packagecloud.io/github/git-lfs/ubuntu focal/main amd64 git-lfs amd64 3.3.0 [7419 kB]\r\n",
      "Fetched 7419 kB in 1s (9106 kB/s)\r\n",
      "(Reading database ... 111522 files and directories currently installed.)\r\n",
      "Preparing to unpack .../git-lfs_3.3.0_amd64.deb ...\r\n",
      "Unpacking git-lfs (3.3.0) over (2.9.2-1) ...\r\n",
      "Setting up git-lfs (3.3.0) ...\r\n",
      "Git LFS initialized.\r\n",
      "Processing triggers for man-db (2.9.1-1) ...\r\n"
     ]
    }
   ],
   "source": [
    "!curl -s https://packagecloud.io/install/repositories/github/git-lfs/script.deb.sh |  bash\n",
    "!apt-get install -y --allow-unauthenticated git-lfs"
   ]
  },
  {
   "cell_type": "code",
   "execution_count": 3,
   "id": "8b7cb5c1",
   "metadata": {
    "execution": {
     "iopub.execute_input": "2023-05-03T02:54:16.981574Z",
     "iopub.status.busy": "2023-05-03T02:54:16.981222Z",
     "iopub.status.idle": "2023-05-03T02:54:18.479173Z",
     "shell.execute_reply": "2023-05-03T02:54:18.477898Z"
    },
    "papermill": {
     "duration": 1.509904,
     "end_time": "2023-05-03T02:54:18.482467",
     "exception": false,
     "start_time": "2023-05-03T02:54:16.972563",
     "status": "completed"
    },
    "tags": []
   },
   "outputs": [
    {
     "name": "stdout",
     "output_type": "stream",
     "text": [
      "Cloning into 'ml2023spring-hw8'...\r\n",
      "remote: Enumerating objects: 11, done.\u001b[K\r\n",
      "remote: Counting objects: 100% (11/11), done.\u001b[K\r\n",
      "remote: Compressing objects: 100% (10/10), done.\u001b[K\r\n",
      "remote: Total 11 (delta 2), reused 8 (delta 0), pack-reused 0\u001b[K\r\n",
      "Receiving objects: 100% (11/11), done.\r\n",
      "Resolving deltas: 100% (2/2), done.\r\n"
     ]
    }
   ],
   "source": [
    "!git clone https://github.com/chiyuanhsiao/ml2023spring-hw8"
   ]
  },
  {
   "cell_type": "code",
   "execution_count": 4,
   "id": "e27dd59b",
   "metadata": {
    "execution": {
     "iopub.execute_input": "2023-05-03T02:54:18.501418Z",
     "iopub.status.busy": "2023-05-03T02:54:18.500755Z",
     "iopub.status.idle": "2023-05-03T02:54:47.091336Z",
     "shell.execute_reply": "2023-05-03T02:54:47.090102Z"
    },
    "id": "e-yCMrIl4L60",
    "outputId": "7a5c329a-933e-4564-8423-b11469700577",
    "papermill": {
     "duration": 28.602023,
     "end_time": "2023-05-03T02:54:47.093931",
     "exception": false,
     "start_time": "2023-05-03T02:54:18.491908",
     "status": "completed"
    },
    "tags": []
   },
   "outputs": [
    {
     "name": "stdout",
     "output_type": "stream",
     "text": [
      "/kaggle/working/ml2023spring-hw8\n",
      "Updated Git hooks.\r\n",
      "Git LFS initialized.\r\n",
      "Downloading LFS objects: 100% (2/2), 1.5 GB | 97 MB/s                           \r"
     ]
    }
   ],
   "source": [
    "%cd ./ml2023spring-hw8\n",
    "!git lfs install\n",
    "!git lfs pull"
   ]
  },
  {
   "attachments": {},
   "cell_type": "markdown",
   "id": "0b3a7c09",
   "metadata": {
    "id": "HNe7QU7n7cqh",
    "papermill": {
     "duration": 0.010759,
     "end_time": "2023-05-03T02:54:47.116350",
     "exception": false,
     "start_time": "2023-05-03T02:54:47.105591",
     "status": "completed"
    },
    "tags": []
   },
   "source": [
    "# Import packages"
   ]
  },
  {
   "cell_type": "code",
   "execution_count": 5,
   "id": "f972eae5",
   "metadata": {
    "execution": {
     "iopub.execute_input": "2023-05-03T02:54:47.139856Z",
     "iopub.status.busy": "2023-05-03T02:54:47.139476Z",
     "iopub.status.idle": "2023-05-03T02:54:49.633453Z",
     "shell.execute_reply": "2023-05-03T02:54:49.632385Z"
    },
    "id": "Jk3qFK_a7k8P",
    "papermill": {
     "duration": 2.509269,
     "end_time": "2023-05-03T02:54:49.636560",
     "exception": false,
     "start_time": "2023-05-03T02:54:47.127291",
     "status": "completed"
    },
    "tags": []
   },
   "outputs": [],
   "source": [
    "import random\n",
    "import numpy as np\n",
    "import torch\n",
    "from torch import nn\n",
    "from torch.utils.data import DataLoader, RandomSampler, SequentialSampler, TensorDataset\n",
    "import torchvision.transforms as transforms\n",
    "import torch.nn.functional as F\n",
    "from torch.autograd import Variable\n",
    "import torchvision.models as models\n",
    "from torch.optim import Adam, AdamW\n",
    "from qqdm import qqdm, format_str\n",
    "import pandas as pd\n",
    "from torchvision.transforms.functional import crop"
   ]
  },
  {
   "attachments": {},
   "cell_type": "markdown",
   "id": "5b8833e7",
   "metadata": {
    "id": "6X6fkGPnYyaF",
    "papermill": {
     "duration": 0.012285,
     "end_time": "2023-05-03T02:54:49.661138",
     "exception": false,
     "start_time": "2023-05-03T02:54:49.648853",
     "status": "completed"
    },
    "tags": []
   },
   "source": [
    "# Loading data"
   ]
  },
  {
   "cell_type": "code",
   "execution_count": 6,
   "id": "e3a66e54",
   "metadata": {
    "execution": {
     "iopub.execute_input": "2023-05-03T02:54:49.764370Z",
     "iopub.status.busy": "2023-05-03T02:54:49.762922Z",
     "iopub.status.idle": "2023-05-03T02:54:50.277481Z",
     "shell.execute_reply": "2023-05-03T02:54:50.275889Z"
    },
    "id": "k7Wd4yiUYzAm",
    "outputId": "d8b80f1e-cbc4-4ed9-c95c-b2e3fb561f23",
    "papermill": {
     "duration": 0.530037,
     "end_time": "2023-05-03T02:54:50.279798",
     "exception": false,
     "start_time": "2023-05-03T02:54:49.749761",
     "status": "completed"
    },
    "tags": []
   },
   "outputs": [
    {
     "name": "stdout",
     "output_type": "stream",
     "text": [
      "(100000, 64, 64, 3)\n",
      "(19636, 64, 64, 3)\n"
     ]
    }
   ],
   "source": [
    "train = np.load('./ml2023spring-hw8/trainingset.npy', allow_pickle=True)\n",
    "test = np.load('./ml2023spring-hw8/testingset.npy', allow_pickle=True)\n",
    "\n",
    "print(train.shape)\n",
    "print(test.shape)"
   ]
  },
  {
   "attachments": {},
   "cell_type": "markdown",
   "id": "4da5dbb0",
   "metadata": {
    "id": "_flpmj6OYIa6",
    "papermill": {
     "duration": 0.012182,
     "end_time": "2023-05-03T02:54:50.303762",
     "exception": false,
     "start_time": "2023-05-03T02:54:50.291580",
     "status": "completed"
    },
    "tags": []
   },
   "source": [
    "## Random seed\n",
    "Set the random seed to a certain value for reproducibility."
   ]
  },
  {
   "cell_type": "code",
   "execution_count": 7,
   "id": "ce7b39c2",
   "metadata": {
    "execution": {
     "iopub.execute_input": "2023-05-03T02:54:50.327431Z",
     "iopub.status.busy": "2023-05-03T02:54:50.327089Z",
     "iopub.status.idle": "2023-05-03T02:54:50.389130Z",
     "shell.execute_reply": "2023-05-03T02:54:50.388410Z"
    },
    "id": "Gb-dgXQYYI2Q",
    "papermill": {
     "duration": 0.076322,
     "end_time": "2023-05-03T02:54:50.391483",
     "exception": false,
     "start_time": "2023-05-03T02:54:50.315161",
     "status": "completed"
    },
    "tags": []
   },
   "outputs": [],
   "source": [
    "def same_seeds(seed):\n",
    "    random.seed(seed)\n",
    "    np.random.seed(seed)\n",
    "    torch.manual_seed(seed)\n",
    "    if torch.cuda.is_available():\n",
    "        torch.cuda.manual_seed(seed)\n",
    "        torch.cuda.manual_seed_all(seed)\n",
    "    torch.backends.cudnn.benchmark = False\n",
    "    torch.backends.cudnn.deterministic = True\n",
    "\n",
    "same_seeds(48763)"
   ]
  },
  {
   "attachments": {},
   "cell_type": "markdown",
   "id": "0a1c182d",
   "metadata": {
    "id": "zR9zC0_Df-CR",
    "papermill": {
     "duration": 0.011317,
     "end_time": "2023-05-03T02:54:50.414690",
     "exception": false,
     "start_time": "2023-05-03T02:54:50.403373",
     "status": "completed"
    },
    "tags": []
   },
   "source": [
    "# Autoencoder"
   ]
  },
  {
   "attachments": {},
   "cell_type": "markdown",
   "id": "e07daa58",
   "metadata": {
    "id": "1EbfwRREhA7c",
    "papermill": {
     "duration": 0.012217,
     "end_time": "2023-05-03T02:54:50.438110",
     "exception": false,
     "start_time": "2023-05-03T02:54:50.425893",
     "status": "completed"
    },
    "tags": []
   },
   "source": [
    "# Models & loss"
   ]
  },
  {
   "cell_type": "code",
   "execution_count": 8,
   "id": "9cf34ecb",
   "metadata": {
    "execution": {
     "iopub.execute_input": "2023-05-03T02:54:50.462629Z",
     "iopub.status.busy": "2023-05-03T02:54:50.462314Z",
     "iopub.status.idle": "2023-05-03T02:54:50.484351Z",
     "shell.execute_reply": "2023-05-03T02:54:50.483305Z"
    },
    "id": "Wi8ds1fugCkR",
    "papermill": {
     "duration": 0.037225,
     "end_time": "2023-05-03T02:54:50.486559",
     "exception": false,
     "start_time": "2023-05-03T02:54:50.449334",
     "status": "completed"
    },
    "tags": []
   },
   "outputs": [],
   "source": [
    "class fcn_autoencoder(nn.Module):\n",
    "    def __init__(self):\n",
    "        super(fcn_autoencoder, self).__init__()\n",
    "        self.encoder = nn.Sequential(\n",
    "            nn.Linear(64 * 64 * 3, 1024),\n",
    "            nn.BatchNorm1d(1024),\n",
    "            nn.PReLU(),\n",
    "            nn.Linear(1024, 32),\n",
    "            # nn.ReLU(), \n",
    "            # nn.Linear(512, 256), \n",
    "            # nn.ReLU(), \n",
    "            # nn.Linear(256, 24),\n",
    "            # nn.ReLU(), \n",
    "            # nn.Linear(24, 12)\n",
    "        )    # Hint: dimension of latent space can be adjusted\n",
    "        \n",
    "        self.decoder = nn.Sequential(\n",
    "            # nn.Linear(12, 24),\n",
    "            # nn.ReLU(), \n",
    "            # nn.Linear(24, 256),\n",
    "            # nn.ReLU(), \n",
    "            # nn.Linear(256, 512),\n",
    "            # nn.ReLU(),\n",
    "            nn.Linear(32, 1024),\n",
    "            nn.PReLU(),\n",
    "            nn.BatchNorm1d(1024),\n",
    "            nn.Linear(1024, 64 * 64 * 3), \n",
    "            nn.Tanh()\n",
    "        )\n",
    "\n",
    "    def forward(self, x):\n",
    "        x = self.encoder(x)\n",
    "        x = self.decoder(x)\n",
    "        return x\n",
    "\n",
    "class conv_autoencoder(nn.Module):\n",
    "    def __init__(self):\n",
    "        super(conv_autoencoder, self).__init__()\n",
    "        self.encoder = nn.Sequential(\n",
    "            nn.Conv2d(3, 64, 4, stride=2, padding=1), \n",
    "            nn.BatchNorm2d(64),\n",
    "            nn.PReLU(),\n",
    "            nn.Conv2d(64, 256, 4, stride=2, padding=1), \n",
    "            nn.BatchNorm2d(256),\n",
    "            nn.PReLU(),\n",
    "            nn.Conv2d(256, 1024, 4, stride=2, padding=1),   \n",
    "            nn.BatchNorm2d(1024),\n",
    "            nn.PReLU(),\n",
    "            #nn.Conv2d(48, 96, 4, stride=2, padding=1),   # medium: remove this layer\n",
    "            #nn.ReLU(),\n",
    "        )\n",
    "        self.decoder = nn.Sequential(\n",
    "            nn.ConvTranspose2d(1024, 256, 4, stride=2, padding=1), # medium: remove this layer\n",
    "            nn.BatchNorm2d(256),\n",
    "            nn.PReLU(),\n",
    "            nn.ConvTranspose2d(256, 64, 4, stride=2, padding=1), \n",
    "            nn.BatchNorm2d(64),\n",
    "            nn.PReLU(),\n",
    "            nn.ConvTranspose2d(64, 3, 4, stride=2, padding=1), \n",
    "            #nn.ReLU(),\n",
    "            #nn.ConvTranspose2d(12, 3, 4, stride=2, padding=1),\n",
    "            nn.Tanh(),\n",
    "        )\n",
    "\n",
    "    def forward(self, x):\n",
    "        x = self.encoder(x)\n",
    "        x = self.decoder(x)\n",
    "        return x\n",
    "\n",
    "\n",
    "class VAE(nn.Module):\n",
    "    def __init__(self):\n",
    "        super(VAE, self).__init__()\n",
    "        self.encoder = nn.Sequential(\n",
    "            nn.Conv2d(3, 12, 4, stride=2, padding=1),            \n",
    "            nn.ReLU(),\n",
    "            nn.Conv2d(12, 24, 4, stride=2, padding=1),    \n",
    "            nn.ReLU(),\n",
    "        )\n",
    "        self.enc_out_1 = nn.Sequential(\n",
    "            nn.Conv2d(24, 48, 4, stride=2, padding=1),  \n",
    "            nn.ReLU(),\n",
    "        )\n",
    "        self.enc_out_2 = nn.Sequential(\n",
    "            nn.Conv2d(24, 48, 4, stride=2, padding=1),\n",
    "            nn.ReLU(),\n",
    "        )\n",
    "        self.decoder = nn.Sequential(\n",
    "\t\t\t      nn.ConvTranspose2d(48, 24, 4, stride=2, padding=1), \n",
    "            nn.ReLU(),\n",
    "\t\t\t      nn.ConvTranspose2d(24, 12, 4, stride=2, padding=1), \n",
    "            nn.ReLU(),\n",
    "            nn.ConvTranspose2d(12, 3, 4, stride=2, padding=1), \n",
    "            nn.Tanh(),\n",
    "        )\n",
    "\n",
    "    def encode(self, x):\n",
    "        h1 = self.encoder(x)\n",
    "        return self.enc_out_1(h1), self.enc_out_2(h1)\n",
    "\n",
    "    def reparametrize(self, mu, logvar):\n",
    "        std = logvar.mul(0.5).exp_()\n",
    "        if torch.cuda.is_available():\n",
    "            eps = torch.cuda.FloatTensor(std.size()).normal_()\n",
    "        else:\n",
    "            eps = torch.FloatTensor(std.size()).normal_()\n",
    "        eps = Variable(eps)\n",
    "        return eps.mul(std).add_(mu)\n",
    "\n",
    "    def decode(self, z):\n",
    "        return self.decoder(z)\n",
    "\n",
    "    def forward(self, x):\n",
    "        mu, logvar = self.encode(x)\n",
    "        z = self.reparametrize(mu, logvar)\n",
    "        return self.decode(z), mu, logvar\n",
    "\n",
    "\n",
    "def loss_vae(recon_x, x, mu, logvar, criterion):\n",
    "    \"\"\"\n",
    "    recon_x: generating images\n",
    "    x: origin images\n",
    "    mu: latent mean\n",
    "    logvar: latent log variance\n",
    "    \"\"\"\n",
    "    mse = criterion(recon_x, x)\n",
    "    KLD_element = mu.pow(2).add_(logvar.exp()).mul_(-1).add_(1).add_(logvar)\n",
    "    KLD = torch.sum(KLD_element).mul_(-0.5)\n",
    "    return mse + KLD"
   ]
  },
  {
   "attachments": {},
   "cell_type": "markdown",
   "id": "d0236539",
   "metadata": {
    "id": "vrJ9bScg9AgO",
    "papermill": {
     "duration": 0.011115,
     "end_time": "2023-05-03T02:54:50.509428",
     "exception": false,
     "start_time": "2023-05-03T02:54:50.498313",
     "status": "completed"
    },
    "tags": []
   },
   "source": [
    "# Dataset module\n",
    "\n",
    "Module for obtaining and processing data. The transform function here normalizes image's pixels from [0, 255] to [-1.0, 1.0].\n"
   ]
  },
  {
   "cell_type": "code",
   "execution_count": 9,
   "id": "d156daf7",
   "metadata": {
    "execution": {
     "iopub.execute_input": "2023-05-03T02:54:50.534591Z",
     "iopub.status.busy": "2023-05-03T02:54:50.533678Z",
     "iopub.status.idle": "2023-05-03T02:54:50.542003Z",
     "shell.execute_reply": "2023-05-03T02:54:50.541097Z"
    },
    "id": "33fWhE-h9LPq",
    "papermill": {
     "duration": 0.022914,
     "end_time": "2023-05-03T02:54:50.544048",
     "exception": false,
     "start_time": "2023-05-03T02:54:50.521134",
     "status": "completed"
    },
    "tags": []
   },
   "outputs": [],
   "source": [
    "class CustomTensorDataset(TensorDataset):\n",
    "    \"\"\"TensorDataset with support of transforms.\n",
    "    \"\"\"\n",
    "    def __init__(self, tensors):\n",
    "        self.tensors = tensors\n",
    "        if tensors.shape[-1] == 3:\n",
    "            self.tensors = tensors.permute(0, 3, 1, 2)\n",
    "        # 與r11921a25討論\n",
    "        self.transform = transforms.Compose([\n",
    "            transforms.Lambda(lambda x: x.to(torch.float32)),\n",
    "            transforms.Lambda(lambda x: crop(x,14,16,32,36)),\n",
    "            transforms.Resize((64,64)),\n",
    "            transforms.Lambda(lambda x: 2. * x/255. - 1.),\n",
    "        ])\n",
    "        \n",
    "    def __getitem__(self, index):\n",
    "        x = self.tensors[index]\n",
    "        \n",
    "        if self.transform:\n",
    "            # mapping images to [-1.0, 1.0]\n",
    "            x = self.transform(x)\n",
    "\n",
    "        return x\n",
    "\n",
    "    def __len__(self):\n",
    "        return len(self.tensors)"
   ]
  },
  {
   "attachments": {},
   "cell_type": "markdown",
   "id": "4862abb9",
   "metadata": {
    "id": "XKNUImqUhIeq",
    "papermill": {
     "duration": 0.012129,
     "end_time": "2023-05-03T02:54:50.567052",
     "exception": false,
     "start_time": "2023-05-03T02:54:50.554923",
     "status": "completed"
    },
    "tags": []
   },
   "source": [
    "# Training"
   ]
  },
  {
   "attachments": {},
   "cell_type": "markdown",
   "id": "81b48363",
   "metadata": {
    "id": "7ebAJdjFmS08",
    "papermill": {
     "duration": 0.010674,
     "end_time": "2023-05-03T02:54:50.590525",
     "exception": false,
     "start_time": "2023-05-03T02:54:50.579851",
     "status": "completed"
    },
    "tags": []
   },
   "source": [
    "## Configuration\n"
   ]
  },
  {
   "cell_type": "code",
   "execution_count": 10,
   "id": "becad924",
   "metadata": {
    "execution": {
     "iopub.execute_input": "2023-05-03T02:54:50.613923Z",
     "iopub.status.busy": "2023-05-03T02:54:50.613097Z",
     "iopub.status.idle": "2023-05-03T02:54:53.711831Z",
     "shell.execute_reply": "2023-05-03T02:54:53.710787Z"
    },
    "id": "in7yLfmqtZTk",
    "papermill": {
     "duration": 3.113401,
     "end_time": "2023-05-03T02:54:53.714774",
     "exception": false,
     "start_time": "2023-05-03T02:54:50.601373",
     "status": "completed"
    },
    "tags": []
   },
   "outputs": [],
   "source": [
    "# Training hyperparameters\n",
    "num_epochs = 80\n",
    "batch_size = 512\n",
    "learning_rate = 1e-3\n",
    "\n",
    "# Build training dataloader\n",
    "x = torch.from_numpy(train)\n",
    "train_dataset = CustomTensorDataset(x)\n",
    "\n",
    "train_sampler = RandomSampler(train_dataset)\n",
    "train_dataloader = DataLoader(train_dataset, sampler=train_sampler, batch_size=batch_size, num_workers=2, pin_memory=True)\n",
    "\n",
    "# Model\n",
    "model_type = 'fcn'   # selecting a model type from {'cnn', 'fcn', 'vae', 'resnet'}\n",
    "model_classes = {'fcn': fcn_autoencoder(), 'cnn': conv_autoencoder(), 'vae': VAE()}\n",
    "model = model_classes[model_type].cuda()\n",
    "\n",
    "# Loss and optimizer\n",
    "criterion = nn.MSELoss()\n",
    "optimizer = torch.optim.Adam(model.parameters(), lr=learning_rate)\n",
    "scheduler = torch.optim.lr_scheduler.ReduceLROnPlateau(optimizer, mode='min', patience=2, factor=0.9999)"
   ]
  },
  {
   "attachments": {},
   "cell_type": "markdown",
   "id": "f79f4072",
   "metadata": {
    "id": "wyooN-JPm8sS",
    "papermill": {
     "duration": 0.010847,
     "end_time": "2023-05-03T02:54:53.736960",
     "exception": false,
     "start_time": "2023-05-03T02:54:53.726113",
     "status": "completed"
    },
    "tags": []
   },
   "source": [
    "## Training loop"
   ]
  },
  {
   "cell_type": "code",
   "execution_count": 11,
   "id": "bc277955",
   "metadata": {
    "execution": {
     "iopub.execute_input": "2023-05-03T02:54:53.760796Z",
     "iopub.status.busy": "2023-05-03T02:54:53.760478Z",
     "iopub.status.idle": "2023-05-03T03:24:23.812041Z",
     "shell.execute_reply": "2023-05-03T03:24:23.810433Z"
    },
    "id": "JoW1UrrxgI_U",
    "outputId": "78a74d89-0605-4e57-d99c-f86cf110cda4",
    "papermill": {
     "duration": 1770.076698,
     "end_time": "2023-05-03T03:24:23.824761",
     "exception": false,
     "start_time": "2023-05-03T02:54:53.748063",
     "status": "completed"
    },
    "tags": []
   },
   "outputs": [
    {
     "name": "stderr",
     "output_type": "stream",
     "text": [
      " \u001b[1mIters\u001b[0m    \u001b[1mElapsed Time\u001b[0m      \u001b[1mSpeed\u001b[0m                                               \n",
      " \u001b[99m0/\u001b[93m80\u001b[0m\u001b[0m   \u001b[99m        -        \u001b[0m  \u001b[99m   -    \u001b[0m                                             \n",
      "\u001b[1mDescription\u001b[0m   0.0% |                                                           |\u001b[K\u001b[F\u001b[K\u001b[F \u001b[1mIters\u001b[0m    \u001b[1mElapsed Time\u001b[0m      \u001b[1mSpeed\u001b[0m    \u001b[1mepoch\u001b[0m   \u001b[1mloss\u001b[0m                               \n",
      " \u001b[99m1/\u001b[93m80\u001b[0m\u001b[0m   \u001b[99m00:00:23<\u001b[93m00:31:19\u001b[0m\u001b[0m  \u001b[99m0.04it/s\u001b[0m  \u001b[99m1/80\u001b[0m   \u001b[99m0.0684\u001b[0m                              \n",
      "\u001b[1mDescription\u001b[0m   1.2% |                                                           |"
     ]
    },
    {
     "name": "stdout",
     "output_type": "stream",
     "text": [
      "epoch:1/80,loss: 0.0684\n",
      "epoch:2/80,loss: 0.0277\n"
     ]
    },
    {
     "name": "stderr",
     "output_type": "stream",
     "text": [
      "\u001b[K\u001b[F\u001b[K\u001b[F \u001b[1mIters\u001b[0m    \u001b[1mElapsed Time\u001b[0m      \u001b[1mSpeed\u001b[0m    \u001b[1mepoch\u001b[0m   \u001b[1mloss\u001b[0m                               \n",
      " \u001b[99m2/\u001b[93m80\u001b[0m\u001b[0m   \u001b[99m00:00:46<\u001b[93m00:30:02\u001b[0m\u001b[0m  \u001b[99m0.04it/s\u001b[0m  \u001b[99m2/80\u001b[0m   \u001b[99m0.0277\u001b[0m                              \n",
      "\u001b[1mDescription\u001b[0m   2.5% |\u001b[97m█\u001b[0m                                                          |"
     ]
    },
    {
     "name": "stdout",
     "output_type": "stream",
     "text": [
      "epoch:3/80,loss: 0.0257\n"
     ]
    },
    {
     "name": "stderr",
     "output_type": "stream",
     "text": [
      "\u001b[K\u001b[F\u001b[K\u001b[F \u001b[1mIters\u001b[0m    \u001b[1mElapsed Time\u001b[0m      \u001b[1mSpeed\u001b[0m    \u001b[1mepoch\u001b[0m   \u001b[1mloss\u001b[0m                               \n",
      " \u001b[99m3/\u001b[93m80\u001b[0m\u001b[0m   \u001b[99m00:01:09<\u001b[93m00:29:42\u001b[0m\u001b[0m  \u001b[99m0.04it/s\u001b[0m  \u001b[99m3/80\u001b[0m   \u001b[99m0.0257\u001b[0m                              \n",
      "\u001b[1mDescription\u001b[0m   3.8% |\u001b[97m█\u001b[0m\u001b[97m█\u001b[0m                                                         |"
     ]
    },
    {
     "name": "stdout",
     "output_type": "stream",
     "text": [
      "epoch:4/80,loss: 0.0252\n"
     ]
    },
    {
     "name": "stderr",
     "output_type": "stream",
     "text": [
      "\u001b[K\u001b[F\u001b[K\u001b[F \u001b[1mIters\u001b[0m    \u001b[1mElapsed Time\u001b[0m      \u001b[1mSpeed\u001b[0m    \u001b[1mepoch\u001b[0m   \u001b[1mloss\u001b[0m                               \n",
      " \u001b[99m4/\u001b[93m80\u001b[0m\u001b[0m   \u001b[99m00:01:31<\u001b[93m00:28:59\u001b[0m\u001b[0m  \u001b[99m0.04it/s\u001b[0m  \u001b[99m4/80\u001b[0m   \u001b[99m0.0252\u001b[0m                              \n",
      "\u001b[1mDescription\u001b[0m   5.0% |\u001b[97m█\u001b[0m\u001b[97m█\u001b[0m                                                         |"
     ]
    },
    {
     "name": "stdout",
     "output_type": "stream",
     "text": [
      "epoch:5/80,loss: 0.0247\n"
     ]
    },
    {
     "name": "stderr",
     "output_type": "stream",
     "text": [
      "\u001b[K\u001b[F\u001b[K\u001b[F \u001b[1mIters\u001b[0m    \u001b[1mElapsed Time\u001b[0m      \u001b[1mSpeed\u001b[0m    \u001b[1mepoch\u001b[0m   \u001b[1mloss\u001b[0m                               \n",
      " \u001b[99m5/\u001b[93m80\u001b[0m\u001b[0m   \u001b[99m00:01:53<\u001b[93m00:28:19\u001b[0m\u001b[0m  \u001b[99m0.04it/s\u001b[0m  \u001b[99m5/80\u001b[0m   \u001b[99m0.0247\u001b[0m                              \n",
      "\u001b[1mDescription\u001b[0m   6.2% |\u001b[97m█\u001b[0m\u001b[97m█\u001b[0m\u001b[97m█\u001b[0m                                                        |"
     ]
    },
    {
     "name": "stdout",
     "output_type": "stream",
     "text": [
      "epoch:6/80,loss: 0.0242\n"
     ]
    },
    {
     "name": "stderr",
     "output_type": "stream",
     "text": [
      "\u001b[K\u001b[F\u001b[K\u001b[F \u001b[1mIters\u001b[0m    \u001b[1mElapsed Time\u001b[0m      \u001b[1mSpeed\u001b[0m    \u001b[1mepoch\u001b[0m   \u001b[1mloss\u001b[0m                               \n",
      " \u001b[99m6/\u001b[93m80\u001b[0m\u001b[0m   \u001b[99m00:02:15<\u001b[93m00:27:49\u001b[0m\u001b[0m  \u001b[99m0.04it/s\u001b[0m  \u001b[99m6/80\u001b[0m   \u001b[99m0.0242\u001b[0m                              \n",
      "\u001b[1mDescription\u001b[0m   7.5% |\u001b[97m█\u001b[0m\u001b[97m█\u001b[0m\u001b[97m█\u001b[0m\u001b[97m█\u001b[0m                                                       |"
     ]
    },
    {
     "name": "stdout",
     "output_type": "stream",
     "text": [
      "epoch:7/80,loss: 0.0238\n"
     ]
    },
    {
     "name": "stderr",
     "output_type": "stream",
     "text": [
      "\u001b[K\u001b[F\u001b[K\u001b[F \u001b[1mIters\u001b[0m    \u001b[1mElapsed Time\u001b[0m      \u001b[1mSpeed\u001b[0m    \u001b[1mepoch\u001b[0m   \u001b[1mloss\u001b[0m                               \n",
      " \u001b[99m7/\u001b[93m80\u001b[0m\u001b[0m   \u001b[99m00:02:37<\u001b[93m00:27:24\u001b[0m\u001b[0m  \u001b[99m0.04it/s\u001b[0m  \u001b[99m7/80\u001b[0m   \u001b[99m0.0238\u001b[0m                              \n",
      "\u001b[1mDescription\u001b[0m   8.8% |\u001b[97m█\u001b[0m\u001b[97m█\u001b[0m\u001b[97m█\u001b[0m\u001b[97m█\u001b[0m\u001b[97m█\u001b[0m                                                      |"
     ]
    },
    {
     "name": "stdout",
     "output_type": "stream",
     "text": [
      "epoch:8/80,loss: 0.0235\n"
     ]
    },
    {
     "name": "stderr",
     "output_type": "stream",
     "text": [
      "\u001b[K\u001b[F\u001b[K\u001b[F \u001b[1mIters\u001b[0m    \u001b[1mElapsed Time\u001b[0m      \u001b[1mSpeed\u001b[0m    \u001b[1mepoch\u001b[0m   \u001b[1mloss\u001b[0m                               \n",
      " \u001b[99m8/\u001b[93m80\u001b[0m\u001b[0m   \u001b[99m00:02:59<\u001b[93m00:26:53\u001b[0m\u001b[0m  \u001b[99m0.04it/s\u001b[0m  \u001b[99m8/80\u001b[0m   \u001b[99m0.0235\u001b[0m                              \n",
      "\u001b[1mDescription\u001b[0m  10.0% |\u001b[97m█\u001b[0m\u001b[97m█\u001b[0m\u001b[97m█\u001b[0m\u001b[97m█\u001b[0m\u001b[97m█\u001b[0m                                                      |"
     ]
    },
    {
     "name": "stdout",
     "output_type": "stream",
     "text": [
      "epoch:9/80,loss: 0.0230\n"
     ]
    },
    {
     "name": "stderr",
     "output_type": "stream",
     "text": [
      "\u001b[K\u001b[F\u001b[K\u001b[F \u001b[1mIters\u001b[0m    \u001b[1mElapsed Time\u001b[0m      \u001b[1mSpeed\u001b[0m    \u001b[1mepoch\u001b[0m   \u001b[1mloss\u001b[0m                               \n",
      " \u001b[99m9/\u001b[93m80\u001b[0m\u001b[0m   \u001b[99m00:03:21<\u001b[93m00:26:32\u001b[0m\u001b[0m  \u001b[99m0.04it/s\u001b[0m  \u001b[99m9/80\u001b[0m   \u001b[99m0.0230\u001b[0m                              \n",
      "\u001b[1mDescription\u001b[0m  11.2% |\u001b[97m█\u001b[0m\u001b[97m█\u001b[0m\u001b[97m█\u001b[0m\u001b[97m█\u001b[0m\u001b[97m█\u001b[0m\u001b[97m█\u001b[0m                                                     |"
     ]
    },
    {
     "name": "stdout",
     "output_type": "stream",
     "text": [
      "epoch:10/80,loss: 0.0226\n"
     ]
    },
    {
     "name": "stderr",
     "output_type": "stream",
     "text": [
      "\u001b[K\u001b[F\u001b[K\u001b[F \u001b[1mIters\u001b[0m    \u001b[1mElapsed Time\u001b[0m      \u001b[1mSpeed\u001b[0m    \u001b[1mepoch\u001b[0m   \u001b[1mloss\u001b[0m                               \n",
      " \u001b[99m10/\u001b[93m80\u001b[0m\u001b[0m  \u001b[99m00:03:44<\u001b[93m00:26:08\u001b[0m\u001b[0m  \u001b[99m0.04it/s\u001b[0m  \u001b[99m10/80\u001b[0m  \u001b[99m0.0226\u001b[0m                              \n",
      "\u001b[1mDescription\u001b[0m  12.5% |\u001b[97m█\u001b[0m\u001b[97m█\u001b[0m\u001b[97m█\u001b[0m\u001b[97m█\u001b[0m\u001b[97m█\u001b[0m\u001b[97m█\u001b[0m\u001b[97m█\u001b[0m                                                    |"
     ]
    },
    {
     "name": "stdout",
     "output_type": "stream",
     "text": [
      "epoch:11/80,loss: 0.0223\n"
     ]
    },
    {
     "name": "stderr",
     "output_type": "stream",
     "text": [
      "\u001b[K\u001b[F\u001b[K\u001b[F \u001b[1mIters\u001b[0m    \u001b[1mElapsed Time\u001b[0m      \u001b[1mSpeed\u001b[0m    \u001b[1mepoch\u001b[0m   \u001b[1mloss\u001b[0m                               \n",
      " \u001b[99m11/\u001b[93m80\u001b[0m\u001b[0m  \u001b[99m00:04:06<\u001b[93m00:25:44\u001b[0m\u001b[0m  \u001b[99m0.04it/s\u001b[0m  \u001b[99m11/80\u001b[0m  \u001b[99m0.0223\u001b[0m                              \n",
      "\u001b[1mDescription\u001b[0m  13.8% |\u001b[97m█\u001b[0m\u001b[97m█\u001b[0m\u001b[97m█\u001b[0m\u001b[97m█\u001b[0m\u001b[97m█\u001b[0m\u001b[97m█\u001b[0m\u001b[97m█\u001b[0m\u001b[97m█\u001b[0m                                                   |"
     ]
    },
    {
     "name": "stdout",
     "output_type": "stream",
     "text": [
      "epoch:12/80,loss: 0.0221\n"
     ]
    },
    {
     "name": "stderr",
     "output_type": "stream",
     "text": [
      "\u001b[K\u001b[F\u001b[K\u001b[F \u001b[1mIters\u001b[0m    \u001b[1mElapsed Time\u001b[0m      \u001b[1mSpeed\u001b[0m    \u001b[1mepoch\u001b[0m   \u001b[1mloss\u001b[0m                               \n",
      " \u001b[99m12/\u001b[93m80\u001b[0m\u001b[0m  \u001b[99m00:04:27<\u001b[93m00:25:17\u001b[0m\u001b[0m  \u001b[99m0.04it/s\u001b[0m  \u001b[99m12/80\u001b[0m  \u001b[99m0.0221\u001b[0m                              \n",
      "\u001b[1mDescription\u001b[0m  15.0% |\u001b[97m█\u001b[0m\u001b[97m█\u001b[0m\u001b[97m█\u001b[0m\u001b[97m█\u001b[0m\u001b[97m█\u001b[0m\u001b[97m█\u001b[0m\u001b[97m█\u001b[0m\u001b[97m█\u001b[0m                                                   |"
     ]
    },
    {
     "name": "stdout",
     "output_type": "stream",
     "text": [
      "epoch:13/80,loss: 0.0219\n"
     ]
    },
    {
     "name": "stderr",
     "output_type": "stream",
     "text": [
      "\u001b[K\u001b[F\u001b[K\u001b[F \u001b[1mIters\u001b[0m    \u001b[1mElapsed Time\u001b[0m      \u001b[1mSpeed\u001b[0m    \u001b[1mepoch\u001b[0m   \u001b[1mloss\u001b[0m                               \n",
      " \u001b[99m13/\u001b[93m80\u001b[0m\u001b[0m  \u001b[99m00:04:49<\u001b[93m00:24:54\u001b[0m\u001b[0m  \u001b[99m0.04it/s\u001b[0m  \u001b[99m13/80\u001b[0m  \u001b[99m0.0219\u001b[0m                              \n",
      "\u001b[1mDescription\u001b[0m  16.2% |\u001b[97m█\u001b[0m\u001b[97m█\u001b[0m\u001b[97m█\u001b[0m\u001b[97m█\u001b[0m\u001b[97m█\u001b[0m\u001b[97m█\u001b[0m\u001b[97m█\u001b[0m\u001b[97m█\u001b[0m\u001b[97m█\u001b[0m                                                  |"
     ]
    },
    {
     "name": "stdout",
     "output_type": "stream",
     "text": [
      "epoch:14/80,loss: 0.0216\n"
     ]
    },
    {
     "name": "stderr",
     "output_type": "stream",
     "text": [
      "\u001b[K\u001b[F\u001b[K\u001b[F \u001b[1mIters\u001b[0m    \u001b[1mElapsed Time\u001b[0m      \u001b[1mSpeed\u001b[0m    \u001b[1mepoch\u001b[0m   \u001b[1mloss\u001b[0m                               \n",
      " \u001b[99m14/\u001b[93m80\u001b[0m\u001b[0m  \u001b[99m00:05:13<\u001b[93m00:24:37\u001b[0m\u001b[0m  \u001b[99m0.04it/s\u001b[0m  \u001b[99m14/80\u001b[0m  \u001b[99m0.0216\u001b[0m                              \n",
      "\u001b[1mDescription\u001b[0m  17.5% |\u001b[97m█\u001b[0m\u001b[97m█\u001b[0m\u001b[97m█\u001b[0m\u001b[97m█\u001b[0m\u001b[97m█\u001b[0m\u001b[97m█\u001b[0m\u001b[97m█\u001b[0m\u001b[97m█\u001b[0m\u001b[97m█\u001b[0m\u001b[97m█\u001b[0m                                                 |"
     ]
    },
    {
     "name": "stdout",
     "output_type": "stream",
     "text": [
      "epoch:15/80,loss: 0.0214\n"
     ]
    },
    {
     "name": "stderr",
     "output_type": "stream",
     "text": [
      "\u001b[K\u001b[F\u001b[K\u001b[F \u001b[1mIters\u001b[0m    \u001b[1mElapsed Time\u001b[0m      \u001b[1mSpeed\u001b[0m    \u001b[1mepoch\u001b[0m   \u001b[1mloss\u001b[0m                               \n",
      " \u001b[99m15/\u001b[93m80\u001b[0m\u001b[0m  \u001b[99m00:05:34<\u001b[93m00:24:10\u001b[0m\u001b[0m  \u001b[99m0.04it/s\u001b[0m  \u001b[99m15/80\u001b[0m  \u001b[99m0.0214\u001b[0m                              \n",
      "\u001b[1mDescription\u001b[0m  18.8% |\u001b[97m█\u001b[0m\u001b[97m█\u001b[0m\u001b[97m█\u001b[0m\u001b[97m█\u001b[0m\u001b[97m█\u001b[0m\u001b[97m█\u001b[0m\u001b[97m█\u001b[0m\u001b[97m█\u001b[0m\u001b[97m█\u001b[0m\u001b[97m█\u001b[0m\u001b[97m█\u001b[0m                                                |"
     ]
    },
    {
     "name": "stdout",
     "output_type": "stream",
     "text": [
      "epoch:16/80,loss: 0.0212\n"
     ]
    },
    {
     "name": "stderr",
     "output_type": "stream",
     "text": [
      "\u001b[K\u001b[F\u001b[K\u001b[F \u001b[1mIters\u001b[0m    \u001b[1mElapsed Time\u001b[0m      \u001b[1mSpeed\u001b[0m    \u001b[1mepoch\u001b[0m   \u001b[1mloss\u001b[0m                               \n",
      " \u001b[99m16/\u001b[93m80\u001b[0m\u001b[0m  \u001b[99m00:05:57<\u001b[93m00:23:48\u001b[0m\u001b[0m  \u001b[99m0.04it/s\u001b[0m  \u001b[99m16/80\u001b[0m  \u001b[99m0.0212\u001b[0m                              \n",
      "\u001b[1mDescription\u001b[0m  20.0% |\u001b[97m█\u001b[0m\u001b[97m█\u001b[0m\u001b[97m█\u001b[0m\u001b[97m█\u001b[0m\u001b[97m█\u001b[0m\u001b[97m█\u001b[0m\u001b[97m█\u001b[0m\u001b[97m█\u001b[0m\u001b[97m█\u001b[0m\u001b[97m█\u001b[0m\u001b[97m█\u001b[0m                                                |"
     ]
    },
    {
     "name": "stdout",
     "output_type": "stream",
     "text": [
      "epoch:17/80,loss: 0.0211\n"
     ]
    },
    {
     "name": "stderr",
     "output_type": "stream",
     "text": [
      "\u001b[K\u001b[F\u001b[K\u001b[F \u001b[1mIters\u001b[0m    \u001b[1mElapsed Time\u001b[0m      \u001b[1mSpeed\u001b[0m    \u001b[1mepoch\u001b[0m   \u001b[1mloss\u001b[0m                               \n",
      " \u001b[99m17/\u001b[93m80\u001b[0m\u001b[0m  \u001b[99m00:06:19<\u001b[93m00:23:25\u001b[0m\u001b[0m  \u001b[99m0.04it/s\u001b[0m  \u001b[99m17/80\u001b[0m  \u001b[99m0.0211\u001b[0m                              \n",
      "\u001b[1mDescription\u001b[0m  21.2% |\u001b[97m█\u001b[0m\u001b[97m█\u001b[0m\u001b[97m█\u001b[0m\u001b[97m█\u001b[0m\u001b[97m█\u001b[0m\u001b[97m█\u001b[0m\u001b[97m█\u001b[0m\u001b[97m█\u001b[0m\u001b[97m█\u001b[0m\u001b[97m█\u001b[0m\u001b[97m█\u001b[0m\u001b[97m█\u001b[0m                                               |"
     ]
    },
    {
     "name": "stdout",
     "output_type": "stream",
     "text": [
      "epoch:18/80,loss: 0.0208\n"
     ]
    },
    {
     "name": "stderr",
     "output_type": "stream",
     "text": [
      "\u001b[K\u001b[F\u001b[K\u001b[F \u001b[1mIters\u001b[0m    \u001b[1mElapsed Time\u001b[0m      \u001b[1mSpeed\u001b[0m    \u001b[1mepoch\u001b[0m   \u001b[1mloss\u001b[0m                               \n",
      " \u001b[99m18/\u001b[93m80\u001b[0m\u001b[0m  \u001b[99m00:06:41<\u001b[93m00:23:01\u001b[0m\u001b[0m  \u001b[99m0.04it/s\u001b[0m  \u001b[99m18/80\u001b[0m  \u001b[99m0.0208\u001b[0m                              \n",
      "\u001b[1mDescription\u001b[0m  22.5% |\u001b[97m█\u001b[0m\u001b[97m█\u001b[0m\u001b[97m█\u001b[0m\u001b[97m█\u001b[0m\u001b[97m█\u001b[0m\u001b[97m█\u001b[0m\u001b[97m█\u001b[0m\u001b[97m█\u001b[0m\u001b[97m█\u001b[0m\u001b[97m█\u001b[0m\u001b[97m█\u001b[0m\u001b[97m█\u001b[0m\u001b[97m█\u001b[0m                                              |"
     ]
    },
    {
     "name": "stdout",
     "output_type": "stream",
     "text": [
      "epoch:19/80,loss: 0.0207\n"
     ]
    },
    {
     "name": "stderr",
     "output_type": "stream",
     "text": [
      "\u001b[K\u001b[F\u001b[K\u001b[F \u001b[1mIters\u001b[0m    \u001b[1mElapsed Time\u001b[0m      \u001b[1mSpeed\u001b[0m    \u001b[1mepoch\u001b[0m   \u001b[1mloss\u001b[0m                               \n",
      " \u001b[99m19/\u001b[93m80\u001b[0m\u001b[0m  \u001b[99m00:07:03<\u001b[93m00:22:39\u001b[0m\u001b[0m  \u001b[99m0.04it/s\u001b[0m  \u001b[99m19/80\u001b[0m  \u001b[99m0.0207\u001b[0m                              \n",
      "\u001b[1mDescription\u001b[0m  23.8% |\u001b[97m█\u001b[0m\u001b[97m█\u001b[0m\u001b[97m█\u001b[0m\u001b[97m█\u001b[0m\u001b[97m█\u001b[0m\u001b[97m█\u001b[0m\u001b[97m█\u001b[0m\u001b[97m█\u001b[0m\u001b[97m█\u001b[0m\u001b[97m█\u001b[0m\u001b[97m█\u001b[0m\u001b[97m█\u001b[0m\u001b[97m█\u001b[0m\u001b[97m█\u001b[0m                                             |"
     ]
    },
    {
     "name": "stdout",
     "output_type": "stream",
     "text": [
      "epoch:20/80,loss: 0.0205\n"
     ]
    },
    {
     "name": "stderr",
     "output_type": "stream",
     "text": [
      "\u001b[K\u001b[F\u001b[K\u001b[F \u001b[1mIters\u001b[0m    \u001b[1mElapsed Time\u001b[0m      \u001b[1mSpeed\u001b[0m    \u001b[1mepoch\u001b[0m   \u001b[1mloss\u001b[0m                               \n",
      " \u001b[99m20/\u001b[93m80\u001b[0m\u001b[0m  \u001b[99m00:07:25<\u001b[93m00:22:16\u001b[0m\u001b[0m  \u001b[99m0.04it/s\u001b[0m  \u001b[99m20/80\u001b[0m  \u001b[99m0.0205\u001b[0m                              \n",
      "\u001b[1mDescription\u001b[0m  25.0% |\u001b[97m█\u001b[0m\u001b[97m█\u001b[0m\u001b[97m█\u001b[0m\u001b[97m█\u001b[0m\u001b[97m█\u001b[0m\u001b[97m█\u001b[0m\u001b[97m█\u001b[0m\u001b[97m█\u001b[0m\u001b[97m█\u001b[0m\u001b[97m█\u001b[0m\u001b[97m█\u001b[0m\u001b[97m█\u001b[0m\u001b[97m█\u001b[0m\u001b[97m█\u001b[0m                                             |"
     ]
    },
    {
     "name": "stdout",
     "output_type": "stream",
     "text": [
      "epoch:21/80,loss: 0.0204\n"
     ]
    },
    {
     "name": "stderr",
     "output_type": "stream",
     "text": [
      "\u001b[K\u001b[F\u001b[K\u001b[F \u001b[1mIters\u001b[0m    \u001b[1mElapsed Time\u001b[0m      \u001b[1mSpeed\u001b[0m    \u001b[1mepoch\u001b[0m   \u001b[1mloss\u001b[0m                               \n",
      " \u001b[99m21/\u001b[93m80\u001b[0m\u001b[0m  \u001b[99m00:07:47<\u001b[93m00:21:52\u001b[0m\u001b[0m  \u001b[99m0.04it/s\u001b[0m  \u001b[99m21/80\u001b[0m  \u001b[99m0.0204\u001b[0m                              \n",
      "\u001b[1mDescription\u001b[0m  26.2% |\u001b[97m█\u001b[0m\u001b[97m█\u001b[0m\u001b[97m█\u001b[0m\u001b[97m█\u001b[0m\u001b[97m█\u001b[0m\u001b[97m█\u001b[0m\u001b[97m█\u001b[0m\u001b[97m█\u001b[0m\u001b[97m█\u001b[0m\u001b[97m█\u001b[0m\u001b[97m█\u001b[0m\u001b[97m█\u001b[0m\u001b[97m█\u001b[0m\u001b[97m█\u001b[0m\u001b[97m█\u001b[0m                                            |"
     ]
    },
    {
     "name": "stdout",
     "output_type": "stream",
     "text": [
      "epoch:22/80,loss: 0.0202\n"
     ]
    },
    {
     "name": "stderr",
     "output_type": "stream",
     "text": [
      "\u001b[K\u001b[F\u001b[K\u001b[F \u001b[1mIters\u001b[0m    \u001b[1mElapsed Time\u001b[0m      \u001b[1mSpeed\u001b[0m    \u001b[1mepoch\u001b[0m   \u001b[1mloss\u001b[0m                               \n",
      " \u001b[99m22/\u001b[93m80\u001b[0m\u001b[0m  \u001b[99m00:08:10<\u001b[93m00:21:31\u001b[0m\u001b[0m  \u001b[99m0.04it/s\u001b[0m  \u001b[99m22/80\u001b[0m  \u001b[99m0.0202\u001b[0m                              \n",
      "\u001b[1mDescription\u001b[0m  27.5% |\u001b[97m█\u001b[0m\u001b[97m█\u001b[0m\u001b[97m█\u001b[0m\u001b[97m█\u001b[0m\u001b[97m█\u001b[0m\u001b[97m█\u001b[0m\u001b[97m█\u001b[0m\u001b[97m█\u001b[0m\u001b[97m█\u001b[0m\u001b[97m█\u001b[0m\u001b[97m█\u001b[0m\u001b[97m█\u001b[0m\u001b[97m█\u001b[0m\u001b[97m█\u001b[0m\u001b[97m█\u001b[0m\u001b[97m█\u001b[0m                                           |"
     ]
    },
    {
     "name": "stdout",
     "output_type": "stream",
     "text": [
      "epoch:23/80,loss: 0.0200\n"
     ]
    },
    {
     "name": "stderr",
     "output_type": "stream",
     "text": [
      "\u001b[K\u001b[F\u001b[K\u001b[F \u001b[1mIters\u001b[0m    \u001b[1mElapsed Time\u001b[0m      \u001b[1mSpeed\u001b[0m    \u001b[1mepoch\u001b[0m   \u001b[1mloss\u001b[0m                               \n",
      " \u001b[99m23/\u001b[93m80\u001b[0m\u001b[0m  \u001b[99m00:08:33<\u001b[93m00:21:11\u001b[0m\u001b[0m  \u001b[99m0.04it/s\u001b[0m  \u001b[99m23/80\u001b[0m  \u001b[99m0.0200\u001b[0m                              \n",
      "\u001b[1mDescription\u001b[0m  28.7% |\u001b[97m█\u001b[0m\u001b[97m█\u001b[0m\u001b[97m█\u001b[0m\u001b[97m█\u001b[0m\u001b[97m█\u001b[0m\u001b[97m█\u001b[0m\u001b[97m█\u001b[0m\u001b[97m█\u001b[0m\u001b[97m█\u001b[0m\u001b[97m█\u001b[0m\u001b[97m█\u001b[0m\u001b[97m█\u001b[0m\u001b[97m█\u001b[0m\u001b[97m█\u001b[0m\u001b[97m█\u001b[0m\u001b[97m█\u001b[0m                                           |"
     ]
    },
    {
     "name": "stdout",
     "output_type": "stream",
     "text": [
      "epoch:24/80,loss: 0.0200\n"
     ]
    },
    {
     "name": "stderr",
     "output_type": "stream",
     "text": [
      "\u001b[K\u001b[F\u001b[K\u001b[F \u001b[1mIters\u001b[0m    \u001b[1mElapsed Time\u001b[0m      \u001b[1mSpeed\u001b[0m    \u001b[1mepoch\u001b[0m   \u001b[1mloss\u001b[0m                               \n",
      " \u001b[99m24/\u001b[93m80\u001b[0m\u001b[0m  \u001b[99m00:08:56<\u001b[93m00:20:51\u001b[0m\u001b[0m  \u001b[99m0.04it/s\u001b[0m  \u001b[99m24/80\u001b[0m  \u001b[99m0.0200\u001b[0m                              \n",
      "\u001b[1mDescription\u001b[0m  30.0% |\u001b[97m█\u001b[0m\u001b[97m█\u001b[0m\u001b[97m█\u001b[0m\u001b[97m█\u001b[0m\u001b[97m█\u001b[0m\u001b[97m█\u001b[0m\u001b[97m█\u001b[0m\u001b[97m█\u001b[0m\u001b[97m█\u001b[0m\u001b[97m█\u001b[0m\u001b[97m█\u001b[0m\u001b[97m█\u001b[0m\u001b[97m█\u001b[0m\u001b[97m█\u001b[0m\u001b[97m█\u001b[0m\u001b[97m█\u001b[0m\u001b[97m█\u001b[0m                                          |"
     ]
    },
    {
     "name": "stdout",
     "output_type": "stream",
     "text": [
      "epoch:25/80,loss: 0.0199\n"
     ]
    },
    {
     "name": "stderr",
     "output_type": "stream",
     "text": [
      "\u001b[K\u001b[F\u001b[K\u001b[F \u001b[1mIters\u001b[0m    \u001b[1mElapsed Time\u001b[0m      \u001b[1mSpeed\u001b[0m    \u001b[1mepoch\u001b[0m   \u001b[1mloss\u001b[0m                               \n",
      " \u001b[99m25/\u001b[93m80\u001b[0m\u001b[0m  \u001b[99m00:09:18<\u001b[93m00:20:28\u001b[0m\u001b[0m  \u001b[99m0.04it/s\u001b[0m  \u001b[99m25/80\u001b[0m  \u001b[99m0.0199\u001b[0m                              \n",
      "\u001b[1mDescription\u001b[0m  31.2% |\u001b[97m█\u001b[0m\u001b[97m█\u001b[0m\u001b[97m█\u001b[0m\u001b[97m█\u001b[0m\u001b[97m█\u001b[0m\u001b[97m█\u001b[0m\u001b[97m█\u001b[0m\u001b[97m█\u001b[0m\u001b[97m█\u001b[0m\u001b[97m█\u001b[0m\u001b[97m█\u001b[0m\u001b[97m█\u001b[0m\u001b[97m█\u001b[0m\u001b[97m█\u001b[0m\u001b[97m█\u001b[0m\u001b[97m█\u001b[0m\u001b[97m█\u001b[0m\u001b[97m█\u001b[0m                                         |"
     ]
    },
    {
     "name": "stdout",
     "output_type": "stream",
     "text": [
      "epoch:26/80,loss: 0.0198\n"
     ]
    },
    {
     "name": "stderr",
     "output_type": "stream",
     "text": [
      "\u001b[K\u001b[F\u001b[K\u001b[F \u001b[1mIters\u001b[0m    \u001b[1mElapsed Time\u001b[0m      \u001b[1mSpeed\u001b[0m    \u001b[1mepoch\u001b[0m   \u001b[1mloss\u001b[0m                               \n",
      " \u001b[99m26/\u001b[93m80\u001b[0m\u001b[0m  \u001b[99m00:09:41<\u001b[93m00:20:07\u001b[0m\u001b[0m  \u001b[99m0.04it/s\u001b[0m  \u001b[99m26/80\u001b[0m  \u001b[99m0.0198\u001b[0m                              \n",
      "\u001b[1mDescription\u001b[0m  32.5% |\u001b[97m█\u001b[0m\u001b[97m█\u001b[0m\u001b[97m█\u001b[0m\u001b[97m█\u001b[0m\u001b[97m█\u001b[0m\u001b[97m█\u001b[0m\u001b[97m█\u001b[0m\u001b[97m█\u001b[0m\u001b[97m█\u001b[0m\u001b[97m█\u001b[0m\u001b[97m█\u001b[0m\u001b[97m█\u001b[0m\u001b[97m█\u001b[0m\u001b[97m█\u001b[0m\u001b[97m█\u001b[0m\u001b[97m█\u001b[0m\u001b[97m█\u001b[0m\u001b[97m█\u001b[0m\u001b[97m█\u001b[0m                                        |"
     ]
    },
    {
     "name": "stdout",
     "output_type": "stream",
     "text": [
      "epoch:27/80,loss: 0.0197\n"
     ]
    },
    {
     "name": "stderr",
     "output_type": "stream",
     "text": [
      "\u001b[K\u001b[F\u001b[K\u001b[F \u001b[1mIters\u001b[0m    \u001b[1mElapsed Time\u001b[0m      \u001b[1mSpeed\u001b[0m    \u001b[1mepoch\u001b[0m   \u001b[1mloss\u001b[0m                               \n",
      " \u001b[99m27/\u001b[93m80\u001b[0m\u001b[0m  \u001b[99m00:10:04<\u001b[93m00:19:46\u001b[0m\u001b[0m  \u001b[99m0.04it/s\u001b[0m  \u001b[99m27/80\u001b[0m  \u001b[99m0.0197\u001b[0m                              \n",
      "\u001b[1mDescription\u001b[0m  33.8% |\u001b[97m█\u001b[0m\u001b[97m█\u001b[0m\u001b[97m█\u001b[0m\u001b[97m█\u001b[0m\u001b[97m█\u001b[0m\u001b[97m█\u001b[0m\u001b[97m█\u001b[0m\u001b[97m█\u001b[0m\u001b[97m█\u001b[0m\u001b[97m█\u001b[0m\u001b[97m█\u001b[0m\u001b[97m█\u001b[0m\u001b[97m█\u001b[0m\u001b[97m█\u001b[0m\u001b[97m█\u001b[0m\u001b[97m█\u001b[0m\u001b[97m█\u001b[0m\u001b[97m█\u001b[0m\u001b[97m█\u001b[0m                                        |"
     ]
    },
    {
     "name": "stdout",
     "output_type": "stream",
     "text": [
      "epoch:28/80,loss: 0.0195\n"
     ]
    },
    {
     "name": "stderr",
     "output_type": "stream",
     "text": [
      "\u001b[K\u001b[F\u001b[K\u001b[F \u001b[1mIters\u001b[0m    \u001b[1mElapsed Time\u001b[0m      \u001b[1mSpeed\u001b[0m    \u001b[1mepoch\u001b[0m   \u001b[1mloss\u001b[0m                               \n",
      " \u001b[99m28/\u001b[93m80\u001b[0m\u001b[0m  \u001b[99m00:10:25<\u001b[93m00:19:22\u001b[0m\u001b[0m  \u001b[99m0.04it/s\u001b[0m  \u001b[99m28/80\u001b[0m  \u001b[99m0.0195\u001b[0m                              \n",
      "\u001b[1mDescription\u001b[0m  35.0% |\u001b[97m█\u001b[0m\u001b[97m█\u001b[0m\u001b[97m█\u001b[0m\u001b[97m█\u001b[0m\u001b[97m█\u001b[0m\u001b[97m█\u001b[0m\u001b[97m█\u001b[0m\u001b[97m█\u001b[0m\u001b[97m█\u001b[0m\u001b[97m█\u001b[0m\u001b[97m█\u001b[0m\u001b[97m█\u001b[0m\u001b[97m█\u001b[0m\u001b[97m█\u001b[0m\u001b[97m█\u001b[0m\u001b[97m█\u001b[0m\u001b[97m█\u001b[0m\u001b[97m█\u001b[0m\u001b[97m█\u001b[0m\u001b[97m█\u001b[0m                                       |"
     ]
    },
    {
     "name": "stdout",
     "output_type": "stream",
     "text": [
      "epoch:29/80,loss: 0.0194\n"
     ]
    },
    {
     "name": "stderr",
     "output_type": "stream",
     "text": [
      "\u001b[K\u001b[F\u001b[K\u001b[F \u001b[1mIters\u001b[0m    \u001b[1mElapsed Time\u001b[0m      \u001b[1mSpeed\u001b[0m    \u001b[1mepoch\u001b[0m   \u001b[1mloss\u001b[0m                               \n",
      " \u001b[99m29/\u001b[93m80\u001b[0m\u001b[0m  \u001b[99m00:10:48<\u001b[93m00:18:59\u001b[0m\u001b[0m  \u001b[99m0.04it/s\u001b[0m  \u001b[99m29/80\u001b[0m  \u001b[99m0.0194\u001b[0m                              \n",
      "\u001b[1mDescription\u001b[0m  36.2% |\u001b[97m█\u001b[0m\u001b[97m█\u001b[0m\u001b[97m█\u001b[0m\u001b[97m█\u001b[0m\u001b[97m█\u001b[0m\u001b[97m█\u001b[0m\u001b[97m█\u001b[0m\u001b[97m█\u001b[0m\u001b[97m█\u001b[0m\u001b[97m█\u001b[0m\u001b[97m█\u001b[0m\u001b[97m█\u001b[0m\u001b[97m█\u001b[0m\u001b[97m█\u001b[0m\u001b[97m█\u001b[0m\u001b[97m█\u001b[0m\u001b[97m█\u001b[0m\u001b[97m█\u001b[0m\u001b[97m█\u001b[0m\u001b[97m█\u001b[0m\u001b[97m█\u001b[0m                                      |"
     ]
    },
    {
     "name": "stdout",
     "output_type": "stream",
     "text": [
      "epoch:30/80,loss: 0.0193\n"
     ]
    },
    {
     "name": "stderr",
     "output_type": "stream",
     "text": [
      "\u001b[K\u001b[F\u001b[K\u001b[F \u001b[1mIters\u001b[0m    \u001b[1mElapsed Time\u001b[0m      \u001b[1mSpeed\u001b[0m    \u001b[1mepoch\u001b[0m   \u001b[1mloss\u001b[0m                               \n",
      " \u001b[99m30/\u001b[93m80\u001b[0m\u001b[0m  \u001b[99m00:11:10<\u001b[93m00:18:37\u001b[0m\u001b[0m  \u001b[99m0.04it/s\u001b[0m  \u001b[99m30/80\u001b[0m  \u001b[99m0.0193\u001b[0m                              \n",
      "\u001b[1mDescription\u001b[0m  37.5% |\u001b[97m█\u001b[0m\u001b[97m█\u001b[0m\u001b[97m█\u001b[0m\u001b[97m█\u001b[0m\u001b[97m█\u001b[0m\u001b[97m█\u001b[0m\u001b[97m█\u001b[0m\u001b[97m█\u001b[0m\u001b[97m█\u001b[0m\u001b[97m█\u001b[0m\u001b[97m█\u001b[0m\u001b[97m█\u001b[0m\u001b[97m█\u001b[0m\u001b[97m█\u001b[0m\u001b[97m█\u001b[0m\u001b[97m█\u001b[0m\u001b[97m█\u001b[0m\u001b[97m█\u001b[0m\u001b[97m█\u001b[0m\u001b[97m█\u001b[0m\u001b[97m█\u001b[0m\u001b[97m█\u001b[0m                                     |"
     ]
    },
    {
     "name": "stdout",
     "output_type": "stream",
     "text": [
      "epoch:31/80,loss: 0.0192\n"
     ]
    },
    {
     "name": "stderr",
     "output_type": "stream",
     "text": [
      "\u001b[K\u001b[F\u001b[K\u001b[F \u001b[1mIters\u001b[0m    \u001b[1mElapsed Time\u001b[0m      \u001b[1mSpeed\u001b[0m    \u001b[1mepoch\u001b[0m   \u001b[1mloss\u001b[0m                               \n",
      " \u001b[99m31/\u001b[93m80\u001b[0m\u001b[0m  \u001b[99m00:11:32<\u001b[93m00:18:14\u001b[0m\u001b[0m  \u001b[99m0.04it/s\u001b[0m  \u001b[99m31/80\u001b[0m  \u001b[99m0.0192\u001b[0m                              \n",
      "\u001b[1mDescription\u001b[0m  38.8% |\u001b[97m█\u001b[0m\u001b[97m█\u001b[0m\u001b[97m█\u001b[0m\u001b[97m█\u001b[0m\u001b[97m█\u001b[0m\u001b[97m█\u001b[0m\u001b[97m█\u001b[0m\u001b[97m█\u001b[0m\u001b[97m█\u001b[0m\u001b[97m█\u001b[0m\u001b[97m█\u001b[0m\u001b[97m█\u001b[0m\u001b[97m█\u001b[0m\u001b[97m█\u001b[0m\u001b[97m█\u001b[0m\u001b[97m█\u001b[0m\u001b[97m█\u001b[0m\u001b[97m█\u001b[0m\u001b[97m█\u001b[0m\u001b[97m█\u001b[0m\u001b[97m█\u001b[0m\u001b[97m█\u001b[0m                                     |"
     ]
    },
    {
     "name": "stdout",
     "output_type": "stream",
     "text": [
      "epoch:32/80,loss: 0.0192\n"
     ]
    },
    {
     "name": "stderr",
     "output_type": "stream",
     "text": [
      "\u001b[K\u001b[F\u001b[K\u001b[F \u001b[1mIters\u001b[0m    \u001b[1mElapsed Time\u001b[0m      \u001b[1mSpeed\u001b[0m    \u001b[1mepoch\u001b[0m   \u001b[1mloss\u001b[0m                               \n",
      " \u001b[99m32/\u001b[93m80\u001b[0m\u001b[0m  \u001b[99m00:11:54<\u001b[93m00:17:51\u001b[0m\u001b[0m  \u001b[99m0.04it/s\u001b[0m  \u001b[99m32/80\u001b[0m  \u001b[99m0.0192\u001b[0m                              \n",
      "\u001b[1mDescription\u001b[0m  40.0% |\u001b[97m█\u001b[0m\u001b[97m█\u001b[0m\u001b[97m█\u001b[0m\u001b[97m█\u001b[0m\u001b[97m█\u001b[0m\u001b[97m█\u001b[0m\u001b[97m█\u001b[0m\u001b[97m█\u001b[0m\u001b[97m█\u001b[0m\u001b[97m█\u001b[0m\u001b[97m█\u001b[0m\u001b[97m█\u001b[0m\u001b[97m█\u001b[0m\u001b[97m█\u001b[0m\u001b[97m█\u001b[0m\u001b[97m█\u001b[0m\u001b[97m█\u001b[0m\u001b[97m█\u001b[0m\u001b[97m█\u001b[0m\u001b[97m█\u001b[0m\u001b[97m█\u001b[0m\u001b[97m█\u001b[0m\u001b[97m█\u001b[0m                                    |"
     ]
    },
    {
     "name": "stdout",
     "output_type": "stream",
     "text": [
      "epoch:33/80,loss: 0.0191\n"
     ]
    },
    {
     "name": "stderr",
     "output_type": "stream",
     "text": [
      "\u001b[K\u001b[F\u001b[K\u001b[F \u001b[1mIters\u001b[0m    \u001b[1mElapsed Time\u001b[0m      \u001b[1mSpeed\u001b[0m    \u001b[1mepoch\u001b[0m   \u001b[1mloss\u001b[0m                               \n",
      " \u001b[99m33/\u001b[93m80\u001b[0m\u001b[0m  \u001b[99m00:12:16<\u001b[93m00:17:29\u001b[0m\u001b[0m  \u001b[99m0.04it/s\u001b[0m  \u001b[99m33/80\u001b[0m  \u001b[99m0.0191\u001b[0m                              \n",
      "\u001b[1mDescription\u001b[0m  41.2% |\u001b[97m█\u001b[0m\u001b[97m█\u001b[0m\u001b[97m█\u001b[0m\u001b[97m█\u001b[0m\u001b[97m█\u001b[0m\u001b[97m█\u001b[0m\u001b[97m█\u001b[0m\u001b[97m█\u001b[0m\u001b[97m█\u001b[0m\u001b[97m█\u001b[0m\u001b[97m█\u001b[0m\u001b[97m█\u001b[0m\u001b[97m█\u001b[0m\u001b[97m█\u001b[0m\u001b[97m█\u001b[0m\u001b[97m█\u001b[0m\u001b[97m█\u001b[0m\u001b[97m█\u001b[0m\u001b[97m█\u001b[0m\u001b[97m█\u001b[0m\u001b[97m█\u001b[0m\u001b[97m█\u001b[0m\u001b[97m█\u001b[0m\u001b[97m█\u001b[0m                                   |"
     ]
    },
    {
     "name": "stdout",
     "output_type": "stream",
     "text": [
      "epoch:34/80,loss: 0.0190\n"
     ]
    },
    {
     "name": "stderr",
     "output_type": "stream",
     "text": [
      "\u001b[K\u001b[F\u001b[K\u001b[F \u001b[1mIters\u001b[0m    \u001b[1mElapsed Time\u001b[0m      \u001b[1mSpeed\u001b[0m    \u001b[1mepoch\u001b[0m   \u001b[1mloss\u001b[0m                               \n",
      " \u001b[99m34/\u001b[93m80\u001b[0m\u001b[0m  \u001b[99m00:12:38<\u001b[93m00:17:06\u001b[0m\u001b[0m  \u001b[99m0.04it/s\u001b[0m  \u001b[99m34/80\u001b[0m  \u001b[99m0.0190\u001b[0m                              \n",
      "\u001b[1mDescription\u001b[0m  42.5% |\u001b[97m█\u001b[0m\u001b[97m█\u001b[0m\u001b[97m█\u001b[0m\u001b[97m█\u001b[0m\u001b[97m█\u001b[0m\u001b[97m█\u001b[0m\u001b[97m█\u001b[0m\u001b[97m█\u001b[0m\u001b[97m█\u001b[0m\u001b[97m█\u001b[0m\u001b[97m█\u001b[0m\u001b[97m█\u001b[0m\u001b[97m█\u001b[0m\u001b[97m█\u001b[0m\u001b[97m█\u001b[0m\u001b[97m█\u001b[0m\u001b[97m█\u001b[0m\u001b[97m█\u001b[0m\u001b[97m█\u001b[0m\u001b[97m█\u001b[0m\u001b[97m█\u001b[0m\u001b[97m█\u001b[0m\u001b[97m█\u001b[0m\u001b[97m█\u001b[0m\u001b[97m█\u001b[0m                                  |"
     ]
    },
    {
     "name": "stdout",
     "output_type": "stream",
     "text": [
      "epoch:35/80,loss: 0.0189\n"
     ]
    },
    {
     "name": "stderr",
     "output_type": "stream",
     "text": [
      "\u001b[K\u001b[F\u001b[K\u001b[F \u001b[1mIters\u001b[0m    \u001b[1mElapsed Time\u001b[0m      \u001b[1mSpeed\u001b[0m    \u001b[1mepoch\u001b[0m   \u001b[1mloss\u001b[0m                               \n",
      " \u001b[99m35/\u001b[93m80\u001b[0m\u001b[0m  \u001b[99m00:13:00<\u001b[93m00:16:43\u001b[0m\u001b[0m  \u001b[99m0.04it/s\u001b[0m  \u001b[99m35/80\u001b[0m  \u001b[99m0.0189\u001b[0m                              \n",
      "\u001b[1mDescription\u001b[0m  43.8% |\u001b[97m█\u001b[0m\u001b[97m█\u001b[0m\u001b[97m█\u001b[0m\u001b[97m█\u001b[0m\u001b[97m█\u001b[0m\u001b[97m█\u001b[0m\u001b[97m█\u001b[0m\u001b[97m█\u001b[0m\u001b[97m█\u001b[0m\u001b[97m█\u001b[0m\u001b[97m█\u001b[0m\u001b[97m█\u001b[0m\u001b[97m█\u001b[0m\u001b[97m█\u001b[0m\u001b[97m█\u001b[0m\u001b[97m█\u001b[0m\u001b[97m█\u001b[0m\u001b[97m█\u001b[0m\u001b[97m█\u001b[0m\u001b[97m█\u001b[0m\u001b[97m█\u001b[0m\u001b[97m█\u001b[0m\u001b[97m█\u001b[0m\u001b[97m█\u001b[0m\u001b[97m█\u001b[0m                                  |"
     ]
    },
    {
     "name": "stdout",
     "output_type": "stream",
     "text": [
      "epoch:36/80,loss: 0.0188\n"
     ]
    },
    {
     "name": "stderr",
     "output_type": "stream",
     "text": [
      "\u001b[K\u001b[F\u001b[K\u001b[F \u001b[1mIters\u001b[0m    \u001b[1mElapsed Time\u001b[0m      \u001b[1mSpeed\u001b[0m    \u001b[1mepoch\u001b[0m   \u001b[1mloss\u001b[0m                               \n",
      " \u001b[99m36/\u001b[93m80\u001b[0m\u001b[0m  \u001b[99m00:13:22<\u001b[93m00:16:20\u001b[0m\u001b[0m  \u001b[99m0.04it/s\u001b[0m  \u001b[99m36/80\u001b[0m  \u001b[99m0.0188\u001b[0m                              \n",
      "\u001b[1mDescription\u001b[0m  45.0% |\u001b[97m█\u001b[0m\u001b[97m█\u001b[0m\u001b[97m█\u001b[0m\u001b[97m█\u001b[0m\u001b[97m█\u001b[0m\u001b[97m█\u001b[0m\u001b[97m█\u001b[0m\u001b[97m█\u001b[0m\u001b[97m█\u001b[0m\u001b[97m█\u001b[0m\u001b[97m█\u001b[0m\u001b[97m█\u001b[0m\u001b[97m█\u001b[0m\u001b[97m█\u001b[0m\u001b[97m█\u001b[0m\u001b[97m█\u001b[0m\u001b[97m█\u001b[0m\u001b[97m█\u001b[0m\u001b[97m█\u001b[0m\u001b[97m█\u001b[0m\u001b[97m█\u001b[0m\u001b[97m█\u001b[0m\u001b[97m█\u001b[0m\u001b[97m█\u001b[0m\u001b[97m█\u001b[0m\u001b[97m█\u001b[0m                                 |"
     ]
    },
    {
     "name": "stdout",
     "output_type": "stream",
     "text": [
      "epoch:37/80,loss: 0.0188\n"
     ]
    },
    {
     "name": "stderr",
     "output_type": "stream",
     "text": [
      "\u001b[K\u001b[F\u001b[K\u001b[F \u001b[1mIters\u001b[0m    \u001b[1mElapsed Time\u001b[0m      \u001b[1mSpeed\u001b[0m    \u001b[1mepoch\u001b[0m   \u001b[1mloss\u001b[0m                               \n",
      " \u001b[99m37/\u001b[93m80\u001b[0m\u001b[0m  \u001b[99m00:13:45<\u001b[93m00:15:58\u001b[0m\u001b[0m  \u001b[99m0.04it/s\u001b[0m  \u001b[99m37/80\u001b[0m  \u001b[99m0.0188\u001b[0m                              \n",
      "\u001b[1mDescription\u001b[0m  46.2% |\u001b[97m█\u001b[0m\u001b[97m█\u001b[0m\u001b[97m█\u001b[0m\u001b[97m█\u001b[0m\u001b[97m█\u001b[0m\u001b[97m█\u001b[0m\u001b[97m█\u001b[0m\u001b[97m█\u001b[0m\u001b[97m█\u001b[0m\u001b[97m█\u001b[0m\u001b[97m█\u001b[0m\u001b[97m█\u001b[0m\u001b[97m█\u001b[0m\u001b[97m█\u001b[0m\u001b[97m█\u001b[0m\u001b[97m█\u001b[0m\u001b[97m█\u001b[0m\u001b[97m█\u001b[0m\u001b[97m█\u001b[0m\u001b[97m█\u001b[0m\u001b[97m█\u001b[0m\u001b[97m█\u001b[0m\u001b[97m█\u001b[0m\u001b[97m█\u001b[0m\u001b[97m█\u001b[0m\u001b[97m█\u001b[0m\u001b[97m█\u001b[0m                                |"
     ]
    },
    {
     "name": "stdout",
     "output_type": "stream",
     "text": [
      "epoch:38/80,loss: 0.0186\n"
     ]
    },
    {
     "name": "stderr",
     "output_type": "stream",
     "text": [
      "\u001b[K\u001b[F\u001b[K\u001b[F \u001b[1mIters\u001b[0m    \u001b[1mElapsed Time\u001b[0m      \u001b[1mSpeed\u001b[0m    \u001b[1mepoch\u001b[0m   \u001b[1mloss\u001b[0m                               \n",
      " \u001b[99m38/\u001b[93m80\u001b[0m\u001b[0m  \u001b[99m00:14:06<\u001b[93m00:15:35\u001b[0m\u001b[0m  \u001b[99m0.04it/s\u001b[0m  \u001b[99m38/80\u001b[0m  \u001b[99m0.0186\u001b[0m                              \n",
      "\u001b[1mDescription\u001b[0m  47.5% |\u001b[97m█\u001b[0m\u001b[97m█\u001b[0m\u001b[97m█\u001b[0m\u001b[97m█\u001b[0m\u001b[97m█\u001b[0m\u001b[97m█\u001b[0m\u001b[97m█\u001b[0m\u001b[97m█\u001b[0m\u001b[97m█\u001b[0m\u001b[97m█\u001b[0m\u001b[97m█\u001b[0m\u001b[97m█\u001b[0m\u001b[97m█\u001b[0m\u001b[97m█\u001b[0m\u001b[97m█\u001b[0m\u001b[97m█\u001b[0m\u001b[97m█\u001b[0m\u001b[97m█\u001b[0m\u001b[97m█\u001b[0m\u001b[97m█\u001b[0m\u001b[97m█\u001b[0m\u001b[97m█\u001b[0m\u001b[97m█\u001b[0m\u001b[97m█\u001b[0m\u001b[97m█\u001b[0m\u001b[97m█\u001b[0m\u001b[97m█\u001b[0m\u001b[97m█\u001b[0m                               |"
     ]
    },
    {
     "name": "stdout",
     "output_type": "stream",
     "text": [
      "epoch:39/80,loss: 0.0186\n"
     ]
    },
    {
     "name": "stderr",
     "output_type": "stream",
     "text": [
      "\u001b[K\u001b[F\u001b[K\u001b[F \u001b[1mIters\u001b[0m    \u001b[1mElapsed Time\u001b[0m      \u001b[1mSpeed\u001b[0m    \u001b[1mepoch\u001b[0m   \u001b[1mloss\u001b[0m                               \n",
      " \u001b[99m39/\u001b[93m80\u001b[0m\u001b[0m  \u001b[99m00:14:29<\u001b[93m00:15:13\u001b[0m\u001b[0m  \u001b[99m0.04it/s\u001b[0m  \u001b[99m39/80\u001b[0m  \u001b[99m0.0186\u001b[0m                              \n",
      "\u001b[1mDescription\u001b[0m  48.8% |\u001b[97m█\u001b[0m\u001b[97m█\u001b[0m\u001b[97m█\u001b[0m\u001b[97m█\u001b[0m\u001b[97m█\u001b[0m\u001b[97m█\u001b[0m\u001b[97m█\u001b[0m\u001b[97m█\u001b[0m\u001b[97m█\u001b[0m\u001b[97m█\u001b[0m\u001b[97m█\u001b[0m\u001b[97m█\u001b[0m\u001b[97m█\u001b[0m\u001b[97m█\u001b[0m\u001b[97m█\u001b[0m\u001b[97m█\u001b[0m\u001b[97m█\u001b[0m\u001b[97m█\u001b[0m\u001b[97m█\u001b[0m\u001b[97m█\u001b[0m\u001b[97m█\u001b[0m\u001b[97m█\u001b[0m\u001b[97m█\u001b[0m\u001b[97m█\u001b[0m\u001b[97m█\u001b[0m\u001b[97m█\u001b[0m\u001b[97m█\u001b[0m\u001b[97m█\u001b[0m                               |"
     ]
    },
    {
     "name": "stdout",
     "output_type": "stream",
     "text": [
      "epoch:40/80,loss: 0.0185\n"
     ]
    },
    {
     "name": "stderr",
     "output_type": "stream",
     "text": [
      "\u001b[K\u001b[F\u001b[K\u001b[F \u001b[1mIters\u001b[0m    \u001b[1mElapsed Time\u001b[0m      \u001b[1mSpeed\u001b[0m    \u001b[1mepoch\u001b[0m   \u001b[1mloss\u001b[0m                               \n",
      " \u001b[99m40/\u001b[93m80\u001b[0m\u001b[0m  \u001b[99m00:14:51<\u001b[93m00:14:51\u001b[0m\u001b[0m  \u001b[99m0.04it/s\u001b[0m  \u001b[99m40/80\u001b[0m  \u001b[99m0.0185\u001b[0m                              \n",
      "\u001b[1mDescription\u001b[0m  50.0% |\u001b[97m█\u001b[0m\u001b[97m█\u001b[0m\u001b[97m█\u001b[0m\u001b[97m█\u001b[0m\u001b[97m█\u001b[0m\u001b[97m█\u001b[0m\u001b[97m█\u001b[0m\u001b[97m█\u001b[0m\u001b[97m█\u001b[0m\u001b[97m█\u001b[0m\u001b[97m█\u001b[0m\u001b[97m█\u001b[0m\u001b[97m█\u001b[0m\u001b[97m█\u001b[0m\u001b[97m█\u001b[0m\u001b[97m█\u001b[0m\u001b[97m█\u001b[0m\u001b[97m█\u001b[0m\u001b[97m█\u001b[0m\u001b[97m█\u001b[0m\u001b[97m█\u001b[0m\u001b[97m█\u001b[0m\u001b[97m█\u001b[0m\u001b[97m█\u001b[0m\u001b[97m█\u001b[0m\u001b[97m█\u001b[0m\u001b[97m█\u001b[0m\u001b[97m█\u001b[0m\u001b[97m█\u001b[0m                              |"
     ]
    },
    {
     "name": "stdout",
     "output_type": "stream",
     "text": [
      "epoch:41/80,loss: 0.0184\n"
     ]
    },
    {
     "name": "stderr",
     "output_type": "stream",
     "text": [
      "\u001b[K\u001b[F\u001b[K\u001b[F \u001b[1mIters\u001b[0m    \u001b[1mElapsed Time\u001b[0m      \u001b[1mSpeed\u001b[0m    \u001b[1mepoch\u001b[0m   \u001b[1mloss\u001b[0m                               \n",
      " \u001b[99m41/\u001b[93m80\u001b[0m\u001b[0m  \u001b[99m00:15:12<\u001b[93m00:14:28\u001b[0m\u001b[0m  \u001b[99m0.04it/s\u001b[0m  \u001b[99m41/80\u001b[0m  \u001b[99m0.0184\u001b[0m                              \n",
      "\u001b[1mDescription\u001b[0m  51.2% |\u001b[97m█\u001b[0m\u001b[97m█\u001b[0m\u001b[97m█\u001b[0m\u001b[97m█\u001b[0m\u001b[97m█\u001b[0m\u001b[97m█\u001b[0m\u001b[97m█\u001b[0m\u001b[97m█\u001b[0m\u001b[97m█\u001b[0m\u001b[97m█\u001b[0m\u001b[97m█\u001b[0m\u001b[97m█\u001b[0m\u001b[97m█\u001b[0m\u001b[97m█\u001b[0m\u001b[97m█\u001b[0m\u001b[97m█\u001b[0m\u001b[97m█\u001b[0m\u001b[97m█\u001b[0m\u001b[97m█\u001b[0m\u001b[97m█\u001b[0m\u001b[97m█\u001b[0m\u001b[97m█\u001b[0m\u001b[97m█\u001b[0m\u001b[97m█\u001b[0m\u001b[97m█\u001b[0m\u001b[97m█\u001b[0m\u001b[97m█\u001b[0m\u001b[97m█\u001b[0m\u001b[97m█\u001b[0m\u001b[97m█\u001b[0m                             |"
     ]
    },
    {
     "name": "stdout",
     "output_type": "stream",
     "text": [
      "epoch:42/80,loss: 0.0184\n"
     ]
    },
    {
     "name": "stderr",
     "output_type": "stream",
     "text": [
      "\u001b[K\u001b[F\u001b[K\u001b[F \u001b[1mIters\u001b[0m    \u001b[1mElapsed Time\u001b[0m      \u001b[1mSpeed\u001b[0m    \u001b[1mepoch\u001b[0m   \u001b[1mloss\u001b[0m                               \n",
      " \u001b[99m42/\u001b[93m80\u001b[0m\u001b[0m  \u001b[99m00:15:35<\u001b[93m00:14:05\u001b[0m\u001b[0m  \u001b[99m0.04it/s\u001b[0m  \u001b[99m42/80\u001b[0m  \u001b[99m0.0184\u001b[0m                              \n",
      "\u001b[1mDescription\u001b[0m  52.5% |\u001b[97m█\u001b[0m\u001b[97m█\u001b[0m\u001b[97m█\u001b[0m\u001b[97m█\u001b[0m\u001b[97m█\u001b[0m\u001b[97m█\u001b[0m\u001b[97m█\u001b[0m\u001b[97m█\u001b[0m\u001b[97m█\u001b[0m\u001b[97m█\u001b[0m\u001b[97m█\u001b[0m\u001b[97m█\u001b[0m\u001b[97m█\u001b[0m\u001b[97m█\u001b[0m\u001b[97m█\u001b[0m\u001b[97m█\u001b[0m\u001b[97m█\u001b[0m\u001b[97m█\u001b[0m\u001b[97m█\u001b[0m\u001b[97m█\u001b[0m\u001b[97m█\u001b[0m\u001b[97m█\u001b[0m\u001b[97m█\u001b[0m\u001b[97m█\u001b[0m\u001b[97m█\u001b[0m\u001b[97m█\u001b[0m\u001b[97m█\u001b[0m\u001b[97m█\u001b[0m\u001b[97m█\u001b[0m\u001b[97m█\u001b[0m                             |"
     ]
    },
    {
     "name": "stdout",
     "output_type": "stream",
     "text": [
      "epoch:43/80,loss: 0.0183\n"
     ]
    },
    {
     "name": "stderr",
     "output_type": "stream",
     "text": [
      "\u001b[K\u001b[F\u001b[K\u001b[F \u001b[1mIters\u001b[0m    \u001b[1mElapsed Time\u001b[0m      \u001b[1mSpeed\u001b[0m    \u001b[1mepoch\u001b[0m   \u001b[1mloss\u001b[0m                               \n",
      " \u001b[99m43/\u001b[93m80\u001b[0m\u001b[0m  \u001b[99m00:15:57<\u001b[93m00:13:43\u001b[0m\u001b[0m  \u001b[99m0.04it/s\u001b[0m  \u001b[99m43/80\u001b[0m  \u001b[99m0.0183\u001b[0m                              \n",
      "\u001b[1mDescription\u001b[0m  53.8% |\u001b[97m█\u001b[0m\u001b[97m█\u001b[0m\u001b[97m█\u001b[0m\u001b[97m█\u001b[0m\u001b[97m█\u001b[0m\u001b[97m█\u001b[0m\u001b[97m█\u001b[0m\u001b[97m█\u001b[0m\u001b[97m█\u001b[0m\u001b[97m█\u001b[0m\u001b[97m█\u001b[0m\u001b[97m█\u001b[0m\u001b[97m█\u001b[0m\u001b[97m█\u001b[0m\u001b[97m█\u001b[0m\u001b[97m█\u001b[0m\u001b[97m█\u001b[0m\u001b[97m█\u001b[0m\u001b[97m█\u001b[0m\u001b[97m█\u001b[0m\u001b[97m█\u001b[0m\u001b[97m█\u001b[0m\u001b[97m█\u001b[0m\u001b[97m█\u001b[0m\u001b[97m█\u001b[0m\u001b[97m█\u001b[0m\u001b[97m█\u001b[0m\u001b[97m█\u001b[0m\u001b[97m█\u001b[0m\u001b[97m█\u001b[0m\u001b[97m█\u001b[0m                            |"
     ]
    },
    {
     "name": "stdout",
     "output_type": "stream",
     "text": [
      "epoch:44/80,loss: 0.0182\n"
     ]
    },
    {
     "name": "stderr",
     "output_type": "stream",
     "text": [
      "\u001b[K\u001b[F\u001b[K\u001b[F \u001b[1mIters\u001b[0m    \u001b[1mElapsed Time\u001b[0m      \u001b[1mSpeed\u001b[0m    \u001b[1mepoch\u001b[0m   \u001b[1mloss\u001b[0m                               \n",
      " \u001b[99m44/\u001b[93m80\u001b[0m\u001b[0m  \u001b[99m00:16:18<\u001b[93m00:13:20\u001b[0m\u001b[0m  \u001b[99m0.04it/s\u001b[0m  \u001b[99m44/80\u001b[0m  \u001b[99m0.0182\u001b[0m                              \n",
      "\u001b[1mDescription\u001b[0m  55.0% |\u001b[97m█\u001b[0m\u001b[97m█\u001b[0m\u001b[97m█\u001b[0m\u001b[97m█\u001b[0m\u001b[97m█\u001b[0m\u001b[97m█\u001b[0m\u001b[97m█\u001b[0m\u001b[97m█\u001b[0m\u001b[97m█\u001b[0m\u001b[97m█\u001b[0m\u001b[97m█\u001b[0m\u001b[97m█\u001b[0m\u001b[97m█\u001b[0m\u001b[97m█\u001b[0m\u001b[97m█\u001b[0m\u001b[97m█\u001b[0m\u001b[97m█\u001b[0m\u001b[97m█\u001b[0m\u001b[97m█\u001b[0m\u001b[97m█\u001b[0m\u001b[97m█\u001b[0m\u001b[97m█\u001b[0m\u001b[97m█\u001b[0m\u001b[97m█\u001b[0m\u001b[97m█\u001b[0m\u001b[97m█\u001b[0m\u001b[97m█\u001b[0m\u001b[97m█\u001b[0m\u001b[97m█\u001b[0m\u001b[97m█\u001b[0m\u001b[97m█\u001b[0m\u001b[97m█\u001b[0m                           |"
     ]
    },
    {
     "name": "stdout",
     "output_type": "stream",
     "text": [
      "epoch:45/80,loss: 0.0182\n"
     ]
    },
    {
     "name": "stderr",
     "output_type": "stream",
     "text": [
      "\u001b[K\u001b[F\u001b[K\u001b[F \u001b[1mIters\u001b[0m    \u001b[1mElapsed Time\u001b[0m      \u001b[1mSpeed\u001b[0m    \u001b[1mepoch\u001b[0m   \u001b[1mloss\u001b[0m                               \n",
      " \u001b[99m45/\u001b[93m80\u001b[0m\u001b[0m  \u001b[99m00:16:40<\u001b[93m00:12:57\u001b[0m\u001b[0m  \u001b[99m0.04it/s\u001b[0m  \u001b[99m45/80\u001b[0m  \u001b[99m0.0182\u001b[0m                              \n",
      "\u001b[1mDescription\u001b[0m  56.2% |\u001b[97m█\u001b[0m\u001b[97m█\u001b[0m\u001b[97m█\u001b[0m\u001b[97m█\u001b[0m\u001b[97m█\u001b[0m\u001b[97m█\u001b[0m\u001b[97m█\u001b[0m\u001b[97m█\u001b[0m\u001b[97m█\u001b[0m\u001b[97m█\u001b[0m\u001b[97m█\u001b[0m\u001b[97m█\u001b[0m\u001b[97m█\u001b[0m\u001b[97m█\u001b[0m\u001b[97m█\u001b[0m\u001b[97m█\u001b[0m\u001b[97m█\u001b[0m\u001b[97m█\u001b[0m\u001b[97m█\u001b[0m\u001b[97m█\u001b[0m\u001b[97m█\u001b[0m\u001b[97m█\u001b[0m\u001b[97m█\u001b[0m\u001b[97m█\u001b[0m\u001b[97m█\u001b[0m\u001b[97m█\u001b[0m\u001b[97m█\u001b[0m\u001b[97m█\u001b[0m\u001b[97m█\u001b[0m\u001b[97m█\u001b[0m\u001b[97m█\u001b[0m\u001b[97m█\u001b[0m\u001b[97m█\u001b[0m                          |"
     ]
    },
    {
     "name": "stdout",
     "output_type": "stream",
     "text": [
      "epoch:46/80,loss: 0.0182\n"
     ]
    },
    {
     "name": "stderr",
     "output_type": "stream",
     "text": [
      "\u001b[K\u001b[F\u001b[K\u001b[F \u001b[1mIters\u001b[0m    \u001b[1mElapsed Time\u001b[0m      \u001b[1mSpeed\u001b[0m    \u001b[1mepoch\u001b[0m   \u001b[1mloss\u001b[0m                               \n",
      " \u001b[99m46/\u001b[93m80\u001b[0m\u001b[0m  \u001b[99m00:17:02<\u001b[93m00:12:35\u001b[0m\u001b[0m  \u001b[99m0.04it/s\u001b[0m  \u001b[99m46/80\u001b[0m  \u001b[99m0.0182\u001b[0m                              \n",
      "\u001b[1mDescription\u001b[0m  57.5% |\u001b[97m█\u001b[0m\u001b[97m█\u001b[0m\u001b[97m█\u001b[0m\u001b[97m█\u001b[0m\u001b[97m█\u001b[0m\u001b[97m█\u001b[0m\u001b[97m█\u001b[0m\u001b[97m█\u001b[0m\u001b[97m█\u001b[0m\u001b[97m█\u001b[0m\u001b[97m█\u001b[0m\u001b[97m█\u001b[0m\u001b[97m█\u001b[0m\u001b[97m█\u001b[0m\u001b[97m█\u001b[0m\u001b[97m█\u001b[0m\u001b[97m█\u001b[0m\u001b[97m█\u001b[0m\u001b[97m█\u001b[0m\u001b[97m█\u001b[0m\u001b[97m█\u001b[0m\u001b[97m█\u001b[0m\u001b[97m█\u001b[0m\u001b[97m█\u001b[0m\u001b[97m█\u001b[0m\u001b[97m█\u001b[0m\u001b[97m█\u001b[0m\u001b[97m█\u001b[0m\u001b[97m█\u001b[0m\u001b[97m█\u001b[0m\u001b[97m█\u001b[0m\u001b[97m█\u001b[0m\u001b[97m█\u001b[0m                          |"
     ]
    },
    {
     "name": "stdout",
     "output_type": "stream",
     "text": [
      "epoch:47/80,loss: 0.0181\n"
     ]
    },
    {
     "name": "stderr",
     "output_type": "stream",
     "text": [
      "\u001b[K\u001b[F\u001b[K\u001b[F \u001b[1mIters\u001b[0m    \u001b[1mElapsed Time\u001b[0m      \u001b[1mSpeed\u001b[0m    \u001b[1mepoch\u001b[0m   \u001b[1mloss\u001b[0m                               \n",
      " \u001b[99m47/\u001b[93m80\u001b[0m\u001b[0m  \u001b[99m00:17:24<\u001b[93m00:12:13\u001b[0m\u001b[0m  \u001b[99m0.05it/s\u001b[0m  \u001b[99m47/80\u001b[0m  \u001b[99m0.0181\u001b[0m                              \n",
      "\u001b[1mDescription\u001b[0m  58.8% |\u001b[97m█\u001b[0m\u001b[97m█\u001b[0m\u001b[97m█\u001b[0m\u001b[97m█\u001b[0m\u001b[97m█\u001b[0m\u001b[97m█\u001b[0m\u001b[97m█\u001b[0m\u001b[97m█\u001b[0m\u001b[97m█\u001b[0m\u001b[97m█\u001b[0m\u001b[97m█\u001b[0m\u001b[97m█\u001b[0m\u001b[97m█\u001b[0m\u001b[97m█\u001b[0m\u001b[97m█\u001b[0m\u001b[97m█\u001b[0m\u001b[97m█\u001b[0m\u001b[97m█\u001b[0m\u001b[97m█\u001b[0m\u001b[97m█\u001b[0m\u001b[97m█\u001b[0m\u001b[97m█\u001b[0m\u001b[97m█\u001b[0m\u001b[97m█\u001b[0m\u001b[97m█\u001b[0m\u001b[97m█\u001b[0m\u001b[97m█\u001b[0m\u001b[97m█\u001b[0m\u001b[97m█\u001b[0m\u001b[97m█\u001b[0m\u001b[97m█\u001b[0m\u001b[97m█\u001b[0m\u001b[97m█\u001b[0m\u001b[97m█\u001b[0m                         |"
     ]
    },
    {
     "name": "stdout",
     "output_type": "stream",
     "text": [
      "epoch:48/80,loss: 0.0180\n"
     ]
    },
    {
     "name": "stderr",
     "output_type": "stream",
     "text": [
      "\u001b[K\u001b[F\u001b[K\u001b[F \u001b[1mIters\u001b[0m    \u001b[1mElapsed Time\u001b[0m      \u001b[1mSpeed\u001b[0m    \u001b[1mepoch\u001b[0m   \u001b[1mloss\u001b[0m                               \n",
      " \u001b[99m48/\u001b[93m80\u001b[0m\u001b[0m  \u001b[99m00:17:46<\u001b[93m00:11:50\u001b[0m\u001b[0m  \u001b[99m0.05it/s\u001b[0m  \u001b[99m48/80\u001b[0m  \u001b[99m0.0180\u001b[0m                              \n",
      "\u001b[1mDescription\u001b[0m  60.0% |\u001b[97m█\u001b[0m\u001b[97m█\u001b[0m\u001b[97m█\u001b[0m\u001b[97m█\u001b[0m\u001b[97m█\u001b[0m\u001b[97m█\u001b[0m\u001b[97m█\u001b[0m\u001b[97m█\u001b[0m\u001b[97m█\u001b[0m\u001b[97m█\u001b[0m\u001b[97m█\u001b[0m\u001b[97m█\u001b[0m\u001b[97m█\u001b[0m\u001b[97m█\u001b[0m\u001b[97m█\u001b[0m\u001b[97m█\u001b[0m\u001b[97m█\u001b[0m\u001b[97m█\u001b[0m\u001b[97m█\u001b[0m\u001b[97m█\u001b[0m\u001b[97m█\u001b[0m\u001b[97m█\u001b[0m\u001b[97m█\u001b[0m\u001b[97m█\u001b[0m\u001b[97m█\u001b[0m\u001b[97m█\u001b[0m\u001b[97m█\u001b[0m\u001b[97m█\u001b[0m\u001b[97m█\u001b[0m\u001b[97m█\u001b[0m\u001b[97m█\u001b[0m\u001b[97m█\u001b[0m\u001b[97m█\u001b[0m\u001b[97m█\u001b[0m\u001b[97m█\u001b[0m                        |"
     ]
    },
    {
     "name": "stdout",
     "output_type": "stream",
     "text": [
      "epoch:49/80,loss: 0.0180\n"
     ]
    },
    {
     "name": "stderr",
     "output_type": "stream",
     "text": [
      "\u001b[K\u001b[F\u001b[K\u001b[F \u001b[1mIters\u001b[0m    \u001b[1mElapsed Time\u001b[0m      \u001b[1mSpeed\u001b[0m    \u001b[1mepoch\u001b[0m   \u001b[1mloss\u001b[0m                               \n",
      " \u001b[99m49/\u001b[93m80\u001b[0m\u001b[0m  \u001b[99m00:18:08<\u001b[93m00:11:28\u001b[0m\u001b[0m  \u001b[99m0.05it/s\u001b[0m  \u001b[99m49/80\u001b[0m  \u001b[99m0.0180\u001b[0m                              \n",
      "\u001b[1mDescription\u001b[0m  61.3% |\u001b[97m█\u001b[0m\u001b[97m█\u001b[0m\u001b[97m█\u001b[0m\u001b[97m█\u001b[0m\u001b[97m█\u001b[0m\u001b[97m█\u001b[0m\u001b[97m█\u001b[0m\u001b[97m█\u001b[0m\u001b[97m█\u001b[0m\u001b[97m█\u001b[0m\u001b[97m█\u001b[0m\u001b[97m█\u001b[0m\u001b[97m█\u001b[0m\u001b[97m█\u001b[0m\u001b[97m█\u001b[0m\u001b[97m█\u001b[0m\u001b[97m█\u001b[0m\u001b[97m█\u001b[0m\u001b[97m█\u001b[0m\u001b[97m█\u001b[0m\u001b[97m█\u001b[0m\u001b[97m█\u001b[0m\u001b[97m█\u001b[0m\u001b[97m█\u001b[0m\u001b[97m█\u001b[0m\u001b[97m█\u001b[0m\u001b[97m█\u001b[0m\u001b[97m█\u001b[0m\u001b[97m█\u001b[0m\u001b[97m█\u001b[0m\u001b[97m█\u001b[0m\u001b[97m█\u001b[0m\u001b[97m█\u001b[0m\u001b[97m█\u001b[0m\u001b[97m█\u001b[0m\u001b[97m█\u001b[0m                       |"
     ]
    },
    {
     "name": "stdout",
     "output_type": "stream",
     "text": [
      "epoch:50/80,loss: 0.0180\n"
     ]
    },
    {
     "name": "stderr",
     "output_type": "stream",
     "text": [
      "\u001b[K\u001b[F\u001b[K\u001b[F \u001b[1mIters\u001b[0m    \u001b[1mElapsed Time\u001b[0m      \u001b[1mSpeed\u001b[0m    \u001b[1mepoch\u001b[0m   \u001b[1mloss\u001b[0m                               \n",
      " \u001b[99m50/\u001b[93m80\u001b[0m\u001b[0m  \u001b[99m00:18:31<\u001b[93m00:11:06\u001b[0m\u001b[0m  \u001b[99m0.05it/s\u001b[0m  \u001b[99m50/80\u001b[0m  \u001b[99m0.0180\u001b[0m                              \n",
      "\u001b[1mDescription\u001b[0m  62.5% |\u001b[97m█\u001b[0m\u001b[97m█\u001b[0m\u001b[97m█\u001b[0m\u001b[97m█\u001b[0m\u001b[97m█\u001b[0m\u001b[97m█\u001b[0m\u001b[97m█\u001b[0m\u001b[97m█\u001b[0m\u001b[97m█\u001b[0m\u001b[97m█\u001b[0m\u001b[97m█\u001b[0m\u001b[97m█\u001b[0m\u001b[97m█\u001b[0m\u001b[97m█\u001b[0m\u001b[97m█\u001b[0m\u001b[97m█\u001b[0m\u001b[97m█\u001b[0m\u001b[97m█\u001b[0m\u001b[97m█\u001b[0m\u001b[97m█\u001b[0m\u001b[97m█\u001b[0m\u001b[97m█\u001b[0m\u001b[97m█\u001b[0m\u001b[97m█\u001b[0m\u001b[97m█\u001b[0m\u001b[97m█\u001b[0m\u001b[97m█\u001b[0m\u001b[97m█\u001b[0m\u001b[97m█\u001b[0m\u001b[97m█\u001b[0m\u001b[97m█\u001b[0m\u001b[97m█\u001b[0m\u001b[97m█\u001b[0m\u001b[97m█\u001b[0m\u001b[97m█\u001b[0m\u001b[97m█\u001b[0m                       |"
     ]
    },
    {
     "name": "stdout",
     "output_type": "stream",
     "text": [
      "epoch:51/80,loss: 0.0179\n"
     ]
    },
    {
     "name": "stderr",
     "output_type": "stream",
     "text": [
      "\u001b[K\u001b[F\u001b[K\u001b[F \u001b[1mIters\u001b[0m    \u001b[1mElapsed Time\u001b[0m      \u001b[1mSpeed\u001b[0m    \u001b[1mepoch\u001b[0m   \u001b[1mloss\u001b[0m                               \n",
      " \u001b[99m51/\u001b[93m80\u001b[0m\u001b[0m  \u001b[99m00:18:52<\u001b[93m00:10:44\u001b[0m\u001b[0m  \u001b[99m0.05it/s\u001b[0m  \u001b[99m51/80\u001b[0m  \u001b[99m0.0179\u001b[0m                              \n",
      "\u001b[1mDescription\u001b[0m  63.7% |\u001b[97m█\u001b[0m\u001b[97m█\u001b[0m\u001b[97m█\u001b[0m\u001b[97m█\u001b[0m\u001b[97m█\u001b[0m\u001b[97m█\u001b[0m\u001b[97m█\u001b[0m\u001b[97m█\u001b[0m\u001b[97m█\u001b[0m\u001b[97m█\u001b[0m\u001b[97m█\u001b[0m\u001b[97m█\u001b[0m\u001b[97m█\u001b[0m\u001b[97m█\u001b[0m\u001b[97m█\u001b[0m\u001b[97m█\u001b[0m\u001b[97m█\u001b[0m\u001b[97m█\u001b[0m\u001b[97m█\u001b[0m\u001b[97m█\u001b[0m\u001b[97m█\u001b[0m\u001b[97m█\u001b[0m\u001b[97m█\u001b[0m\u001b[97m█\u001b[0m\u001b[97m█\u001b[0m\u001b[97m█\u001b[0m\u001b[97m█\u001b[0m\u001b[97m█\u001b[0m\u001b[97m█\u001b[0m\u001b[97m█\u001b[0m\u001b[97m█\u001b[0m\u001b[97m█\u001b[0m\u001b[97m█\u001b[0m\u001b[97m█\u001b[0m\u001b[97m█\u001b[0m\u001b[97m█\u001b[0m\u001b[97m█\u001b[0m                      |"
     ]
    },
    {
     "name": "stdout",
     "output_type": "stream",
     "text": [
      "epoch:52/80,loss: 0.0179\n"
     ]
    },
    {
     "name": "stderr",
     "output_type": "stream",
     "text": [
      "\u001b[K\u001b[F\u001b[K\u001b[F \u001b[1mIters\u001b[0m    \u001b[1mElapsed Time\u001b[0m      \u001b[1mSpeed\u001b[0m    \u001b[1mepoch\u001b[0m   \u001b[1mloss\u001b[0m                               \n",
      " \u001b[99m52/\u001b[93m80\u001b[0m\u001b[0m  \u001b[99m00:19:15<\u001b[93m00:10:22\u001b[0m\u001b[0m  \u001b[99m0.05it/s\u001b[0m  \u001b[99m52/80\u001b[0m  \u001b[99m0.0179\u001b[0m                              \n",
      "\u001b[1mDescription\u001b[0m  65.0% |\u001b[97m█\u001b[0m\u001b[97m█\u001b[0m\u001b[97m█\u001b[0m\u001b[97m█\u001b[0m\u001b[97m█\u001b[0m\u001b[97m█\u001b[0m\u001b[97m█\u001b[0m\u001b[97m█\u001b[0m\u001b[97m█\u001b[0m\u001b[97m█\u001b[0m\u001b[97m█\u001b[0m\u001b[97m█\u001b[0m\u001b[97m█\u001b[0m\u001b[97m█\u001b[0m\u001b[97m█\u001b[0m\u001b[97m█\u001b[0m\u001b[97m█\u001b[0m\u001b[97m█\u001b[0m\u001b[97m█\u001b[0m\u001b[97m█\u001b[0m\u001b[97m█\u001b[0m\u001b[97m█\u001b[0m\u001b[97m█\u001b[0m\u001b[97m█\u001b[0m\u001b[97m█\u001b[0m\u001b[97m█\u001b[0m\u001b[97m█\u001b[0m\u001b[97m█\u001b[0m\u001b[97m█\u001b[0m\u001b[97m█\u001b[0m\u001b[97m█\u001b[0m\u001b[97m█\u001b[0m\u001b[97m█\u001b[0m\u001b[97m█\u001b[0m\u001b[97m█\u001b[0m\u001b[97m█\u001b[0m\u001b[97m█\u001b[0m\u001b[97m█\u001b[0m                     |"
     ]
    },
    {
     "name": "stdout",
     "output_type": "stream",
     "text": [
      "epoch:53/80,loss: 0.0178\n"
     ]
    },
    {
     "name": "stderr",
     "output_type": "stream",
     "text": [
      "\u001b[K\u001b[F\u001b[K\u001b[F \u001b[1mIters\u001b[0m    \u001b[1mElapsed Time\u001b[0m      \u001b[1mSpeed\u001b[0m    \u001b[1mepoch\u001b[0m   \u001b[1mloss\u001b[0m                               \n",
      " \u001b[99m53/\u001b[93m80\u001b[0m\u001b[0m  \u001b[99m00:19:37<\u001b[93m00:09:59\u001b[0m\u001b[0m  \u001b[99m0.05it/s\u001b[0m  \u001b[99m53/80\u001b[0m  \u001b[99m0.0178\u001b[0m                              \n",
      "\u001b[1mDescription\u001b[0m  66.2% |\u001b[97m█\u001b[0m\u001b[97m█\u001b[0m\u001b[97m█\u001b[0m\u001b[97m█\u001b[0m\u001b[97m█\u001b[0m\u001b[97m█\u001b[0m\u001b[97m█\u001b[0m\u001b[97m█\u001b[0m\u001b[97m█\u001b[0m\u001b[97m█\u001b[0m\u001b[97m█\u001b[0m\u001b[97m█\u001b[0m\u001b[97m█\u001b[0m\u001b[97m█\u001b[0m\u001b[97m█\u001b[0m\u001b[97m█\u001b[0m\u001b[97m█\u001b[0m\u001b[97m█\u001b[0m\u001b[97m█\u001b[0m\u001b[97m█\u001b[0m\u001b[97m█\u001b[0m\u001b[97m█\u001b[0m\u001b[97m█\u001b[0m\u001b[97m█\u001b[0m\u001b[97m█\u001b[0m\u001b[97m█\u001b[0m\u001b[97m█\u001b[0m\u001b[97m█\u001b[0m\u001b[97m█\u001b[0m\u001b[97m█\u001b[0m\u001b[97m█\u001b[0m\u001b[97m█\u001b[0m\u001b[97m█\u001b[0m\u001b[97m█\u001b[0m\u001b[97m█\u001b[0m\u001b[97m█\u001b[0m\u001b[97m█\u001b[0m\u001b[97m█\u001b[0m\u001b[97m█\u001b[0m                    |"
     ]
    },
    {
     "name": "stdout",
     "output_type": "stream",
     "text": [
      "epoch:54/80,loss: 0.0178\n"
     ]
    },
    {
     "name": "stderr",
     "output_type": "stream",
     "text": [
      "\u001b[K\u001b[F\u001b[K\u001b[F \u001b[1mIters\u001b[0m    \u001b[1mElapsed Time\u001b[0m      \u001b[1mSpeed\u001b[0m    \u001b[1mepoch\u001b[0m   \u001b[1mloss\u001b[0m                               \n",
      " \u001b[99m54/\u001b[93m80\u001b[0m\u001b[0m  \u001b[99m00:19:59<\u001b[93m00:09:37\u001b[0m\u001b[0m  \u001b[99m0.05it/s\u001b[0m  \u001b[99m54/80\u001b[0m  \u001b[99m0.0178\u001b[0m                              \n",
      "\u001b[1mDescription\u001b[0m  67.5% |\u001b[97m█\u001b[0m\u001b[97m█\u001b[0m\u001b[97m█\u001b[0m\u001b[97m█\u001b[0m\u001b[97m█\u001b[0m\u001b[97m█\u001b[0m\u001b[97m█\u001b[0m\u001b[97m█\u001b[0m\u001b[97m█\u001b[0m\u001b[97m█\u001b[0m\u001b[97m█\u001b[0m\u001b[97m█\u001b[0m\u001b[97m█\u001b[0m\u001b[97m█\u001b[0m\u001b[97m█\u001b[0m\u001b[97m█\u001b[0m\u001b[97m█\u001b[0m\u001b[97m█\u001b[0m\u001b[97m█\u001b[0m\u001b[97m█\u001b[0m\u001b[97m█\u001b[0m\u001b[97m█\u001b[0m\u001b[97m█\u001b[0m\u001b[97m█\u001b[0m\u001b[97m█\u001b[0m\u001b[97m█\u001b[0m\u001b[97m█\u001b[0m\u001b[97m█\u001b[0m\u001b[97m█\u001b[0m\u001b[97m█\u001b[0m\u001b[97m█\u001b[0m\u001b[97m█\u001b[0m\u001b[97m█\u001b[0m\u001b[97m█\u001b[0m\u001b[97m█\u001b[0m\u001b[97m█\u001b[0m\u001b[97m█\u001b[0m\u001b[97m█\u001b[0m\u001b[97m█\u001b[0m                    |"
     ]
    },
    {
     "name": "stdout",
     "output_type": "stream",
     "text": [
      "epoch:55/80,loss: 0.0178\n"
     ]
    },
    {
     "name": "stderr",
     "output_type": "stream",
     "text": [
      "\u001b[K\u001b[F\u001b[K\u001b[F \u001b[1mIters\u001b[0m    \u001b[1mElapsed Time\u001b[0m      \u001b[1mSpeed\u001b[0m    \u001b[1mepoch\u001b[0m   \u001b[1mloss\u001b[0m                               \n",
      " \u001b[99m55/\u001b[93m80\u001b[0m\u001b[0m  \u001b[99m00:20:21<\u001b[93m00:09:15\u001b[0m\u001b[0m  \u001b[99m0.05it/s\u001b[0m  \u001b[99m55/80\u001b[0m  \u001b[99m0.0178\u001b[0m                              \n",
      "\u001b[1mDescription\u001b[0m  68.8% |\u001b[97m█\u001b[0m\u001b[97m█\u001b[0m\u001b[97m█\u001b[0m\u001b[97m█\u001b[0m\u001b[97m█\u001b[0m\u001b[97m█\u001b[0m\u001b[97m█\u001b[0m\u001b[97m█\u001b[0m\u001b[97m█\u001b[0m\u001b[97m█\u001b[0m\u001b[97m█\u001b[0m\u001b[97m█\u001b[0m\u001b[97m█\u001b[0m\u001b[97m█\u001b[0m\u001b[97m█\u001b[0m\u001b[97m█\u001b[0m\u001b[97m█\u001b[0m\u001b[97m█\u001b[0m\u001b[97m█\u001b[0m\u001b[97m█\u001b[0m\u001b[97m█\u001b[0m\u001b[97m█\u001b[0m\u001b[97m█\u001b[0m\u001b[97m█\u001b[0m\u001b[97m█\u001b[0m\u001b[97m█\u001b[0m\u001b[97m█\u001b[0m\u001b[97m█\u001b[0m\u001b[97m█\u001b[0m\u001b[97m█\u001b[0m\u001b[97m█\u001b[0m\u001b[97m█\u001b[0m\u001b[97m█\u001b[0m\u001b[97m█\u001b[0m\u001b[97m█\u001b[0m\u001b[97m█\u001b[0m\u001b[97m█\u001b[0m\u001b[97m█\u001b[0m\u001b[97m█\u001b[0m\u001b[97m█\u001b[0m                   |"
     ]
    },
    {
     "name": "stdout",
     "output_type": "stream",
     "text": [
      "epoch:56/80,loss: 0.0177\n"
     ]
    },
    {
     "name": "stderr",
     "output_type": "stream",
     "text": [
      "\u001b[K\u001b[F\u001b[K\u001b[F \u001b[1mIters\u001b[0m    \u001b[1mElapsed Time\u001b[0m      \u001b[1mSpeed\u001b[0m    \u001b[1mepoch\u001b[0m   \u001b[1mloss\u001b[0m                               \n",
      " \u001b[99m56/\u001b[93m80\u001b[0m\u001b[0m  \u001b[99m00:20:43<\u001b[93m00:08:52\u001b[0m\u001b[0m  \u001b[99m0.05it/s\u001b[0m  \u001b[99m56/80\u001b[0m  \u001b[99m0.0177\u001b[0m                              \n",
      "\u001b[1mDescription\u001b[0m  70.0% |\u001b[97m█\u001b[0m\u001b[97m█\u001b[0m\u001b[97m█\u001b[0m\u001b[97m█\u001b[0m\u001b[97m█\u001b[0m\u001b[97m█\u001b[0m\u001b[97m█\u001b[0m\u001b[97m█\u001b[0m\u001b[97m█\u001b[0m\u001b[97m█\u001b[0m\u001b[97m█\u001b[0m\u001b[97m█\u001b[0m\u001b[97m█\u001b[0m\u001b[97m█\u001b[0m\u001b[97m█\u001b[0m\u001b[97m█\u001b[0m\u001b[97m█\u001b[0m\u001b[97m█\u001b[0m\u001b[97m█\u001b[0m\u001b[97m█\u001b[0m\u001b[97m█\u001b[0m\u001b[97m█\u001b[0m\u001b[97m█\u001b[0m\u001b[97m█\u001b[0m\u001b[97m█\u001b[0m\u001b[97m█\u001b[0m\u001b[97m█\u001b[0m\u001b[97m█\u001b[0m\u001b[97m█\u001b[0m\u001b[97m█\u001b[0m\u001b[97m█\u001b[0m\u001b[97m█\u001b[0m\u001b[97m█\u001b[0m\u001b[97m█\u001b[0m\u001b[97m█\u001b[0m\u001b[97m█\u001b[0m\u001b[97m█\u001b[0m\u001b[97m█\u001b[0m\u001b[97m█\u001b[0m\u001b[97m█\u001b[0m\u001b[97m█\u001b[0m                  |\u001b[K\u001b[F\u001b[K\u001b[F \u001b[1mIters\u001b[0m    \u001b[1mElapsed Time\u001b[0m      \u001b[1mSpeed\u001b[0m    \u001b[1mepoch\u001b[0m   \u001b[1mloss\u001b[0m                               \n",
      " \u001b[99m57/\u001b[93m80\u001b[0m\u001b[0m  \u001b[99m00:21:04<\u001b[93m00:08:30\u001b[0m\u001b[0m  \u001b[99m0.05it/s\u001b[0m  \u001b[99m57/80\u001b[0m  \u001b[99m0.0177\u001b[0m                              \n",
      "\u001b[1mDescription\u001b[0m  71.2% |\u001b[97m█\u001b[0m\u001b[97m█\u001b[0m\u001b[97m█\u001b[0m\u001b[97m█\u001b[0m\u001b[97m█\u001b[0m\u001b[97m█\u001b[0m\u001b[97m█\u001b[0m\u001b[97m█\u001b[0m\u001b[97m█\u001b[0m\u001b[97m█\u001b[0m\u001b[97m█\u001b[0m\u001b[97m█\u001b[0m\u001b[97m█\u001b[0m\u001b[97m█\u001b[0m\u001b[97m█\u001b[0m\u001b[97m█\u001b[0m\u001b[97m█\u001b[0m\u001b[97m█\u001b[0m\u001b[97m█\u001b[0m\u001b[97m█\u001b[0m\u001b[97m█\u001b[0m\u001b[97m█\u001b[0m\u001b[97m█\u001b[0m\u001b[97m█\u001b[0m\u001b[97m█\u001b[0m\u001b[97m█\u001b[0m\u001b[97m█\u001b[0m\u001b[97m█\u001b[0m\u001b[97m█\u001b[0m\u001b[97m█\u001b[0m\u001b[97m█\u001b[0m\u001b[97m█\u001b[0m\u001b[97m█\u001b[0m\u001b[97m█\u001b[0m\u001b[97m█\u001b[0m\u001b[97m█\u001b[0m\u001b[97m█\u001b[0m\u001b[97m█\u001b[0m\u001b[97m█\u001b[0m\u001b[97m█\u001b[0m\u001b[97m█\u001b[0m\u001b[97m█\u001b[0m                 |"
     ]
    },
    {
     "name": "stdout",
     "output_type": "stream",
     "text": [
      "epoch:58/80,loss: 0.0176\n"
     ]
    },
    {
     "name": "stderr",
     "output_type": "stream",
     "text": [
      "\u001b[K\u001b[F\u001b[K\u001b[F \u001b[1mIters\u001b[0m    \u001b[1mElapsed Time\u001b[0m      \u001b[1mSpeed\u001b[0m    \u001b[1mepoch\u001b[0m   \u001b[1mloss\u001b[0m                               \n",
      " \u001b[99m58/\u001b[93m80\u001b[0m\u001b[0m  \u001b[99m00:21:26<\u001b[93m00:08:08\u001b[0m\u001b[0m  \u001b[99m0.05it/s\u001b[0m  \u001b[99m58/80\u001b[0m  \u001b[99m0.0176\u001b[0m                              \n",
      "\u001b[1mDescription\u001b[0m  72.5% |\u001b[97m█\u001b[0m\u001b[97m█\u001b[0m\u001b[97m█\u001b[0m\u001b[97m█\u001b[0m\u001b[97m█\u001b[0m\u001b[97m█\u001b[0m\u001b[97m█\u001b[0m\u001b[97m█\u001b[0m\u001b[97m█\u001b[0m\u001b[97m█\u001b[0m\u001b[97m█\u001b[0m\u001b[97m█\u001b[0m\u001b[97m█\u001b[0m\u001b[97m█\u001b[0m\u001b[97m█\u001b[0m\u001b[97m█\u001b[0m\u001b[97m█\u001b[0m\u001b[97m█\u001b[0m\u001b[97m█\u001b[0m\u001b[97m█\u001b[0m\u001b[97m█\u001b[0m\u001b[97m█\u001b[0m\u001b[97m█\u001b[0m\u001b[97m█\u001b[0m\u001b[97m█\u001b[0m\u001b[97m█\u001b[0m\u001b[97m█\u001b[0m\u001b[97m█\u001b[0m\u001b[97m█\u001b[0m\u001b[97m█\u001b[0m\u001b[97m█\u001b[0m\u001b[97m█\u001b[0m\u001b[97m█\u001b[0m\u001b[97m█\u001b[0m\u001b[97m█\u001b[0m\u001b[97m█\u001b[0m\u001b[97m█\u001b[0m\u001b[97m█\u001b[0m\u001b[97m█\u001b[0m\u001b[97m█\u001b[0m\u001b[97m█\u001b[0m\u001b[97m█\u001b[0m                 |"
     ]
    },
    {
     "name": "stdout",
     "output_type": "stream",
     "text": [
      "epoch:59/80,loss: 0.0176\n"
     ]
    },
    {
     "name": "stderr",
     "output_type": "stream",
     "text": [
      "\u001b[K\u001b[F\u001b[K\u001b[F \u001b[1mIters\u001b[0m    \u001b[1mElapsed Time\u001b[0m      \u001b[1mSpeed\u001b[0m    \u001b[1mepoch\u001b[0m   \u001b[1mloss\u001b[0m                               \n",
      " \u001b[99m59/\u001b[93m80\u001b[0m\u001b[0m  \u001b[99m00:21:48<\u001b[93m00:07:45\u001b[0m\u001b[0m  \u001b[99m0.05it/s\u001b[0m  \u001b[99m59/80\u001b[0m  \u001b[99m0.0176\u001b[0m                              \n",
      "\u001b[1mDescription\u001b[0m  73.8% |\u001b[97m█\u001b[0m\u001b[97m█\u001b[0m\u001b[97m█\u001b[0m\u001b[97m█\u001b[0m\u001b[97m█\u001b[0m\u001b[97m█\u001b[0m\u001b[97m█\u001b[0m\u001b[97m█\u001b[0m\u001b[97m█\u001b[0m\u001b[97m█\u001b[0m\u001b[97m█\u001b[0m\u001b[97m█\u001b[0m\u001b[97m█\u001b[0m\u001b[97m█\u001b[0m\u001b[97m█\u001b[0m\u001b[97m█\u001b[0m\u001b[97m█\u001b[0m\u001b[97m█\u001b[0m\u001b[97m█\u001b[0m\u001b[97m█\u001b[0m\u001b[97m█\u001b[0m\u001b[97m█\u001b[0m\u001b[97m█\u001b[0m\u001b[97m█\u001b[0m\u001b[97m█\u001b[0m\u001b[97m█\u001b[0m\u001b[97m█\u001b[0m\u001b[97m█\u001b[0m\u001b[97m█\u001b[0m\u001b[97m█\u001b[0m\u001b[97m█\u001b[0m\u001b[97m█\u001b[0m\u001b[97m█\u001b[0m\u001b[97m█\u001b[0m\u001b[97m█\u001b[0m\u001b[97m█\u001b[0m\u001b[97m█\u001b[0m\u001b[97m█\u001b[0m\u001b[97m█\u001b[0m\u001b[97m█\u001b[0m\u001b[97m█\u001b[0m\u001b[97m█\u001b[0m\u001b[97m█\u001b[0m                |"
     ]
    },
    {
     "name": "stdout",
     "output_type": "stream",
     "text": [
      "epoch:60/80,loss: 0.0176\n"
     ]
    },
    {
     "name": "stderr",
     "output_type": "stream",
     "text": [
      "\u001b[K\u001b[F\u001b[K\u001b[F \u001b[1mIters\u001b[0m    \u001b[1mElapsed Time\u001b[0m      \u001b[1mSpeed\u001b[0m    \u001b[1mepoch\u001b[0m   \u001b[1mloss\u001b[0m                               \n",
      " \u001b[99m60/\u001b[93m80\u001b[0m\u001b[0m  \u001b[99m00:22:10<\u001b[93m00:07:23\u001b[0m\u001b[0m  \u001b[99m0.05it/s\u001b[0m  \u001b[99m60/80\u001b[0m  \u001b[99m0.0176\u001b[0m                              \n",
      "\u001b[1mDescription\u001b[0m  75.0% |\u001b[97m█\u001b[0m\u001b[97m█\u001b[0m\u001b[97m█\u001b[0m\u001b[97m█\u001b[0m\u001b[97m█\u001b[0m\u001b[97m█\u001b[0m\u001b[97m█\u001b[0m\u001b[97m█\u001b[0m\u001b[97m█\u001b[0m\u001b[97m█\u001b[0m\u001b[97m█\u001b[0m\u001b[97m█\u001b[0m\u001b[97m█\u001b[0m\u001b[97m█\u001b[0m\u001b[97m█\u001b[0m\u001b[97m█\u001b[0m\u001b[97m█\u001b[0m\u001b[97m█\u001b[0m\u001b[97m█\u001b[0m\u001b[97m█\u001b[0m\u001b[97m█\u001b[0m\u001b[97m█\u001b[0m\u001b[97m█\u001b[0m\u001b[97m█\u001b[0m\u001b[97m█\u001b[0m\u001b[97m█\u001b[0m\u001b[97m█\u001b[0m\u001b[97m█\u001b[0m\u001b[97m█\u001b[0m\u001b[97m█\u001b[0m\u001b[97m█\u001b[0m\u001b[97m█\u001b[0m\u001b[97m█\u001b[0m\u001b[97m█\u001b[0m\u001b[97m█\u001b[0m\u001b[97m█\u001b[0m\u001b[97m█\u001b[0m\u001b[97m█\u001b[0m\u001b[97m█\u001b[0m\u001b[97m█\u001b[0m\u001b[97m█\u001b[0m\u001b[97m█\u001b[0m\u001b[97m█\u001b[0m\u001b[97m█\u001b[0m               |"
     ]
    },
    {
     "name": "stdout",
     "output_type": "stream",
     "text": [
      "epoch:61/80,loss: 0.0176\n"
     ]
    },
    {
     "name": "stderr",
     "output_type": "stream",
     "text": [
      "\u001b[K\u001b[F\u001b[K\u001b[F \u001b[1mIters\u001b[0m    \u001b[1mElapsed Time\u001b[0m      \u001b[1mSpeed\u001b[0m    \u001b[1mepoch\u001b[0m   \u001b[1mloss\u001b[0m                               \n",
      " \u001b[99m61/\u001b[93m80\u001b[0m\u001b[0m  \u001b[99m00:22:31<\u001b[93m00:07:01\u001b[0m\u001b[0m  \u001b[99m0.05it/s\u001b[0m  \u001b[99m61/80\u001b[0m  \u001b[99m0.0176\u001b[0m                              \n",
      "\u001b[1mDescription\u001b[0m  76.2% |\u001b[97m█\u001b[0m\u001b[97m█\u001b[0m\u001b[97m█\u001b[0m\u001b[97m█\u001b[0m\u001b[97m█\u001b[0m\u001b[97m█\u001b[0m\u001b[97m█\u001b[0m\u001b[97m█\u001b[0m\u001b[97m█\u001b[0m\u001b[97m█\u001b[0m\u001b[97m█\u001b[0m\u001b[97m█\u001b[0m\u001b[97m█\u001b[0m\u001b[97m█\u001b[0m\u001b[97m█\u001b[0m\u001b[97m█\u001b[0m\u001b[97m█\u001b[0m\u001b[97m█\u001b[0m\u001b[97m█\u001b[0m\u001b[97m█\u001b[0m\u001b[97m█\u001b[0m\u001b[97m█\u001b[0m\u001b[97m█\u001b[0m\u001b[97m█\u001b[0m\u001b[97m█\u001b[0m\u001b[97m█\u001b[0m\u001b[97m█\u001b[0m\u001b[97m█\u001b[0m\u001b[97m█\u001b[0m\u001b[97m█\u001b[0m\u001b[97m█\u001b[0m\u001b[97m█\u001b[0m\u001b[97m█\u001b[0m\u001b[97m█\u001b[0m\u001b[97m█\u001b[0m\u001b[97m█\u001b[0m\u001b[97m█\u001b[0m\u001b[97m█\u001b[0m\u001b[97m█\u001b[0m\u001b[97m█\u001b[0m\u001b[97m█\u001b[0m\u001b[97m█\u001b[0m\u001b[97m█\u001b[0m\u001b[97m█\u001b[0m               |"
     ]
    },
    {
     "name": "stdout",
     "output_type": "stream",
     "text": [
      "epoch:62/80,loss: 0.0175\n"
     ]
    },
    {
     "name": "stderr",
     "output_type": "stream",
     "text": [
      "\u001b[K\u001b[F\u001b[K\u001b[F \u001b[1mIters\u001b[0m    \u001b[1mElapsed Time\u001b[0m      \u001b[1mSpeed\u001b[0m    \u001b[1mepoch\u001b[0m   \u001b[1mloss\u001b[0m                               \n",
      " \u001b[99m62/\u001b[93m80\u001b[0m\u001b[0m  \u001b[99m00:22:53<\u001b[93m00:06:38\u001b[0m\u001b[0m  \u001b[99m0.05it/s\u001b[0m  \u001b[99m62/80\u001b[0m  \u001b[99m0.0175\u001b[0m                              \n",
      "\u001b[1mDescription\u001b[0m  77.5% |\u001b[97m█\u001b[0m\u001b[97m█\u001b[0m\u001b[97m█\u001b[0m\u001b[97m█\u001b[0m\u001b[97m█\u001b[0m\u001b[97m█\u001b[0m\u001b[97m█\u001b[0m\u001b[97m█\u001b[0m\u001b[97m█\u001b[0m\u001b[97m█\u001b[0m\u001b[97m█\u001b[0m\u001b[97m█\u001b[0m\u001b[97m█\u001b[0m\u001b[97m█\u001b[0m\u001b[97m█\u001b[0m\u001b[97m█\u001b[0m\u001b[97m█\u001b[0m\u001b[97m█\u001b[0m\u001b[97m█\u001b[0m\u001b[97m█\u001b[0m\u001b[97m█\u001b[0m\u001b[97m█\u001b[0m\u001b[97m█\u001b[0m\u001b[97m█\u001b[0m\u001b[97m█\u001b[0m\u001b[97m█\u001b[0m\u001b[97m█\u001b[0m\u001b[97m█\u001b[0m\u001b[97m█\u001b[0m\u001b[97m█\u001b[0m\u001b[97m█\u001b[0m\u001b[97m█\u001b[0m\u001b[97m█\u001b[0m\u001b[97m█\u001b[0m\u001b[97m█\u001b[0m\u001b[97m█\u001b[0m\u001b[97m█\u001b[0m\u001b[97m█\u001b[0m\u001b[97m█\u001b[0m\u001b[97m█\u001b[0m\u001b[97m█\u001b[0m\u001b[97m█\u001b[0m\u001b[97m█\u001b[0m\u001b[97m█\u001b[0m\u001b[97m█\u001b[0m              |\u001b[K\u001b[F\u001b[K\u001b[F \u001b[1mIters\u001b[0m    \u001b[1mElapsed Time\u001b[0m      \u001b[1mSpeed\u001b[0m    \u001b[1mepoch\u001b[0m   \u001b[1mloss\u001b[0m                               \n",
      " \u001b[99m63/\u001b[93m80\u001b[0m\u001b[0m  \u001b[99m00:23:15<\u001b[93m00:06:16\u001b[0m\u001b[0m  \u001b[99m0.05it/s\u001b[0m  \u001b[99m63/80\u001b[0m  \u001b[99m0.0175\u001b[0m                              \n",
      "\u001b[1mDescription\u001b[0m  78.8% |\u001b[97m█\u001b[0m\u001b[97m█\u001b[0m\u001b[97m█\u001b[0m\u001b[97m█\u001b[0m\u001b[97m█\u001b[0m\u001b[97m█\u001b[0m\u001b[97m█\u001b[0m\u001b[97m█\u001b[0m\u001b[97m█\u001b[0m\u001b[97m█\u001b[0m\u001b[97m█\u001b[0m\u001b[97m█\u001b[0m\u001b[97m█\u001b[0m\u001b[97m█\u001b[0m\u001b[97m█\u001b[0m\u001b[97m█\u001b[0m\u001b[97m█\u001b[0m\u001b[97m█\u001b[0m\u001b[97m█\u001b[0m\u001b[97m█\u001b[0m\u001b[97m█\u001b[0m\u001b[97m█\u001b[0m\u001b[97m█\u001b[0m\u001b[97m█\u001b[0m\u001b[97m█\u001b[0m\u001b[97m█\u001b[0m\u001b[97m█\u001b[0m\u001b[97m█\u001b[0m\u001b[97m█\u001b[0m\u001b[97m█\u001b[0m\u001b[97m█\u001b[0m\u001b[97m█\u001b[0m\u001b[97m█\u001b[0m\u001b[97m█\u001b[0m\u001b[97m█\u001b[0m\u001b[97m█\u001b[0m\u001b[97m█\u001b[0m\u001b[97m█\u001b[0m\u001b[97m█\u001b[0m\u001b[97m█\u001b[0m\u001b[97m█\u001b[0m\u001b[97m█\u001b[0m\u001b[97m█\u001b[0m\u001b[97m█\u001b[0m\u001b[97m█\u001b[0m\u001b[97m█\u001b[0m             |"
     ]
    },
    {
     "name": "stdout",
     "output_type": "stream",
     "text": [
      "epoch:64/80,loss: 0.0175\n"
     ]
    },
    {
     "name": "stderr",
     "output_type": "stream",
     "text": [
      "\u001b[K\u001b[F\u001b[K\u001b[F \u001b[1mIters\u001b[0m    \u001b[1mElapsed Time\u001b[0m      \u001b[1mSpeed\u001b[0m    \u001b[1mepoch\u001b[0m   \u001b[1mloss\u001b[0m                               \n",
      " \u001b[99m64/\u001b[93m80\u001b[0m\u001b[0m  \u001b[99m00:23:37<\u001b[93m00:05:54\u001b[0m\u001b[0m  \u001b[99m0.05it/s\u001b[0m  \u001b[99m64/80\u001b[0m  \u001b[99m0.0175\u001b[0m                              \n",
      "\u001b[1mDescription\u001b[0m  80.0% |\u001b[97m█\u001b[0m\u001b[97m█\u001b[0m\u001b[97m█\u001b[0m\u001b[97m█\u001b[0m\u001b[97m█\u001b[0m\u001b[97m█\u001b[0m\u001b[97m█\u001b[0m\u001b[97m█\u001b[0m\u001b[97m█\u001b[0m\u001b[97m█\u001b[0m\u001b[97m█\u001b[0m\u001b[97m█\u001b[0m\u001b[97m█\u001b[0m\u001b[97m█\u001b[0m\u001b[97m█\u001b[0m\u001b[97m█\u001b[0m\u001b[97m█\u001b[0m\u001b[97m█\u001b[0m\u001b[97m█\u001b[0m\u001b[97m█\u001b[0m\u001b[97m█\u001b[0m\u001b[97m█\u001b[0m\u001b[97m█\u001b[0m\u001b[97m█\u001b[0m\u001b[97m█\u001b[0m\u001b[97m█\u001b[0m\u001b[97m█\u001b[0m\u001b[97m█\u001b[0m\u001b[97m█\u001b[0m\u001b[97m█\u001b[0m\u001b[97m█\u001b[0m\u001b[97m█\u001b[0m\u001b[97m█\u001b[0m\u001b[97m█\u001b[0m\u001b[97m█\u001b[0m\u001b[97m█\u001b[0m\u001b[97m█\u001b[0m\u001b[97m█\u001b[0m\u001b[97m█\u001b[0m\u001b[97m█\u001b[0m\u001b[97m█\u001b[0m\u001b[97m█\u001b[0m\u001b[97m█\u001b[0m\u001b[97m█\u001b[0m\u001b[97m█\u001b[0m\u001b[97m█\u001b[0m\u001b[97m█\u001b[0m            |"
     ]
    },
    {
     "name": "stdout",
     "output_type": "stream",
     "text": [
      "epoch:65/80,loss: 0.0174\n"
     ]
    },
    {
     "name": "stderr",
     "output_type": "stream",
     "text": [
      "\u001b[K\u001b[F\u001b[K\u001b[F \u001b[1mIters\u001b[0m    \u001b[1mElapsed Time\u001b[0m      \u001b[1mSpeed\u001b[0m    \u001b[1mepoch\u001b[0m   \u001b[1mloss\u001b[0m                               \n",
      " \u001b[99m65/\u001b[93m80\u001b[0m\u001b[0m  \u001b[99m00:24:00<\u001b[93m00:05:32\u001b[0m\u001b[0m  \u001b[99m0.05it/s\u001b[0m  \u001b[99m65/80\u001b[0m  \u001b[99m0.0174\u001b[0m                              \n",
      "\u001b[1mDescription\u001b[0m  81.2% |\u001b[97m█\u001b[0m\u001b[97m█\u001b[0m\u001b[97m█\u001b[0m\u001b[97m█\u001b[0m\u001b[97m█\u001b[0m\u001b[97m█\u001b[0m\u001b[97m█\u001b[0m\u001b[97m█\u001b[0m\u001b[97m█\u001b[0m\u001b[97m█\u001b[0m\u001b[97m█\u001b[0m\u001b[97m█\u001b[0m\u001b[97m█\u001b[0m\u001b[97m█\u001b[0m\u001b[97m█\u001b[0m\u001b[97m█\u001b[0m\u001b[97m█\u001b[0m\u001b[97m█\u001b[0m\u001b[97m█\u001b[0m\u001b[97m█\u001b[0m\u001b[97m█\u001b[0m\u001b[97m█\u001b[0m\u001b[97m█\u001b[0m\u001b[97m█\u001b[0m\u001b[97m█\u001b[0m\u001b[97m█\u001b[0m\u001b[97m█\u001b[0m\u001b[97m█\u001b[0m\u001b[97m█\u001b[0m\u001b[97m█\u001b[0m\u001b[97m█\u001b[0m\u001b[97m█\u001b[0m\u001b[97m█\u001b[0m\u001b[97m█\u001b[0m\u001b[97m█\u001b[0m\u001b[97m█\u001b[0m\u001b[97m█\u001b[0m\u001b[97m█\u001b[0m\u001b[97m█\u001b[0m\u001b[97m█\u001b[0m\u001b[97m█\u001b[0m\u001b[97m█\u001b[0m\u001b[97m█\u001b[0m\u001b[97m█\u001b[0m\u001b[97m█\u001b[0m\u001b[97m█\u001b[0m\u001b[97m█\u001b[0m            |"
     ]
    },
    {
     "name": "stdout",
     "output_type": "stream",
     "text": [
      "epoch:66/80,loss: 0.0174\n"
     ]
    },
    {
     "name": "stderr",
     "output_type": "stream",
     "text": [
      "\u001b[K\u001b[F\u001b[K\u001b[F \u001b[1mIters\u001b[0m    \u001b[1mElapsed Time\u001b[0m      \u001b[1mSpeed\u001b[0m    \u001b[1mepoch\u001b[0m   \u001b[1mloss\u001b[0m                               \n",
      " \u001b[99m66/\u001b[93m80\u001b[0m\u001b[0m  \u001b[99m00:24:23<\u001b[93m00:05:10\u001b[0m\u001b[0m  \u001b[99m0.05it/s\u001b[0m  \u001b[99m66/80\u001b[0m  \u001b[99m0.0174\u001b[0m                              \n",
      "\u001b[1mDescription\u001b[0m  82.5% |\u001b[97m█\u001b[0m\u001b[97m█\u001b[0m\u001b[97m█\u001b[0m\u001b[97m█\u001b[0m\u001b[97m█\u001b[0m\u001b[97m█\u001b[0m\u001b[97m█\u001b[0m\u001b[97m█\u001b[0m\u001b[97m█\u001b[0m\u001b[97m█\u001b[0m\u001b[97m█\u001b[0m\u001b[97m█\u001b[0m\u001b[97m█\u001b[0m\u001b[97m█\u001b[0m\u001b[97m█\u001b[0m\u001b[97m█\u001b[0m\u001b[97m█\u001b[0m\u001b[97m█\u001b[0m\u001b[97m█\u001b[0m\u001b[97m█\u001b[0m\u001b[97m█\u001b[0m\u001b[97m█\u001b[0m\u001b[97m█\u001b[0m\u001b[97m█\u001b[0m\u001b[97m█\u001b[0m\u001b[97m█\u001b[0m\u001b[97m█\u001b[0m\u001b[97m█\u001b[0m\u001b[97m█\u001b[0m\u001b[97m█\u001b[0m\u001b[97m█\u001b[0m\u001b[97m█\u001b[0m\u001b[97m█\u001b[0m\u001b[97m█\u001b[0m\u001b[97m█\u001b[0m\u001b[97m█\u001b[0m\u001b[97m█\u001b[0m\u001b[97m█\u001b[0m\u001b[97m█\u001b[0m\u001b[97m█\u001b[0m\u001b[97m█\u001b[0m\u001b[97m█\u001b[0m\u001b[97m█\u001b[0m\u001b[97m█\u001b[0m\u001b[97m█\u001b[0m\u001b[97m█\u001b[0m\u001b[97m█\u001b[0m\u001b[97m█\u001b[0m           |\u001b[K\u001b[F\u001b[K\u001b[F \u001b[1mIters\u001b[0m    \u001b[1mElapsed Time\u001b[0m      \u001b[1mSpeed\u001b[0m    \u001b[1mepoch\u001b[0m   \u001b[1mloss\u001b[0m                               \n",
      " \u001b[99m67/\u001b[93m80\u001b[0m\u001b[0m  \u001b[99m00:24:45<\u001b[93m00:04:48\u001b[0m\u001b[0m  \u001b[99m0.05it/s\u001b[0m  \u001b[99m67/80\u001b[0m  \u001b[99m0.0174\u001b[0m                              \n",
      "\u001b[1mDescription\u001b[0m  83.8% |\u001b[97m█\u001b[0m\u001b[97m█\u001b[0m\u001b[97m█\u001b[0m\u001b[97m█\u001b[0m\u001b[97m█\u001b[0m\u001b[97m█\u001b[0m\u001b[97m█\u001b[0m\u001b[97m█\u001b[0m\u001b[97m█\u001b[0m\u001b[97m█\u001b[0m\u001b[97m█\u001b[0m\u001b[97m█\u001b[0m\u001b[97m█\u001b[0m\u001b[97m█\u001b[0m\u001b[97m█\u001b[0m\u001b[97m█\u001b[0m\u001b[97m█\u001b[0m\u001b[97m█\u001b[0m\u001b[97m█\u001b[0m\u001b[97m█\u001b[0m\u001b[97m█\u001b[0m\u001b[97m█\u001b[0m\u001b[97m█\u001b[0m\u001b[97m█\u001b[0m\u001b[97m█\u001b[0m\u001b[97m█\u001b[0m\u001b[97m█\u001b[0m\u001b[97m█\u001b[0m\u001b[97m█\u001b[0m\u001b[97m█\u001b[0m\u001b[97m█\u001b[0m\u001b[97m█\u001b[0m\u001b[97m█\u001b[0m\u001b[97m█\u001b[0m\u001b[97m█\u001b[0m\u001b[97m█\u001b[0m\u001b[97m█\u001b[0m\u001b[97m█\u001b[0m\u001b[97m█\u001b[0m\u001b[97m█\u001b[0m\u001b[97m█\u001b[0m\u001b[97m█\u001b[0m\u001b[97m█\u001b[0m\u001b[97m█\u001b[0m\u001b[97m█\u001b[0m\u001b[97m█\u001b[0m\u001b[97m█\u001b[0m\u001b[97m█\u001b[0m\u001b[97m█\u001b[0m          |"
     ]
    },
    {
     "name": "stdout",
     "output_type": "stream",
     "text": [
      "epoch:68/80,loss: 0.0174\n"
     ]
    },
    {
     "name": "stderr",
     "output_type": "stream",
     "text": [
      "\u001b[K\u001b[F\u001b[K\u001b[F \u001b[1mIters\u001b[0m    \u001b[1mElapsed Time\u001b[0m      \u001b[1mSpeed\u001b[0m    \u001b[1mepoch\u001b[0m   \u001b[1mloss\u001b[0m                               \n",
      " \u001b[99m68/\u001b[93m80\u001b[0m\u001b[0m  \u001b[99m00:25:08<\u001b[93m00:04:26\u001b[0m\u001b[0m  \u001b[99m0.05it/s\u001b[0m  \u001b[99m68/80\u001b[0m  \u001b[99m0.0174\u001b[0m                              \n",
      "\u001b[1mDescription\u001b[0m  85.0% |\u001b[97m█\u001b[0m\u001b[97m█\u001b[0m\u001b[97m█\u001b[0m\u001b[97m█\u001b[0m\u001b[97m█\u001b[0m\u001b[97m█\u001b[0m\u001b[97m█\u001b[0m\u001b[97m█\u001b[0m\u001b[97m█\u001b[0m\u001b[97m█\u001b[0m\u001b[97m█\u001b[0m\u001b[97m█\u001b[0m\u001b[97m█\u001b[0m\u001b[97m█\u001b[0m\u001b[97m█\u001b[0m\u001b[97m█\u001b[0m\u001b[97m█\u001b[0m\u001b[97m█\u001b[0m\u001b[97m█\u001b[0m\u001b[97m█\u001b[0m\u001b[97m█\u001b[0m\u001b[97m█\u001b[0m\u001b[97m█\u001b[0m\u001b[97m█\u001b[0m\u001b[97m█\u001b[0m\u001b[97m█\u001b[0m\u001b[97m█\u001b[0m\u001b[97m█\u001b[0m\u001b[97m█\u001b[0m\u001b[97m█\u001b[0m\u001b[97m█\u001b[0m\u001b[97m█\u001b[0m\u001b[97m█\u001b[0m\u001b[97m█\u001b[0m\u001b[97m█\u001b[0m\u001b[97m█\u001b[0m\u001b[97m█\u001b[0m\u001b[97m█\u001b[0m\u001b[97m█\u001b[0m\u001b[97m█\u001b[0m\u001b[97m█\u001b[0m\u001b[97m█\u001b[0m\u001b[97m█\u001b[0m\u001b[97m█\u001b[0m\u001b[97m█\u001b[0m\u001b[97m█\u001b[0m\u001b[97m█\u001b[0m\u001b[97m█\u001b[0m\u001b[97m█\u001b[0m\u001b[97m█\u001b[0m         |"
     ]
    },
    {
     "name": "stdout",
     "output_type": "stream",
     "text": [
      "epoch:69/80,loss: 0.0174\n"
     ]
    },
    {
     "name": "stderr",
     "output_type": "stream",
     "text": [
      "\u001b[K\u001b[F\u001b[K\u001b[F \u001b[1mIters\u001b[0m    \u001b[1mElapsed Time\u001b[0m      \u001b[1mSpeed\u001b[0m    \u001b[1mepoch\u001b[0m   \u001b[1mloss\u001b[0m                               \n",
      " \u001b[99m69/\u001b[93m80\u001b[0m\u001b[0m  \u001b[99m00:25:30<\u001b[93m00:04:04\u001b[0m\u001b[0m  \u001b[99m0.05it/s\u001b[0m  \u001b[99m69/80\u001b[0m  \u001b[99m0.0174\u001b[0m                              \n",
      "\u001b[1mDescription\u001b[0m  86.2% |\u001b[97m█\u001b[0m\u001b[97m█\u001b[0m\u001b[97m█\u001b[0m\u001b[97m█\u001b[0m\u001b[97m█\u001b[0m\u001b[97m█\u001b[0m\u001b[97m█\u001b[0m\u001b[97m█\u001b[0m\u001b[97m█\u001b[0m\u001b[97m█\u001b[0m\u001b[97m█\u001b[0m\u001b[97m█\u001b[0m\u001b[97m█\u001b[0m\u001b[97m█\u001b[0m\u001b[97m█\u001b[0m\u001b[97m█\u001b[0m\u001b[97m█\u001b[0m\u001b[97m█\u001b[0m\u001b[97m█\u001b[0m\u001b[97m█\u001b[0m\u001b[97m█\u001b[0m\u001b[97m█\u001b[0m\u001b[97m█\u001b[0m\u001b[97m█\u001b[0m\u001b[97m█\u001b[0m\u001b[97m█\u001b[0m\u001b[97m█\u001b[0m\u001b[97m█\u001b[0m\u001b[97m█\u001b[0m\u001b[97m█\u001b[0m\u001b[97m█\u001b[0m\u001b[97m█\u001b[0m\u001b[97m█\u001b[0m\u001b[97m█\u001b[0m\u001b[97m█\u001b[0m\u001b[97m█\u001b[0m\u001b[97m█\u001b[0m\u001b[97m█\u001b[0m\u001b[97m█\u001b[0m\u001b[97m█\u001b[0m\u001b[97m█\u001b[0m\u001b[97m█\u001b[0m\u001b[97m█\u001b[0m\u001b[97m█\u001b[0m\u001b[97m█\u001b[0m\u001b[97m█\u001b[0m\u001b[97m█\u001b[0m\u001b[97m█\u001b[0m\u001b[97m█\u001b[0m\u001b[97m█\u001b[0m         |"
     ]
    },
    {
     "name": "stdout",
     "output_type": "stream",
     "text": [
      "epoch:70/80,loss: 0.0173\n"
     ]
    },
    {
     "name": "stderr",
     "output_type": "stream",
     "text": [
      "\u001b[K\u001b[F\u001b[K\u001b[F \u001b[1mIters\u001b[0m    \u001b[1mElapsed Time\u001b[0m      \u001b[1mSpeed\u001b[0m    \u001b[1mepoch\u001b[0m   \u001b[1mloss\u001b[0m                               \n",
      " \u001b[99m70/\u001b[93m80\u001b[0m\u001b[0m  \u001b[99m00:25:52<\u001b[93m00:03:41\u001b[0m\u001b[0m  \u001b[99m0.05it/s\u001b[0m  \u001b[99m70/80\u001b[0m  \u001b[99m0.0173\u001b[0m                              \n",
      "\u001b[1mDescription\u001b[0m  87.5% |\u001b[97m█\u001b[0m\u001b[97m█\u001b[0m\u001b[97m█\u001b[0m\u001b[97m█\u001b[0m\u001b[97m█\u001b[0m\u001b[97m█\u001b[0m\u001b[97m█\u001b[0m\u001b[97m█\u001b[0m\u001b[97m█\u001b[0m\u001b[97m█\u001b[0m\u001b[97m█\u001b[0m\u001b[97m█\u001b[0m\u001b[97m█\u001b[0m\u001b[97m█\u001b[0m\u001b[97m█\u001b[0m\u001b[97m█\u001b[0m\u001b[97m█\u001b[0m\u001b[97m█\u001b[0m\u001b[97m█\u001b[0m\u001b[97m█\u001b[0m\u001b[97m█\u001b[0m\u001b[97m█\u001b[0m\u001b[97m█\u001b[0m\u001b[97m█\u001b[0m\u001b[97m█\u001b[0m\u001b[97m█\u001b[0m\u001b[97m█\u001b[0m\u001b[97m█\u001b[0m\u001b[97m█\u001b[0m\u001b[97m█\u001b[0m\u001b[97m█\u001b[0m\u001b[97m█\u001b[0m\u001b[97m█\u001b[0m\u001b[97m█\u001b[0m\u001b[97m█\u001b[0m\u001b[97m█\u001b[0m\u001b[97m█\u001b[0m\u001b[97m█\u001b[0m\u001b[97m█\u001b[0m\u001b[97m█\u001b[0m\u001b[97m█\u001b[0m\u001b[97m█\u001b[0m\u001b[97m█\u001b[0m\u001b[97m█\u001b[0m\u001b[97m█\u001b[0m\u001b[97m█\u001b[0m\u001b[97m█\u001b[0m\u001b[97m█\u001b[0m\u001b[97m█\u001b[0m\u001b[97m█\u001b[0m\u001b[97m█\u001b[0m        |"
     ]
    },
    {
     "name": "stdout",
     "output_type": "stream",
     "text": [
      "epoch:71/80,loss: 0.0173\n"
     ]
    },
    {
     "name": "stderr",
     "output_type": "stream",
     "text": [
      "\u001b[K\u001b[F\u001b[K\u001b[F \u001b[1mIters\u001b[0m    \u001b[1mElapsed Time\u001b[0m      \u001b[1mSpeed\u001b[0m    \u001b[1mepoch\u001b[0m   \u001b[1mloss\u001b[0m                               \n",
      " \u001b[99m71/\u001b[93m80\u001b[0m\u001b[0m  \u001b[99m00:26:14<\u001b[93m00:03:19\u001b[0m\u001b[0m  \u001b[99m0.05it/s\u001b[0m  \u001b[99m71/80\u001b[0m  \u001b[99m0.0173\u001b[0m                              \n",
      "\u001b[1mDescription\u001b[0m  88.8% |\u001b[97m█\u001b[0m\u001b[97m█\u001b[0m\u001b[97m█\u001b[0m\u001b[97m█\u001b[0m\u001b[97m█\u001b[0m\u001b[97m█\u001b[0m\u001b[97m█\u001b[0m\u001b[97m█\u001b[0m\u001b[97m█\u001b[0m\u001b[97m█\u001b[0m\u001b[97m█\u001b[0m\u001b[97m█\u001b[0m\u001b[97m█\u001b[0m\u001b[97m█\u001b[0m\u001b[97m█\u001b[0m\u001b[97m█\u001b[0m\u001b[97m█\u001b[0m\u001b[97m█\u001b[0m\u001b[97m█\u001b[0m\u001b[97m█\u001b[0m\u001b[97m█\u001b[0m\u001b[97m█\u001b[0m\u001b[97m█\u001b[0m\u001b[97m█\u001b[0m\u001b[97m█\u001b[0m\u001b[97m█\u001b[0m\u001b[97m█\u001b[0m\u001b[97m█\u001b[0m\u001b[97m█\u001b[0m\u001b[97m█\u001b[0m\u001b[97m█\u001b[0m\u001b[97m█\u001b[0m\u001b[97m█\u001b[0m\u001b[97m█\u001b[0m\u001b[97m█\u001b[0m\u001b[97m█\u001b[0m\u001b[97m█\u001b[0m\u001b[97m█\u001b[0m\u001b[97m█\u001b[0m\u001b[97m█\u001b[0m\u001b[97m█\u001b[0m\u001b[97m█\u001b[0m\u001b[97m█\u001b[0m\u001b[97m█\u001b[0m\u001b[97m█\u001b[0m\u001b[97m█\u001b[0m\u001b[97m█\u001b[0m\u001b[97m█\u001b[0m\u001b[97m█\u001b[0m\u001b[97m█\u001b[0m\u001b[97m█\u001b[0m\u001b[97m█\u001b[0m       |"
     ]
    },
    {
     "name": "stdout",
     "output_type": "stream",
     "text": [
      "epoch:72/80,loss: 0.0173\n"
     ]
    },
    {
     "name": "stderr",
     "output_type": "stream",
     "text": [
      "\u001b[K\u001b[F\u001b[K\u001b[F \u001b[1mIters\u001b[0m    \u001b[1mElapsed Time\u001b[0m      \u001b[1mSpeed\u001b[0m    \u001b[1mepoch\u001b[0m   \u001b[1mloss\u001b[0m                               \n",
      " \u001b[99m72/\u001b[93m80\u001b[0m\u001b[0m  \u001b[99m00:26:36<\u001b[93m00:02:57\u001b[0m\u001b[0m  \u001b[99m0.05it/s\u001b[0m  \u001b[99m72/80\u001b[0m  \u001b[99m0.0173\u001b[0m                              \n",
      "\u001b[1mDescription\u001b[0m  90.0% |\u001b[97m█\u001b[0m\u001b[97m█\u001b[0m\u001b[97m█\u001b[0m\u001b[97m█\u001b[0m\u001b[97m█\u001b[0m\u001b[97m█\u001b[0m\u001b[97m█\u001b[0m\u001b[97m█\u001b[0m\u001b[97m█\u001b[0m\u001b[97m█\u001b[0m\u001b[97m█\u001b[0m\u001b[97m█\u001b[0m\u001b[97m█\u001b[0m\u001b[97m█\u001b[0m\u001b[97m█\u001b[0m\u001b[97m█\u001b[0m\u001b[97m█\u001b[0m\u001b[97m█\u001b[0m\u001b[97m█\u001b[0m\u001b[97m█\u001b[0m\u001b[97m█\u001b[0m\u001b[97m█\u001b[0m\u001b[97m█\u001b[0m\u001b[97m█\u001b[0m\u001b[97m█\u001b[0m\u001b[97m█\u001b[0m\u001b[97m█\u001b[0m\u001b[97m█\u001b[0m\u001b[97m█\u001b[0m\u001b[97m█\u001b[0m\u001b[97m█\u001b[0m\u001b[97m█\u001b[0m\u001b[97m█\u001b[0m\u001b[97m█\u001b[0m\u001b[97m█\u001b[0m\u001b[97m█\u001b[0m\u001b[97m█\u001b[0m\u001b[97m█\u001b[0m\u001b[97m█\u001b[0m\u001b[97m█\u001b[0m\u001b[97m█\u001b[0m\u001b[97m█\u001b[0m\u001b[97m█\u001b[0m\u001b[97m█\u001b[0m\u001b[97m█\u001b[0m\u001b[97m█\u001b[0m\u001b[97m█\u001b[0m\u001b[97m█\u001b[0m\u001b[97m█\u001b[0m\u001b[97m█\u001b[0m\u001b[97m█\u001b[0m\u001b[97m█\u001b[0m\u001b[97m█\u001b[0m      |"
     ]
    },
    {
     "name": "stdout",
     "output_type": "stream",
     "text": [
      "epoch:73/80,loss: 0.0173\n"
     ]
    },
    {
     "name": "stderr",
     "output_type": "stream",
     "text": [
      "\u001b[K\u001b[F\u001b[K\u001b[F \u001b[1mIters\u001b[0m    \u001b[1mElapsed Time\u001b[0m      \u001b[1mSpeed\u001b[0m    \u001b[1mepoch\u001b[0m   \u001b[1mloss\u001b[0m                               \n",
      " \u001b[99m73/\u001b[93m80\u001b[0m\u001b[0m  \u001b[99m00:26:58<\u001b[93m00:02:35\u001b[0m\u001b[0m  \u001b[99m0.05it/s\u001b[0m  \u001b[99m73/80\u001b[0m  \u001b[99m0.0173\u001b[0m                              \n",
      "\u001b[1mDescription\u001b[0m  91.2% |\u001b[97m█\u001b[0m\u001b[97m█\u001b[0m\u001b[97m█\u001b[0m\u001b[97m█\u001b[0m\u001b[97m█\u001b[0m\u001b[97m█\u001b[0m\u001b[97m█\u001b[0m\u001b[97m█\u001b[0m\u001b[97m█\u001b[0m\u001b[97m█\u001b[0m\u001b[97m█\u001b[0m\u001b[97m█\u001b[0m\u001b[97m█\u001b[0m\u001b[97m█\u001b[0m\u001b[97m█\u001b[0m\u001b[97m█\u001b[0m\u001b[97m█\u001b[0m\u001b[97m█\u001b[0m\u001b[97m█\u001b[0m\u001b[97m█\u001b[0m\u001b[97m█\u001b[0m\u001b[97m█\u001b[0m\u001b[97m█\u001b[0m\u001b[97m█\u001b[0m\u001b[97m█\u001b[0m\u001b[97m█\u001b[0m\u001b[97m█\u001b[0m\u001b[97m█\u001b[0m\u001b[97m█\u001b[0m\u001b[97m█\u001b[0m\u001b[97m█\u001b[0m\u001b[97m█\u001b[0m\u001b[97m█\u001b[0m\u001b[97m█\u001b[0m\u001b[97m█\u001b[0m\u001b[97m█\u001b[0m\u001b[97m█\u001b[0m\u001b[97m█\u001b[0m\u001b[97m█\u001b[0m\u001b[97m█\u001b[0m\u001b[97m█\u001b[0m\u001b[97m█\u001b[0m\u001b[97m█\u001b[0m\u001b[97m█\u001b[0m\u001b[97m█\u001b[0m\u001b[97m█\u001b[0m\u001b[97m█\u001b[0m\u001b[97m█\u001b[0m\u001b[97m█\u001b[0m\u001b[97m█\u001b[0m\u001b[97m█\u001b[0m\u001b[97m█\u001b[0m\u001b[97m█\u001b[0m      |"
     ]
    },
    {
     "name": "stdout",
     "output_type": "stream",
     "text": [
      "epoch:74/80,loss: 0.0173\n"
     ]
    },
    {
     "name": "stderr",
     "output_type": "stream",
     "text": [
      "\u001b[K\u001b[F\u001b[K\u001b[F \u001b[1mIters\u001b[0m    \u001b[1mElapsed Time\u001b[0m      \u001b[1mSpeed\u001b[0m    \u001b[1mepoch\u001b[0m   \u001b[1mloss\u001b[0m                               \n",
      " \u001b[99m74/\u001b[93m80\u001b[0m\u001b[0m  \u001b[99m00:27:20<\u001b[93m00:02:12\u001b[0m\u001b[0m  \u001b[99m0.05it/s\u001b[0m  \u001b[99m74/80\u001b[0m  \u001b[99m0.0173\u001b[0m                              \n",
      "\u001b[1mDescription\u001b[0m  92.5% |\u001b[97m█\u001b[0m\u001b[97m█\u001b[0m\u001b[97m█\u001b[0m\u001b[97m█\u001b[0m\u001b[97m█\u001b[0m\u001b[97m█\u001b[0m\u001b[97m█\u001b[0m\u001b[97m█\u001b[0m\u001b[97m█\u001b[0m\u001b[97m█\u001b[0m\u001b[97m█\u001b[0m\u001b[97m█\u001b[0m\u001b[97m█\u001b[0m\u001b[97m█\u001b[0m\u001b[97m█\u001b[0m\u001b[97m█\u001b[0m\u001b[97m█\u001b[0m\u001b[97m█\u001b[0m\u001b[97m█\u001b[0m\u001b[97m█\u001b[0m\u001b[97m█\u001b[0m\u001b[97m█\u001b[0m\u001b[97m█\u001b[0m\u001b[97m█\u001b[0m\u001b[97m█\u001b[0m\u001b[97m█\u001b[0m\u001b[97m█\u001b[0m\u001b[97m█\u001b[0m\u001b[97m█\u001b[0m\u001b[97m█\u001b[0m\u001b[97m█\u001b[0m\u001b[97m█\u001b[0m\u001b[97m█\u001b[0m\u001b[97m█\u001b[0m\u001b[97m█\u001b[0m\u001b[97m█\u001b[0m\u001b[97m█\u001b[0m\u001b[97m█\u001b[0m\u001b[97m█\u001b[0m\u001b[97m█\u001b[0m\u001b[97m█\u001b[0m\u001b[97m█\u001b[0m\u001b[97m█\u001b[0m\u001b[97m█\u001b[0m\u001b[97m█\u001b[0m\u001b[97m█\u001b[0m\u001b[97m█\u001b[0m\u001b[97m█\u001b[0m\u001b[97m█\u001b[0m\u001b[97m█\u001b[0m\u001b[97m█\u001b[0m\u001b[97m█\u001b[0m\u001b[97m█\u001b[0m\u001b[97m█\u001b[0m     |\u001b[K\u001b[F\u001b[K\u001b[F \u001b[1mIters\u001b[0m    \u001b[1mElapsed Time\u001b[0m      \u001b[1mSpeed\u001b[0m    \u001b[1mepoch\u001b[0m   \u001b[1mloss\u001b[0m                               \n",
      " \u001b[99m75/\u001b[93m80\u001b[0m\u001b[0m  \u001b[99m00:27:41<\u001b[93m00:01:50\u001b[0m\u001b[0m  \u001b[99m0.05it/s\u001b[0m  \u001b[99m75/80\u001b[0m  \u001b[99m0.0173\u001b[0m                              \n",
      "\u001b[1mDescription\u001b[0m  93.8% |\u001b[97m█\u001b[0m\u001b[97m█\u001b[0m\u001b[97m█\u001b[0m\u001b[97m█\u001b[0m\u001b[97m█\u001b[0m\u001b[97m█\u001b[0m\u001b[97m█\u001b[0m\u001b[97m█\u001b[0m\u001b[97m█\u001b[0m\u001b[97m█\u001b[0m\u001b[97m█\u001b[0m\u001b[97m█\u001b[0m\u001b[97m█\u001b[0m\u001b[97m█\u001b[0m\u001b[97m█\u001b[0m\u001b[97m█\u001b[0m\u001b[97m█\u001b[0m\u001b[97m█\u001b[0m\u001b[97m█\u001b[0m\u001b[97m█\u001b[0m\u001b[97m█\u001b[0m\u001b[97m█\u001b[0m\u001b[97m█\u001b[0m\u001b[97m█\u001b[0m\u001b[97m█\u001b[0m\u001b[97m█\u001b[0m\u001b[97m█\u001b[0m\u001b[97m█\u001b[0m\u001b[97m█\u001b[0m\u001b[97m█\u001b[0m\u001b[97m█\u001b[0m\u001b[97m█\u001b[0m\u001b[97m█\u001b[0m\u001b[97m█\u001b[0m\u001b[97m█\u001b[0m\u001b[97m█\u001b[0m\u001b[97m█\u001b[0m\u001b[97m█\u001b[0m\u001b[97m█\u001b[0m\u001b[97m█\u001b[0m\u001b[97m█\u001b[0m\u001b[97m█\u001b[0m\u001b[97m█\u001b[0m\u001b[97m█\u001b[0m\u001b[97m█\u001b[0m\u001b[97m█\u001b[0m\u001b[97m█\u001b[0m\u001b[97m█\u001b[0m\u001b[97m█\u001b[0m\u001b[97m█\u001b[0m\u001b[97m█\u001b[0m\u001b[97m█\u001b[0m\u001b[97m█\u001b[0m\u001b[97m█\u001b[0m\u001b[97m█\u001b[0m    |"
     ]
    },
    {
     "name": "stdout",
     "output_type": "stream",
     "text": [
      "epoch:76/80,loss: 0.0172\n"
     ]
    },
    {
     "name": "stderr",
     "output_type": "stream",
     "text": [
      "\u001b[K\u001b[F\u001b[K\u001b[F \u001b[1mIters\u001b[0m    \u001b[1mElapsed Time\u001b[0m      \u001b[1mSpeed\u001b[0m    \u001b[1mepoch\u001b[0m   \u001b[1mloss\u001b[0m                               \n",
      " \u001b[99m76/\u001b[93m80\u001b[0m\u001b[0m  \u001b[99m00:28:03<\u001b[93m00:01:28\u001b[0m\u001b[0m  \u001b[99m0.05it/s\u001b[0m  \u001b[99m76/80\u001b[0m  \u001b[99m0.0172\u001b[0m                              \n",
      "\u001b[1mDescription\u001b[0m  95.0% |\u001b[97m█\u001b[0m\u001b[97m█\u001b[0m\u001b[97m█\u001b[0m\u001b[97m█\u001b[0m\u001b[97m█\u001b[0m\u001b[97m█\u001b[0m\u001b[97m█\u001b[0m\u001b[97m█\u001b[0m\u001b[97m█\u001b[0m\u001b[97m█\u001b[0m\u001b[97m█\u001b[0m\u001b[97m█\u001b[0m\u001b[97m█\u001b[0m\u001b[97m█\u001b[0m\u001b[97m█\u001b[0m\u001b[97m█\u001b[0m\u001b[97m█\u001b[0m\u001b[97m█\u001b[0m\u001b[97m█\u001b[0m\u001b[97m█\u001b[0m\u001b[97m█\u001b[0m\u001b[97m█\u001b[0m\u001b[97m█\u001b[0m\u001b[97m█\u001b[0m\u001b[97m█\u001b[0m\u001b[97m█\u001b[0m\u001b[97m█\u001b[0m\u001b[97m█\u001b[0m\u001b[97m█\u001b[0m\u001b[97m█\u001b[0m\u001b[97m█\u001b[0m\u001b[97m█\u001b[0m\u001b[97m█\u001b[0m\u001b[97m█\u001b[0m\u001b[97m█\u001b[0m\u001b[97m█\u001b[0m\u001b[97m█\u001b[0m\u001b[97m█\u001b[0m\u001b[97m█\u001b[0m\u001b[97m█\u001b[0m\u001b[97m█\u001b[0m\u001b[97m█\u001b[0m\u001b[97m█\u001b[0m\u001b[97m█\u001b[0m\u001b[97m█\u001b[0m\u001b[97m█\u001b[0m\u001b[97m█\u001b[0m\u001b[97m█\u001b[0m\u001b[97m█\u001b[0m\u001b[97m█\u001b[0m\u001b[97m█\u001b[0m\u001b[97m█\u001b[0m\u001b[97m█\u001b[0m\u001b[97m█\u001b[0m\u001b[97m█\u001b[0m\u001b[97m█\u001b[0m   |"
     ]
    },
    {
     "name": "stdout",
     "output_type": "stream",
     "text": [
      "epoch:77/80,loss: 0.0172\n"
     ]
    },
    {
     "name": "stderr",
     "output_type": "stream",
     "text": [
      "\u001b[K\u001b[F\u001b[K\u001b[F \u001b[1mIters\u001b[0m    \u001b[1mElapsed Time\u001b[0m      \u001b[1mSpeed\u001b[0m    \u001b[1mepoch\u001b[0m   \u001b[1mloss\u001b[0m                               \n",
      " \u001b[99m77/\u001b[93m80\u001b[0m\u001b[0m  \u001b[99m00:28:25<\u001b[93m00:01:06\u001b[0m\u001b[0m  \u001b[99m0.05it/s\u001b[0m  \u001b[99m77/80\u001b[0m  \u001b[99m0.0172\u001b[0m                              \n",
      "\u001b[1mDescription\u001b[0m  96.2% |\u001b[97m█\u001b[0m\u001b[97m█\u001b[0m\u001b[97m█\u001b[0m\u001b[97m█\u001b[0m\u001b[97m█\u001b[0m\u001b[97m█\u001b[0m\u001b[97m█\u001b[0m\u001b[97m█\u001b[0m\u001b[97m█\u001b[0m\u001b[97m█\u001b[0m\u001b[97m█\u001b[0m\u001b[97m█\u001b[0m\u001b[97m█\u001b[0m\u001b[97m█\u001b[0m\u001b[97m█\u001b[0m\u001b[97m█\u001b[0m\u001b[97m█\u001b[0m\u001b[97m█\u001b[0m\u001b[97m█\u001b[0m\u001b[97m█\u001b[0m\u001b[97m█\u001b[0m\u001b[97m█\u001b[0m\u001b[97m█\u001b[0m\u001b[97m█\u001b[0m\u001b[97m█\u001b[0m\u001b[97m█\u001b[0m\u001b[97m█\u001b[0m\u001b[97m█\u001b[0m\u001b[97m█\u001b[0m\u001b[97m█\u001b[0m\u001b[97m█\u001b[0m\u001b[97m█\u001b[0m\u001b[97m█\u001b[0m\u001b[97m█\u001b[0m\u001b[97m█\u001b[0m\u001b[97m█\u001b[0m\u001b[97m█\u001b[0m\u001b[97m█\u001b[0m\u001b[97m█\u001b[0m\u001b[97m█\u001b[0m\u001b[97m█\u001b[0m\u001b[97m█\u001b[0m\u001b[97m█\u001b[0m\u001b[97m█\u001b[0m\u001b[97m█\u001b[0m\u001b[97m█\u001b[0m\u001b[97m█\u001b[0m\u001b[97m█\u001b[0m\u001b[97m█\u001b[0m\u001b[97m█\u001b[0m\u001b[97m█\u001b[0m\u001b[97m█\u001b[0m\u001b[97m█\u001b[0m\u001b[97m█\u001b[0m\u001b[97m█\u001b[0m\u001b[97m█\u001b[0m   |"
     ]
    },
    {
     "name": "stdout",
     "output_type": "stream",
     "text": [
      "epoch:78/80,loss: 0.0172\n"
     ]
    },
    {
     "name": "stderr",
     "output_type": "stream",
     "text": [
      "\u001b[K\u001b[F\u001b[K\u001b[F \u001b[1mIters\u001b[0m    \u001b[1mElapsed Time\u001b[0m      \u001b[1mSpeed\u001b[0m    \u001b[1mepoch\u001b[0m   \u001b[1mloss\u001b[0m                               \n",
      " \u001b[99m78/\u001b[93m80\u001b[0m\u001b[0m  \u001b[99m00:28:47<\u001b[93m00:00:44\u001b[0m\u001b[0m  \u001b[99m0.05it/s\u001b[0m  \u001b[99m78/80\u001b[0m  \u001b[99m0.0172\u001b[0m                              \n",
      "\u001b[1mDescription\u001b[0m  97.5% |\u001b[97m█\u001b[0m\u001b[97m█\u001b[0m\u001b[97m█\u001b[0m\u001b[97m█\u001b[0m\u001b[97m█\u001b[0m\u001b[97m█\u001b[0m\u001b[97m█\u001b[0m\u001b[97m█\u001b[0m\u001b[97m█\u001b[0m\u001b[97m█\u001b[0m\u001b[97m█\u001b[0m\u001b[97m█\u001b[0m\u001b[97m█\u001b[0m\u001b[97m█\u001b[0m\u001b[97m█\u001b[0m\u001b[97m█\u001b[0m\u001b[97m█\u001b[0m\u001b[97m█\u001b[0m\u001b[97m█\u001b[0m\u001b[97m█\u001b[0m\u001b[97m█\u001b[0m\u001b[97m█\u001b[0m\u001b[97m█\u001b[0m\u001b[97m█\u001b[0m\u001b[97m█\u001b[0m\u001b[97m█\u001b[0m\u001b[97m█\u001b[0m\u001b[97m█\u001b[0m\u001b[97m█\u001b[0m\u001b[97m█\u001b[0m\u001b[97m█\u001b[0m\u001b[97m█\u001b[0m\u001b[97m█\u001b[0m\u001b[97m█\u001b[0m\u001b[97m█\u001b[0m\u001b[97m█\u001b[0m\u001b[97m█\u001b[0m\u001b[97m█\u001b[0m\u001b[97m█\u001b[0m\u001b[97m█\u001b[0m\u001b[97m█\u001b[0m\u001b[97m█\u001b[0m\u001b[97m█\u001b[0m\u001b[97m█\u001b[0m\u001b[97m█\u001b[0m\u001b[97m█\u001b[0m\u001b[97m█\u001b[0m\u001b[97m█\u001b[0m\u001b[97m█\u001b[0m\u001b[97m█\u001b[0m\u001b[97m█\u001b[0m\u001b[97m█\u001b[0m\u001b[97m█\u001b[0m\u001b[97m█\u001b[0m\u001b[97m█\u001b[0m\u001b[97m█\u001b[0m\u001b[97m█\u001b[0m  |\u001b[K\u001b[F\u001b[K\u001b[F \u001b[1mIters\u001b[0m    \u001b[1mElapsed Time\u001b[0m      \u001b[1mSpeed\u001b[0m    \u001b[1mepoch\u001b[0m   \u001b[1mloss\u001b[0m                               \n",
      " \u001b[99m79/\u001b[93m80\u001b[0m\u001b[0m  \u001b[99m00:29:08<\u001b[93m00:00:22\u001b[0m\u001b[0m  \u001b[99m0.05it/s\u001b[0m  \u001b[99m79/80\u001b[0m  \u001b[99m0.0172\u001b[0m                              \n",
      "\u001b[1mDescription\u001b[0m  98.8% |\u001b[97m█\u001b[0m\u001b[97m█\u001b[0m\u001b[97m█\u001b[0m\u001b[97m█\u001b[0m\u001b[97m█\u001b[0m\u001b[97m█\u001b[0m\u001b[97m█\u001b[0m\u001b[97m█\u001b[0m\u001b[97m█\u001b[0m\u001b[97m█\u001b[0m\u001b[97m█\u001b[0m\u001b[97m█\u001b[0m\u001b[97m█\u001b[0m\u001b[97m█\u001b[0m\u001b[97m█\u001b[0m\u001b[97m█\u001b[0m\u001b[97m█\u001b[0m\u001b[97m█\u001b[0m\u001b[97m█\u001b[0m\u001b[97m█\u001b[0m\u001b[97m█\u001b[0m\u001b[97m█\u001b[0m\u001b[97m█\u001b[0m\u001b[97m█\u001b[0m\u001b[97m█\u001b[0m\u001b[97m█\u001b[0m\u001b[97m█\u001b[0m\u001b[97m█\u001b[0m\u001b[97m█\u001b[0m\u001b[97m█\u001b[0m\u001b[97m█\u001b[0m\u001b[97m█\u001b[0m\u001b[97m█\u001b[0m\u001b[97m█\u001b[0m\u001b[97m█\u001b[0m\u001b[97m█\u001b[0m\u001b[97m█\u001b[0m\u001b[97m█\u001b[0m\u001b[97m█\u001b[0m\u001b[97m█\u001b[0m\u001b[97m█\u001b[0m\u001b[97m█\u001b[0m\u001b[97m█\u001b[0m\u001b[97m█\u001b[0m\u001b[97m█\u001b[0m\u001b[97m█\u001b[0m\u001b[97m█\u001b[0m\u001b[97m█\u001b[0m\u001b[97m█\u001b[0m\u001b[97m█\u001b[0m\u001b[97m█\u001b[0m\u001b[97m█\u001b[0m\u001b[97m█\u001b[0m\u001b[97m█\u001b[0m\u001b[97m█\u001b[0m\u001b[97m█\u001b[0m\u001b[97m█\u001b[0m\u001b[97m█\u001b[0m |"
     ]
    },
    {
     "name": "stdout",
     "output_type": "stream",
     "text": [
      "epoch:80/80,loss: 0.0171\n"
     ]
    },
    {
     "name": "stderr",
     "output_type": "stream",
     "text": [
      "\u001b[K\u001b[F\u001b[K\u001b[F \u001b[1mIters\u001b[0m    \u001b[1mElapsed Time\u001b[0m      \u001b[1mSpeed\u001b[0m    \u001b[1mepoch\u001b[0m   \u001b[1mloss\u001b[0m                               \n",
      " \u001b[99m80/\u001b[93m80\u001b[0m\u001b[0m  \u001b[99m00:29:30<\u001b[93m00:00:00\u001b[0m\u001b[0m  \u001b[99m0.05it/s\u001b[0m  \u001b[99m80/80\u001b[0m  \u001b[99m0.0171\u001b[0m                              \n",
      "\u001b[1mDescription\u001b[0m 100.0% |\u001b[97m█\u001b[0m\u001b[97m█\u001b[0m\u001b[97m█\u001b[0m\u001b[97m█\u001b[0m\u001b[97m█\u001b[0m\u001b[97m█\u001b[0m\u001b[97m█\u001b[0m\u001b[97m█\u001b[0m\u001b[97m█\u001b[0m\u001b[97m█\u001b[0m\u001b[97m█\u001b[0m\u001b[97m█\u001b[0m\u001b[97m█\u001b[0m\u001b[97m█\u001b[0m\u001b[97m█\u001b[0m\u001b[97m█\u001b[0m\u001b[97m█\u001b[0m\u001b[97m█\u001b[0m\u001b[97m█\u001b[0m\u001b[97m█\u001b[0m\u001b[97m█\u001b[0m\u001b[97m█\u001b[0m\u001b[97m█\u001b[0m\u001b[97m█\u001b[0m\u001b[97m█\u001b[0m\u001b[97m█\u001b[0m\u001b[97m█\u001b[0m\u001b[97m█\u001b[0m\u001b[97m█\u001b[0m\u001b[97m█\u001b[0m\u001b[97m█\u001b[0m\u001b[97m█\u001b[0m\u001b[97m█\u001b[0m\u001b[97m█\u001b[0m\u001b[97m█\u001b[0m\u001b[97m█\u001b[0m\u001b[97m█\u001b[0m\u001b[97m█\u001b[0m\u001b[97m█\u001b[0m\u001b[97m█\u001b[0m\u001b[97m█\u001b[0m\u001b[97m█\u001b[0m\u001b[97m█\u001b[0m\u001b[97m█\u001b[0m\u001b[97m█\u001b[0m\u001b[97m█\u001b[0m\u001b[97m█\u001b[0m\u001b[97m█\u001b[0m\u001b[97m█\u001b[0m\u001b[97m█\u001b[0m\u001b[97m█\u001b[0m\u001b[97m█\u001b[0m\u001b[97m█\u001b[0m\u001b[97m█\u001b[0m\u001b[97m█\u001b[0m\u001b[97m█\u001b[0m\u001b[97m█\u001b[0m\u001b[97m█\u001b[0m\u001b[97m█\u001b[0m|\u001b[K\u001b[F\u001b[K\u001b[F \u001b[1mIters\u001b[0m    \u001b[1mElapsed Time\u001b[0m      \u001b[1mSpeed\u001b[0m    \u001b[1mepoch\u001b[0m   \u001b[1mloss\u001b[0m                               \n",
      " \u001b[99m80/\u001b[93m80\u001b[0m\u001b[0m  \u001b[99m00:29:30<\u001b[93m00:00:00\u001b[0m\u001b[0m  \u001b[99m0.05it/s\u001b[0m  \u001b[99m80/80\u001b[0m  \u001b[99m0.0171\u001b[0m                              \n",
      "\u001b[1mDescription\u001b[0m 100.0% |\u001b[97m█\u001b[0m\u001b[97m█\u001b[0m\u001b[97m█\u001b[0m\u001b[97m█\u001b[0m\u001b[97m█\u001b[0m\u001b[97m█\u001b[0m\u001b[97m█\u001b[0m\u001b[97m█\u001b[0m\u001b[97m█\u001b[0m\u001b[97m█\u001b[0m\u001b[97m█\u001b[0m\u001b[97m█\u001b[0m\u001b[97m█\u001b[0m\u001b[97m█\u001b[0m\u001b[97m█\u001b[0m\u001b[97m█\u001b[0m\u001b[97m█\u001b[0m\u001b[97m█\u001b[0m\u001b[97m█\u001b[0m\u001b[97m█\u001b[0m\u001b[97m█\u001b[0m\u001b[97m█\u001b[0m\u001b[97m█\u001b[0m\u001b[97m█\u001b[0m\u001b[97m█\u001b[0m\u001b[97m█\u001b[0m\u001b[97m█\u001b[0m\u001b[97m█\u001b[0m\u001b[97m█\u001b[0m\u001b[97m█\u001b[0m\u001b[97m█\u001b[0m\u001b[97m█\u001b[0m\u001b[97m█\u001b[0m\u001b[97m█\u001b[0m\u001b[97m█\u001b[0m\u001b[97m█\u001b[0m\u001b[97m█\u001b[0m\u001b[97m█\u001b[0m\u001b[97m█\u001b[0m\u001b[97m█\u001b[0m\u001b[97m█\u001b[0m\u001b[97m█\u001b[0m\u001b[97m█\u001b[0m\u001b[97m█\u001b[0m\u001b[97m█\u001b[0m\u001b[97m█\u001b[0m\u001b[97m█\u001b[0m\u001b[97m█\u001b[0m\u001b[97m█\u001b[0m\u001b[97m█\u001b[0m\u001b[97m█\u001b[0m\u001b[97m█\u001b[0m\u001b[97m█\u001b[0m\u001b[97m█\u001b[0m\u001b[97m█\u001b[0m\u001b[97m█\u001b[0m\u001b[97m█\u001b[0m\u001b[97m█\u001b[0m\u001b[97m█\u001b[0m|"
     ]
    }
   ],
   "source": [
    "\n",
    "best_loss = np.inf\n",
    "model.train()\n",
    "\n",
    "qqdm_train = qqdm(range(num_epochs), desc=format_str('bold', 'Description'))\n",
    "for epoch in qqdm_train:\n",
    "    tot_loss = list()\n",
    "    for data in train_dataloader:\n",
    "\n",
    "        # ===================loading=====================\n",
    "        img = data.float().cuda()\n",
    "        if model_type in ['fcn']:\n",
    "            img = img.view(img.shape[0], -1)\n",
    "\n",
    "        # ===================forward=====================\n",
    "        output = model(img)\n",
    "        if model_type in ['vae']:\n",
    "            loss = loss_vae(output[0], img, output[1], output[2], criterion)\n",
    "        else:\n",
    "            loss = criterion(output, img)\n",
    "\n",
    "        tot_loss.append(loss.item())\n",
    "        # ===================backward====================\n",
    "        optimizer.zero_grad()\n",
    "        loss.backward()\n",
    "        optimizer.step()\n",
    "        scheduler.step(loss)\n",
    "    # ===================save_best====================\n",
    "    mean_loss = np.mean(tot_loss)\n",
    "    if mean_loss < best_loss:\n",
    "        best_loss = mean_loss\n",
    "        torch.save(model, 'best_model_{}.pt'.format(model_type))\n",
    "        print('epoch:' +f'{epoch + 1:.0f}/{num_epochs:.0f}' + ',loss: ' + f'{mean_loss:.4f}')\n",
    "    # ===================log========================\n",
    "    qqdm_train.set_infos({\n",
    "        'epoch': f'{epoch + 1:.0f}/{num_epochs:.0f}',\n",
    "        'loss': f'{mean_loss:.4f}',\n",
    "    })\n",
    "    # ===================save_last========================\n",
    "    torch.save(model, 'last_model_{}.pt'.format(model_type))"
   ]
  },
  {
   "attachments": {},
   "cell_type": "markdown",
   "id": "f5f7a631",
   "metadata": {
    "id": "Wk0UxFuchLzR",
    "papermill": {
     "duration": 0.01935,
     "end_time": "2023-05-03T03:24:23.867440",
     "exception": false,
     "start_time": "2023-05-03T03:24:23.848090",
     "status": "completed"
    },
    "tags": []
   },
   "source": [
    "# Inference\n",
    "Model is loaded and generates its anomaly score predictions."
   ]
  },
  {
   "attachments": {},
   "cell_type": "markdown",
   "id": "933cd7f9",
   "metadata": {
    "id": "evgMW3OwoGqD",
    "papermill": {
     "duration": 0.019534,
     "end_time": "2023-05-03T03:24:23.906729",
     "exception": false,
     "start_time": "2023-05-03T03:24:23.887195",
     "status": "completed"
    },
    "tags": []
   },
   "source": [
    "## Initialize\n",
    "- dataloader\n",
    "- model\n",
    "- prediction file"
   ]
  },
  {
   "cell_type": "code",
   "execution_count": 12,
   "id": "582c2599",
   "metadata": {
    "execution": {
     "iopub.execute_input": "2023-05-03T03:24:23.946967Z",
     "iopub.status.busy": "2023-05-03T03:24:23.946605Z",
     "iopub.status.idle": "2023-05-03T03:24:24.659407Z",
     "shell.execute_reply": "2023-05-03T03:24:24.658295Z"
    },
    "id": "_MBnXAswoKmq",
    "papermill": {
     "duration": 0.73653,
     "end_time": "2023-05-03T03:24:24.662353",
     "exception": false,
     "start_time": "2023-05-03T03:24:23.925823",
     "status": "completed"
    },
    "tags": []
   },
   "outputs": [],
   "source": [
    "eval_batch_size = 200\n",
    "\n",
    "# build testing dataloader\n",
    "data = torch.tensor(test, dtype=torch.float32)\n",
    "test_dataset = CustomTensorDataset(data)\n",
    "test_sampler = SequentialSampler(test_dataset)\n",
    "test_dataloader = DataLoader(test_dataset, sampler=test_sampler, batch_size=eval_batch_size, num_workers=2)\n",
    "eval_loss = nn.MSELoss(reduction='none')\n",
    "\n",
    "# load trained model\n",
    "checkpoint_path = f'last_model_{model_type}.pt'\n",
    "model = torch.load(checkpoint_path)\n",
    "model.eval()\n",
    "\n",
    "# prediction file \n",
    "out_file = './prediction_v15.csv'"
   ]
  },
  {
   "cell_type": "code",
   "execution_count": 13,
   "id": "42bc303a",
   "metadata": {
    "execution": {
     "iopub.execute_input": "2023-05-03T03:24:24.703584Z",
     "iopub.status.busy": "2023-05-03T03:24:24.703247Z",
     "iopub.status.idle": "2023-05-03T03:24:28.562613Z",
     "shell.execute_reply": "2023-05-03T03:24:28.561361Z"
    },
    "id": "_1IxCX2iCW6V",
    "papermill": {
     "duration": 3.882759,
     "end_time": "2023-05-03T03:24:28.565510",
     "exception": false,
     "start_time": "2023-05-03T03:24:24.682751",
     "status": "completed"
    },
    "tags": []
   },
   "outputs": [],
   "source": [
    "anomality = list()\n",
    "with torch.no_grad():\n",
    "  for i, data in enumerate(test_dataloader):\n",
    "    img = data.float().cuda()\n",
    "    if model_type in ['fcn']:\n",
    "      img = img.view(img.shape[0], -1)\n",
    "    output = model(img)\n",
    "    if model_type in ['vae']:\n",
    "      output = output[0]\n",
    "    if model_type in ['fcn']:\n",
    "        loss = eval_loss(output, img).sum(-1)\n",
    "    else:\n",
    "        loss = eval_loss(output, img).sum([1, 2, 3])\n",
    "    anomality.append(loss)\n",
    "anomality = torch.cat(anomality, axis=0)\n",
    "anomality = torch.sqrt(anomality).reshape(len(test), 1).cpu().numpy()\n",
    "\n",
    "df = pd.DataFrame(anomality, columns=['score'])\n",
    "df.to_csv(out_file, index_label = 'ID')"
   ]
  }
 ],
 "metadata": {
  "kernelspec": {
   "display_name": "Python 3",
   "language": "python",
   "name": "python3"
  },
  "language_info": {
   "codemirror_mode": {
    "name": "ipython",
    "version": 3
   },
   "file_extension": ".py",
   "mimetype": "text/x-python",
   "name": "python",
   "nbconvert_exporter": "python",
   "pygments_lexer": "ipython3",
   "version": "3.7.12"
  },
  "papermill": {
   "default_parameters": {},
   "duration": 1854.034498,
   "end_time": "2023-05-03T03:24:30.980139",
   "environment_variables": {},
   "exception": null,
   "input_path": "__notebook__.ipynb",
   "output_path": "__notebook__.ipynb",
   "parameters": {},
   "start_time": "2023-05-03T02:53:36.945641",
   "version": "2.4.0"
  }
 },
 "nbformat": 4,
 "nbformat_minor": 5
}
