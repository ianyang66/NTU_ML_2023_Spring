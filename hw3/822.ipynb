{
 "cells": [
  {
   "cell_type": "markdown",
   "id": "9663e553",
   "metadata": {
    "papermill": {
     "duration": 0.008722,
     "end_time": "2023-03-14T02:58:05.475015",
     "exception": false,
     "start_time": "2023-03-14T02:58:05.466293",
     "status": "completed"
    },
    "tags": []
   },
   "source": [
    "## HW3 Image Classification\n",
    "#### Solve image classification with convolutional neural networks(CNN).\n",
    "#### If you have any questions, please contact the TAs via TA hours, NTU COOL, or email to mlta-2023-spring@googlegroups.com"
   ]
  },
  {
   "cell_type": "code",
   "execution_count": null,
   "id": "c9f7f995",
   "metadata": {
    "execution": {
     "iopub.execute_input": "2023-03-14T02:58:05.492140Z",
     "iopub.status.busy": "2023-03-14T02:58:05.491681Z",
     "iopub.status.idle": "2023-03-14T02:58:05.497039Z",
     "shell.execute_reply": "2023-03-14T02:58:05.496028Z"
    },
    "papermill": {
     "duration": 0.017529,
     "end_time": "2023-03-14T02:58:05.500290",
     "exception": false,
     "start_time": "2023-03-14T02:58:05.482761",
     "status": "completed"
    },
    "tags": []
   },
   "outputs": [],
   "source": [
    "# # check GPU type.\n",
    "# !nvidia-smi"
   ]
  },
  {
   "cell_type": "markdown",
   "id": "c25f61b8",
   "metadata": {
    "papermill": {
     "duration": 0.007401,
     "end_time": "2023-03-14T02:58:05.515111",
     "exception": false,
     "start_time": "2023-03-14T02:58:05.507710",
     "status": "completed"
    },
    "tags": []
   },
   "source": [
    "### Import Packages"
   ]
  },
  {
   "cell_type": "code",
   "execution_count": null,
   "id": "e6bec73b",
   "metadata": {
    "execution": {
     "iopub.execute_input": "2023-03-14T02:58:05.531349Z",
     "iopub.status.busy": "2023-03-14T02:58:05.531073Z",
     "iopub.status.idle": "2023-03-14T02:58:05.538806Z",
     "shell.execute_reply": "2023-03-14T02:58:05.537826Z"
    },
    "papermill": {
     "duration": 0.018207,
     "end_time": "2023-03-14T02:58:05.540905",
     "exception": false,
     "start_time": "2023-03-14T02:58:05.522698",
     "status": "completed"
    },
    "tags": []
   },
   "outputs": [],
   "source": [
    "_exp_name = \"sample822\""
   ]
  },
  {
   "cell_type": "code",
   "execution_count": null,
   "id": "3133f4be",
   "metadata": {
    "execution": {
     "iopub.execute_input": "2023-03-14T02:58:05.557107Z",
     "iopub.status.busy": "2023-03-14T02:58:05.556849Z",
     "iopub.status.idle": "2023-03-14T02:58:08.068888Z",
     "shell.execute_reply": "2023-03-14T02:58:08.067854Z"
    },
    "papermill": {
     "duration": 2.523042,
     "end_time": "2023-03-14T02:58:08.071413",
     "exception": false,
     "start_time": "2023-03-14T02:58:05.548371",
     "status": "completed"
    },
    "tags": []
   },
   "outputs": [],
   "source": [
    "# Import necessary packages.\n",
    "import numpy as np\n",
    "import pandas as pd\n",
    "import torch\n",
    "import os\n",
    "import torch.nn as nn\n",
    "import torchvision.transforms as transforms\n",
    "from PIL import Image\n",
    "# \"ConcatDataset\" and \"Subset\" are possibly useful when doing semi-supervised learning.\n",
    "from torch.utils.data import ConcatDataset, DataLoader, Subset, Dataset\n",
    "from torchvision.datasets import DatasetFolder, VisionDataset\n",
    "# This is for the progress bar.\n",
    "from tqdm import tqdm\n",
    "import random\n",
    "from torchvision.transforms.autoaugment import AutoAugment, AutoAugmentPolicy"
   ]
  },
  {
   "cell_type": "code",
   "execution_count": null,
   "id": "75ec6145",
   "metadata": {
    "execution": {
     "iopub.execute_input": "2023-03-14T02:58:08.088433Z",
     "iopub.status.busy": "2023-03-14T02:58:08.087967Z",
     "iopub.status.idle": "2023-03-14T02:58:08.154298Z",
     "shell.execute_reply": "2023-03-14T02:58:08.153248Z"
    },
    "papermill": {
     "duration": 0.077441,
     "end_time": "2023-03-14T02:58:08.156664",
     "exception": false,
     "start_time": "2023-03-14T02:58:08.079223",
     "status": "completed"
    },
    "tags": []
   },
   "outputs": [],
   "source": [
    "torch.cuda.empty_cache()\n",
    "myseed = 19991124  # set a random seed for reproducibility ###########\n",
    "torch.backends.cudnn.deterministic = True\n",
    "torch.backends.cudnn.benchmark = False\n",
    "np.random.seed(myseed)\n",
    "torch.manual_seed(myseed)\n",
    "if torch.cuda.is_available():\n",
    "    torch.cuda.manual_seed_all(myseed)"
   ]
  },
  {
   "cell_type": "markdown",
   "id": "7a633ce6",
   "metadata": {
    "papermill": {
     "duration": 0.007341,
     "end_time": "2023-03-14T02:58:08.171929",
     "exception": false,
     "start_time": "2023-03-14T02:58:08.164588",
     "status": "completed"
    },
    "tags": []
   },
   "source": [
    "### Transforms"
   ]
  },
  {
   "cell_type": "code",
   "execution_count": null,
   "id": "d1c31e6b",
   "metadata": {
    "execution": {
     "iopub.execute_input": "2023-03-14T02:58:08.188745Z",
     "iopub.status.busy": "2023-03-14T02:58:08.188153Z",
     "iopub.status.idle": "2023-03-14T02:58:08.196133Z",
     "shell.execute_reply": "2023-03-14T02:58:08.195027Z"
    },
    "papermill": {
     "duration": 0.018671,
     "end_time": "2023-03-14T02:58:08.198099",
     "exception": false,
     "start_time": "2023-03-14T02:58:08.179428",
     "status": "completed"
    },
    "tags": []
   },
   "outputs": [],
   "source": [
    "\n",
    "test_tfm = transforms.Compose([\n",
    "    transforms.Resize((128, 128)),\n",
    "    transforms.ToTensor(),\n",
    "    transforms.Normalize([0.4598, 0.3836, 0.3001],[0.3105, 0.2908, 0.2802]),\n",
    "])\n",
    "\n",
    "# However, it is also possible to use augmentation in the testing phase.\n",
    "# You may use train_tfm to produce a variety of images and then test using ensemble methods\n",
    "train_tfm = transforms.Compose([\n",
    "    # Resize the image into a fixed shape (height = width = 128)\n",
    "    transforms.Resize((128, 128)),\n",
    "    # You may add some transforms here.\n",
    "    # ToTensor() should be the last one of the transforms.\n",
    "    # transforms.AutoAugment(policy=AutoAugmentPolicy.IMAGENET),\n",
    "    transforms.TrivialAugmentWide(),\n",
    "    transforms.RandomHorizontalFlip(p=0.1),\n",
    "    transforms.RandomVerticalFlip(p=0.1),\n",
    "    transforms.RandomResizedCrop(128, scale=(0.4,1.0),ratio=(0.95,1.05)),\n",
    "    transforms.RandomRotation(30),\n",
    "    transforms.RandomGrayscale(p=0.1),\n",
    "    transforms.ColorJitter(brightness=0.25),\n",
    "    transforms.ToTensor(),\n",
    "    transforms.Normalize([0.4598, 0.3836, 0.3001],[0.3105, 0.2908, 0.2802]),\n",
    "])"
   ]
  },
  {
   "cell_type": "markdown",
   "id": "7deabca7",
   "metadata": {
    "papermill": {
     "duration": 0.007289,
     "end_time": "2023-03-14T02:58:08.213009",
     "exception": false,
     "start_time": "2023-03-14T02:58:08.205720",
     "status": "completed"
    },
    "tags": []
   },
   "source": [
    "### Datasets"
   ]
  },
  {
   "cell_type": "code",
   "execution_count": null,
   "id": "e4d72adb",
   "metadata": {
    "execution": {
     "iopub.execute_input": "2023-03-14T02:58:08.230874Z",
     "iopub.status.busy": "2023-03-14T02:58:08.229900Z",
     "iopub.status.idle": "2023-03-14T02:58:08.238346Z",
     "shell.execute_reply": "2023-03-14T02:58:08.237428Z"
    },
    "papermill": {
     "duration": 0.019221,
     "end_time": "2023-03-14T02:58:08.240444",
     "exception": false,
     "start_time": "2023-03-14T02:58:08.221223",
     "status": "completed"
    },
    "tags": []
   },
   "outputs": [],
   "source": [
    "class FoodDataset(Dataset):\n",
    "    def __init__(self,path,tfm=test_tfm,files = None):\n",
    "        super(FoodDataset).__init__()\n",
    "        self.path = path\n",
    "        self.files = sorted([os.path.join(path,x) for x in os.listdir(path) if x.endswith(\".jpg\")])\n",
    "        if files != None:\n",
    "            self.files = files\n",
    "        print(f\"One {path} sample\",self.files[0])\n",
    "        self.transform = tfm\n",
    "  \n",
    "    def __len__(self):\n",
    "        return len(self.files)\n",
    "  \n",
    "    def __getitem__(self,idx):\n",
    "        fname = self.files[idx]\n",
    "        im = Image.open(fname)\n",
    "        im = self.transform(im)\n",
    "        #im = self.data[idx]\n",
    "        try:\n",
    "            label = int(fname.split(\"/\")[-1].split(\"_\")[0])\n",
    "        except:\n",
    "            label = -1 # test has no label\n",
    "        return im,label"
   ]
  },
  {
   "cell_type": "markdown",
   "id": "35028b07",
   "metadata": {
    "papermill": {
     "duration": 0.007337,
     "end_time": "2023-03-14T02:58:08.255302",
     "exception": false,
     "start_time": "2023-03-14T02:58:08.247965",
     "status": "completed"
    },
    "tags": []
   },
   "source": [
    "### Model"
   ]
  },
  {
   "cell_type": "code",
   "execution_count": null,
   "id": "81f75b67",
   "metadata": {
    "execution": {
     "iopub.execute_input": "2023-03-14T02:58:08.271483Z",
     "iopub.status.busy": "2023-03-14T02:58:08.271200Z",
     "iopub.status.idle": "2023-03-14T02:58:08.277045Z",
     "shell.execute_reply": "2023-03-14T02:58:08.276053Z"
    },
    "papermill": {
     "duration": 0.016302,
     "end_time": "2023-03-14T02:58:08.279119",
     "exception": false,
     "start_time": "2023-03-14T02:58:08.262817",
     "status": "completed"
    },
    "tags": []
   },
   "outputs": [],
   "source": [
    "import torchvision.models as models\n",
    "class Classifier(nn.Module):\n",
    "    def __init__(self):\n",
    "        super(Classifier, self).__init__()\n",
    "        # self.resnet = models.wide_resnet101_2(weights=None, progress=True)\n",
    "        # self.resnet = models.wide_resnet50_2(weights=None, progress=True)\n",
    "        # self.resnet = models.resnext101_64x4d(weights=None, progress=True)\n",
    "        self.regnet = models.regnet_y_16gf(weights=None, progress=True)\n",
    "        # self.efficient = models.efficientnet_v2_m(weights=None, progress=True)\n",
    "        # self.convNext = models.convnext_base(weights=None, progress=True)\n",
    "        # self.regnet =models.regnet_y_128gf(weights=None, progress=True)\n",
    "    def forward(self, x):\n",
    "        x = self.regnet(x)\n",
    "        return x"
   ]
  },
  {
   "cell_type": "markdown",
   "id": "d5c87d9d",
   "metadata": {
    "papermill": {
     "duration": 0.007485,
     "end_time": "2023-03-14T02:58:08.294348",
     "exception": false,
     "start_time": "2023-03-14T02:58:08.286863",
     "status": "completed"
    },
    "tags": []
   },
   "source": [
    "### Configurations"
   ]
  },
  {
   "cell_type": "code",
   "execution_count": null,
   "id": "46864580",
   "metadata": {
    "execution": {
     "iopub.execute_input": "2023-03-14T02:58:08.310936Z",
     "iopub.status.busy": "2023-03-14T02:58:08.310145Z",
     "iopub.status.idle": "2023-03-14T02:58:08.317318Z",
     "shell.execute_reply": "2023-03-14T02:58:08.316433Z"
    },
    "papermill": {
     "duration": 0.01752,
     "end_time": "2023-03-14T02:58:08.319393",
     "exception": false,
     "start_time": "2023-03-14T02:58:08.301873",
     "status": "completed"
    },
    "tags": []
   },
   "outputs": [],
   "source": [
    "import torch\n",
    "import torch.nn as nn\n",
    "import torch.nn.functional as F\n",
    "\n",
    "class FocalLoss(nn.modules.loss._WeightedLoss):\n",
    "    def __init__(self, weight=None, gamma=2,reduction='mean'):\n",
    "        super(FocalLoss, self).__init__(weight,reduction=reduction)\n",
    "        self.gamma = gamma\n",
    "        self.weight = weight #weight parameter will act as the alpha parameter to balance class weights\n",
    "\n",
    "    def forward(self, input, target):\n",
    "\n",
    "        ce_loss = F.cross_entropy(input, target,reduction=self.reduction,weight=self.weight)\n",
    "        pt = torch.exp(-ce_loss)\n",
    "        focal_loss = ((1 - pt) ** self.gamma * ce_loss).mean()\n",
    "        return focal_loss"
   ]
  },
  {
   "cell_type": "code",
   "execution_count": null,
   "id": "ff3e9df5",
   "metadata": {
    "execution": {
     "iopub.execute_input": "2023-03-14T02:58:08.336106Z",
     "iopub.status.busy": "2023-03-14T02:58:08.335331Z",
     "iopub.status.idle": "2023-03-14T02:58:12.654352Z",
     "shell.execute_reply": "2023-03-14T02:58:12.653280Z"
    },
    "papermill": {
     "duration": 4.329846,
     "end_time": "2023-03-14T02:58:12.656870",
     "exception": false,
     "start_time": "2023-03-14T02:58:08.327024",
     "status": "completed"
    },
    "tags": []
   },
   "outputs": [],
   "source": [
    "# \"cuda\" only when GPUs are available.\n",
    "device = \"cuda\" if torch.cuda.is_available() else \"cpu\"\n",
    "\n",
    "# Initialize a model, and put it on the device specified.\n",
    "model = Classifier().to(device)\n",
    "\n",
    "# The number of batch size.\n",
    "batch_size = 160\n",
    "accum_steps = 2\n",
    "# The number of training epochs.\n",
    "n_epochs = 275\n",
    "\n",
    "# If no improvement in 'patience' epochs, early stop.\n",
    "patience = 80\n",
    "\n",
    "# For the classification task, we use cross-entropy as the measurement of performance.\n",
    "criterion = FocalLoss()\n",
    "\n",
    "# Initialize optimizer, you may fine-tune some hyperparameters such as learning rate on your own.\n",
    "optimizer = torch.optim.AdamW(model.parameters(), lr=0.0003, weight_decay=1e-5)"
   ]
  },
  {
   "cell_type": "markdown",
   "id": "04e01ba8",
   "metadata": {
    "papermill": {
     "duration": 0.007403,
     "end_time": "2023-03-14T02:58:12.672671",
     "exception": false,
     "start_time": "2023-03-14T02:58:12.665268",
     "status": "completed"
    },
    "tags": []
   },
   "source": [
    "### Dataloader"
   ]
  },
  {
   "cell_type": "code",
   "execution_count": null,
   "id": "2a318f09",
   "metadata": {
    "execution": {
     "iopub.execute_input": "2023-03-14T02:58:12.689464Z",
     "iopub.status.busy": "2023-03-14T02:58:12.689130Z",
     "iopub.status.idle": "2023-03-14T02:58:12.932254Z",
     "shell.execute_reply": "2023-03-14T02:58:12.931108Z"
    },
    "papermill": {
     "duration": 0.255102,
     "end_time": "2023-03-14T02:58:12.935377",
     "exception": false,
     "start_time": "2023-03-14T02:58:12.680275",
     "status": "completed"
    },
    "tags": []
   },
   "outputs": [],
   "source": [
    "# Construct train and valid datasets.\n",
    "# The argument \"loader\" tells how torchvision reads the data.\n",
    "train_set = FoodDataset(\"./train\", tfm=train_tfm)\n",
    "train_loader = DataLoader(train_set, batch_size=batch_size, shuffle=True, num_workers=2, pin_memory=True)\n",
    "valid_set = FoodDataset(\"./valid\", tfm=test_tfm)\n",
    "valid_loader = DataLoader(valid_set, batch_size=batch_size, shuffle=True, num_workers=2, pin_memory=True)"
   ]
  },
  {
   "cell_type": "markdown",
   "id": "fc2abe99",
   "metadata": {
    "papermill": {
     "duration": 0.007545,
     "end_time": "2023-03-14T02:58:12.951886",
     "exception": false,
     "start_time": "2023-03-14T02:58:12.944341",
     "status": "completed"
    },
    "tags": []
   },
   "source": [
    "### Start Training"
   ]
  },
  {
   "cell_type": "code",
   "execution_count": null,
   "id": "a94925c3",
   "metadata": {
    "execution": {
     "iopub.execute_input": "2023-03-14T02:58:12.969475Z",
     "iopub.status.busy": "2023-03-14T02:58:12.969169Z",
     "iopub.status.idle": "2023-03-14T13:25:57.329113Z",
     "shell.execute_reply": "2023-03-14T13:25:57.327778Z"
    },
    "papermill": {
     "duration": 37664.371904,
     "end_time": "2023-03-14T13:25:57.331424",
     "exception": false,
     "start_time": "2023-03-14T02:58:12.959520",
     "status": "completed"
    },
    "tags": []
   },
   "outputs": [],
   "source": [
    "# Initialize trackers, these are not parameters and should not be changed\n",
    "stale = 0\n",
    "best_acc = 0\n",
    "\n",
    "for epoch in range(n_epochs):\n",
    "\n",
    "    # ---------- Training ----------\n",
    "    # Make sure the model is in train mode before training.\n",
    "    model.train()\n",
    "\n",
    "    # These are used to record information in training.\n",
    "    train_loss = []\n",
    "    train_accs = []\n",
    "\n",
    "    for step, batch in enumerate(tqdm(train_loader)):\n",
    "\n",
    "        # A batch consists of image data and corresponding labels.\n",
    "        imgs, labels = batch\n",
    "        #imgs = imgs.half()\n",
    "        #print(imgs.shape,labels.shape)\n",
    "        \n",
    "        # Forward the data. (Make sure data and model are on the same device.)\n",
    "        logits = model(imgs.to(device))\n",
    "\n",
    "        # Calculate the cross-entropy loss.\n",
    "        # We don't need to apply softmax before computing cross-entropy as it is done automatically.\n",
    "        loss = criterion(logits, labels.to(device))\n",
    "        loss = loss/accum_steps\n",
    "        optimizer.zero_grad()\n",
    "        # Compute the gradients for parameters.\n",
    "        loss.backward()\n",
    "           \n",
    "        # Update the parameters with computed gradients.\n",
    "        if step % accum_steps == 0 or step == len(train_loader) - 1:\n",
    "            # Clip the gradient norms for stable training.\n",
    "            grad_norm = nn.utils.clip_grad_norm_(model.parameters(), max_norm=10)\n",
    "            # Gradients stored in the parameters in the previous step should be cleared out first.\n",
    "            optimizer.step()\n",
    "        \n",
    "        # Compute the accuracy for current batch.\n",
    "        acc = (logits.argmax(dim=-1) == labels.to(device)).float().mean()\n",
    "\n",
    "        # Record the loss and accuracy.\n",
    "        train_loss.append(loss.item())\n",
    "        train_accs.append(acc)\n",
    "        \n",
    "    train_loss = sum(train_loss) / len(train_loss)\n",
    "    train_acc = sum(train_accs) / len(train_accs)\n",
    "\n",
    "    # Print the information.\n",
    "    print(f\"[ Train | {epoch + 1:03d}/{n_epochs:03d} ] loss = {train_loss:.5f}, acc = {train_acc:.5f}\")\n",
    "\n",
    "    # ---------- Validation ----------\n",
    "    # Make sure the model is in eval mode so that some modules like dropout are disabled and work normally.\n",
    "    model.eval()\n",
    "\n",
    "    # These are used to record information in validation.\n",
    "    valid_loss = []\n",
    "    valid_accs = []\n",
    "\n",
    "    # Iterate the validation set by batches.\n",
    "    for batch in tqdm(valid_loader):\n",
    "\n",
    "        # A batch consists of image data and corresponding labels.\n",
    "        imgs, labels = batch\n",
    "        #imgs = imgs.half()\n",
    "\n",
    "        # We don't need gradient in validation.\n",
    "        # Using torch.no_grad() accelerates the forward process.\n",
    "        with torch.no_grad():\n",
    "            logits = model(imgs.to(device))\n",
    "\n",
    "        # We can still compute the loss (but not the gradient).\n",
    "        loss = criterion(logits, labels.to(device))\n",
    "\n",
    "        # Compute the accuracy for current batch.\n",
    "        acc = (logits.argmax(dim=-1) == labels.to(device)).float().mean()\n",
    "\n",
    "        # Record the loss and accuracy.\n",
    "        valid_loss.append(loss.item())\n",
    "        valid_accs.append(acc)\n",
    "        #break\n",
    "\n",
    "    # The average loss and accuracy for entire validation set is the average of the recorded values.\n",
    "    valid_loss = sum(valid_loss) / len(valid_loss)\n",
    "    valid_acc = sum(valid_accs) / len(valid_accs)\n",
    "\n",
    "    # Print the information.\n",
    "    print(f\"[ Valid | {epoch + 1:03d}/{n_epochs:03d} ] loss = {valid_loss:.5f}, acc = {valid_acc:.5f}\")\n",
    "\n",
    "\n",
    "    # update logs\n",
    "    if valid_acc > best_acc:\n",
    "        with open(f\"./{_exp_name}_log.txt\",\"a\"):\n",
    "            print(f\"[ Valid | {epoch + 1:03d}/{n_epochs:03d} ] loss = {valid_loss:.5f}, acc = {valid_acc:.5f} -> best\")\n",
    "    else:\n",
    "        with open(f\"./{_exp_name}_log.txt\",\"a\"):\n",
    "            print(f\"[ Valid | {epoch + 1:03d}/{n_epochs:03d} ] loss = {valid_loss:.5f}, acc = {valid_acc:.5f}\")\n",
    "\n",
    "\n",
    "    # save models\n",
    "    if valid_acc > best_acc:\n",
    "        print(f\"Best model found at epoch {epoch}, saving model\")\n",
    "        torch.save(model.state_dict(), f\"{_exp_name}_best.ckpt\") # only save best to prevent output memory exceed error\n",
    "        best_acc = valid_acc\n",
    "        stale = 0\n",
    "    else:\n",
    "        stale += 1\n",
    "        if stale > patience:\n",
    "            print(f\"No improvment {patience} consecutive epochs, early stopping\")\n",
    "            break"
   ]
  },
  {
   "cell_type": "markdown",
   "id": "546f5a09",
   "metadata": {
    "papermill": {
     "duration": 1.790728,
     "end_time": "2023-03-14T13:26:00.921562",
     "exception": false,
     "start_time": "2023-03-14T13:25:59.130834",
     "status": "completed"
    },
    "tags": []
   },
   "source": [
    "### Dataloader for test"
   ]
  },
  {
   "cell_type": "code",
   "execution_count": null,
   "id": "9545d707",
   "metadata": {
    "execution": {
     "iopub.execute_input": "2023-03-14T13:26:03.781766Z",
     "iopub.status.busy": "2023-03-14T13:26:03.780710Z",
     "iopub.status.idle": "2023-03-14T13:26:04.017998Z",
     "shell.execute_reply": "2023-03-14T13:26:04.016517Z"
    },
    "papermill": {
     "duration": 1.733536,
     "end_time": "2023-03-14T13:26:04.020387",
     "exception": false,
     "start_time": "2023-03-14T13:26:02.286851",
     "status": "completed"
    },
    "tags": []
   },
   "outputs": [],
   "source": [
    "# Construct test datasets.\n",
    "# The argument \"loader\" tells how torchvision reads the data.\n",
    "test_set = FoodDataset(\"./test\", tfm=test_tfm)\n",
    "test_loader = DataLoader(test_set, batch_size=batch_size, shuffle=False, num_workers=0, pin_memory=True)"
   ]
  },
  {
   "cell_type": "markdown",
   "id": "2f2ccce8",
   "metadata": {
    "papermill": {
     "duration": 1.487585,
     "end_time": "2023-03-14T13:26:06.873163",
     "exception": false,
     "start_time": "2023-03-14T13:26:05.385578",
     "status": "completed"
    },
    "tags": []
   },
   "source": [
    "### Testing and generate prediction CSV"
   ]
  },
  {
   "cell_type": "code",
   "execution_count": null,
   "id": "6141523d",
   "metadata": {
    "_kg_hide-input": true,
    "execution": {
     "iopub.execute_input": "2023-03-14T13:26:09.842865Z",
     "iopub.status.busy": "2023-03-14T13:26:09.842495Z",
     "iopub.status.idle": "2023-03-14T13:26:53.806494Z",
     "shell.execute_reply": "2023-03-14T13:26:53.805288Z"
    },
    "papermill": {
     "duration": 45.566199,
     "end_time": "2023-03-14T13:26:53.808911",
     "exception": false,
     "start_time": "2023-03-14T13:26:08.242712",
     "status": "completed"
    },
    "tags": []
   },
   "outputs": [],
   "source": [
    "model_best = Classifier().to(device)\n",
    "model_best.load_state_dict(torch.load(f\"{_exp_name}_best.ckpt\"))\n",
    "model_best.eval()\n",
    "prediction = []\n",
    "with torch.no_grad():\n",
    "    for data,_ in tqdm(test_loader):\n",
    "        test_pred = model_best(data.to(device))\n",
    "        test_label = np.argmax(test_pred.cpu().data.numpy(), axis=1)\n",
    "        prediction += test_label.squeeze().tolist()"
   ]
  },
  {
   "cell_type": "code",
   "execution_count": null,
   "id": "0b997158",
   "metadata": {
    "execution": {
     "iopub.execute_input": "2023-03-14T13:26:59.699202Z",
     "iopub.status.busy": "2023-03-14T13:26:59.698828Z",
     "iopub.status.idle": "2023-03-14T13:26:59.728294Z",
     "shell.execute_reply": "2023-03-14T13:26:59.727295Z"
    },
    "papermill": {
     "duration": 1.526992,
     "end_time": "2023-03-14T13:26:59.730726",
     "exception": false,
     "start_time": "2023-03-14T13:26:58.203734",
     "status": "completed"
    },
    "tags": []
   },
   "outputs": [],
   "source": [
    "# create test csv\n",
    "def pad4(i):\n",
    "    return \"0\"*(4-len(str(i)))+str(i)\n",
    "df = pd.DataFrame()\n",
    "df[\"Id\"] = [pad4(i) for i in range(len(test_set))]\n",
    "df[\"Category\"] = prediction\n",
    "df.to_csv(\"submission822.csv\",index = False)"
   ]
  }
 ],
 "metadata": {
  "kernelspec": {
   "display_name": "Python 3",
   "language": "python",
   "name": "python3"
  },
  "language_info": {
   "codemirror_mode": {
    "name": "ipython",
    "version": 3
   },
   "file_extension": ".py",
   "mimetype": "text/x-python",
   "name": "python",
   "nbconvert_exporter": "python",
   "pygments_lexer": "ipython3",
   "version": "3.7.12"
  },
  "papermill": {
   "default_parameters": {},
   "duration": 37800.874711,
   "end_time": "2023-03-14T13:27:56.932328",
   "environment_variables": {},
   "exception": null,
   "input_path": "__notebook__.ipynb",
   "output_path": "__notebook__.ipynb",
   "parameters": {},
   "start_time": "2023-03-14T02:57:56.057617",
   "version": "2.4.0"
  }
 },
 "nbformat": 4,
 "nbformat_minor": 5
}
