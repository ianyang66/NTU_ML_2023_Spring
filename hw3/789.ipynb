{
 "cells": [
  {
   "cell_type": "markdown",
   "id": "32fa28e9",
   "metadata": {
    "papermill": {
     "duration": 0.008783,
     "end_time": "2023-03-13T14:46:16.570679",
     "exception": false,
     "start_time": "2023-03-13T14:46:16.561896",
     "status": "completed"
    },
    "tags": []
   },
   "source": [
    "## HW3 Image Classification\n",
    "#### Solve image classification with convolutional neural networks(CNN).\n",
    "#### If you have any questions, please contact the TAs via TA hours, NTU COOL, or email to mlta-2023-spring@googlegroups.com"
   ]
  },
  {
   "cell_type": "code",
   "execution_count": null,
   "id": "703cdf6e",
   "metadata": {
    "execution": {
     "iopub.execute_input": "2023-03-13T14:46:16.587608Z",
     "iopub.status.busy": "2023-03-13T14:46:16.587108Z",
     "iopub.status.idle": "2023-03-13T14:46:16.592624Z",
     "shell.execute_reply": "2023-03-13T14:46:16.591589Z"
    },
    "papermill": {
     "duration": 0.01741,
     "end_time": "2023-03-13T14:46:16.595708",
     "exception": false,
     "start_time": "2023-03-13T14:46:16.578298",
     "status": "completed"
    },
    "tags": []
   },
   "outputs": [],
   "source": [
    "# # check GPU type.\n",
    "# !nvidia-smi"
   ]
  },
  {
   "cell_type": "markdown",
   "id": "3c55ee5a",
   "metadata": {
    "papermill": {
     "duration": 0.007304,
     "end_time": "2023-03-13T14:46:16.610716",
     "exception": false,
     "start_time": "2023-03-13T14:46:16.603412",
     "status": "completed"
    },
    "tags": []
   },
   "source": [
    "### Import Packages"
   ]
  },
  {
   "cell_type": "code",
   "execution_count": null,
   "id": "347ee243",
   "metadata": {
    "execution": {
     "iopub.execute_input": "2023-03-13T14:46:16.626951Z",
     "iopub.status.busy": "2023-03-13T14:46:16.626485Z",
     "iopub.status.idle": "2023-03-13T14:46:16.634157Z",
     "shell.execute_reply": "2023-03-13T14:46:16.633087Z"
    },
    "papermill": {
     "duration": 0.018056,
     "end_time": "2023-03-13T14:46:16.636249",
     "exception": false,
     "start_time": "2023-03-13T14:46:16.618193",
     "status": "completed"
    },
    "tags": []
   },
   "outputs": [],
   "source": [
    "_exp_name = \"sample789\""
   ]
  },
  {
   "cell_type": "code",
   "execution_count": null,
   "id": "9338579e",
   "metadata": {
    "execution": {
     "iopub.execute_input": "2023-03-13T14:46:16.652240Z",
     "iopub.status.busy": "2023-03-13T14:46:16.651972Z",
     "iopub.status.idle": "2023-03-13T14:46:19.058640Z",
     "shell.execute_reply": "2023-03-13T14:46:19.057591Z"
    },
    "papermill": {
     "duration": 2.41746,
     "end_time": "2023-03-13T14:46:19.061135",
     "exception": false,
     "start_time": "2023-03-13T14:46:16.643675",
     "status": "completed"
    },
    "tags": []
   },
   "outputs": [],
   "source": [
    "# Import necessary packages.\n",
    "import numpy as np\n",
    "import pandas as pd\n",
    "import torch\n",
    "import os\n",
    "import torch.nn as nn\n",
    "import torchvision.transforms as transforms\n",
    "from PIL import Image\n",
    "# \"ConcatDataset\" and \"Subset\" are possibly useful when doing semi-supervised learning.\n",
    "from torch.utils.data import ConcatDataset, DataLoader, Subset, Dataset\n",
    "from torchvision.datasets import DatasetFolder, VisionDataset\n",
    "# This is for the progress bar.\n",
    "from tqdm import tqdm\n",
    "import random\n",
    "from torchvision.transforms.autoaugment import AutoAugment, AutoAugmentPolicy"
   ]
  },
  {
   "cell_type": "code",
   "execution_count": null,
   "id": "6f810534",
   "metadata": {
    "execution": {
     "iopub.execute_input": "2023-03-13T14:46:19.079942Z",
     "iopub.status.busy": "2023-03-13T14:46:19.079171Z",
     "iopub.status.idle": "2023-03-13T14:46:19.141770Z",
     "shell.execute_reply": "2023-03-13T14:46:19.140834Z"
    },
    "papermill": {
     "duration": 0.073464,
     "end_time": "2023-03-13T14:46:19.144068",
     "exception": false,
     "start_time": "2023-03-13T14:46:19.070604",
     "status": "completed"
    },
    "tags": []
   },
   "outputs": [],
   "source": [
    "torch.cuda.empty_cache()\n",
    "myseed = 19991124  # set a random seed for reproducibility ###########\n",
    "torch.backends.cudnn.deterministic = True\n",
    "torch.backends.cudnn.benchmark = False\n",
    "np.random.seed(myseed)\n",
    "torch.manual_seed(myseed)\n",
    "if torch.cuda.is_available():\n",
    "    torch.cuda.manual_seed_all(myseed)"
   ]
  },
  {
   "cell_type": "markdown",
   "id": "94fabf8a",
   "metadata": {
    "papermill": {
     "duration": 0.007267,
     "end_time": "2023-03-13T14:46:19.159222",
     "exception": false,
     "start_time": "2023-03-13T14:46:19.151955",
     "status": "completed"
    },
    "tags": []
   },
   "source": [
    "### Transforms"
   ]
  },
  {
   "cell_type": "code",
   "execution_count": null,
   "id": "595eb1a5",
   "metadata": {
    "execution": {
     "iopub.execute_input": "2023-03-13T14:46:19.175923Z",
     "iopub.status.busy": "2023-03-13T14:46:19.175619Z",
     "iopub.status.idle": "2023-03-13T14:46:19.183736Z",
     "shell.execute_reply": "2023-03-13T14:46:19.182776Z"
    },
    "papermill": {
     "duration": 0.01906,
     "end_time": "2023-03-13T14:46:19.185859",
     "exception": false,
     "start_time": "2023-03-13T14:46:19.166799",
     "status": "completed"
    },
    "tags": []
   },
   "outputs": [],
   "source": [
    "\n",
    "test_tfm = transforms.Compose([\n",
    "    transforms.Resize((128, 128)),\n",
    "    transforms.ToTensor(),\n",
    "    transforms.Normalize([0.485, 0.456, 0.406],[0.229, 0.224, 0.225]),\n",
    "])\n",
    "\n",
    "# However, it is also possible to use augmentation in the testing phase.\n",
    "# You may use train_tfm to produce a variety of images and then test using ensemble methods\n",
    "train_tfm = transforms.Compose([\n",
    "    # Resize the image into a fixed shape (height = width = 128)\n",
    "    transforms.Resize((128, 128)),\n",
    "    # You may add some transforms here.\n",
    "    # ToTensor() should be the last one of the transforms.\n",
    "    transforms.AutoAugment(policy=AutoAugmentPolicy.IMAGENET),\n",
    "    transforms.RandomHorizontalFlip(p=0.1),\n",
    "    transforms.RandomVerticalFlip(p=0.1),\n",
    "    transforms.RandomResizedCrop(128, scale=(0.5,1.0),ratio=(0.95,1.05)),\n",
    "    transforms.RandomRotation(30),\n",
    "    transforms.RandomGrayscale(p=0.12),\n",
    "    transforms.ColorJitter(brightness=0.25),\n",
    "    transforms.ToTensor(),\n",
    "    transforms.Normalize([0.485, 0.456, 0.406],[0.229, 0.224, 0.225]),\n",
    "])"
   ]
  },
  {
   "cell_type": "markdown",
   "id": "9deb205e",
   "metadata": {
    "papermill": {
     "duration": 0.007203,
     "end_time": "2023-03-13T14:46:19.200706",
     "exception": false,
     "start_time": "2023-03-13T14:46:19.193503",
     "status": "completed"
    },
    "tags": []
   },
   "source": [
    "### Datasets"
   ]
  },
  {
   "cell_type": "code",
   "execution_count": null,
   "id": "57701e7b",
   "metadata": {
    "execution": {
     "iopub.execute_input": "2023-03-13T14:46:19.218163Z",
     "iopub.status.busy": "2023-03-13T14:46:19.217306Z",
     "iopub.status.idle": "2023-03-13T14:46:19.225576Z",
     "shell.execute_reply": "2023-03-13T14:46:19.224673Z"
    },
    "papermill": {
     "duration": 0.019045,
     "end_time": "2023-03-13T14:46:19.227641",
     "exception": false,
     "start_time": "2023-03-13T14:46:19.208596",
     "status": "completed"
    },
    "tags": []
   },
   "outputs": [],
   "source": [
    "class FoodDataset(Dataset):\n",
    "    def __init__(self,path,tfm=test_tfm,files = None):\n",
    "        super(FoodDataset).__init__()\n",
    "        self.path = path\n",
    "        self.files = sorted([os.path.join(path,x) for x in os.listdir(path) if x.endswith(\".jpg\")])\n",
    "        if files != None:\n",
    "            self.files = files\n",
    "        print(f\"One {path} sample\",self.files[0])\n",
    "        self.transform = tfm\n",
    "  \n",
    "    def __len__(self):\n",
    "        return len(self.files)\n",
    "  \n",
    "    def __getitem__(self,idx):\n",
    "        fname = self.files[idx]\n",
    "        im = Image.open(fname)\n",
    "        im = self.transform(im)\n",
    "        #im = self.data[idx]\n",
    "        try:\n",
    "            label = int(fname.split(\"/\")[-1].split(\"_\")[0])\n",
    "        except:\n",
    "            label = -1 # test has no label\n",
    "        return im,label"
   ]
  },
  {
   "cell_type": "markdown",
   "id": "63bbb736",
   "metadata": {
    "papermill": {
     "duration": 0.007173,
     "end_time": "2023-03-13T14:46:19.242495",
     "exception": false,
     "start_time": "2023-03-13T14:46:19.235322",
     "status": "completed"
    },
    "tags": []
   },
   "source": [
    "### Model"
   ]
  },
  {
   "cell_type": "code",
   "execution_count": null,
   "id": "6b4d9e37",
   "metadata": {
    "execution": {
     "iopub.execute_input": "2023-03-13T14:46:19.258797Z",
     "iopub.status.busy": "2023-03-13T14:46:19.258513Z",
     "iopub.status.idle": "2023-03-13T14:46:19.264292Z",
     "shell.execute_reply": "2023-03-13T14:46:19.263314Z"
    },
    "papermill": {
     "duration": 0.016285,
     "end_time": "2023-03-13T14:46:19.266367",
     "exception": false,
     "start_time": "2023-03-13T14:46:19.250082",
     "status": "completed"
    },
    "tags": []
   },
   "outputs": [],
   "source": [
    "import torchvision.models as models\n",
    "class Classifier(nn.Module):\n",
    "    def __init__(self):\n",
    "        super(Classifier, self).__init__()\n",
    "        # self.resnet = models.wide_resnet101_2(weights=None, progress=True)\n",
    "        self.resnet = models.resnext101_64x4d(weights=None, progress=True)\n",
    "        # self.regnet = models.regnet_y_16gf(weights=None, progress=True)\n",
    "        # self.efficient = models.efficientnet_v2_m(weights=None, progress=True)\n",
    "        # self.regnet =models.regnet_y_128gf(weights=None, progress=True)\n",
    "    def forward(self, x):\n",
    "        x = self.resnet(x)\n",
    "        return x"
   ]
  },
  {
   "cell_type": "markdown",
   "id": "e3c78f54",
   "metadata": {
    "papermill": {
     "duration": 0.007309,
     "end_time": "2023-03-13T14:46:19.281524",
     "exception": false,
     "start_time": "2023-03-13T14:46:19.274215",
     "status": "completed"
    },
    "tags": []
   },
   "source": [
    "### Configurations"
   ]
  },
  {
   "cell_type": "code",
   "execution_count": null,
   "id": "2cc880da",
   "metadata": {
    "execution": {
     "iopub.execute_input": "2023-03-13T14:46:19.298101Z",
     "iopub.status.busy": "2023-03-13T14:46:19.297815Z",
     "iopub.status.idle": "2023-03-13T14:46:19.304474Z",
     "shell.execute_reply": "2023-03-13T14:46:19.303466Z"
    },
    "papermill": {
     "duration": 0.01758,
     "end_time": "2023-03-13T14:46:19.306551",
     "exception": false,
     "start_time": "2023-03-13T14:46:19.288971",
     "status": "completed"
    },
    "tags": []
   },
   "outputs": [],
   "source": [
    "import torch\n",
    "import torch.nn as nn\n",
    "import torch.nn.functional as F\n",
    "\n",
    "class FocalLoss(nn.modules.loss._WeightedLoss):\n",
    "    def __init__(self, weight=None, gamma=2,reduction='mean'):\n",
    "        super(FocalLoss, self).__init__(weight,reduction=reduction)\n",
    "        self.gamma = gamma\n",
    "        self.weight = weight #weight parameter will act as the alpha parameter to balance class weights\n",
    "\n",
    "    def forward(self, input, target):\n",
    "\n",
    "        ce_loss = F.cross_entropy(input, target,reduction=self.reduction,weight=self.weight)\n",
    "        pt = torch.exp(-ce_loss)\n",
    "        focal_loss = ((1 - pt) ** self.gamma * ce_loss).mean()\n",
    "        return focal_loss"
   ]
  },
  {
   "cell_type": "code",
   "execution_count": null,
   "id": "5a341bb4",
   "metadata": {
    "execution": {
     "iopub.execute_input": "2023-03-13T14:46:19.322884Z",
     "iopub.status.busy": "2023-03-13T14:46:19.322611Z",
     "iopub.status.idle": "2023-03-13T14:46:23.398170Z",
     "shell.execute_reply": "2023-03-13T14:46:23.397110Z"
    },
    "papermill": {
     "duration": 4.086422,
     "end_time": "2023-03-13T14:46:23.400718",
     "exception": false,
     "start_time": "2023-03-13T14:46:19.314296",
     "status": "completed"
    },
    "tags": []
   },
   "outputs": [],
   "source": [
    "# \"cuda\" only when GPUs are available.\n",
    "device = \"cuda\" if torch.cuda.is_available() else \"cpu\"\n",
    "\n",
    "# Initialize a model, and put it on the device specified.\n",
    "model = Classifier().to(device)\n",
    "\n",
    "# The number of batch size.\n",
    "batch_size = 160\n",
    "accum_steps = 2\n",
    "# The number of training epochs.\n",
    "n_epochs = 260\n",
    "\n",
    "# If no improvement in 'patience' epochs, early stop.\n",
    "patience = 60\n",
    "\n",
    "# For the classification task, we use cross-entropy as the measurement of performance.\n",
    "criterion = FocalLoss()\n",
    "\n",
    "# Initialize optimizer, you may fine-tune some hyperparameters such as learning rate on your own.\n",
    "optimizer = torch.optim.AdamW(model.parameters(), lr=0.0003, weight_decay=1e-5)"
   ]
  },
  {
   "cell_type": "markdown",
   "id": "54de9f24",
   "metadata": {
    "papermill": {
     "duration": 0.007783,
     "end_time": "2023-03-13T14:46:23.416355",
     "exception": false,
     "start_time": "2023-03-13T14:46:23.408572",
     "status": "completed"
    },
    "tags": []
   },
   "source": [
    "### Dataloader"
   ]
  },
  {
   "cell_type": "code",
   "execution_count": null,
   "id": "30bbe82c",
   "metadata": {
    "execution": {
     "iopub.execute_input": "2023-03-13T14:46:23.432927Z",
     "iopub.status.busy": "2023-03-13T14:46:23.432619Z",
     "iopub.status.idle": "2023-03-13T14:46:23.764081Z",
     "shell.execute_reply": "2023-03-13T14:46:23.763065Z"
    },
    "papermill": {
     "duration": 0.342581,
     "end_time": "2023-03-13T14:46:23.766436",
     "exception": false,
     "start_time": "2023-03-13T14:46:23.423855",
     "status": "completed"
    },
    "tags": []
   },
   "outputs": [],
   "source": [
    "# Construct train and valid datasets.\n",
    "# The argument \"loader\" tells how torchvision reads the data.\n",
    "train_set = FoodDataset(\"./train\", tfm=train_tfm)\n",
    "train_loader = DataLoader(train_set, batch_size=batch_size, shuffle=True, num_workers=2, pin_memory=True)\n",
    "valid_set = FoodDataset(\"./valid\", tfm=test_tfm)\n",
    "valid_loader = DataLoader(valid_set, batch_size=batch_size, shuffle=True, num_workers=2, pin_memory=True)"
   ]
  },
  {
   "cell_type": "markdown",
   "id": "89a45dc6",
   "metadata": {
    "papermill": {
     "duration": 0.007419,
     "end_time": "2023-03-13T14:46:23.782061",
     "exception": false,
     "start_time": "2023-03-13T14:46:23.774642",
     "status": "completed"
    },
    "tags": []
   },
   "source": [
    "### Start Training"
   ]
  },
  {
   "cell_type": "code",
   "execution_count": null,
   "id": "d8d2fab4",
   "metadata": {
    "execution": {
     "iopub.execute_input": "2023-03-13T14:46:23.798973Z",
     "iopub.status.busy": "2023-03-13T14:46:23.798660Z",
     "iopub.status.idle": "2023-03-14T01:44:01.462178Z",
     "shell.execute_reply": "2023-03-14T01:44:01.460303Z"
    },
    "papermill": {
     "duration": 39457.675304,
     "end_time": "2023-03-14T01:44:01.465026",
     "exception": false,
     "start_time": "2023-03-13T14:46:23.789722",
     "status": "completed"
    },
    "tags": []
   },
   "outputs": [],
   "source": [
    "# Initialize trackers, these are not parameters and should not be changed\n",
    "stale = 0\n",
    "best_acc = 0\n",
    "\n",
    "for epoch in range(n_epochs):\n",
    "\n",
    "    # ---------- Training ----------\n",
    "    # Make sure the model is in train mode before training.\n",
    "    model.train()\n",
    "\n",
    "    # These are used to record information in training.\n",
    "    train_loss = []\n",
    "    train_accs = []\n",
    "\n",
    "    for step, batch in enumerate(tqdm(train_loader)):\n",
    "\n",
    "        # A batch consists of image data and corresponding labels.\n",
    "        imgs, labels = batch\n",
    "        #imgs = imgs.half()\n",
    "        #print(imgs.shape,labels.shape)\n",
    "        \n",
    "        # Forward the data. (Make sure data and model are on the same device.)\n",
    "        logits = model(imgs.to(device))\n",
    "\n",
    "        # Calculate the cross-entropy loss.\n",
    "        # We don't need to apply softmax before computing cross-entropy as it is done automatically.\n",
    "        loss = criterion(logits, labels.to(device))\n",
    "        loss = loss/accum_steps\n",
    "        optimizer.zero_grad()\n",
    "        # Compute the gradients for parameters.\n",
    "        loss.backward()\n",
    "           \n",
    "        # Update the parameters with computed gradients.\n",
    "        if step % accum_steps == 0 or step == len(train_loader) - 1:\n",
    "            # Clip the gradient norms for stable training.\n",
    "            grad_norm = nn.utils.clip_grad_norm_(model.parameters(), max_norm=10)\n",
    "            # Gradients stored in the parameters in the previous step should be cleared out first.\n",
    "            optimizer.step()\n",
    "        \n",
    "        # Compute the accuracy for current batch.\n",
    "        acc = (logits.argmax(dim=-1) == labels.to(device)).float().mean()\n",
    "\n",
    "        # Record the loss and accuracy.\n",
    "        train_loss.append(loss.item())\n",
    "        train_accs.append(acc)\n",
    "        \n",
    "    train_loss = sum(train_loss) / len(train_loss)\n",
    "    train_acc = sum(train_accs) / len(train_accs)\n",
    "\n",
    "    # Print the information.\n",
    "    print(f\"[ Train | {epoch + 1:03d}/{n_epochs:03d} ] loss = {train_loss:.5f}, acc = {train_acc:.5f}\")\n",
    "\n",
    "    # ---------- Validation ----------\n",
    "    # Make sure the model is in eval mode so that some modules like dropout are disabled and work normally.\n",
    "    model.eval()\n",
    "\n",
    "    # These are used to record information in validation.\n",
    "    valid_loss = []\n",
    "    valid_accs = []\n",
    "\n",
    "    # Iterate the validation set by batches.\n",
    "    for batch in tqdm(valid_loader):\n",
    "\n",
    "        # A batch consists of image data and corresponding labels.\n",
    "        imgs, labels = batch\n",
    "        #imgs = imgs.half()\n",
    "\n",
    "        # We don't need gradient in validation.\n",
    "        # Using torch.no_grad() accelerates the forward process.\n",
    "        with torch.no_grad():\n",
    "            logits = model(imgs.to(device))\n",
    "\n",
    "        # We can still compute the loss (but not the gradient).\n",
    "        loss = criterion(logits, labels.to(device))\n",
    "\n",
    "        # Compute the accuracy for current batch.\n",
    "        acc = (logits.argmax(dim=-1) == labels.to(device)).float().mean()\n",
    "\n",
    "        # Record the loss and accuracy.\n",
    "        valid_loss.append(loss.item())\n",
    "        valid_accs.append(acc)\n",
    "        #break\n",
    "\n",
    "    # The average loss and accuracy for entire validation set is the average of the recorded values.\n",
    "    valid_loss = sum(valid_loss) / len(valid_loss)\n",
    "    valid_acc = sum(valid_accs) / len(valid_accs)\n",
    "\n",
    "    # Print the information.\n",
    "    print(f\"[ Valid | {epoch + 1:03d}/{n_epochs:03d} ] loss = {valid_loss:.5f}, acc = {valid_acc:.5f}\")\n",
    "\n",
    "\n",
    "    # update logs\n",
    "    if valid_acc > best_acc:\n",
    "        with open(f\"./{_exp_name}_log.txt\",\"a\"):\n",
    "            print(f\"[ Valid | {epoch + 1:03d}/{n_epochs:03d} ] loss = {valid_loss:.5f}, acc = {valid_acc:.5f} -> best\")\n",
    "    else:\n",
    "        with open(f\"./{_exp_name}_log.txt\",\"a\"):\n",
    "            print(f\"[ Valid | {epoch + 1:03d}/{n_epochs:03d} ] loss = {valid_loss:.5f}, acc = {valid_acc:.5f}\")\n",
    "\n",
    "\n",
    "    # save models\n",
    "    if valid_acc > best_acc:\n",
    "        print(f\"Best model found at epoch {epoch}, saving model\")\n",
    "        torch.save(model.state_dict(), f\"{_exp_name}_best.ckpt\") # only save best to prevent output memory exceed error\n",
    "        best_acc = valid_acc\n",
    "        stale = 0\n",
    "    else:\n",
    "        stale += 1\n",
    "        if stale > patience:\n",
    "            print(f\"No improvment {patience} consecutive epochs, early stopping\")\n",
    "            break"
   ]
  },
  {
   "cell_type": "markdown",
   "id": "5bda0929",
   "metadata": {
    "papermill": {
     "duration": 1.079281,
     "end_time": "2023-03-14T01:44:03.904656",
     "exception": false,
     "start_time": "2023-03-14T01:44:02.825375",
     "status": "completed"
    },
    "tags": []
   },
   "source": [
    "### Dataloader for test"
   ]
  },
  {
   "cell_type": "code",
   "execution_count": null,
   "id": "696ac79c",
   "metadata": {
    "execution": {
     "iopub.execute_input": "2023-03-14T01:44:06.078458Z",
     "iopub.status.busy": "2023-03-14T01:44:06.077234Z",
     "iopub.status.idle": "2023-03-14T01:44:06.350344Z",
     "shell.execute_reply": "2023-03-14T01:44:06.349118Z"
    },
    "papermill": {
     "duration": 1.351466,
     "end_time": "2023-03-14T01:44:06.353521",
     "exception": false,
     "start_time": "2023-03-14T01:44:05.002055",
     "status": "completed"
    },
    "tags": []
   },
   "outputs": [],
   "source": [
    "# Construct test datasets.\n",
    "# The argument \"loader\" tells how torchvision reads the data.\n",
    "test_set = FoodDataset(\"./test\", tfm=test_tfm)\n",
    "test_loader = DataLoader(test_set, batch_size=batch_size, shuffle=False, num_workers=0, pin_memory=True)"
   ]
  },
  {
   "cell_type": "markdown",
   "id": "d1902c92",
   "metadata": {
    "papermill": {
     "duration": 1.069496,
     "end_time": "2023-03-14T01:44:08.638733",
     "exception": false,
     "start_time": "2023-03-14T01:44:07.569237",
     "status": "completed"
    },
    "tags": []
   },
   "source": [
    "### Testing and generate prediction CSV"
   ]
  },
  {
   "cell_type": "code",
   "execution_count": null,
   "id": "462e2439",
   "metadata": {
    "_kg_hide-input": true,
    "execution": {
     "iopub.execute_input": "2023-03-14T01:44:11.349448Z",
     "iopub.status.busy": "2023-03-14T01:44:11.348489Z",
     "iopub.status.idle": "2023-03-14T01:45:03.316475Z",
     "shell.execute_reply": "2023-03-14T01:45:03.315180Z"
    },
    "papermill": {
     "duration": 53.059042,
     "end_time": "2023-03-14T01:45:03.318660",
     "exception": false,
     "start_time": "2023-03-14T01:44:10.259618",
     "status": "completed"
    },
    "tags": []
   },
   "outputs": [],
   "source": [
    "model_best = Classifier().to(device)\n",
    "model_best.load_state_dict(torch.load(f\"{_exp_name}_best.ckpt\"))\n",
    "model_best.eval()\n",
    "prediction = []\n",
    "with torch.no_grad():\n",
    "    for data,_ in tqdm(test_loader):\n",
    "        test_pred = model_best(data.to(device))\n",
    "        test_label = np.argmax(test_pred.cpu().data.numpy(), axis=1)\n",
    "        prediction += test_label.squeeze().tolist()"
   ]
  },
  {
   "cell_type": "code",
   "execution_count": null,
   "id": "b118686f",
   "metadata": {
    "execution": {
     "iopub.execute_input": "2023-03-14T01:45:08.090960Z",
     "iopub.status.busy": "2023-03-14T01:45:08.090279Z",
     "iopub.status.idle": "2023-03-14T01:45:08.292037Z",
     "shell.execute_reply": "2023-03-14T01:45:08.290852Z"
    },
    "papermill": {
     "duration": 1.548612,
     "end_time": "2023-03-14T01:45:08.294860",
     "exception": false,
     "start_time": "2023-03-14T01:45:06.746248",
     "status": "completed"
    },
    "tags": []
   },
   "outputs": [],
   "source": [
    "# create test csv\n",
    "def pad4(i):\n",
    "    return \"0\"*(4-len(str(i)))+str(i)\n",
    "df = pd.DataFrame()\n",
    "df[\"Id\"] = [pad4(i) for i in range(len(test_set))]\n",
    "df[\"Category\"] = prediction\n",
    "df.to_csv(\"submission789.csv\",index = False)"
   ]
  }
 ],
 "metadata": {
  "kernelspec": {
   "display_name": "Python 3",
   "language": "python",
   "name": "python3"
  },
  "language_info": {
   "codemirror_mode": {
    "name": "ipython",
    "version": 3
   },
   "file_extension": ".py",
   "mimetype": "text/x-python",
   "name": "python",
   "nbconvert_exporter": "python",
   "pygments_lexer": "ipython3",
   "version": "3.7.12"
  },
  "papermill": {
   "default_parameters": {},
   "duration": 39588.754826,
   "end_time": "2023-03-14T01:45:55.897351",
   "environment_variables": {},
   "exception": null,
   "input_path": "__notebook__.ipynb",
   "output_path": "__notebook__.ipynb",
   "parameters": {},
   "start_time": "2023-03-13T14:46:07.142525",
   "version": "2.4.0"
  }
 },
 "nbformat": 4,
 "nbformat_minor": 5
}
