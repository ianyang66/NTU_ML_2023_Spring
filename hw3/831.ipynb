{
 "cells": [
  {
   "cell_type": "markdown",
   "id": "0f5ee67f",
   "metadata": {
    "papermill": {
     "duration": 0.009072,
     "end_time": "2023-03-14T03:03:16.729615",
     "exception": false,
     "start_time": "2023-03-14T03:03:16.720543",
     "status": "completed"
    },
    "tags": []
   },
   "source": [
    "## HW3 Image Classification\n",
    "#### Solve image classification with convolutional neural networks(CNN).\n",
    "#### If you have any questions, please contact the TAs via TA hours, NTU COOL, or email to mlta-2023-spring@googlegroups.com"
   ]
  },
  {
   "cell_type": "code",
   "execution_count": null,
   "id": "52a799bc",
   "metadata": {
    "execution": {
     "iopub.execute_input": "2023-03-14T03:03:16.747256Z",
     "iopub.status.busy": "2023-03-14T03:03:16.746742Z",
     "iopub.status.idle": "2023-03-14T03:03:16.752344Z",
     "shell.execute_reply": "2023-03-14T03:03:16.751346Z"
    },
    "papermill": {
     "duration": 0.017691,
     "end_time": "2023-03-14T03:03:16.755494",
     "exception": false,
     "start_time": "2023-03-14T03:03:16.737803",
     "status": "completed"
    },
    "tags": []
   },
   "outputs": [],
   "source": [
    "# # check GPU type.\n",
    "# !nvidia-smi"
   ]
  },
  {
   "cell_type": "markdown",
   "id": "9b3eeefc",
   "metadata": {
    "papermill": {
     "duration": 0.007609,
     "end_time": "2023-03-14T03:03:16.770593",
     "exception": false,
     "start_time": "2023-03-14T03:03:16.762984",
     "status": "completed"
    },
    "tags": []
   },
   "source": [
    "### Import Packages"
   ]
  },
  {
   "cell_type": "code",
   "execution_count": null,
   "id": "463d1a51",
   "metadata": {
    "execution": {
     "iopub.execute_input": "2023-03-14T03:03:16.787228Z",
     "iopub.status.busy": "2023-03-14T03:03:16.786915Z",
     "iopub.status.idle": "2023-03-14T03:03:16.795842Z",
     "shell.execute_reply": "2023-03-14T03:03:16.794911Z"
    },
    "papermill": {
     "duration": 0.019705,
     "end_time": "2023-03-14T03:03:16.798012",
     "exception": false,
     "start_time": "2023-03-14T03:03:16.778307",
     "status": "completed"
    },
    "tags": []
   },
   "outputs": [],
   "source": [
    "_exp_name = \"sample831\""
   ]
  },
  {
   "cell_type": "code",
   "execution_count": null,
   "id": "a59523a1",
   "metadata": {
    "execution": {
     "iopub.execute_input": "2023-03-14T03:03:16.814381Z",
     "iopub.status.busy": "2023-03-14T03:03:16.814091Z",
     "iopub.status.idle": "2023-03-14T03:03:19.433378Z",
     "shell.execute_reply": "2023-03-14T03:03:19.432341Z"
    },
    "papermill": {
     "duration": 2.630886,
     "end_time": "2023-03-14T03:03:19.436568",
     "exception": false,
     "start_time": "2023-03-14T03:03:16.805682",
     "status": "completed"
    },
    "tags": []
   },
   "outputs": [],
   "source": [
    "# Import necessary packages.\n",
    "import numpy as np\n",
    "import pandas as pd\n",
    "import torch\n",
    "import os\n",
    "import torch.nn as nn\n",
    "import torchvision.transforms as transforms\n",
    "from PIL import Image\n",
    "# \"ConcatDataset\" and \"Subset\" are possibly useful when doing semi-supervised learning.\n",
    "from torch.utils.data import ConcatDataset, DataLoader, Subset, Dataset\n",
    "from torchvision.datasets import DatasetFolder, VisionDataset\n",
    "# This is for the progress bar.\n",
    "from tqdm import tqdm\n",
    "import random\n",
    "from torchvision.transforms.autoaugment import AutoAugment, AutoAugmentPolicy"
   ]
  },
  {
   "cell_type": "code",
   "execution_count": null,
   "id": "dab3894c",
   "metadata": {
    "execution": {
     "iopub.execute_input": "2023-03-14T03:03:19.456027Z",
     "iopub.status.busy": "2023-03-14T03:03:19.455569Z",
     "iopub.status.idle": "2023-03-14T03:03:19.530989Z",
     "shell.execute_reply": "2023-03-14T03:03:19.529962Z"
    },
    "papermill": {
     "duration": 0.087015,
     "end_time": "2023-03-14T03:03:19.533542",
     "exception": false,
     "start_time": "2023-03-14T03:03:19.446527",
     "status": "completed"
    },
    "tags": []
   },
   "outputs": [],
   "source": [
    "torch.cuda.empty_cache()\n",
    "myseed = 19991124  # set a random seed for reproducibility ###########\n",
    "torch.backends.cudnn.deterministic = True\n",
    "torch.backends.cudnn.benchmark = False\n",
    "np.random.seed(myseed)\n",
    "torch.manual_seed(myseed)\n",
    "if torch.cuda.is_available():\n",
    "    torch.cuda.manual_seed_all(myseed)"
   ]
  },
  {
   "cell_type": "markdown",
   "id": "f8ffe62d",
   "metadata": {
    "papermill": {
     "duration": 0.007358,
     "end_time": "2023-03-14T03:03:19.548694",
     "exception": false,
     "start_time": "2023-03-14T03:03:19.541336",
     "status": "completed"
    },
    "tags": []
   },
   "source": [
    "### Transforms"
   ]
  },
  {
   "cell_type": "code",
   "execution_count": null,
   "id": "465cd4b6",
   "metadata": {
    "execution": {
     "iopub.execute_input": "2023-03-14T03:03:19.565466Z",
     "iopub.status.busy": "2023-03-14T03:03:19.564570Z",
     "iopub.status.idle": "2023-03-14T03:03:19.572975Z",
     "shell.execute_reply": "2023-03-14T03:03:19.572044Z"
    },
    "papermill": {
     "duration": 0.01897,
     "end_time": "2023-03-14T03:03:19.575102",
     "exception": false,
     "start_time": "2023-03-14T03:03:19.556132",
     "status": "completed"
    },
    "tags": []
   },
   "outputs": [],
   "source": [
    "\n",
    "test_tfm = transforms.Compose([\n",
    "    transforms.Resize((128, 128)),\n",
    "    transforms.ToTensor(),\n",
    "    transforms.Normalize([0.4598, 0.3836, 0.3001],[0.3105, 0.2908, 0.2802]),\n",
    "])\n",
    "\n",
    "# However, it is also possible to use augmentation in the testing phase.\n",
    "# You may use train_tfm to produce a variety of images and then test using ensemble methods\n",
    "train_tfm = transforms.Compose([\n",
    "    # Resize the image into a fixed shape (height = width = 128)\n",
    "    transforms.Resize((128, 128)),\n",
    "    # You may add some transforms here.\n",
    "    # ToTensor() should be the last one of the transforms.\n",
    "    # transforms.AutoAugment(policy=AutoAugmentPolicy.IMAGENET),\n",
    "    transforms.TrivialAugmentWide(),\n",
    "    transforms.RandomHorizontalFlip(p=0.1),\n",
    "    transforms.RandomVerticalFlip(p=0.1),\n",
    "    transforms.RandomResizedCrop(128, scale=(0.4,1.0),ratio=(0.95,1.05)),\n",
    "    transforms.RandomRotation(30),\n",
    "    transforms.RandomGrayscale(p=0.1),\n",
    "    transforms.ColorJitter(brightness=0.25),\n",
    "    transforms.ToTensor(),\n",
    "    transforms.Normalize([0.4598, 0.3836, 0.3001],[0.3105, 0.2908, 0.2802]),\n",
    "])"
   ]
  },
  {
   "cell_type": "markdown",
   "id": "70676366",
   "metadata": {
    "papermill": {
     "duration": 0.007307,
     "end_time": "2023-03-14T03:03:19.589852",
     "exception": false,
     "start_time": "2023-03-14T03:03:19.582545",
     "status": "completed"
    },
    "tags": []
   },
   "source": [
    "### Datasets"
   ]
  },
  {
   "cell_type": "code",
   "execution_count": null,
   "id": "5d71c705",
   "metadata": {
    "execution": {
     "iopub.execute_input": "2023-03-14T03:03:19.606964Z",
     "iopub.status.busy": "2023-03-14T03:03:19.606636Z",
     "iopub.status.idle": "2023-03-14T03:03:19.614799Z",
     "shell.execute_reply": "2023-03-14T03:03:19.613737Z"
    },
    "papermill": {
     "duration": 0.019042,
     "end_time": "2023-03-14T03:03:19.616965",
     "exception": false,
     "start_time": "2023-03-14T03:03:19.597923",
     "status": "completed"
    },
    "tags": []
   },
   "outputs": [],
   "source": [
    "class FoodDataset(Dataset):\n",
    "    def __init__(self,path,tfm=test_tfm,files = None):\n",
    "        super(FoodDataset).__init__()\n",
    "        self.path = path\n",
    "        self.files = sorted([os.path.join(path,x) for x in os.listdir(path) if x.endswith(\".jpg\")])\n",
    "        if files != None:\n",
    "            self.files = files\n",
    "        print(f\"One {path} sample\",self.files[0])\n",
    "        self.transform = tfm\n",
    "  \n",
    "    def __len__(self):\n",
    "        return len(self.files)\n",
    "  \n",
    "    def __getitem__(self,idx):\n",
    "        fname = self.files[idx]\n",
    "        im = Image.open(fname)\n",
    "        im = self.transform(im)\n",
    "        #im = self.data[idx]\n",
    "        try:\n",
    "            label = int(fname.split(\"/\")[-1].split(\"_\")[0])\n",
    "        except:\n",
    "            label = -1 # test has no label\n",
    "        return im,label"
   ]
  },
  {
   "cell_type": "markdown",
   "id": "b473b1ff",
   "metadata": {
    "papermill": {
     "duration": 0.007265,
     "end_time": "2023-03-14T03:03:19.631989",
     "exception": false,
     "start_time": "2023-03-14T03:03:19.624724",
     "status": "completed"
    },
    "tags": []
   },
   "source": [
    "### Model"
   ]
  },
  {
   "cell_type": "code",
   "execution_count": null,
   "id": "036ee775",
   "metadata": {
    "execution": {
     "iopub.execute_input": "2023-03-14T03:03:19.648867Z",
     "iopub.status.busy": "2023-03-14T03:03:19.648557Z",
     "iopub.status.idle": "2023-03-14T03:03:19.654569Z",
     "shell.execute_reply": "2023-03-14T03:03:19.653562Z"
    },
    "papermill": {
     "duration": 0.016866,
     "end_time": "2023-03-14T03:03:19.656683",
     "exception": false,
     "start_time": "2023-03-14T03:03:19.639817",
     "status": "completed"
    },
    "tags": []
   },
   "outputs": [],
   "source": [
    "import torchvision.models as models\n",
    "class Classifier(nn.Module):\n",
    "    def __init__(self):\n",
    "        super(Classifier, self).__init__()\n",
    "        # self.resnet = models.wide_resnet101_2(weights=None, progress=True)\n",
    "        # self.regnet = models.regnet_y_16gf(weights=None, progress=True)\n",
    "        # self.efficient = models.efficientnet_v2_m(weights=None, progress=True)\n",
    "        # self.convNext = models.convnext_base(weights=None, progress=True)\n",
    "        # self.effi =models.efficientnet_v2_l(weights=None, progress=True)\n",
    "        self.regnet = models.regnet_y_32gf(weights=None, progress=True)\n",
    "    def forward(self, x):\n",
    "        x = self.regnet(x)\n",
    "        return x"
   ]
  },
  {
   "cell_type": "markdown",
   "id": "013f3677",
   "metadata": {
    "papermill": {
     "duration": 0.00745,
     "end_time": "2023-03-14T03:03:19.671579",
     "exception": false,
     "start_time": "2023-03-14T03:03:19.664129",
     "status": "completed"
    },
    "tags": []
   },
   "source": [
    "### Configurations"
   ]
  },
  {
   "cell_type": "code",
   "execution_count": null,
   "id": "4d05e0f6",
   "metadata": {
    "execution": {
     "iopub.execute_input": "2023-03-14T03:03:19.688481Z",
     "iopub.status.busy": "2023-03-14T03:03:19.687643Z",
     "iopub.status.idle": "2023-03-14T03:03:19.695084Z",
     "shell.execute_reply": "2023-03-14T03:03:19.694158Z"
    },
    "papermill": {
     "duration": 0.018074,
     "end_time": "2023-03-14T03:03:19.697358",
     "exception": false,
     "start_time": "2023-03-14T03:03:19.679284",
     "status": "completed"
    },
    "tags": []
   },
   "outputs": [],
   "source": [
    "import torch\n",
    "import torch.nn as nn\n",
    "import torch.nn.functional as F\n",
    "\n",
    "class FocalLoss(nn.modules.loss._WeightedLoss):\n",
    "    def __init__(self, weight=None, gamma=2,reduction='mean'):\n",
    "        super(FocalLoss, self).__init__(weight,reduction=reduction)\n",
    "        self.gamma = gamma\n",
    "        self.weight = weight #weight parameter will act as the alpha parameter to balance class weights\n",
    "\n",
    "    def forward(self, input, target):\n",
    "\n",
    "        ce_loss = F.cross_entropy(input, target,reduction=self.reduction,weight=self.weight)\n",
    "        pt = torch.exp(-ce_loss)\n",
    "        focal_loss = ((1 - pt) ** self.gamma * ce_loss).mean()\n",
    "        return focal_loss"
   ]
  },
  {
   "cell_type": "code",
   "execution_count": null,
   "id": "4809e742",
   "metadata": {
    "execution": {
     "iopub.execute_input": "2023-03-14T03:03:19.714368Z",
     "iopub.status.busy": "2023-03-14T03:03:19.713422Z",
     "iopub.status.idle": "2023-03-14T03:03:25.105832Z",
     "shell.execute_reply": "2023-03-14T03:03:25.104766Z"
    },
    "papermill": {
     "duration": 5.404253,
     "end_time": "2023-03-14T03:03:25.109119",
     "exception": false,
     "start_time": "2023-03-14T03:03:19.704866",
     "status": "completed"
    },
    "tags": []
   },
   "outputs": [],
   "source": [
    "# \"cuda\" only when GPUs are available.\n",
    "device = \"cuda\" if torch.cuda.is_available() else \"cpu\"\n",
    "\n",
    "# Initialize a model, and put it on the device specified.\n",
    "model = Classifier().to(device)\n",
    "\n",
    "# The number of batch size.\n",
    "batch_size = 128\n",
    "accum_steps = 2\n",
    "# The number of training epochs.\n",
    "n_epochs = 250\n",
    "\n",
    "# If no improvement in 'patience' epochs, early stop.\n",
    "patience = 60\n",
    "\n",
    "# For the classification task, we use cross-entropy as the measurement of performance.\n",
    "criterion = FocalLoss()\n",
    "\n",
    "# Initialize optimizer, you may fine-tune some hyperparameters such as learning rate on your own.\n",
    "optimizer = torch.optim.AdamW(model.parameters(), lr=0.0003, weight_decay=1e-5)"
   ]
  },
  {
   "cell_type": "markdown",
   "id": "0fa6b1ec",
   "metadata": {
    "papermill": {
     "duration": 0.007445,
     "end_time": "2023-03-14T03:03:25.125367",
     "exception": false,
     "start_time": "2023-03-14T03:03:25.117922",
     "status": "completed"
    },
    "tags": []
   },
   "source": [
    "### Dataloader"
   ]
  },
  {
   "cell_type": "code",
   "execution_count": null,
   "id": "1334ab7e",
   "metadata": {
    "execution": {
     "iopub.execute_input": "2023-03-14T03:03:25.142886Z",
     "iopub.status.busy": "2023-03-14T03:03:25.142474Z",
     "iopub.status.idle": "2023-03-14T03:03:25.381515Z",
     "shell.execute_reply": "2023-03-14T03:03:25.380349Z"
    },
    "papermill": {
     "duration": 0.251317,
     "end_time": "2023-03-14T03:03:25.384337",
     "exception": false,
     "start_time": "2023-03-14T03:03:25.133020",
     "status": "completed"
    },
    "tags": []
   },
   "outputs": [],
   "source": [
    "# Construct train and valid datasets.\n",
    "# The argument \"loader\" tells how torchvision reads the data.\n",
    "train_set = FoodDataset(\"./train\", tfm=train_tfm)\n",
    "train_loader = DataLoader(train_set, batch_size=batch_size, shuffle=True, num_workers=2, pin_memory=True)\n",
    "valid_set = FoodDataset(\"./valid\", tfm=test_tfm)\n",
    "valid_loader = DataLoader(valid_set, batch_size=batch_size, shuffle=True, num_workers=2, pin_memory=True)"
   ]
  },
  {
   "cell_type": "markdown",
   "id": "0fa236f0",
   "metadata": {
    "papermill": {
     "duration": 0.007626,
     "end_time": "2023-03-14T03:03:25.400002",
     "exception": false,
     "start_time": "2023-03-14T03:03:25.392376",
     "status": "completed"
    },
    "tags": []
   },
   "source": [
    "### Start Training"
   ]
  },
  {
   "cell_type": "code",
   "execution_count": null,
   "id": "8bd688ea",
   "metadata": {
    "execution": {
     "iopub.execute_input": "2023-03-14T03:03:25.417441Z",
     "iopub.status.busy": "2023-03-14T03:03:25.416662Z",
     "iopub.status.idle": "2023-03-14T14:19:20.381495Z",
     "shell.execute_reply": "2023-03-14T14:19:20.379816Z"
    },
    "papermill": {
     "duration": 40554.976137,
     "end_time": "2023-03-14T14:19:20.383998",
     "exception": false,
     "start_time": "2023-03-14T03:03:25.407861",
     "status": "completed"
    },
    "tags": []
   },
   "outputs": [],
   "source": [
    "# Initialize trackers, these are not parameters and should not be changed\n",
    "stale = 0\n",
    "best_acc = 0\n",
    "\n",
    "for epoch in range(n_epochs):\n",
    "\n",
    "    # ---------- Training ----------\n",
    "    # Make sure the model is in train mode before training.\n",
    "    model.train()\n",
    "\n",
    "    # These are used to record information in training.\n",
    "    train_loss = []\n",
    "    train_accs = []\n",
    "\n",
    "    for step, batch in enumerate(tqdm(train_loader)):\n",
    "\n",
    "        # A batch consists of image data and corresponding labels.\n",
    "        imgs, labels = batch\n",
    "        #imgs = imgs.half()\n",
    "        #print(imgs.shape,labels.shape)\n",
    "        \n",
    "        # Forward the data. (Make sure data and model are on the same device.)\n",
    "        logits = model(imgs.to(device))\n",
    "        \n",
    "        # Calculate the cross-entropy loss.\n",
    "        # We don't need to apply softmax before computing cross-entropy as it is done automatically.\n",
    "        loss = criterion(logits, labels.to(device))\n",
    "        loss = loss/accum_steps\n",
    "        optimizer.zero_grad()\n",
    "        # Compute the gradients for parameters.\n",
    "        loss.backward()\n",
    "           \n",
    "        # Update the parameters with computed gradients.\n",
    "        if step % accum_steps == 0 or step == len(train_loader) - 1:\n",
    "            # Clip the gradient norms for stable training.\n",
    "            grad_norm = nn.utils.clip_grad_norm_(model.parameters(), max_norm=10)\n",
    "            # Gradients stored in the parameters in the previous step should be cleared out first.\n",
    "            optimizer.step()\n",
    "        \n",
    "        # Compute the accuracy for current batch.\n",
    "        acc = (logits.argmax(dim=-1) == labels.to(device)).float().mean()\n",
    "\n",
    "        # Record the loss and accuracy.\n",
    "        train_loss.append(loss.item())\n",
    "        train_accs.append(acc)\n",
    "        \n",
    "    train_loss = sum(train_loss) / len(train_loss)\n",
    "    train_acc = sum(train_accs) / len(train_accs)\n",
    "\n",
    "    # Print the information.\n",
    "    print(f\"[ Train | {epoch + 1:03d}/{n_epochs:03d} ] loss = {train_loss:.5f}, acc = {train_acc:.5f}\")\n",
    "\n",
    "    # ---------- Validation ----------\n",
    "    # Make sure the model is in eval mode so that some modules like dropout are disabled and work normally.\n",
    "    model.eval()\n",
    "\n",
    "    # These are used to record information in validation.\n",
    "    valid_loss = []\n",
    "    valid_accs = []\n",
    "\n",
    "    # Iterate the validation set by batches.\n",
    "    for batch in tqdm(valid_loader):\n",
    "\n",
    "        # A batch consists of image data and corresponding labels.\n",
    "        imgs, labels = batch\n",
    "        #imgs = imgs.half()\n",
    "\n",
    "        # We don't need gradient in validation.\n",
    "        # Using torch.no_grad() accelerates the forward process.\n",
    "        with torch.no_grad():\n",
    "            logits = model(imgs.to(device))\n",
    "\n",
    "        # We can still compute the loss (but not the gradient).\n",
    "        loss = criterion(logits, labels.to(device))\n",
    "\n",
    "        # Compute the accuracy for current batch.\n",
    "        acc = (logits.argmax(dim=-1) == labels.to(device)).float().mean()\n",
    "\n",
    "        # Record the loss and accuracy.\n",
    "        valid_loss.append(loss.item())\n",
    "        valid_accs.append(acc)\n",
    "        #break\n",
    "\n",
    "    # The average loss and accuracy for entire validation set is the average of the recorded values.\n",
    "    valid_loss = sum(valid_loss) / len(valid_loss)\n",
    "    valid_acc = sum(valid_accs) / len(valid_accs)\n",
    "\n",
    "    # Print the information.\n",
    "    print(f\"[ Valid | {epoch + 1:03d}/{n_epochs:03d} ] loss = {valid_loss:.5f}, acc = {valid_acc:.5f}\")\n",
    "\n",
    "\n",
    "    # update logs\n",
    "    if valid_acc > best_acc:\n",
    "        with open(f\"./{_exp_name}_log.txt\",\"a\"):\n",
    "            print(f\"[ Valid | {epoch + 1:03d}/{n_epochs:03d} ] loss = {valid_loss:.5f}, acc = {valid_acc:.5f} -> best\")\n",
    "    else:\n",
    "        with open(f\"./{_exp_name}_log.txt\",\"a\"):\n",
    "            print(f\"[ Valid | {epoch + 1:03d}/{n_epochs:03d} ] loss = {valid_loss:.5f}, acc = {valid_acc:.5f}\")\n",
    "\n",
    "\n",
    "    # save models\n",
    "    if valid_acc > best_acc:\n",
    "        print(f\"Best model found at epoch {epoch}, saving model\")\n",
    "        torch.save(model.state_dict(), f\"{_exp_name}_best.ckpt\") # only save best to prevent output memory exceed error\n",
    "        best_acc = valid_acc\n",
    "        stale = 0\n",
    "    else:\n",
    "        stale += 1\n",
    "        if stale > patience:\n",
    "            print(f\"No improvment {patience} consecutive epochs, early stopping\")\n",
    "            break"
   ]
  },
  {
   "cell_type": "markdown",
   "id": "18072e02",
   "metadata": {
    "papermill": {
     "duration": 1.608368,
     "end_time": "2023-03-14T14:19:23.277245",
     "exception": false,
     "start_time": "2023-03-14T14:19:21.668877",
     "status": "completed"
    },
    "tags": []
   },
   "source": [
    "### Dataloader for test"
   ]
  },
  {
   "cell_type": "code",
   "execution_count": null,
   "id": "acd1a5b5",
   "metadata": {
    "execution": {
     "iopub.execute_input": "2023-03-14T14:19:25.908135Z",
     "iopub.status.busy": "2023-03-14T14:19:25.907716Z",
     "iopub.status.idle": "2023-03-14T14:19:26.172196Z",
     "shell.execute_reply": "2023-03-14T14:19:26.171033Z"
    },
    "papermill": {
     "duration": 1.643957,
     "end_time": "2023-03-14T14:19:26.174399",
     "exception": false,
     "start_time": "2023-03-14T14:19:24.530442",
     "status": "completed"
    },
    "tags": []
   },
   "outputs": [],
   "source": [
    "# Construct test datasets.\n",
    "# The argument \"loader\" tells how torchvision reads the data.\n",
    "test_set = FoodDataset(\"./test\", tfm=test_tfm)\n",
    "test_loader = DataLoader(test_set, batch_size=batch_size, shuffle=False, num_workers=0, pin_memory=True)"
   ]
  },
  {
   "cell_type": "markdown",
   "id": "113f4991",
   "metadata": {
    "papermill": {
     "duration": 1.244025,
     "end_time": "2023-03-14T14:19:28.665436",
     "exception": false,
     "start_time": "2023-03-14T14:19:27.421411",
     "status": "completed"
    },
    "tags": []
   },
   "source": [
    "### Testing and generate prediction CSV"
   ]
  },
  {
   "cell_type": "code",
   "execution_count": null,
   "id": "c63f0b87",
   "metadata": {
    "_kg_hide-input": true,
    "execution": {
     "iopub.execute_input": "2023-03-14T14:19:31.330983Z",
     "iopub.status.busy": "2023-03-14T14:19:31.330606Z",
     "iopub.status.idle": "2023-03-14T14:20:28.613316Z",
     "shell.execute_reply": "2023-03-14T14:20:28.612046Z"
    },
    "papermill": {
     "duration": 58.564361,
     "end_time": "2023-03-14T14:20:28.615445",
     "exception": false,
     "start_time": "2023-03-14T14:19:30.051084",
     "status": "completed"
    },
    "tags": []
   },
   "outputs": [],
   "source": [
    "model_best = Classifier().to(device)\n",
    "model_best.load_state_dict(torch.load(f\"{_exp_name}_best.ckpt\"))\n",
    "model_best.eval()\n",
    "prediction = []\n",
    "with torch.no_grad():\n",
    "    for data,_ in tqdm(test_loader):\n",
    "        test_pred = model_best(data.to(device))\n",
    "        test_label = np.argmax(test_pred.cpu().data.numpy(), axis=1)\n",
    "        prediction += test_label.squeeze().tolist()"
   ]
  },
  {
   "cell_type": "code",
   "execution_count": null,
   "id": "838fbca1",
   "metadata": {
    "execution": {
     "iopub.execute_input": "2023-03-14T14:20:33.945772Z",
     "iopub.status.busy": "2023-03-14T14:20:33.945392Z",
     "iopub.status.idle": "2023-03-14T14:20:33.975441Z",
     "shell.execute_reply": "2023-03-14T14:20:33.974442Z"
    },
    "papermill": {
     "duration": 1.427591,
     "end_time": "2023-03-14T14:20:33.977750",
     "exception": false,
     "start_time": "2023-03-14T14:20:32.550159",
     "status": "completed"
    },
    "tags": []
   },
   "outputs": [],
   "source": [
    "# create test csv\n",
    "def pad4(i):\n",
    "    return \"0\"*(4-len(str(i)))+str(i)\n",
    "df = pd.DataFrame()\n",
    "df[\"Id\"] = [pad4(i) for i in range(len(test_set))]\n",
    "df[\"Category\"] = prediction\n",
    "df.to_csv(\"submission831.csv\",index = False)"
   ]
  }
 ],
 "metadata": {
  "kernelspec": {
   "display_name": "Python 3",
   "language": "python",
   "name": "python3"
  },
  "language_info": {
   "codemirror_mode": {
    "name": "ipython",
    "version": 3
   },
   "file_extension": ".py",
   "mimetype": "text/x-python",
   "name": "python",
   "nbconvert_exporter": "python",
   "pygments_lexer": "ipython3",
   "version": "3.7.12"
  },
  "papermill": {
   "default_parameters": {},
   "duration": 40699.920599,
   "end_time": "2023-03-14T14:21:27.170953",
   "environment_variables": {},
   "exception": null,
   "input_path": "__notebook__.ipynb",
   "output_path": "__notebook__.ipynb",
   "parameters": {},
   "start_time": "2023-03-14T03:03:07.250354",
   "version": "2.4.0"
  }
 },
 "nbformat": 4,
 "nbformat_minor": 5
}
